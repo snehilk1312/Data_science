{
 "cells": [
  {
   "attachments": {},
   "cell_type": "markdown",
   "metadata": {},
   "source": [
    "## `Indic Trans`"
   ]
  },
  {
   "cell_type": "code",
   "execution_count": 1,
   "metadata": {},
   "outputs": [],
   "source": [
    "# !pip install mosestokenizer/\n",
    "# !pip install indic-nlp-library"
   ]
  },
  {
   "cell_type": "code",
   "execution_count": 2,
   "metadata": {},
   "outputs": [
    {
     "name": "stdout",
     "output_type": "stream",
     "text": [
      "Cloning into 'indicTrans'...\n",
      "remote: Enumerating objects: 697, done.\u001b[K\n",
      "remote: Counting objects: 100% (400/400), done.\u001b[K\n",
      "remote: Compressing objects: 100% (159/159), done.\u001b[K\n",
      "remote: Total 697 (delta 278), reused 343 (delta 239), pack-reused 297\u001b[K\n",
      "Receiving objects: 100% (697/697), 2.64 MiB | 3.66 MiB/s, done.\n",
      "Resolving deltas: 100% (405/405), done.\n",
      "/mnt/c/Users/snehi/Desktop/Notebook/data_science/NLP/NLP-India/indicTrans\n",
      "Cloning into 'indic_nlp_library'...\n",
      "remote: Enumerating objects: 1362, done.\u001b[K\n",
      "remote: Counting objects: 100% (143/143), done.\u001b[K\n",
      "remote: Compressing objects: 100% (48/48), done.\u001b[K\n",
      "remote: Total 1362 (delta 111), reused 98 (delta 93), pack-reused 1219\u001b[K\n",
      "Receiving objects: 100% (1362/1362), 9.56 MiB | 3.65 MiB/s, done.\n",
      "Resolving deltas: 100% (721/721), done.\n",
      "Cloning into 'indic_nlp_resources'...\n",
      "remote: Enumerating objects: 139, done.\u001b[K\n",
      "remote: Counting objects: 100% (13/13), done.\u001b[K\n",
      "remote: Compressing objects: 100% (13/13), done.\u001b[K\n",
      "remote: Total 139 (delta 2), reused 2 (delta 0), pack-reused 126\u001b[K\n",
      "Receiving objects: 100% (139/139), 149.77 MiB | 3.66 MiB/s, done.\n",
      "Resolving deltas: 100% (53/53), done.\n",
      "Updating files: 100% (28/28), done.\n",
      "Cloning into 'subword-nmt'...\n",
      "remote: Enumerating objects: 597, done.\u001b[K\n",
      "remote: Counting objects: 100% (21/21), done.\u001b[K\n",
      "remote: Compressing objects: 100% (17/17), done.\u001b[K\n",
      "remote: Total 597 (delta 8), reused 12 (delta 4), pack-reused 576\u001b[K\n",
      "Receiving objects: 100% (597/597), 252.23 KiB | 1.51 MiB/s, done.\n",
      "Resolving deltas: 100% (357/357), done.\n",
      "/mnt/c/Users/snehi/Desktop/Notebook/data_science/NLP/NLP-India\n"
     ]
    }
   ],
   "source": [
    "# # clone the repo for running evaluation\n",
    "# !git clone https://github.com/AI4Bharat/indicTrans.git\n",
    "# %cd indicTrans\n",
    "# # clone requirements repositories\n",
    "# !git clone https://github.com/anoopkunchukuttan/indic_nlp_library.git\n",
    "# !git clone https://github.com/anoopkunchukuttan/indic_nlp_resources.git\n",
    "# !git clone https://github.com/rsennrich/subword-nmt.git\n",
    "# %cd .."
   ]
  },
  {
   "cell_type": "code",
   "execution_count": 3,
   "metadata": {},
   "outputs": [
    {
     "name": "stdout",
     "output_type": "stream",
     "text": [
      "Collecting sacremoses\n",
      "  Downloading sacremoses-0.0.53.tar.gz (880 kB)\n",
      "\u001b[2K     \u001b[90m━━━━━━━━━━━━━━━━━━━━━━━━━━━━━━━━━━━━━━━\u001b[0m \u001b[32m880.6/880.6 kB\u001b[0m \u001b[31m4.4 MB/s\u001b[0m eta \u001b[36m0:00:00\u001b[0ma \u001b[36m0:00:01\u001b[0m\n",
      "\u001b[?25h  Preparing metadata (setup.py) ... \u001b[?25ldone\n",
      "\u001b[?25hRequirement already satisfied: pandas in /home/snehil/.venv/lib/python3.8/site-packages (1.5.3)\n",
      "Collecting mock\n",
      "  Downloading mock-5.0.2-py3-none-any.whl (30 kB)\n",
      "Collecting sacrebleu\n",
      "  Downloading sacrebleu-2.3.1-py3-none-any.whl (118 kB)\n",
      "\u001b[2K     \u001b[90m━━━━━━━━━━━━━━━━━━━━━━━━━━━━━━━━━━━━━━\u001b[0m \u001b[32m118.9/118.9 kB\u001b[0m \u001b[31m15.7 MB/s\u001b[0m eta \u001b[36m0:00:00\u001b[0m\n",
      "\u001b[?25hCollecting tensorboardX\n",
      "  Downloading tensorboardX-2.6-py2.py3-none-any.whl (114 kB)\n",
      "\u001b[2K     \u001b[90m━━━━━━━━━━━━━━━━━━━━━━━━━━━━━━━━━━━━━━\u001b[0m \u001b[32m114.5/114.5 kB\u001b[0m \u001b[31m14.8 MB/s\u001b[0m eta \u001b[36m0:00:00\u001b[0m\n",
      "\u001b[?25hRequirement already satisfied: pyarrow in /home/snehil/.venv/lib/python3.8/site-packages (11.0.0)\n",
      "Requirement already satisfied: indic-nlp-library in /home/snehil/.venv/lib/python3.8/site-packages (0.91)\n",
      "Requirement already satisfied: regex in /home/snehil/.venv/lib/python3.8/site-packages (from sacremoses) (2022.10.31)\n",
      "Requirement already satisfied: six in /home/snehil/.venv/lib/python3.8/site-packages (from sacremoses) (1.16.0)\n",
      "Requirement already satisfied: click in /home/snehil/.venv/lib/python3.8/site-packages (from sacremoses) (8.1.3)\n",
      "Requirement already satisfied: joblib in /home/snehil/.venv/lib/python3.8/site-packages (from sacremoses) (1.2.0)\n",
      "Requirement already satisfied: tqdm in /home/snehil/.venv/lib/python3.8/site-packages (from sacremoses) (4.64.1)\n",
      "Requirement already satisfied: pytz>=2020.1 in /home/snehil/.venv/lib/python3.8/site-packages (from pandas) (2022.7.1)\n",
      "Requirement already satisfied: numpy>=1.20.3 in /home/snehil/.venv/lib/python3.8/site-packages (from pandas) (1.23.5)\n",
      "Requirement already satisfied: python-dateutil>=2.8.1 in /home/snehil/.venv/lib/python3.8/site-packages (from pandas) (2.8.2)\n",
      "Requirement already satisfied: colorama in /home/snehil/.venv/lib/python3.8/site-packages (from sacrebleu) (0.4.6)\n",
      "Requirement already satisfied: tabulate>=0.8.9 in /home/snehil/.venv/lib/python3.8/site-packages (from sacrebleu) (0.9.0)\n",
      "Requirement already satisfied: lxml in /home/snehil/.venv/lib/python3.8/site-packages (from sacrebleu) (4.9.2)\n",
      "Requirement already satisfied: portalocker in /home/snehil/.venv/lib/python3.8/site-packages (from sacrebleu) (2.7.0)\n",
      "Requirement already satisfied: protobuf<4,>=3.8.0 in /home/snehil/.venv/lib/python3.8/site-packages (from tensorboardX) (3.20.3)\n",
      "Requirement already satisfied: packaging in /home/snehil/.venv/lib/python3.8/site-packages (from tensorboardX) (23.0)\n",
      "Requirement already satisfied: morfessor in /home/snehil/.venv/lib/python3.8/site-packages (from indic-nlp-library) (2.0.6)\n",
      "Requirement already satisfied: sphinx-argparse in /home/snehil/.venv/lib/python3.8/site-packages (from indic-nlp-library) (0.4.0)\n",
      "Requirement already satisfied: sphinx-rtd-theme in /home/snehil/.venv/lib/python3.8/site-packages (from indic-nlp-library) (1.2.0)\n",
      "Requirement already satisfied: sphinx>=1.2.0 in /home/snehil/.venv/lib/python3.8/site-packages (from sphinx-argparse->indic-nlp-library) (6.2.1)\n",
      "Requirement already satisfied: sphinxcontrib-jquery!=3.0.0,>=2.0.0 in /home/snehil/.venv/lib/python3.8/site-packages (from sphinx-rtd-theme->indic-nlp-library) (4.1)\n",
      "Requirement already satisfied: docutils<0.19 in /home/snehil/.venv/lib/python3.8/site-packages (from sphinx-rtd-theme->indic-nlp-library) (0.18.1)\n",
      "Requirement already satisfied: Jinja2>=3.0 in /home/snehil/.venv/lib/python3.8/site-packages (from sphinx>=1.2.0->sphinx-argparse->indic-nlp-library) (3.1.2)\n",
      "Requirement already satisfied: sphinxcontrib-htmlhelp>=2.0.0 in /home/snehil/.venv/lib/python3.8/site-packages (from sphinx>=1.2.0->sphinx-argparse->indic-nlp-library) (2.0.1)\n",
      "Requirement already satisfied: importlib-metadata>=4.8 in /home/snehil/.venv/lib/python3.8/site-packages (from sphinx>=1.2.0->sphinx-argparse->indic-nlp-library) (6.0.0)\n",
      "Requirement already satisfied: imagesize>=1.3 in /home/snehil/.venv/lib/python3.8/site-packages (from sphinx>=1.2.0->sphinx-argparse->indic-nlp-library) (1.4.1)\n",
      "Requirement already satisfied: sphinxcontrib-serializinghtml>=1.1.5 in /home/snehil/.venv/lib/python3.8/site-packages (from sphinx>=1.2.0->sphinx-argparse->indic-nlp-library) (1.1.5)\n",
      "Requirement already satisfied: sphinxcontrib-applehelp in /home/snehil/.venv/lib/python3.8/site-packages (from sphinx>=1.2.0->sphinx-argparse->indic-nlp-library) (1.0.4)\n",
      "Requirement already satisfied: requests>=2.25.0 in /home/snehil/.venv/lib/python3.8/site-packages (from sphinx>=1.2.0->sphinx-argparse->indic-nlp-library) (2.28.2)\n",
      "Requirement already satisfied: Pygments>=2.13 in /home/snehil/.venv/lib/python3.8/site-packages (from sphinx>=1.2.0->sphinx-argparse->indic-nlp-library) (2.14.0)\n",
      "Requirement already satisfied: sphinxcontrib-devhelp in /home/snehil/.venv/lib/python3.8/site-packages (from sphinx>=1.2.0->sphinx-argparse->indic-nlp-library) (1.0.2)\n",
      "Requirement already satisfied: sphinxcontrib-jsmath in /home/snehil/.venv/lib/python3.8/site-packages (from sphinx>=1.2.0->sphinx-argparse->indic-nlp-library) (1.0.1)\n",
      "Requirement already satisfied: alabaster<0.8,>=0.7 in /home/snehil/.venv/lib/python3.8/site-packages (from sphinx>=1.2.0->sphinx-argparse->indic-nlp-library) (0.7.13)\n",
      "Requirement already satisfied: snowballstemmer>=2.0 in /home/snehil/.venv/lib/python3.8/site-packages (from sphinx>=1.2.0->sphinx-argparse->indic-nlp-library) (2.2.0)\n",
      "Requirement already satisfied: sphinxcontrib-qthelp in /home/snehil/.venv/lib/python3.8/site-packages (from sphinx>=1.2.0->sphinx-argparse->indic-nlp-library) (1.0.3)\n",
      "Requirement already satisfied: babel>=2.9 in /home/snehil/.venv/lib/python3.8/site-packages (from sphinx>=1.2.0->sphinx-argparse->indic-nlp-library) (2.12.1)\n",
      "Requirement already satisfied: zipp>=0.5 in /home/snehil/.venv/lib/python3.8/site-packages (from importlib-metadata>=4.8->sphinx>=1.2.0->sphinx-argparse->indic-nlp-library) (3.13.0)\n",
      "Requirement already satisfied: MarkupSafe>=2.0 in /home/snehil/.venv/lib/python3.8/site-packages (from Jinja2>=3.0->sphinx>=1.2.0->sphinx-argparse->indic-nlp-library) (2.1.2)\n",
      "Requirement already satisfied: charset-normalizer<4,>=2 in /home/snehil/.venv/lib/python3.8/site-packages (from requests>=2.25.0->sphinx>=1.2.0->sphinx-argparse->indic-nlp-library) (3.0.1)\n",
      "Requirement already satisfied: idna<4,>=2.5 in /home/snehil/.venv/lib/python3.8/site-packages (from requests>=2.25.0->sphinx>=1.2.0->sphinx-argparse->indic-nlp-library) (3.4)\n",
      "Requirement already satisfied: certifi>=2017.4.17 in /home/snehil/.venv/lib/python3.8/site-packages (from requests>=2.25.0->sphinx>=1.2.0->sphinx-argparse->indic-nlp-library) (2022.12.7)\n",
      "Requirement already satisfied: urllib3<1.27,>=1.21.1 in /home/snehil/.venv/lib/python3.8/site-packages (from requests>=2.25.0->sphinx>=1.2.0->sphinx-argparse->indic-nlp-library) (1.26.14)\n",
      "Building wheels for collected packages: sacremoses\n",
      "  Building wheel for sacremoses (setup.py) ... \u001b[?25ldone\n",
      "\u001b[?25h  Created wheel for sacremoses: filename=sacremoses-0.0.53-py3-none-any.whl size=895241 sha256=ddbcc922ad1f5826b469d9b720b9280c2ab69515eaeb132fb00344d787427993\n",
      "  Stored in directory: /home/snehil/.cache/pip/wheels/82/ab/9b/c15899bf659ba74f623ac776e861cf2eb8608c1825ddec66a4\n",
      "Successfully built sacremoses\n",
      "Installing collected packages: tensorboardX, sacremoses, sacrebleu, mock\n",
      "Successfully installed mock-5.0.2 sacrebleu-2.3.1 sacremoses-0.0.53 tensorboardX-2.6\n",
      "\n",
      "\u001b[1m[\u001b[0m\u001b[34;49mnotice\u001b[0m\u001b[1;39;49m]\u001b[0m\u001b[39;49m A new release of pip is available: \u001b[0m\u001b[31;49m23.0\u001b[0m\u001b[39;49m -> \u001b[0m\u001b[32;49m23.1.1\u001b[0m\n",
      "\u001b[1m[\u001b[0m\u001b[34;49mnotice\u001b[0m\u001b[1;39;49m]\u001b[0m\u001b[39;49m To update, run: \u001b[0m\u001b[32;49mpip install --upgrade pip\u001b[0m\n",
      "Requirement already satisfied: mosestokenizer in /home/snehil/.venv/lib/python3.8/site-packages (1.2.1)\n",
      "Collecting subword-nmt\n",
      "  Downloading subword_nmt-0.3.8-py3-none-any.whl (27 kB)\n",
      "Requirement already satisfied: uctools in /home/snehil/.venv/lib/python3.8/site-packages (from mosestokenizer) (1.3.0)\n",
      "Requirement already satisfied: toolwrapper in /home/snehil/.venv/lib/python3.8/site-packages (from mosestokenizer) (2.1.0)\n",
      "Requirement already satisfied: openfile in /home/snehil/.venv/lib/python3.8/site-packages (from mosestokenizer) (0.0.7)\n",
      "Requirement already satisfied: docopt in /home/snehil/.venv/lib/python3.8/site-packages (from mosestokenizer) (0.6.2)\n",
      "Requirement already satisfied: mock in /home/snehil/.venv/lib/python3.8/site-packages (from subword-nmt) (5.0.2)\n",
      "Requirement already satisfied: tqdm in /home/snehil/.venv/lib/python3.8/site-packages (from subword-nmt) (4.64.1)\n",
      "Installing collected packages: subword-nmt\n",
      "Successfully installed subword-nmt-0.3.8\n",
      "\n",
      "\u001b[1m[\u001b[0m\u001b[34;49mnotice\u001b[0m\u001b[1;39;49m]\u001b[0m\u001b[39;49m A new release of pip is available: \u001b[0m\u001b[31;49m23.0\u001b[0m\u001b[39;49m -> \u001b[0m\u001b[32;49m23.1.1\u001b[0m\n",
      "\u001b[1m[\u001b[0m\u001b[34;49mnotice\u001b[0m\u001b[1;39;49m]\u001b[0m\u001b[39;49m To update, run: \u001b[0m\u001b[32;49mpip install --upgrade pip\u001b[0m\n",
      "Cloning into 'fairseq'...\n",
      "remote: Enumerating objects: 34544, done.\u001b[K\n",
      "remote: Counting objects: 100% (1/1), done.\u001b[K\n",
      "remote: Total 34544 (delta 0), reused 1 (delta 0), pack-reused 34543\u001b[K\n",
      "Receiving objects: 100% (34544/34544), 24.05 MiB | 3.64 MiB/s, done.\n",
      "Resolving deltas: 100% (25092/25092), done.\n",
      "Updating files: 100% (1575/1575), done.\n",
      "/mnt/c/Users/snehi/Desktop/Notebook/data_science/NLP/NLP-India/fairseq\n",
      "Processing /mnt/c/Users/snehi/Desktop/Notebook/data_science/NLP/NLP-India/fairseq\n",
      "  Installing build dependencies ... \u001b[?25ldone\n",
      "\u001b[?25h  Getting requirements to build wheel ... \u001b[?25ldone\n",
      "\u001b[?25h  Preparing metadata (pyproject.toml) ... \u001b[?25ldone\n",
      "\u001b[?25hCollecting omegaconf<2.1\n",
      "  Downloading omegaconf-2.0.6-py3-none-any.whl (36 kB)\n",
      "Requirement already satisfied: sacrebleu>=1.4.12 in /home/snehil/.venv/lib/python3.8/site-packages (from fairseq==0.12.2) (2.3.1)\n",
      "Requirement already satisfied: scikit-learn in /home/snehil/.venv/lib/python3.8/site-packages (from fairseq==0.12.2) (1.2.1)\n",
      "Requirement already satisfied: torch>=1.13 in /home/snehil/.venv/lib/python3.8/site-packages (from fairseq==0.12.2) (2.0.0)\n",
      "Requirement already satisfied: tqdm in /home/snehil/.venv/lib/python3.8/site-packages (from fairseq==0.12.2) (4.64.1)\n",
      "Requirement already satisfied: regex in /home/snehil/.venv/lib/python3.8/site-packages (from fairseq==0.12.2) (2022.10.31)\n",
      "Requirement already satisfied: numpy>=1.21.3 in /home/snehil/.venv/lib/python3.8/site-packages (from fairseq==0.12.2) (1.23.5)\n",
      "Collecting torchaudio>=0.8.0\n",
      "  Downloading torchaudio-2.0.1-cp38-cp38-manylinux1_x86_64.whl (4.4 MB)\n",
      "\u001b[2K     \u001b[90m━━━━━━━━━━━━━━━━━━━━━━━━━━━━━━━━━━━━━━━━\u001b[0m \u001b[32m4.4/4.4 MB\u001b[0m \u001b[31m3.9 MB/s\u001b[0m eta \u001b[36m0:00:00\u001b[0m00:01\u001b[0m00:01\u001b[0m\n",
      "\u001b[?25hRequirement already satisfied: packaging in /home/snehil/.venv/lib/python3.8/site-packages (from fairseq==0.12.2) (23.0)\n",
      "Collecting bitarray\n",
      "  Downloading bitarray-2.7.3-cp38-cp38-manylinux_2_17_x86_64.manylinux2014_x86_64.whl (271 kB)\n",
      "\u001b[2K     \u001b[90m━━━━━━━━━━━━━━━━━━━━━━━━━━━━━━━━━━━━━━━\u001b[0m \u001b[32m271.8/271.8 kB\u001b[0m \u001b[31m4.3 MB/s\u001b[0m eta \u001b[36m0:00:00\u001b[0ma \u001b[36m0:00:01\u001b[0m\n",
      "\u001b[?25hCollecting hydra-core<1.1,>=1.0.7\n",
      "  Downloading hydra_core-1.0.7-py3-none-any.whl (123 kB)\n",
      "\u001b[2K     \u001b[90m━━━━━━━━━━━━━━━━━━━━━━━━━━━━━━━━━━━━━━━\u001b[0m \u001b[32m123.8/123.8 kB\u001b[0m \u001b[31m6.6 MB/s\u001b[0m eta \u001b[36m0:00:00\u001b[0m\n",
      "\u001b[?25hRequirement already satisfied: cffi in /home/snehil/.venv/lib/python3.8/site-packages (from fairseq==0.12.2) (1.15.1)\n",
      "Requirement already satisfied: cython in /home/snehil/.venv/lib/python3.8/site-packages (from fairseq==0.12.2) (0.29.33)\n",
      "Requirement already satisfied: importlib-resources in /home/snehil/.venv/lib/python3.8/site-packages (from hydra-core<1.1,>=1.0.7->fairseq==0.12.2) (5.10.2)\n",
      "Collecting antlr4-python3-runtime==4.8\n",
      "  Downloading antlr4-python3-runtime-4.8.tar.gz (112 kB)\n",
      "\u001b[2K     \u001b[90m━━━━━━━━━━━━━━━━━━━━━━━━━━━━━━━━━━━━━━━\u001b[0m \u001b[32m112.4/112.4 kB\u001b[0m \u001b[31m5.7 MB/s\u001b[0m eta \u001b[36m0:00:00\u001b[0m\n",
      "\u001b[?25h  Preparing metadata (setup.py) ... \u001b[?25ldone\n",
      "\u001b[?25hRequirement already satisfied: PyYAML>=5.1.* in /home/snehil/.venv/lib/python3.8/site-packages (from omegaconf<2.1->fairseq==0.12.2) (6.0)\n",
      "Requirement already satisfied: typing-extensions in /home/snehil/.venv/lib/python3.8/site-packages (from omegaconf<2.1->fairseq==0.12.2) (4.5.0)\n",
      "Requirement already satisfied: portalocker in /home/snehil/.venv/lib/python3.8/site-packages (from sacrebleu>=1.4.12->fairseq==0.12.2) (2.7.0)\n",
      "Requirement already satisfied: tabulate>=0.8.9 in /home/snehil/.venv/lib/python3.8/site-packages (from sacrebleu>=1.4.12->fairseq==0.12.2) (0.9.0)\n",
      "Requirement already satisfied: lxml in /home/snehil/.venv/lib/python3.8/site-packages (from sacrebleu>=1.4.12->fairseq==0.12.2) (4.9.2)\n",
      "Requirement already satisfied: colorama in /home/snehil/.venv/lib/python3.8/site-packages (from sacrebleu>=1.4.12->fairseq==0.12.2) (0.4.6)\n",
      "Requirement already satisfied: nvidia-nccl-cu11==2.14.3 in /home/snehil/.venv/lib/python3.8/site-packages (from torch>=1.13->fairseq==0.12.2) (2.14.3)\n",
      "Requirement already satisfied: triton==2.0.0 in /home/snehil/.venv/lib/python3.8/site-packages (from torch>=1.13->fairseq==0.12.2) (2.0.0)\n",
      "Requirement already satisfied: nvidia-nvtx-cu11==11.7.91 in /home/snehil/.venv/lib/python3.8/site-packages (from torch>=1.13->fairseq==0.12.2) (11.7.91)\n",
      "Requirement already satisfied: networkx in /home/snehil/.venv/lib/python3.8/site-packages (from torch>=1.13->fairseq==0.12.2) (2.8.8)\n",
      "Requirement already satisfied: nvidia-cuda-runtime-cu11==11.7.99 in /home/snehil/.venv/lib/python3.8/site-packages (from torch>=1.13->fairseq==0.12.2) (11.7.99)\n",
      "Requirement already satisfied: nvidia-cuda-cupti-cu11==11.7.101 in /home/snehil/.venv/lib/python3.8/site-packages (from torch>=1.13->fairseq==0.12.2) (11.7.101)\n",
      "Requirement already satisfied: nvidia-cusolver-cu11==11.4.0.1 in /home/snehil/.venv/lib/python3.8/site-packages (from torch>=1.13->fairseq==0.12.2) (11.4.0.1)\n",
      "Requirement already satisfied: sympy in /home/snehil/.venv/lib/python3.8/site-packages (from torch>=1.13->fairseq==0.12.2) (1.11.1)\n",
      "Requirement already satisfied: nvidia-cusparse-cu11==11.7.4.91 in /home/snehil/.venv/lib/python3.8/site-packages (from torch>=1.13->fairseq==0.12.2) (11.7.4.91)\n",
      "Requirement already satisfied: nvidia-curand-cu11==10.2.10.91 in /home/snehil/.venv/lib/python3.8/site-packages (from torch>=1.13->fairseq==0.12.2) (10.2.10.91)\n",
      "Requirement already satisfied: nvidia-cublas-cu11==11.10.3.66 in /home/snehil/.venv/lib/python3.8/site-packages (from torch>=1.13->fairseq==0.12.2) (11.10.3.66)\n",
      "Requirement already satisfied: jinja2 in /home/snehil/.venv/lib/python3.8/site-packages (from torch>=1.13->fairseq==0.12.2) (3.1.2)\n",
      "Requirement already satisfied: filelock in /home/snehil/.venv/lib/python3.8/site-packages (from torch>=1.13->fairseq==0.12.2) (3.9.0)\n",
      "Requirement already satisfied: nvidia-cuda-nvrtc-cu11==11.7.99 in /home/snehil/.venv/lib/python3.8/site-packages (from torch>=1.13->fairseq==0.12.2) (11.7.99)\n",
      "Requirement already satisfied: nvidia-cudnn-cu11==8.5.0.96 in /home/snehil/.venv/lib/python3.8/site-packages (from torch>=1.13->fairseq==0.12.2) (8.5.0.96)\n",
      "Requirement already satisfied: nvidia-cufft-cu11==10.9.0.58 in /home/snehil/.venv/lib/python3.8/site-packages (from torch>=1.13->fairseq==0.12.2) (10.9.0.58)\n",
      "Requirement already satisfied: wheel in /home/snehil/.venv/lib/python3.8/site-packages (from nvidia-cublas-cu11==11.10.3.66->torch>=1.13->fairseq==0.12.2) (0.38.4)\n",
      "Requirement already satisfied: setuptools in /home/snehil/.venv/lib/python3.8/site-packages (from nvidia-cublas-cu11==11.10.3.66->torch>=1.13->fairseq==0.12.2) (67.3.2)\n",
      "Requirement already satisfied: cmake in /home/snehil/.venv/lib/python3.8/site-packages (from triton==2.0.0->torch>=1.13->fairseq==0.12.2) (3.26.3)\n",
      "Requirement already satisfied: lit in /home/snehil/.venv/lib/python3.8/site-packages (from triton==2.0.0->torch>=1.13->fairseq==0.12.2) (16.0.1)\n",
      "Requirement already satisfied: pycparser in /home/snehil/.venv/lib/python3.8/site-packages (from cffi->fairseq==0.12.2) (2.21)\n",
      "Requirement already satisfied: threadpoolctl>=2.0.0 in /home/snehil/.venv/lib/python3.8/site-packages (from scikit-learn->fairseq==0.12.2) (3.1.0)\n",
      "Requirement already satisfied: joblib>=1.1.1 in /home/snehil/.venv/lib/python3.8/site-packages (from scikit-learn->fairseq==0.12.2) (1.2.0)\n",
      "Requirement already satisfied: scipy>=1.3.2 in /home/snehil/.venv/lib/python3.8/site-packages (from scikit-learn->fairseq==0.12.2) (1.10.0)\n",
      "Requirement already satisfied: zipp>=3.1.0 in /home/snehil/.venv/lib/python3.8/site-packages (from importlib-resources->hydra-core<1.1,>=1.0.7->fairseq==0.12.2) (3.13.0)\n",
      "Requirement already satisfied: MarkupSafe>=2.0 in /home/snehil/.venv/lib/python3.8/site-packages (from jinja2->torch>=1.13->fairseq==0.12.2) (2.1.2)\n",
      "Requirement already satisfied: mpmath>=0.19 in /home/snehil/.venv/lib/python3.8/site-packages (from sympy->torch>=1.13->fairseq==0.12.2) (1.3.0)\n",
      "Building wheels for collected packages: fairseq, antlr4-python3-runtime\n",
      "  Building wheel for fairseq (pyproject.toml) ... \u001b[?25ldone\n",
      "\u001b[?25h  Created wheel for fairseq: filename=fairseq-0.12.2-cp38-cp38-linux_x86_64.whl size=21513843 sha256=b70643d8c6404f10c0f79ce28e66d9768f762ca6162eeba5da243a22681a344a\n",
      "  Stored in directory: /tmp/pip-ephem-wheel-cache-h8_fxbha/wheels/20/69/ef/47f7c7da07e9532f3f36c29512f7c8bb07dc49f9cf34907d48\n",
      "  Building wheel for antlr4-python3-runtime (setup.py) ... \u001b[?25ldone\n",
      "\u001b[?25h  Created wheel for antlr4-python3-runtime: filename=antlr4_python3_runtime-4.8-py3-none-any.whl size=141211 sha256=03c8456e8bbeedd33f8d84a01101cfcb24aa17f9574c8ea702253b55d5b7d0b1\n",
      "  Stored in directory: /home/snehil/.cache/pip/wheels/c8/d0/ab/d43c02eaddc5b9004db86950802442ad9a26f279c619e28da0\n",
      "Successfully built fairseq antlr4-python3-runtime\n",
      "Installing collected packages: bitarray, antlr4-python3-runtime, omegaconf, hydra-core, torchaudio, fairseq\n",
      "Successfully installed antlr4-python3-runtime-4.8 bitarray-2.7.3 fairseq-0.12.2 hydra-core-1.0.7 omegaconf-2.0.6 torchaudio-2.0.1\n",
      "\n",
      "\u001b[1m[\u001b[0m\u001b[34;49mnotice\u001b[0m\u001b[1;39;49m]\u001b[0m\u001b[39;49m A new release of pip is available: \u001b[0m\u001b[31;49m23.0\u001b[0m\u001b[39;49m -> \u001b[0m\u001b[32;49m23.1.1\u001b[0m\n",
      "\u001b[1m[\u001b[0m\u001b[34;49mnotice\u001b[0m\u001b[1;39;49m]\u001b[0m\u001b[39;49m To update, run: \u001b[0m\u001b[32;49mpip install --upgrade pip\u001b[0m\n",
      "Collecting xformers\n",
      "  Downloading xformers-0.0.19-cp38-cp38-manylinux2014_x86_64.whl (108.2 MB)\n",
      "\u001b[2K     \u001b[90m━━━━━━━━━━━━━━━━━━━━━━━━━━━━━━━━━━━━━\u001b[0m \u001b[32m108.2/108.2 MB\u001b[0m \u001b[31m676.0 kB/s\u001b[0m eta \u001b[36m0:00:00\u001b[0m00:01\u001b[0m00:04\u001b[0m\n",
      "\u001b[?25hRequirement already satisfied: torch==2.0.0 in /home/snehil/.venv/lib/python3.8/site-packages (from xformers) (2.0.0)\n",
      "Collecting pyre-extensions==0.0.29\n",
      "  Downloading pyre_extensions-0.0.29-py3-none-any.whl (12 kB)\n",
      "Requirement already satisfied: numpy in /home/snehil/.venv/lib/python3.8/site-packages (from xformers) (1.23.5)\n",
      "Requirement already satisfied: typing-extensions in /home/snehil/.venv/lib/python3.8/site-packages (from pyre-extensions==0.0.29->xformers) (4.5.0)\n",
      "Collecting typing-inspect\n",
      "  Downloading typing_inspect-0.8.0-py3-none-any.whl (8.7 kB)\n",
      "Requirement already satisfied: filelock in /home/snehil/.venv/lib/python3.8/site-packages (from torch==2.0.0->xformers) (3.9.0)\n",
      "Requirement already satisfied: nvidia-curand-cu11==10.2.10.91 in /home/snehil/.venv/lib/python3.8/site-packages (from torch==2.0.0->xformers) (10.2.10.91)\n",
      "Requirement already satisfied: nvidia-cusolver-cu11==11.4.0.1 in /home/snehil/.venv/lib/python3.8/site-packages (from torch==2.0.0->xformers) (11.4.0.1)\n",
      "Requirement already satisfied: networkx in /home/snehil/.venv/lib/python3.8/site-packages (from torch==2.0.0->xformers) (2.8.8)\n",
      "Requirement already satisfied: nvidia-cusparse-cu11==11.7.4.91 in /home/snehil/.venv/lib/python3.8/site-packages (from torch==2.0.0->xformers) (11.7.4.91)\n",
      "Requirement already satisfied: nvidia-nccl-cu11==2.14.3 in /home/snehil/.venv/lib/python3.8/site-packages (from torch==2.0.0->xformers) (2.14.3)\n",
      "Requirement already satisfied: nvidia-nvtx-cu11==11.7.91 in /home/snehil/.venv/lib/python3.8/site-packages (from torch==2.0.0->xformers) (11.7.91)\n",
      "Requirement already satisfied: nvidia-cuda-nvrtc-cu11==11.7.99 in /home/snehil/.venv/lib/python3.8/site-packages (from torch==2.0.0->xformers) (11.7.99)\n",
      "Requirement already satisfied: nvidia-cuda-cupti-cu11==11.7.101 in /home/snehil/.venv/lib/python3.8/site-packages (from torch==2.0.0->xformers) (11.7.101)\n",
      "Requirement already satisfied: nvidia-cublas-cu11==11.10.3.66 in /home/snehil/.venv/lib/python3.8/site-packages (from torch==2.0.0->xformers) (11.10.3.66)\n",
      "Requirement already satisfied: triton==2.0.0 in /home/snehil/.venv/lib/python3.8/site-packages (from torch==2.0.0->xformers) (2.0.0)\n",
      "Requirement already satisfied: sympy in /home/snehil/.venv/lib/python3.8/site-packages (from torch==2.0.0->xformers) (1.11.1)\n",
      "Requirement already satisfied: nvidia-cuda-runtime-cu11==11.7.99 in /home/snehil/.venv/lib/python3.8/site-packages (from torch==2.0.0->xformers) (11.7.99)\n",
      "Requirement already satisfied: jinja2 in /home/snehil/.venv/lib/python3.8/site-packages (from torch==2.0.0->xformers) (3.1.2)\n",
      "Requirement already satisfied: nvidia-cufft-cu11==10.9.0.58 in /home/snehil/.venv/lib/python3.8/site-packages (from torch==2.0.0->xformers) (10.9.0.58)\n",
      "Requirement already satisfied: nvidia-cudnn-cu11==8.5.0.96 in /home/snehil/.venv/lib/python3.8/site-packages (from torch==2.0.0->xformers) (8.5.0.96)\n",
      "Requirement already satisfied: setuptools in /home/snehil/.venv/lib/python3.8/site-packages (from nvidia-cublas-cu11==11.10.3.66->torch==2.0.0->xformers) (67.3.2)\n",
      "Requirement already satisfied: wheel in /home/snehil/.venv/lib/python3.8/site-packages (from nvidia-cublas-cu11==11.10.3.66->torch==2.0.0->xformers) (0.38.4)\n",
      "Requirement already satisfied: lit in /home/snehil/.venv/lib/python3.8/site-packages (from triton==2.0.0->torch==2.0.0->xformers) (16.0.1)\n",
      "Requirement already satisfied: cmake in /home/snehil/.venv/lib/python3.8/site-packages (from triton==2.0.0->torch==2.0.0->xformers) (3.26.3)\n",
      "Requirement already satisfied: MarkupSafe>=2.0 in /home/snehil/.venv/lib/python3.8/site-packages (from jinja2->torch==2.0.0->xformers) (2.1.2)\n",
      "Requirement already satisfied: mpmath>=0.19 in /home/snehil/.venv/lib/python3.8/site-packages (from sympy->torch==2.0.0->xformers) (1.3.0)\n",
      "Requirement already satisfied: mypy-extensions>=0.3.0 in /home/snehil/.venv/lib/python3.8/site-packages (from typing-inspect->pyre-extensions==0.0.29->xformers) (1.0.0)\n",
      "Installing collected packages: typing-inspect, pyre-extensions, xformers\n",
      "Successfully installed pyre-extensions-0.0.29 typing-inspect-0.8.0 xformers-0.0.19\n",
      "\n",
      "\u001b[1m[\u001b[0m\u001b[34;49mnotice\u001b[0m\u001b[1;39;49m]\u001b[0m\u001b[39;49m A new release of pip is available: \u001b[0m\u001b[31;49m23.0\u001b[0m\u001b[39;49m -> \u001b[0m\u001b[32;49m23.1.1\u001b[0m\n",
      "\u001b[1m[\u001b[0m\u001b[34;49mnotice\u001b[0m\u001b[1;39;49m]\u001b[0m\u001b[39;49m To update, run: \u001b[0m\u001b[32;49mpip install --upgrade pip\u001b[0m\n",
      "/mnt/c/Users/snehi/Desktop/Notebook/data_science/NLP/NLP-India\n"
     ]
    }
   ],
   "source": [
    "# # Install the necessary libraries\n",
    "# !pip install sacremoses pandas mock sacrebleu tensorboardX pyarrow indic-nlp-library\n",
    "# ! pip install mosestokenizer subword-nmt\n",
    "# # Install fairseq from source\n",
    "# !git clone https://github.com/pytorch/fairseq.git\n",
    "# %cd fairseq\n",
    "# # !git checkout da9eaba12d82b9bfc1442f0e2c6fc1b895f4d35d\n",
    "# !pip install ./\n",
    "# ! pip install xformers\n",
    "# %cd .."
   ]
  },
  {
   "cell_type": "code",
   "execution_count": 3,
   "metadata": {},
   "outputs": [
    {
     "name": "stdout",
     "output_type": "stream",
     "text": [
      "Archive:  indic2en.zip\n",
      "   creating: indic-en/\n",
      "   creating: indic-en/vocab/\n",
      "  inflating: indic-en/vocab/bpe_codes.32k.SRC  \n",
      "  inflating: indic-en/vocab/vocab.SRC  \n",
      "  inflating: indic-en/vocab/vocab.TGT  \n",
      "  inflating: indic-en/vocab/bpe_codes.32k.TGT  \n",
      "   creating: indic-en/final_bin/\n",
      "  inflating: indic-en/final_bin/preprocess.log  \n",
      "  inflating: indic-en/final_bin/dict.TGT.txt  \n",
      "  inflating: indic-en/final_bin/test.SRC-TGT.SRC.idx  \n",
      "  inflating: indic-en/final_bin/test.SRC-TGT.TGT.idx  \n",
      "  inflating: indic-en/final_bin/train.SRC-TGT.SRC.idx  \n",
      "  inflating: indic-en/final_bin/dict.SRC.txt  \n",
      "  inflating: indic-en/final_bin/valid.SRC-TGT.TGT.idx  \n",
      "  inflating: indic-en/final_bin/test.SRC-TGT.TGT.bin  \n",
      "  inflating: indic-en/final_bin/valid.SRC-TGT.TGT.bin  \n",
      "  inflating: indic-en/final_bin/train.SRC-TGT.TGT.idx  \n",
      "  inflating: indic-en/final_bin/train.SRC-TGT.TGT.bin  \n",
      "  inflating: indic-en/final_bin/valid.SRC-TGT.SRC.idx  \n",
      "  inflating: indic-en/final_bin/train.SRC-TGT.SRC.bin  \n",
      "  inflating: indic-en/final_bin/valid.SRC-TGT.SRC.bin  \n",
      "  inflating: indic-en/final_bin/test.SRC-TGT.SRC.bin  \n",
      "   creating: indic-en/model/\n",
      "  inflating: indic-en/model/checkpoint_best.pt  \n"
     ]
    }
   ],
   "source": [
    "# # download the indictrans model\n",
    "\n",
    "# # downloading the indic-en model\n",
    "# !wget https://ai4b-public-nlu-nlg.objectstore.e2enetworks.net/indic2en.zip\n",
    "# !unzip indic2en.zip\n",
    "\n",
    "# # downloading the en-indic model\n",
    "# !wget https://ai4b-public-nlu-nlg.objectstore.e2enetworks.net/en2indic.zip\n",
    "# !unzip en2indic.zip\n",
    "\n",
    "# # downloading the indic-indic model\n",
    "# !wget https://ai4b-public-nlu-nlg.objectstore.e2enetworks.net/m2m.tar\n",
    "# !unzip m2m.zip\n",
    "\n",
    "# %cd indicTrans"
   ]
  },
  {
   "cell_type": "code",
   "execution_count": 1,
   "metadata": {},
   "outputs": [],
   "source": [
    "# add fairseq folder to python path\n",
    "import os\n",
    "os.environ['PATH'] += \"./fairseq/\"\n",
    "# sanity check to see if fairseq is installed\n",
    "from fairseq import checkpoint_utils, distributed_utils, options, tasks, utils"
   ]
  },
  {
   "cell_type": "code",
   "execution_count": 3,
   "metadata": {},
   "outputs": [
    {
     "name": "stdout",
     "output_type": "stream",
     "text": [
      "/mnt/c/Users/snehi/Desktop/Notebook/data_science/NLP/NLP-India/indicTrans\n"
     ]
    }
   ],
   "source": [
    "%cd indicTrans"
   ]
  },
  {
   "cell_type": "code",
   "execution_count": 4,
   "metadata": {},
   "outputs": [
    {
     "name": "stdout",
     "output_type": "stream",
     "text": [
      "Initializing vocab and bpe\n",
      "Initializing model for translation\n"
     ]
    },
    {
     "name": "stderr",
     "output_type": "stream",
     "text": [
      "2023-04-29 23:14:15 | INFO | fairseq.tasks.translation | [SRC] dictionary: 35904 types\n",
      "2023-04-29 23:14:15 | INFO | fairseq.tasks.translation | [TGT] dictionary: 32088 types\n"
     ]
    },
    {
     "name": "stdout",
     "output_type": "stream",
     "text": [
      "Initializing vocab and bpe\n",
      "Initializing model for translation\n"
     ]
    },
    {
     "name": "stderr",
     "output_type": "stream",
     "text": [
      "2023-04-29 23:14:41 | INFO | fairseq.tasks.translation | [SRC] dictionary: 32104 types\n",
      "2023-04-29 23:14:41 | INFO | fairseq.tasks.translation | [TGT] dictionary: 35888 types\n"
     ]
    }
   ],
   "source": [
    "from indicTrans.inference.engine import Model\n",
    "\n",
    "indic2en_model = Model(expdir='../indic-en')\n",
    "en2indic_model = Model(expdir='../en-indic')"
   ]
  },
  {
   "attachments": {},
   "cell_type": "markdown",
   "metadata": {},
   "source": [
    "## indic to en"
   ]
  },
  {
   "cell_type": "code",
   "execution_count": 5,
   "metadata": {},
   "outputs": [
    {
     "name": "stderr",
     "output_type": "stream",
     "text": [
      "100%|██████████| 3/3 [00:00<00:00, 144.87it/s]\n",
      "2023-04-29 23:15:51 | INFO | fairseq.tasks.fairseq_task | can_reuse_epoch_itr = True\n",
      "2023-04-29 23:15:51 | INFO | fairseq.tasks.fairseq_task | reuse_dataloader = True\n",
      "2023-04-29 23:15:51 | INFO | fairseq.tasks.fairseq_task | rebuild_batches = False\n",
      "2023-04-29 23:15:51 | INFO | fairseq.tasks.fairseq_task | creating new batches for epoch 1\n"
     ]
    },
    {
     "data": {
      "text/plain": [
       "['He seems to know us.',\n",
       " 'We will follow you or continue to follow you',\n",
       " 'If you develop these symptoms in someone close to you, staying at home can help prevent the spread of Corona virus infection.']"
      ]
     },
     "execution_count": 5,
     "metadata": {},
     "output_type": "execute_result"
    }
   ],
   "source": [
    "ta_sents = ['அவனுக்கு நம்மைப் தெரியும் என்று தோன்றுகிறது',\n",
    "            \"நாங்கள் உன்னைத் பின்பற்றுவோம் (அ) தொடர்வோம். \",\n",
    "            'உங்களுக்கு உங்கள் அருகில் இருக்கும் ஒருவருக்கோ இத்தகைய அறிகுறிகள் தென்பட்டால், வீட்டிலேயே இருப்பது, கொரோனா வைரஸ் தொற்று பிறருக்கு வராமல் தடுக்க உதவும்.']\n",
    "\n",
    "\n",
    "indic2en_model.batch_translate(ta_sents, 'ta', 'en')\n"
   ]
  },
  {
   "cell_type": "code",
   "execution_count": 6,
   "metadata": {},
   "outputs": [
    {
     "name": "stderr",
     "output_type": "stream",
     "text": [
      "100%|██████████| 4/4 [00:00<00:00, 9581.51it/s]\n",
      "2023-04-29 23:16:10 | INFO | fairseq.tasks.fairseq_task | can_reuse_epoch_itr = True\n",
      "2023-04-29 23:16:10 | INFO | fairseq.tasks.fairseq_task | reuse_dataloader = True\n",
      "2023-04-29 23:16:10 | INFO | fairseq.tasks.fairseq_task | rebuild_batches = False\n",
      "2023-04-29 23:16:10 | INFO | fairseq.tasks.fairseq_task | creating new batches for epoch 1\n"
     ]
    },
    {
     "data": {
      "text/plain": [
       "'The pandemic has caused global social and economic disruption. This has led to the worlds largest recession since the Great Depression. This led to the postponement or cancellation of sporting, religious, political and cultural events. Due to this fear, there was a shortage of supply as most of the people purchased the items like masks, sanitizers etc.'"
      ]
     },
     "execution_count": 6,
     "metadata": {},
     "output_type": "execute_result"
    }
   ],
   "source": [
    "ta_paragraph = \"\"\"இத்தொற்றுநோய் உலகளாவிய சமூக மற்றும் பொருளாதார சீர்குலைவை ஏற்படுத்தியுள்ளது.இதனால் பெரும் பொருளாதார மந்தநிலைக்குப் பின்னர் உலகளவில் மிகப்பெரிய மந்தநிலை ஏற்பட்டுள்ளது. இது விளையாட்டு,மத, அரசியல் மற்றும் கலாச்சார நிகழ்வுகளை ஒத்திவைக்க அல்லது ரத்து செய்ய வழிவகுத்தது.\n",
    "அச்சம் காரணமாக முகக்கவசம், கிருமிநாசினி உள்ளிட்ட பொருட்களை அதிக நபர்கள் வாங்கியதால் விநியோகப் பற்றாக்குறை ஏற்பட்டது.\"\"\"\n",
    "\n",
    "indic2en_model.translate_paragraph(ta_paragraph, 'ta', 'en')"
   ]
  },
  {
   "cell_type": "code",
   "execution_count": 7,
   "metadata": {},
   "outputs": [
    {
     "name": "stderr",
     "output_type": "stream",
     "text": [
      "100%|██████████| 18/18 [00:00<00:00, 9831.68it/s]\n",
      "2023-04-29 23:16:32 | INFO | fairseq.tasks.fairseq_task | can_reuse_epoch_itr = True\n",
      "2023-04-29 23:16:32 | INFO | fairseq.tasks.fairseq_task | reuse_dataloader = True\n",
      "2023-04-29 23:16:32 | INFO | fairseq.tasks.fairseq_task | rebuild_batches = False\n",
      "2023-04-29 23:16:32 | INFO | fairseq.tasks.fairseq_task | creating new batches for epoch 1\n"
     ]
    },
    {
     "data": {
      "text/plain": [
       "\"Shinzo Abe (21 September 1954 8 July 2022) was a Japanese politician who served as the Prime Minister of Japan and Chairman of the Liberal Democratic Party (LDP) from 2006 to 2007 and again from 2012 to 2020. He was the longest serving Prime Minister. In Japanese history, Abe also served as Chief Cabinet Secretary under Junichiro Koizumi from 2005 to 2006 and was Leader of the Opposition for some time in 2012. Born into a prominent political family, Abe was elected to the House of Representatives in the 1993 election. He was appointed Chief Cabinet Secretary by Prime Minister Junichiro Koizumi in September 2005 before he was replaced as Prime Minister and LDP Chairman in September 2005. He was later appointed as Prime Minister by a special session of the National Diet, becoming the youngest and first person Prime Minister of Japan born after World War II. Abe resigned as Prime Minister a year later in office due to medical complications of ulcerative colitis, soon after his party lost the House of Councillors election that year. Subsequently, he was replaced by Yasuo Fukuda, who became the first in a series of five Prime Ministers who failed to retain office for more than sixteen months. After recovering from his illness, Abe made an unexpected political comeback in September 2012, defeating former Defence Minister Shigeru Ishiba in a ballot to become LDP President for the second time. After the LDP's landslide victory in the general election in December 1948, he returned to office after Shigeru Yoshida became the former Prime Minister. He led the LDP to two more victories in the 2014 and 2017 elections, becoming the longest-serving Prime Minister of Japan. In August 2020, Abe announced his second resignation as Prime Minister, citing a significant resurgence of his ulcerative colitis. [3] Diet's Chief Cabinet Secretary Yoshihide Suga resigned on 16 September after he was elected as his successor. Abe was a conservative, widely described by political commentators as a right-wing Japanese nationalist. He was a member of the Nippon Kaigi and held the Japanese historical prohibitionist view, including rejecting the role of state coercion in the recruitment of sex slaves during World War II, a situation that had created tensions with neighbouring South Korea. He was considered a hard liner with regard to Japanese defence policy and advocated for amending Article 9 of the pacifist Japanese Constitution to allow Japan to retain military forces. He proposed, advocated and successfully enacted the Security Reform Act in 2015 to allow Japanese practice of collective security, the route of which was controversial and met with major protests. Abe's ministerial position was internationally known for his government's economic policies, called Abenomics, which followed monetary easing, fiscal stimulus and structural adjustment.\""
      ]
     },
     "execution_count": 7,
     "metadata": {},
     "output_type": "execute_result"
    }
   ],
   "source": [
    "indic_string=\"\"\"शिंज़ो आबे (21 सितंबर 1954 - 8 जुलाई 2022) एक जापानी राजनेता थे, जिन्होंने 2006 से 2007 तक और फिर 2012 से 2020 तक जापान के प्रधान मंत्री और उदार लोकतांत्रिक दल (एलडीपी) के अध्यक्ष के रूप में कार्य किया। वह सबसे लंबे समय तक सेवा करने वाले प्रधान मंत्री थे। जापानी इतिहास में आबे ने 2005 से 2006 तक जूनीचीरो कोईजूमी के अधीन मुख्य कैबिनेट सचिव के रूप में भी कार्य किया और 2012 में विपक्ष के कुछ समय के लिए नेता थे।[1][2]\n",
    "\n",
    "एक प्रमुख राजनीतिक परिवार में जन्मे आबे 1993 के चुनाव में प्रतिनिधि सभा के लिए चुने गए थे। सितंबर 2005 में उन्हें प्रधान मंत्री और एलडीपी अध्यक्ष के रूप में बदलने से पहले सितंबर 2005 में प्रधान मंत्री जुनिचिरो कोइज़ुमी द्वारा मुख्य कैबिनेट सचिव नियुक्त किया गया था। बाद में उन्हें राष्ट्रीय डायट के एक विशेष सत्र द्वारा प्रधान मंत्री के रूप में नियुक्त किया गया, जो जापान के सबसे युवा और द्वितीय विश्व युद्ध के बाद पैदा होने वाले पहले व्यक्ति प्रधान मंत्री बने। आबे ने कार्यालय में एक वर्ष के बाद ही प्रधान मंत्री पद से इस्तीफ़ा दे दिया था जिसका कारण व्रणीय बृहदान्त्रशोथ की चिकित्सा जटिलताताएँ थीं, ऐसा उनकी पार्टी के उस वर्ष के हाउस ऑफ काउंसिलर्स चुनाव हारने के तुरंत बाद हुआ था। इसके बाद, उन्हें यासुओ फुकुदा द्वारा प्रतिस्थापित किया गया, जो पांच प्रधानमंत्रियों की श्रृंखला में पहले बने, जो सोलह महीने से अधिक समय तक कार्यालय बनाए रखने में विफल रहे थे।\n",
    "\n",
    "अपनी बीमारी से उबरने के बाद, आबे ने सितंबर 2012 में दूसरी बार एलडीपी अध्यक्ष बनने के लिए एक मतपत्र में पूर्व रक्षा मंत्री शिगेरू इशिबा को हराकर अप्रत्याशित राजनीतिक वापसी की। दिसंबर में आम चुनाव में एलडीपी की शानदार जीत के बाद वे 1948 में शिगेरू योशिदा के बाद कार्यालय में लौटे और ऐसा करने वाले वे पूर्व प्रधान मंत्री बने। उन्होंने 2014 और 2017 के चुनावों में एलडीपी को दो और जीतों का नेतृत्व किया तथा इस प्रकार जापान के सबसे लंबे समय तक रहने वाले प्रधान मंत्री बने। अगस्त 2020 में, आबे ने अपने व्रणीय बृहदान्त्रशोथ के एक महत्वपूर्ण पुनरुत्थान का हवाला देते हुए प्रधान मंत्री के रूप में अपने दूसरे इस्तीफ़े की घोषणा की।[3] डायट के मुख्य कैबिनेट सचिव योशीहिदे सुगा को अपना उत्तराधिकारी चुने जाने पर उन्होंने 16 सितंबर को अपना इस्तीफ़ा दे दिया था।\n",
    "\n",
    "आबे एक रूढ़िवादी थे, जिन्हें राजनीतिक टिप्पणीकारों ने व्यापक रूप से दक्षिणपंथी जापानी राष्ट्रवादी के रूप में वर्णित किया। वह निप्पोन काइगी के सदस्य थे और जापानी ऐतिहासिक निषेधवाद विचार रखते थे, जिसमें द्वितीय विश्व युद्ध के समय यौन दासियों की भर्ती में सरकारी जबरदस्ती की भूमिका को नकारना भी शामिल था जो एक ऐसी स्थिति था जिसने पड़ोसी दक्षिण कोरिया के साथ तनाव पैदा किया था। उन्हें जापानी रक्षा नीति के संबंध में एक हार्ड लाइनर माना जाता था और जापान को सैन्य बलों को बनाए रखने की अनुमति देने के लिए शांतिवादी जापानी संविधान के अनुच्छेद 9 को संशोधित करने की वकालत की थी। उन्होंने सामूहिक सुरक्षा के जापानी अभ्यास की अनुमति देने के लिए 2015 में सुरक्षा सुधार कानून का प्रस्ताव दिया, वकालत की और सफलतापूर्वक अधिनियमित किया, जिसका मार्ग विवादास्पद था और बड़े विरोधों से मुलाकात की। आबे के मंत्रीपद को उनकी सरकार की आर्थिक नीतियों के लिए अंतर्राष्ट्रीय स्तर पर जाना जाता था जिसका नाम आबेनॉमिक्स था, जिसने मौद्रिक सहजता, राजकोषीय प्रोत्साहन और संरचनात्मक अनुकूलन का अनुसरण किया। \"\"\"\n",
    "\n",
    "indic2en_model.translate_paragraph(indic_string, 'hi', 'en')"
   ]
  },
  {
   "attachments": {},
   "cell_type": "markdown",
   "metadata": {},
   "source": [
    "##  en to indic"
   ]
  },
  {
   "cell_type": "code",
   "execution_count": 8,
   "metadata": {},
   "outputs": [],
   "source": [
    "english_string=\"\"\"So is the toss the boss of the match in World Cup 2019? i.e. in winning or losing the match\n",
    "Is the role of the toss important? You can think so. Two Asian teams who lost badly in their respective opening matches of the World Cup\n",
    "Although the captain of Pakistan and Sri Lanka did not give the argument of the toss behind his defeat, but he definitely said that he had lost an important toss.\"\"\""
   ]
  },
  {
   "cell_type": "code",
   "execution_count": 9,
   "metadata": {},
   "outputs": [
    {
     "name": "stderr",
     "output_type": "stream",
     "text": [
      "2023-04-29 23:16:57 | INFO | mosestokenizer.sentsplitter.MosesSentenceSplitter | executing argv ['perl', '/home/snehil/.venv/lib/python3.8/site-packages/mosestokenizer/split-sentences.perl', '-q', '-b', '-l', 'en', '-m']\n",
      "2023-04-29 23:16:57 | INFO | mosestokenizer.sentsplitter.MosesSentenceSplitter | spawned process 17333\n",
      "2023-04-29 23:16:57 | INFO | mosestokenizer.sentsplitter.MosesSentenceSplitter | killing process 17333\n",
      "100%|██████████| 3/3 [00:04<00:00,  1.66s/it]\n",
      "2023-04-29 23:17:02 | INFO | fairseq.tasks.fairseq_task | can_reuse_epoch_itr = True\n",
      "2023-04-29 23:17:02 | INFO | fairseq.tasks.fairseq_task | reuse_dataloader = True\n",
      "2023-04-29 23:17:02 | INFO | fairseq.tasks.fairseq_task | rebuild_batches = False\n",
      "2023-04-29 23:17:02 | INFO | fairseq.tasks.fairseq_task | creating new batches for epoch 1\n"
     ]
    },
    {
     "data": {
      "text/plain": [
       "'तो क्या 2019 विश्व कप में टास ही मैच का बॉस होता है? आप ऐसा सोच सकते हैं। हालांकि पाकिस्तान और श्रीलंका के कप्तान ने अपनी हार के पीछे टास का तर्क नहीं दिया, लेकिन उन्होंने निश्चित रूप से कहा कि उन्होंने एक महत्वपूर्ण टास खो दिया था।'"
      ]
     },
     "execution_count": 9,
     "metadata": {},
     "output_type": "execute_result"
    }
   ],
   "source": [
    "en2indic_model.translate_paragraph(english_string,'en','hi')"
   ]
  },
  {
   "cell_type": "code",
   "execution_count": null,
   "metadata": {},
   "outputs": [],
   "source": []
  }
 ],
 "metadata": {
  "kernelspec": {
   "display_name": "Python 3",
   "language": "python",
   "name": "python3"
  },
  "language_info": {
   "codemirror_mode": {
    "name": "ipython",
    "version": 3
   },
   "file_extension": ".py",
   "mimetype": "text/x-python",
   "name": "python",
   "nbconvert_exporter": "python",
   "pygments_lexer": "ipython3",
   "version": "3.8.10"
  },
  "orig_nbformat": 4
 },
 "nbformat": 4,
 "nbformat_minor": 2
}
