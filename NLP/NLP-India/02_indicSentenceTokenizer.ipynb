{
 "cells": [
  {
   "cell_type": "code",
   "execution_count": 1,
   "metadata": {},
   "outputs": [],
   "source": [
    "# install these libraries\n",
    "#!pip install mosestokenizer\n",
    "#!pip install indic-nlp-library"
   ]
  },
  {
   "cell_type": "code",
   "execution_count": 2,
   "metadata": {},
   "outputs": [],
   "source": [
    "from mosestokenizer import *\n",
    "from indicnlp.tokenize import sentence_tokenize\n",
    "from nltk.tokenize import sent_tokenize"
   ]
  },
  {
   "cell_type": "code",
   "execution_count": 3,
   "metadata": {},
   "outputs": [],
   "source": [
    "INDIC = [\"as\", \"bn\", \"gu\", \"hi\", \"kn\", \"ml\", \"mr\", \"or\", \"pa\", \"ta\", \"te\"]"
   ]
  },
  {
   "cell_type": "code",
   "execution_count": 4,
   "metadata": {},
   "outputs": [],
   "source": [
    "def split_sentences(paragraph, language):\n",
    "    if language == \"en\":\n",
    "        with MosesSentenceSplitter(language) as splitter:\n",
    "            return splitter([paragraph])\n",
    "    # if language == \"en\":\n",
    "    #     return sent_tokenize(paragraph)\n",
    "    elif language in INDIC:\n",
    "        return sentence_tokenize.sentence_split(paragraph, lang=language)"
   ]
  },
  {
   "cell_type": "code",
   "execution_count": 5,
   "metadata": {},
   "outputs": [],
   "source": [
    "hindi_para = \"\"\"हिमयुग का अधिकांश भाग पुरापाषाण काल में बीता है। भारतीय पुरापाषाण युग को औजारों, जलवायु परिवर्तनों के आधार पर तीन भागों में बांटा जाता है -\n",
    "    आरंभिक या निम्न पुरापाषाण युग (25,00,000 ईस्वी पूर्व - 100,000 ई. पू.)\n",
    "    मध्य पुरापाषाण युग (1,00,000 ई. पू. - 40,000 ई. पू.)\n",
    "    उच्च पुरापाषाण युग (40,000 ई.पू - 10,000 ई.पू.)\n",
    "आदिम मानव के जीवाश्म भारत में नहीं मिले हैं। महाराष्ट्र के बोरी नामक स्थान पर मिले तथ्यों से अंदेशा होता है कि मानव की उत्पत्ति 14 लाख वर्ष पूर्व हुई होगी। यह बात लगभग सर्वमान्य है कि अफ़्रीका की अपेक्षा भारत में मानव बाद में बसे। यद्दपि यहां के लोगों का पाषाण कौशल लगभग उसी तरह विकसित हुआ जिस तरह अफ़्रीका में। इस समय का मानव अपना भोजन कठिनाई से ही बटोर पाता था। वह ना तो खेती करना जानता था और ना ही घर बनाना। यह अवस्था 9000 ई.पू. तक रही होगी।\n",
    "पुरापाषाण काल के औजार छोटानागपुर के पठार में मिले हैं जो 1,00,000 ई.पू. तक हो सकते हैं। आंध्र प्रदेश के कुर्नूल जिले में 20,000 ई.पू. से 10,000 ई.पू. के मध्य के औजार मिले हैं। इनके साथ हड्डी के उपकरण और पशुओं के अवशेष भी मिले हैं। उत्तर प्रदेश के मिर्ज़ापुर जिले की बेलन घाटी में जो पशुओं के अवशेष मिले हैं उनसे ज्ञात होता है कि बकरी, भेड़, गाय, भैंस इत्यादि पाले जाते थे। फिर भी पुरापाषाण युग की आदिम अवस्था का मानव शिकार और खाद्य संग्रह पर जीता था। पुराणों में केवल फल और कन्द मूल खाकर जीने वालों का जिक्र है। इस तरह के कुछ लोग तो आधुनिक काल तक पर्वतों और गुफाओं में रहते आए हैं। \"\"\""
   ]
  },
  {
   "cell_type": "code",
   "execution_count": 6,
   "metadata": {},
   "outputs": [
    {
     "data": {
      "text/plain": [
       "['हिमयुग का अधिकांश भाग पुरापाषाण काल में बीता है।',\n",
       " 'भारतीय पुरापाषाण युग को औजारों, जलवायु परिवर्तनों के आधार पर तीन भागों में बांटा जाता है -\\n    आरंभिक या निम्न पुरापाषाण युग (25,00,000 ईस्वी पूर्व - 100,000 ई. पू.)\\n    मध्य पुरापाषाण युग (1,00,000 ई. पू. - 40,000 ई. पू.)\\n    उच्च पुरापाषाण युग (40,000 ई.पू - 10,000 ई.पू.)\\nआदिम मानव के जीवाश्म भारत में नहीं मिले हैं।',\n",
       " 'महाराष्ट्र के बोरी नामक स्थान पर मिले तथ्यों से अंदेशा होता है कि मानव की उत्पत्ति 14 लाख वर्ष पूर्व हुई होगी।',\n",
       " 'यह बात लगभग सर्वमान्य है कि अफ़्रीका की अपेक्षा भारत में मानव बाद में बसे।',\n",
       " 'यद्दपि यहां के लोगों का पाषाण कौशल लगभग उसी तरह विकसित हुआ जिस तरह अफ़्रीका में।',\n",
       " 'इस समय का मानव अपना भोजन कठिनाई से ही बटोर पाता था।',\n",
       " 'वह ना तो खेती करना जानता था और ना ही घर बनाना।',\n",
       " 'यह अवस्था 9000 ई.पू. तक रही होगी।',\n",
       " 'पुरापाषाण काल के औजार छोटानागपुर के पठार में मिले हैं जो 1,00,000 ई.पू. तक हो सकते हैं।',\n",
       " 'आंध्र प्रदेश के कुर्नूल जिले में 20,000 ई.पू. से 10,000 ई.पू. के मध्य के औजार मिले हैं।',\n",
       " 'इनके साथ हड्डी के उपकरण और पशुओं के अवशेष भी मिले हैं।',\n",
       " 'उत्तर प्रदेश के मिर्ज़ापुर जिले की बेलन घाटी में जो पशुओं के अवशेष मिले हैं उनसे ज्ञात होता है कि बकरी, भेड़, गाय, भैंस इत्यादि पाले जाते थे।',\n",
       " 'फिर भी पुरापाषाण युग की आदिम अवस्था का मानव शिकार और खाद्य संग्रह पर जीता था।',\n",
       " 'पुराणों में केवल फल और कन्द मूल खाकर जीने वालों का जिक्र है।',\n",
       " 'इस तरह के कुछ लोग तो आधुनिक काल तक पर्वतों और गुफाओं में रहते आए हैं।']"
      ]
     },
     "execution_count": 6,
     "metadata": {},
     "output_type": "execute_result"
    }
   ],
   "source": [
    "split_sentences(hindi_para,'hi')"
   ]
  },
  {
   "cell_type": "code",
   "execution_count": 7,
   "metadata": {},
   "outputs": [],
   "source": [
    "english_para = \"\"\"Bare Bones taught you to use an ELF binary for the kernel. Do you know what do .text, .data, .rodata, .bss mean? Right, they are the sections of the executable. In .text the instructions for the processor are stored, in .data there is data, in .rodata there is read-only data, in .bss there is uninitialised data. There may be more sections, but let's focus on these for now.\n",
    "Each of these sections should have different permissions applied, for example .text should be read-only, .data should be read-write, .rodata should be read-only, and .bss should be read-write. For these changes to take effect in kernel-space, you have to set the WP bit in the appropriate register. Make sure you disable execution of non-.text sections in x86-64 and PAE modes.\n",
    "To facilitate setting permissions on sections you can do the following:\n",
    "    Tell the linker to align them at 4 KiB boundaries, so sections occupy whole pages.\n",
    "    Tell the linker to insert symbols indicating the start and end addresses of specific sections, so you can access them from your mapping code. \n",
    "\"\"\""
   ]
  },
  {
   "cell_type": "code",
   "execution_count": 8,
   "metadata": {},
   "outputs": [
    {
     "data": {
      "text/plain": [
       "['Bare Bones taught you to use an ELF binary for the kernel.',\n",
       " 'Do you know what do .text, .data, .rodata, .bss mean?',\n",
       " 'Right, they are the sections of the executable.',\n",
       " 'In .text the instructions for the processor are stored, in .data there is data, in .rodata there is read-only data, in .bss there is uninitialised data.',\n",
       " \"There may be more sections, but let's focus on these for now.\",\n",
       " 'Each of these sections should have different permissions applied, for example .text should be read-only, .data should be read-write, .rodata should be read-only, and .bss should be read-write.',\n",
       " 'For these changes to take effect in kernel-space, you have to set the WP bit in the appropriate register.',\n",
       " 'Make sure you disable execution of non-.text sections in x86-64 and PAE modes.',\n",
       " 'To facilitate setting permissions on sections you can do the following:',\n",
       " 'Tell the linker to align them at 4 KiB boundaries, so sections occupy whole pages.',\n",
       " 'Tell the linker to insert symbols indicating the start and end addresses of specific sections, so you can access them from your mapping code.']"
      ]
     },
     "execution_count": 8,
     "metadata": {},
     "output_type": "execute_result"
    }
   ],
   "source": [
    "split_sentences(english_para,'en')"
   ]
  },
  {
   "cell_type": "code",
   "execution_count": null,
   "metadata": {},
   "outputs": [],
   "source": []
  }
 ],
 "metadata": {
  "kernelspec": {
   "display_name": ".venv",
   "language": "python",
   "name": "python3"
  },
  "language_info": {
   "codemirror_mode": {
    "name": "ipython",
    "version": 3
   },
   "file_extension": ".py",
   "mimetype": "text/x-python",
   "name": "python",
   "nbconvert_exporter": "python",
   "pygments_lexer": "ipython3",
   "version": "3.8.10"
  },
  "orig_nbformat": 4
 },
 "nbformat": 4,
 "nbformat_minor": 2
}
