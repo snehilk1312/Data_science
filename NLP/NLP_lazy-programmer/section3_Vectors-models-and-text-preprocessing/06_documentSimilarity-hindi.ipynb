{
 "cells": [
  {
   "cell_type": "code",
   "execution_count": 1,
   "metadata": {},
   "outputs": [],
   "source": [
    "import pandas as pd\n",
    "import string"
   ]
  },
  {
   "cell_type": "code",
   "execution_count": 6,
   "metadata": {},
   "outputs": [],
   "source": [
    "with open('..\\data\\\\news.2012.hi.shuffled.deduped','r',encoding=\"utf-8\") as f:\n",
    "    lines = f.readlines()"
   ]
  },
  {
   "cell_type": "code",
   "execution_count": 7,
   "metadata": {},
   "outputs": [],
   "source": [
    "lines = [i[:-1] for i in lines]"
   ]
  },
  {
   "cell_type": "code",
   "execution_count": 8,
   "metadata": {},
   "outputs": [
    {
     "data": {
      "text/plain": [
       "['उनका कहना था, \" विदेशों में बहुत काला धन पड़ा है. ये वापस आना चाहिए और आगे ऐसा न हो इसके लिए आगे मजबूत लोकपाल की ज़रुरत है. प्रधानमंत्री बार बार कहते हैं कि वो ईमानदार हैं लेकिन उन्हें अपनी लोकतांत्रिक और संवैधानिक जिम्मेदारी निभानी चाहिए. उन्हें अपने कैबिनेट को भी ईमानदार करना चाहिए.\"',\n",
       " 'इस सवाल पर कि केंद्र में उनकी सरकार है और वे इस क़ानून को बदलने का प्रयास क्यों नहीं करते, उन्होंने कहा कि ये आसान नहीं है लेकिन वे प्रयास करते रहे हैं.',\n",
       " 'मज़बूत युआन',\n",
       " 'अमरीकी कमांडर एडमिरल रोबर्ट विलर्ड ने कहा है कि इन विशेष सैन्य दलों को अमरीकी पैसिफिक कमांड ने चरमपंथ विरोधी गतिविधियों खासतौर पर समुद्री सुरक्षा के लिए तैनात किया है.',\n",
       " 'ब्रिटेन सरकार का इरादा इनकार करने का नहीं है और वे केवल ये सुनिश्चित करना चाहते हैं कि हासिल की गई शिक्षा का इस्तेमाल काम के लिए हो रहा है कि नहीं']"
      ]
     },
     "execution_count": 8,
     "metadata": {},
     "output_type": "execute_result"
    }
   ],
   "source": [
    "lines[:5]"
   ]
  },
  {
   "cell_type": "code",
   "execution_count": 9,
   "metadata": {},
   "outputs": [],
   "source": [
    "df = pd.DataFrame({'text':lines})"
   ]
  },
  {
   "cell_type": "code",
   "execution_count": 10,
   "metadata": {},
   "outputs": [
    {
     "data": {
      "text/html": [
       "<div>\n",
       "<style scoped>\n",
       "    .dataframe tbody tr th:only-of-type {\n",
       "        vertical-align: middle;\n",
       "    }\n",
       "\n",
       "    .dataframe tbody tr th {\n",
       "        vertical-align: top;\n",
       "    }\n",
       "\n",
       "    .dataframe thead th {\n",
       "        text-align: right;\n",
       "    }\n",
       "</style>\n",
       "<table border=\"1\" class=\"dataframe\">\n",
       "  <thead>\n",
       "    <tr style=\"text-align: right;\">\n",
       "      <th></th>\n",
       "      <th>text</th>\n",
       "    </tr>\n",
       "  </thead>\n",
       "  <tbody>\n",
       "    <tr>\n",
       "      <th>0</th>\n",
       "      <td>उनका कहना था, \" विदेशों में बहुत काला धन पड़ा ...</td>\n",
       "    </tr>\n",
       "    <tr>\n",
       "      <th>1</th>\n",
       "      <td>इस सवाल पर कि केंद्र में उनकी सरकार है और वे इ...</td>\n",
       "    </tr>\n",
       "    <tr>\n",
       "      <th>2</th>\n",
       "      <td>मज़बूत युआन</td>\n",
       "    </tr>\n",
       "    <tr>\n",
       "      <th>3</th>\n",
       "      <td>अमरीकी कमांडर एडमिरल रोबर्ट विलर्ड ने कहा है क...</td>\n",
       "    </tr>\n",
       "    <tr>\n",
       "      <th>4</th>\n",
       "      <td>ब्रिटेन सरकार का इरादा इनकार करने का नहीं है औ...</td>\n",
       "    </tr>\n",
       "    <tr>\n",
       "      <th>...</th>\n",
       "      <td>...</td>\n",
       "    </tr>\n",
       "    <tr>\n",
       "      <th>133259</th>\n",
       "      <td>ग़ौरतलब है कि अरब लीग के 156 से ज़्यादा पर्यवे...</td>\n",
       "    </tr>\n",
       "    <tr>\n",
       "      <th>133260</th>\n",
       "      <td>वहीं शिन्हुआ के विश्लेषण में कहा गया है कि आर्...</td>\n",
       "    </tr>\n",
       "    <tr>\n",
       "      <th>133261</th>\n",
       "      <td>कौल के अनुसार, \"जब कंपनी के पास पैसे न हों और ...</td>\n",
       "    </tr>\n",
       "    <tr>\n",
       "      <th>133262</th>\n",
       "      <td>\"डिपार्टमेंट\" के संगीत एलबम में कुल दस ट्रैक्स...</td>\n",
       "    </tr>\n",
       "    <tr>\n",
       "      <th>133263</th>\n",
       "      <td>हालांकि कोहली के अबतक के अंतरराष्ट्रीय करियर व...</td>\n",
       "    </tr>\n",
       "  </tbody>\n",
       "</table>\n",
       "<p>133264 rows × 1 columns</p>\n",
       "</div>"
      ],
      "text/plain": [
       "                                                     text\n",
       "0       उनका कहना था, \" विदेशों में बहुत काला धन पड़ा ...\n",
       "1       इस सवाल पर कि केंद्र में उनकी सरकार है और वे इ...\n",
       "2                                             मज़बूत युआन\n",
       "3       अमरीकी कमांडर एडमिरल रोबर्ट विलर्ड ने कहा है क...\n",
       "4       ब्रिटेन सरकार का इरादा इनकार करने का नहीं है औ...\n",
       "...                                                   ...\n",
       "133259  ग़ौरतलब है कि अरब लीग के 156 से ज़्यादा पर्यवे...\n",
       "133260  वहीं शिन्हुआ के विश्लेषण में कहा गया है कि आर्...\n",
       "133261  कौल के अनुसार, \"जब कंपनी के पास पैसे न हों और ...\n",
       "133262  \"डिपार्टमेंट\" के संगीत एलबम में कुल दस ट्रैक्स...\n",
       "133263  हालांकि कोहली के अबतक के अंतरराष्ट्रीय करियर व...\n",
       "\n",
       "[133264 rows x 1 columns]"
      ]
     },
     "execution_count": 10,
     "metadata": {},
     "output_type": "execute_result"
    }
   ],
   "source": [
    "df"
   ]
  },
  {
   "cell_type": "code",
   "execution_count": 13,
   "metadata": {},
   "outputs": [],
   "source": [
    "# !pip install indic-nlp-library"
   ]
  },
  {
   "cell_type": "code",
   "execution_count": 14,
   "metadata": {},
   "outputs": [],
   "source": [
    "from indicnlp.tokenize import indic_tokenize  \n",
    "df['text_tokenize'] = df.text.apply(lambda x:indic_tokenize.trivial_tokenize(x))"
   ]
  },
  {
   "cell_type": "code",
   "execution_count": 15,
   "metadata": {},
   "outputs": [
    {
     "data": {
      "text/html": [
       "<div>\n",
       "<style scoped>\n",
       "    .dataframe tbody tr th:only-of-type {\n",
       "        vertical-align: middle;\n",
       "    }\n",
       "\n",
       "    .dataframe tbody tr th {\n",
       "        vertical-align: top;\n",
       "    }\n",
       "\n",
       "    .dataframe thead th {\n",
       "        text-align: right;\n",
       "    }\n",
       "</style>\n",
       "<table border=\"1\" class=\"dataframe\">\n",
       "  <thead>\n",
       "    <tr style=\"text-align: right;\">\n",
       "      <th></th>\n",
       "      <th>text</th>\n",
       "      <th>text_tokenize</th>\n",
       "    </tr>\n",
       "  </thead>\n",
       "  <tbody>\n",
       "    <tr>\n",
       "      <th>0</th>\n",
       "      <td>उनका कहना था, \" विदेशों में बहुत काला धन पड़ा ...</td>\n",
       "      <td>[उनका, कहना, था, ,, \", विदेशों, में, बहुत, काल...</td>\n",
       "    </tr>\n",
       "    <tr>\n",
       "      <th>1</th>\n",
       "      <td>इस सवाल पर कि केंद्र में उनकी सरकार है और वे इ...</td>\n",
       "      <td>[इस, सवाल, पर, कि, केंद्र, में, उनकी, सरकार, ह...</td>\n",
       "    </tr>\n",
       "    <tr>\n",
       "      <th>2</th>\n",
       "      <td>मज़बूत युआन</td>\n",
       "      <td>[मज़बूत, युआन]</td>\n",
       "    </tr>\n",
       "    <tr>\n",
       "      <th>3</th>\n",
       "      <td>अमरीकी कमांडर एडमिरल रोबर्ट विलर्ड ने कहा है क...</td>\n",
       "      <td>[अमरीकी, कमांडर, एडमिरल, रोबर्ट, विलर्ड, ने, क...</td>\n",
       "    </tr>\n",
       "    <tr>\n",
       "      <th>4</th>\n",
       "      <td>ब्रिटेन सरकार का इरादा इनकार करने का नहीं है औ...</td>\n",
       "      <td>[ब्रिटेन, सरकार, का, इरादा, इनकार, करने, का, न...</td>\n",
       "    </tr>\n",
       "    <tr>\n",
       "      <th>...</th>\n",
       "      <td>...</td>\n",
       "      <td>...</td>\n",
       "    </tr>\n",
       "    <tr>\n",
       "      <th>133259</th>\n",
       "      <td>ग़ौरतलब है कि अरब लीग के 156 से ज़्यादा पर्यवे...</td>\n",
       "      <td>[ग़ौरतलब, है, कि, अरब, लीग, के, 156, से, ज़्या...</td>\n",
       "    </tr>\n",
       "    <tr>\n",
       "      <th>133260</th>\n",
       "      <td>वहीं शिन्हुआ के विश्लेषण में कहा गया है कि आर्...</td>\n",
       "      <td>[वहीं, शिन्हुआ, के, विश्लेषण, में, कहा, गया, ह...</td>\n",
       "    </tr>\n",
       "    <tr>\n",
       "      <th>133261</th>\n",
       "      <td>कौल के अनुसार, \"जब कंपनी के पास पैसे न हों और ...</td>\n",
       "      <td>[कौल, के, अनुसार, ,, \", जब, कंपनी, के, पास, पै...</td>\n",
       "    </tr>\n",
       "    <tr>\n",
       "      <th>133262</th>\n",
       "      <td>\"डिपार्टमेंट\" के संगीत एलबम में कुल दस ट्रैक्स...</td>\n",
       "      <td>[\", डिपार्टमेंट, \", के, संगीत, एलबम, में, कुल,...</td>\n",
       "    </tr>\n",
       "    <tr>\n",
       "      <th>133263</th>\n",
       "      <td>हालांकि कोहली के अबतक के अंतरराष्ट्रीय करियर व...</td>\n",
       "      <td>[हालांकि, कोहली, के, अबतक, के, अंतरराष्ट्रीय, ...</td>\n",
       "    </tr>\n",
       "  </tbody>\n",
       "</table>\n",
       "<p>133264 rows × 2 columns</p>\n",
       "</div>"
      ],
      "text/plain": [
       "                                                     text  \\\n",
       "0       उनका कहना था, \" विदेशों में बहुत काला धन पड़ा ...   \n",
       "1       इस सवाल पर कि केंद्र में उनकी सरकार है और वे इ...   \n",
       "2                                             मज़बूत युआन   \n",
       "3       अमरीकी कमांडर एडमिरल रोबर्ट विलर्ड ने कहा है क...   \n",
       "4       ब्रिटेन सरकार का इरादा इनकार करने का नहीं है औ...   \n",
       "...                                                   ...   \n",
       "133259  ग़ौरतलब है कि अरब लीग के 156 से ज़्यादा पर्यवे...   \n",
       "133260  वहीं शिन्हुआ के विश्लेषण में कहा गया है कि आर्...   \n",
       "133261  कौल के अनुसार, \"जब कंपनी के पास पैसे न हों और ...   \n",
       "133262  \"डिपार्टमेंट\" के संगीत एलबम में कुल दस ट्रैक्स...   \n",
       "133263  हालांकि कोहली के अबतक के अंतरराष्ट्रीय करियर व...   \n",
       "\n",
       "                                            text_tokenize  \n",
       "0       [उनका, कहना, था, ,, \", विदेशों, में, बहुत, काल...  \n",
       "1       [इस, सवाल, पर, कि, केंद्र, में, उनकी, सरकार, ह...  \n",
       "2                                          [मज़बूत, युआन]  \n",
       "3       [अमरीकी, कमांडर, एडमिरल, रोबर्ट, विलर्ड, ने, क...  \n",
       "4       [ब्रिटेन, सरकार, का, इरादा, इनकार, करने, का, न...  \n",
       "...                                                   ...  \n",
       "133259  [ग़ौरतलब, है, कि, अरब, लीग, के, 156, से, ज़्या...  \n",
       "133260  [वहीं, शिन्हुआ, के, विश्लेषण, में, कहा, गया, ह...  \n",
       "133261  [कौल, के, अनुसार, ,, \", जब, कंपनी, के, पास, पै...  \n",
       "133262  [\", डिपार्टमेंट, \", के, संगीत, एलबम, में, कुल,...  \n",
       "133263  [हालांकि, कोहली, के, अबतक, के, अंतरराष्ट्रीय, ...  \n",
       "\n",
       "[133264 rows x 2 columns]"
      ]
     },
     "execution_count": 15,
     "metadata": {},
     "output_type": "execute_result"
    }
   ],
   "source": [
    "df"
   ]
  },
  {
   "cell_type": "code",
   "execution_count": 16,
   "metadata": {},
   "outputs": [
    {
     "data": {
      "text/plain": [
       "['उनका', 'कहना', 'था', ',', '\"']"
      ]
     },
     "execution_count": 16,
     "metadata": {},
     "output_type": "execute_result"
    }
   ],
   "source": [
    "df.loc[0,\"text_tokenize\"][:5]"
   ]
  },
  {
   "cell_type": "code",
   "execution_count": 17,
   "metadata": {},
   "outputs": [],
   "source": [
    "def remove_stopwords(sent):\n",
    "    sent = [i for i in sent if i  not in string.punctuation]\n",
    "    return sent\n",
    "\n",
    "df.text_tokenize = df.text_tokenize.apply(remove_stopwords)"
   ]
  },
  {
   "cell_type": "code",
   "execution_count": 18,
   "metadata": {},
   "outputs": [
    {
     "data": {
      "text/html": [
       "<div>\n",
       "<style scoped>\n",
       "    .dataframe tbody tr th:only-of-type {\n",
       "        vertical-align: middle;\n",
       "    }\n",
       "\n",
       "    .dataframe tbody tr th {\n",
       "        vertical-align: top;\n",
       "    }\n",
       "\n",
       "    .dataframe thead th {\n",
       "        text-align: right;\n",
       "    }\n",
       "</style>\n",
       "<table border=\"1\" class=\"dataframe\">\n",
       "  <thead>\n",
       "    <tr style=\"text-align: right;\">\n",
       "      <th></th>\n",
       "      <th>text</th>\n",
       "      <th>text_tokenize</th>\n",
       "    </tr>\n",
       "  </thead>\n",
       "  <tbody>\n",
       "    <tr>\n",
       "      <th>0</th>\n",
       "      <td>उनका कहना था, \" विदेशों में बहुत काला धन पड़ा ...</td>\n",
       "      <td>[उनका, कहना, था, विदेशों, में, बहुत, काला, धन,...</td>\n",
       "    </tr>\n",
       "    <tr>\n",
       "      <th>1</th>\n",
       "      <td>इस सवाल पर कि केंद्र में उनकी सरकार है और वे इ...</td>\n",
       "      <td>[इस, सवाल, पर, कि, केंद्र, में, उनकी, सरकार, ह...</td>\n",
       "    </tr>\n",
       "    <tr>\n",
       "      <th>2</th>\n",
       "      <td>मज़बूत युआन</td>\n",
       "      <td>[मज़बूत, युआन]</td>\n",
       "    </tr>\n",
       "    <tr>\n",
       "      <th>3</th>\n",
       "      <td>अमरीकी कमांडर एडमिरल रोबर्ट विलर्ड ने कहा है क...</td>\n",
       "      <td>[अमरीकी, कमांडर, एडमिरल, रोबर्ट, विलर्ड, ने, क...</td>\n",
       "    </tr>\n",
       "    <tr>\n",
       "      <th>4</th>\n",
       "      <td>ब्रिटेन सरकार का इरादा इनकार करने का नहीं है औ...</td>\n",
       "      <td>[ब्रिटेन, सरकार, का, इरादा, इनकार, करने, का, न...</td>\n",
       "    </tr>\n",
       "    <tr>\n",
       "      <th>...</th>\n",
       "      <td>...</td>\n",
       "      <td>...</td>\n",
       "    </tr>\n",
       "    <tr>\n",
       "      <th>133259</th>\n",
       "      <td>ग़ौरतलब है कि अरब लीग के 156 से ज़्यादा पर्यवे...</td>\n",
       "      <td>[ग़ौरतलब, है, कि, अरब, लीग, के, 156, से, ज़्या...</td>\n",
       "    </tr>\n",
       "    <tr>\n",
       "      <th>133260</th>\n",
       "      <td>वहीं शिन्हुआ के विश्लेषण में कहा गया है कि आर्...</td>\n",
       "      <td>[वहीं, शिन्हुआ, के, विश्लेषण, में, कहा, गया, ह...</td>\n",
       "    </tr>\n",
       "    <tr>\n",
       "      <th>133261</th>\n",
       "      <td>कौल के अनुसार, \"जब कंपनी के पास पैसे न हों और ...</td>\n",
       "      <td>[कौल, के, अनुसार, जब, कंपनी, के, पास, पैसे, न,...</td>\n",
       "    </tr>\n",
       "    <tr>\n",
       "      <th>133262</th>\n",
       "      <td>\"डिपार्टमेंट\" के संगीत एलबम में कुल दस ट्रैक्स...</td>\n",
       "      <td>[डिपार्टमेंट, के, संगीत, एलबम, में, कुल, दस, ट...</td>\n",
       "    </tr>\n",
       "    <tr>\n",
       "      <th>133263</th>\n",
       "      <td>हालांकि कोहली के अबतक के अंतरराष्ट्रीय करियर व...</td>\n",
       "      <td>[हालांकि, कोहली, के, अबतक, के, अंतरराष्ट्रीय, ...</td>\n",
       "    </tr>\n",
       "  </tbody>\n",
       "</table>\n",
       "<p>133264 rows × 2 columns</p>\n",
       "</div>"
      ],
      "text/plain": [
       "                                                     text  \\\n",
       "0       उनका कहना था, \" विदेशों में बहुत काला धन पड़ा ...   \n",
       "1       इस सवाल पर कि केंद्र में उनकी सरकार है और वे इ...   \n",
       "2                                             मज़बूत युआन   \n",
       "3       अमरीकी कमांडर एडमिरल रोबर्ट विलर्ड ने कहा है क...   \n",
       "4       ब्रिटेन सरकार का इरादा इनकार करने का नहीं है औ...   \n",
       "...                                                   ...   \n",
       "133259  ग़ौरतलब है कि अरब लीग के 156 से ज़्यादा पर्यवे...   \n",
       "133260  वहीं शिन्हुआ के विश्लेषण में कहा गया है कि आर्...   \n",
       "133261  कौल के अनुसार, \"जब कंपनी के पास पैसे न हों और ...   \n",
       "133262  \"डिपार्टमेंट\" के संगीत एलबम में कुल दस ट्रैक्स...   \n",
       "133263  हालांकि कोहली के अबतक के अंतरराष्ट्रीय करियर व...   \n",
       "\n",
       "                                            text_tokenize  \n",
       "0       [उनका, कहना, था, विदेशों, में, बहुत, काला, धन,...  \n",
       "1       [इस, सवाल, पर, कि, केंद्र, में, उनकी, सरकार, ह...  \n",
       "2                                          [मज़बूत, युआन]  \n",
       "3       [अमरीकी, कमांडर, एडमिरल, रोबर्ट, विलर्ड, ने, क...  \n",
       "4       [ब्रिटेन, सरकार, का, इरादा, इनकार, करने, का, न...  \n",
       "...                                                   ...  \n",
       "133259  [ग़ौरतलब, है, कि, अरब, लीग, के, 156, से, ज़्या...  \n",
       "133260  [वहीं, शिन्हुआ, के, विश्लेषण, में, कहा, गया, ह...  \n",
       "133261  [कौल, के, अनुसार, जब, कंपनी, के, पास, पैसे, न,...  \n",
       "133262  [डिपार्टमेंट, के, संगीत, एलबम, में, कुल, दस, ट...  \n",
       "133263  [हालांकि, कोहली, के, अबतक, के, अंतरराष्ट्रीय, ...  \n",
       "\n",
       "[133264 rows x 2 columns]"
      ]
     },
     "execution_count": 18,
     "metadata": {},
     "output_type": "execute_result"
    }
   ],
   "source": [
    "df"
   ]
  },
  {
   "cell_type": "code",
   "execution_count": 19,
   "metadata": {},
   "outputs": [],
   "source": [
    "from indicnlp.normalize.indic_normalize import IndicNormalizerFactory\n",
    "factory=IndicNormalizerFactory()\n",
    "normalizer=factory.get_normalizer(\"hi\",remove_nuktas=True,do_normalize_chandras=True)"
   ]
  },
  {
   "cell_type": "code",
   "execution_count": 20,
   "metadata": {},
   "outputs": [],
   "source": [
    "df['text_tokenize_normalize'] = df.text_tokenize.apply(lambda x:normalizer.normalize(' '.join(x)))\n",
    "df['text_tokenize_normalize'] = df.text_tokenize_normalize.apply(lambda x:indic_tokenize.trivial_tokenize(x))"
   ]
  },
  {
   "cell_type": "code",
   "execution_count": 22,
   "metadata": {},
   "outputs": [],
   "source": [
    "with open('..\\data\\\\bsr3frvvjc-1\\\\final_stopwords.txt','r',encoding='utf-8') as f:\n",
    "    lines = f.readlines()"
   ]
  },
  {
   "cell_type": "code",
   "execution_count": 25,
   "metadata": {},
   "outputs": [],
   "source": [
    "lines = [i[:-1] for i in lines]"
   ]
  },
  {
   "cell_type": "code",
   "execution_count": 26,
   "metadata": {},
   "outputs": [],
   "source": [
    "lines = [normalizer.normalize(i) for i in lines]"
   ]
  },
  {
   "cell_type": "code",
   "execution_count": 30,
   "metadata": {},
   "outputs": [
    {
     "data": {
      "text/plain": [
       "['मै',\n",
       " 'मुझक',\n",
       " 'मेर',\n",
       " 'अपने आप क',\n",
       " 'हमन',\n",
       " 'हमार',\n",
       " 'अपन',\n",
       " 'ह',\n",
       " 'आ',\n",
       " 'आपक',\n",
       " 'तुम्हार',\n",
       " 'अपने आ',\n",
       " 'स्वय',\n",
       " 'व',\n",
       " 'इस',\n",
       " 'उसक',\n",
       " 'खुद क',\n",
       " 'कि व',\n",
       " 'उसक',\n",
       " 'उसक',\n",
       " 'खुद ह',\n",
       " 'य',\n",
       " 'इसक',\n",
       " 'उन्होन',\n",
       " 'अपन',\n",
       " 'क्य',\n",
       " 'ज',\n",
       " 'किस',\n",
       " 'किसक',\n",
       " 'क',\n",
       " 'य',\n",
       " 'हू',\n",
       " 'होता ह',\n",
       " 'रह',\n",
       " 'थ',\n",
       " 'थ',\n",
       " 'होन',\n",
       " 'गय',\n",
       " 'किया जा रहा ह',\n",
       " 'किया ह',\n",
       " 'ह',\n",
       " 'पड',\n",
       " 'होन',\n",
       " 'करन',\n",
       " 'करता ह',\n",
       " 'किय',\n",
       " 'रह',\n",
       " 'ए',\n",
       " 'लेकि',\n",
       " 'अग',\n",
       " 'य',\n",
       " 'क्यूंक',\n",
       " 'जैस',\n",
       " 'जब त',\n",
       " 'जबक',\n",
       " 'क',\n",
       " 'प',\n",
       " 'द्वार',\n",
       " 'के लि',\n",
       " 'सा',\n",
       " 'के बारे मे',\n",
       " 'खिला',\n",
       " 'बी',\n",
       " 'मे',\n",
       " 'के माध्यम स',\n",
       " 'दौरा',\n",
       " 'से पहल',\n",
       " 'के बा',\n",
       " 'ऊप',\n",
       " 'नीच',\n",
       " 'क',\n",
       " 'स',\n",
       " 'त',\n",
       " 'से नीच',\n",
       " 'करने मे',\n",
       " 'निक',\n",
       " 'बं',\n",
       " 'से अधि',\n",
       " 'तह',\n",
       " 'दुबार',\n",
       " 'आग',\n",
       " 'फि',\n",
       " 'एक बा',\n",
       " 'यहा',\n",
       " 'वहा',\n",
       " 'क',\n",
       " 'कहा',\n",
       " 'क्यो',\n",
       " 'कैस',\n",
       " 'सार',\n",
       " 'किस',\n",
       " 'दोन',\n",
       " 'प्रत्ये',\n",
       " 'ज्याद',\n",
       " 'अधिकां',\n",
       " 'अन्',\n",
       " 'में कु',\n",
       " 'ऐस',\n",
       " 'में को',\n",
       " 'मात्',\n",
       " 'खु',\n",
       " 'समा',\n",
       " 'इसलि',\n",
       " 'बहु',\n",
       " 'सकत',\n",
       " 'जायेंग',\n",
       " 'जर',\n",
       " 'चाहि',\n",
       " 'अभ',\n",
       " 'औ',\n",
       " 'कर दिय',\n",
       " 'रखे',\n",
       " 'क',\n",
       " 'है',\n",
       " 'इ',\n",
       " 'होत',\n",
       " 'करन',\n",
       " 'न',\n",
       " 'बन',\n",
       " 'त',\n",
       " 'ह',\n",
       " 'ह',\n",
       " 'इसक',\n",
       " 'थ',\n",
       " 'हु',\n",
       " 'वाल',\n",
       " 'बा',\n",
       " 'लि',\n",
       " 'सकत',\n",
       " 'इसमे',\n",
       " 'द',\n",
       " 'व',\n",
       " 'करत',\n",
       " 'कह',\n",
       " 'वर्',\n",
       " 'क',\n",
       " 'करे',\n",
       " 'होत',\n",
       " 'अपन',\n",
       " 'उनक',\n",
       " 'यद',\n",
       " 'हु',\n",
       " 'ज',\n",
       " 'कहत',\n",
       " 'ज',\n",
       " 'होत',\n",
       " 'को',\n",
       " 'हु',\n",
       " '',\n",
       " 'जैस',\n",
       " 'सभ',\n",
       " 'करत',\n",
       " 'उनक',\n",
       " 'तर',\n",
       " 'उ',\n",
       " 'आद',\n",
       " 'इसक',\n",
       " 'उनक',\n",
       " 'इस',\n",
       " 'प',\n",
       " 'तथ',\n",
       " 'भ',\n",
       " 'परंत',\n",
       " 'इ',\n",
       " 'क',\n",
       " 'दू',\n",
       " 'पूर',\n",
       " 'गय',\n",
       " 'तु',\n",
       " 'म',\n",
       " 'यहा',\n",
       " 'हुय',\n",
       " 'कभ',\n",
       " 'अथव',\n",
       " 'गय',\n",
       " 'प्रत',\n",
       " 'जात',\n",
       " 'इन्हे',\n",
       " 'ग',\n",
       " 'अ',\n",
       " 'जिसमे',\n",
       " 'लिय',\n",
       " 'बड',\n",
       " 'जात',\n",
       " 'त',\n",
       " 'उस',\n",
       " 'जात',\n",
       " 'लेक',\n",
       " 'बड',\n",
       " 'दूसर',\n",
       " 'जान',\n",
       " 'बाह',\n",
       " 'स्था',\n",
       " 'उन्हें',\n",
       " 'ग',\n",
       " 'ऐस',\n",
       " 'जिसस',\n",
       " 'सम',\n",
       " 'दोनो',\n",
       " 'कि',\n",
       " 'रहत',\n",
       " 'इनक',\n",
       " 'इनक',\n",
       " 'इनक',\n",
       " 'सकत',\n",
       " 'आ',\n",
       " 'क',\n",
       " 'जिन्हे',\n",
       " 'जिन्हो',\n",
       " 'तिन्हे',\n",
       " 'तिन्हो',\n",
       " 'किन्हो',\n",
       " 'किन्हे',\n",
       " 'इत्याद',\n",
       " 'इन्हो',\n",
       " 'उन्हो',\n",
       " 'बिलकु',\n",
       " 'निहाय',\n",
       " 'इन्ही',\n",
       " 'उन्ही',\n",
       " 'जितन',\n",
       " 'दूसर',\n",
       " 'कितन',\n",
       " 'साबु',\n",
       " 'वगैर',\n",
       " 'कौनस',\n",
       " 'लिय',\n",
       " 'दिय',\n",
       " 'जिस',\n",
       " 'तिस',\n",
       " 'काफ',\n",
       " 'पहल',\n",
       " 'बाल',\n",
       " 'मान',\n",
       " 'अंद',\n",
       " 'भीत',\n",
       " 'पूर',\n",
       " 'सार',\n",
       " 'उनक',\n",
       " 'वही',\n",
       " 'जहा',\n",
       " 'जीध',\n",
       " 'क',\n",
       " 'एव',\n",
       " 'कु',\n",
       " 'कु',\n",
       " 'रह',\n",
       " 'जि',\n",
       " 'जि',\n",
       " 'ति',\n",
       " 'ति',\n",
       " 'कौ',\n",
       " 'कि',\n",
       " 'सं',\n",
       " 'यह',\n",
       " 'बह',\n",
       " 'उस',\n",
       " 'मग',\n",
       " 'क',\n",
       " 'म',\n",
       " 'ए',\n",
       " 'उ',\n",
       " 'स',\n",
       " 'अ']"
      ]
     },
     "execution_count": 30,
     "metadata": {},
     "output_type": "execute_result"
    }
   ],
   "source": [
    "lines"
   ]
  },
  {
   "cell_type": "code",
   "execution_count": 28,
   "metadata": {},
   "outputs": [],
   "source": [
    "df.text_tokenize = df.text_tokenize.apply(lambda x:' '.join(x))\n",
    "df.text_tokenize_normalize = df.text_tokenize_normalize.apply(lambda x:' '.join(x))"
   ]
  },
  {
   "cell_type": "code",
   "execution_count": 31,
   "metadata": {},
   "outputs": [],
   "source": [
    "from sklearn.feature_extraction.text import TfidfVectorizer\n",
    "tfidf = TfidfVectorizer(stop_words=lines)"
   ]
  },
  {
   "cell_type": "code",
   "execution_count": 32,
   "metadata": {},
   "outputs": [
    {
     "name": "stderr",
     "output_type": "stream",
     "text": [
      "c:\\Users\\snehi\\Desktop\\Learning\\.dev_env\\Lib\\site-packages\\sklearn\\feature_extraction\\text.py:408: UserWarning: Your stop_words may be inconsistent with your preprocessing. Tokenizing the stop words generated tokens ['अध', 'अन', 'आप', 'इत', 'इन', 'इसम', 'इसल', 'उन', 'एक', 'कर', 'जब', 'जह', 'झक', 'तन', 'नस', 'पर', 'यम', 'रख', 'रत', 'लक', 'वग', 'वय', 'वर', 'वह', 'सक', 'सर', 'सस', 'हम'] not in stop_words.\n",
      "  warnings.warn(\n"
     ]
    }
   ],
   "source": [
    "feature = tfidf.fit_transform(df.text_tokenize_normalize)"
   ]
  },
  {
   "cell_type": "code",
   "execution_count": 33,
   "metadata": {},
   "outputs": [
    {
     "data": {
      "text/plain": [
       "<133264x8425 sparse matrix of type '<class 'numpy.float64'>'\n",
       "\twith 1229411 stored elements in Compressed Sparse Row format>"
      ]
     },
     "execution_count": 33,
     "metadata": {},
     "output_type": "execute_result"
    }
   ],
   "source": [
    "feature"
   ]
  },
  {
   "cell_type": "code",
   "execution_count": 34,
   "metadata": {},
   "outputs": [],
   "source": [
    "# to get cosine similarity\n",
    "from sklearn.metrics.pairwise import linear_kernel\n",
    "def give_top_10_similar_movies(dz,text):\n",
    "    index = dz[dz.text_tokenize_normalize==text].index[0]\n",
    "    cosine_similarities = linear_kernel(feature[index:index+1], feature).flatten()\n",
    "    dz['similar'] = cosine_similarities\n",
    "    return dz.sort_values('similar',ascending=False)['text_tokenize_normalize'].head(10).to_list()\n"
   ]
  },
  {
   "cell_type": "code",
   "execution_count": 35,
   "metadata": {},
   "outputs": [
    {
     "data": {
      "text/plain": [
       "['कोलकाता नाइट राइडर्स और दिल्ली डेयरडेविल्स एक ही समूह में हैं इसी तरह चेन्नई सुपर किंग्स और मुंबई इंडियंस दूसरे समूह में हैं',\n",
       " 'इस जीत के साथ मुंबई इंडियंस तीसरे स्थान पर आ गया है जबकि दिल्ली डेयरडेविलस पहले और कोलकाता नाइट राइडर्स दूसरे स्थान पर है',\n",
       " 'डेल्ही डेयरडेविल्स कोलकाता नाइट राइडर्स और मुंबई इंडियंस की टीम पहले ही प्ले ओफ के लिए क्वालिफाई कर चुकी हैं',\n",
       " 'इंडियन प्रीमियर लीग आईपीएल की चार टीमें मुंबई इंडियंस चैन्नई सुपर किंग्स कोलकाता नाइट राइडर्स और दिल्ली डेयरडेविल्स भी इसमें हिस्सा ले रही हैं',\n",
       " 'मुख्य दौर के मुकाबले 13 अक्टूबर से शुरू होंगे भारत की चार टीमें मुख्य दौर में हैं जिनमें इंडियन प्रीमियर लीग की विजेता कोलकाता नाइट राइडर्स चेन्नई सुपर किंग्स मुंबई इंडियंस और दिल्ली डेयरडेविल्स शामिल हैं',\n",
       " 'पहले स्थान पर रही डेल्ही डेयरडेविल्स और दूसरे स्थान पर रही कोलकाता नाइट राइडर्स की टीम के बीच होने वाले मैच का विजेता तो फाइनल में पहुंच जाएगा लेकिन इस मैच में हारने वाले को एक मौका और मिलेगा',\n",
       " 'कोलकाता में हुए आईपीएल के एक मैच में डेल्ही डेयरडेविल्स ने कोलकाता नाइट राइडर्स को आठ विकेट से हरा दिया है',\n",
       " 'कोलकाता नाइट राइडर्स',\n",
       " 'आईपीएल 5 का दूसरा मैच गुरुवार को कोलकाता नाइट राइडर्स और डेल्ही डेयरडेविल्स के बीच कोलकाता के ईडन गार्डन्स मैदान पर खेला जाएगा',\n",
       " 'कोलकाता नाइट राइडर्स और डेल्ही डेयरडेविल्स के बीच मैच बहुत बढिया होने की उम्मीद है वो इसलिए नाइट राइडर्स ने पिछले साल बहुत बढिया क्रिकेट खेला और पहले तीन सीजन में जो उन्हें निराशा मिली थी उसे वो पिछले सीजन में काफी हद तक मिटा पाए']"
      ]
     },
     "execution_count": 35,
     "metadata": {},
     "output_type": "execute_result"
    }
   ],
   "source": [
    "give_top_10_similar_movies(df,df.loc[27833].text_tokenize_normalize)"
   ]
  },
  {
   "cell_type": "code",
   "execution_count": 39,
   "metadata": {},
   "outputs": [
    {
     "data": {
      "text/plain": [
       "['सोमवार को रूसी फुटबोल संघ ने एक बयान दारी कर कहा था पोलैंड में मौजूद सभी रूसी फुटबोल समर्थकों से हम अनुरोध करते हैं कि वे इस बात का ख्याल रखें कि वे रूस का प्रतिनिधित्व करते हैं कृपया आप अपना अपने देश और अपनी टीम सम्मान करें',\n",
       " 'पार्टी में गुटबाजी न करें',\n",
       " 'भारतीय फुटबोल प्रेमियों के बीच डिडिए ड्रोग्बा',\n",
       " 'घोटाले और गुटबाजी',\n",
       " 'बास्केटबोल',\n",
       " 'भिडे फुटबोल फैन',\n",
       " 'फुटबोल',\n",
       " 'गुटबाजी',\n",
       " 'सोफ्टबोल',\n",
       " 'कौन होगा यूरोपीय फुटबोल का किंग']"
      ]
     },
     "execution_count": 39,
     "metadata": {},
     "output_type": "execute_result"
    }
   ],
   "source": [
    "give_top_10_similar_movies(df,df.loc[1200].text_tokenize_normalize)"
   ]
  },
  {
   "cell_type": "code",
   "execution_count": null,
   "metadata": {},
   "outputs": [],
   "source": []
  }
 ],
 "metadata": {
  "kernelspec": {
   "display_name": ".venv",
   "language": "python",
   "name": "python3"
  },
  "language_info": {
   "codemirror_mode": {
    "name": "ipython",
    "version": 3
   },
   "file_extension": ".py",
   "mimetype": "text/x-python",
   "name": "python",
   "nbconvert_exporter": "python",
   "pygments_lexer": "ipython3",
   "version": "3.11.9"
  },
  "orig_nbformat": 4
 },
 "nbformat": 4,
 "nbformat_minor": 2
}
