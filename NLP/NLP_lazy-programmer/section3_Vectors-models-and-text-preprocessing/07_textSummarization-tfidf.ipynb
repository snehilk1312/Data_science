{
 "cells": [
  {
   "cell_type": "code",
   "execution_count": 467,
   "metadata": {},
   "outputs": [],
   "source": [
    "import pandas as pd\n",
    "from sklearn.feature_extraction.text import TfidfVectorizer\n",
    "import nltk\n",
    "import re\n",
    "import numpy as np\n",
    "import string\n",
    "import warnings\n",
    "# hide warnings\n",
    "warnings.filterwarnings('ignore')"
   ]
  },
  {
   "cell_type": "code",
   "execution_count": 468,
   "metadata": {},
   "outputs": [],
   "source": [
    "df = pd.read_csv('../data/bbc_text_cls.csv')"
   ]
  },
  {
   "cell_type": "code",
   "execution_count": 469,
   "metadata": {},
   "outputs": [
    {
     "data": {
      "text/plain": [
       "1292      502\n",
       "1561      720\n",
       "1503      725\n",
       "1515      728\n",
       "1568      741\n",
       "        ...  \n",
       "1188    13828\n",
       "2224    16159\n",
       "1275    18388\n",
       "762     19137\n",
       "1185    25484\n",
       "Name: text, Length: 2225, dtype: int64"
      ]
     },
     "execution_count": 469,
     "metadata": {},
     "output_type": "execute_result"
    }
   ],
   "source": [
    "df.text.apply(lambda x:len(x)).sort_values()"
   ]
  },
  {
   "cell_type": "code",
   "execution_count": 470,
   "metadata": {},
   "outputs": [],
   "source": [
    "article = df.loc[1185, 'text']"
   ]
  },
  {
   "cell_type": "code",
   "execution_count": 471,
   "metadata": {},
   "outputs": [],
   "source": [
    "def custom_tokenizer(doc):\n",
    "    # tokenize using nltk\n",
    "    doc = nltk.word_tokenize(doc) # string got tokenized - like split()\n",
    "    doc = [i for i in doc if i not in string.punctuation]\n",
    "    return doc\n",
    "\n",
    "tfidf = TfidfVectorizer(stop_words='english',analyzer='word',lowercase=True,tokenizer=custom_tokenizer)"
   ]
  },
  {
   "cell_type": "code",
   "execution_count": 472,
   "metadata": {},
   "outputs": [],
   "source": [
    "article = re.sub(r'\\n+','. ',article)"
   ]
  },
  {
   "cell_type": "code",
   "execution_count": 473,
   "metadata": {},
   "outputs": [],
   "source": [
    "sents = nltk.sent_tokenize(article)"
   ]
  },
  {
   "cell_type": "code",
   "execution_count": 474,
   "metadata": {},
   "outputs": [],
   "source": [
    "sent_df = pd.DataFrame({'Sentences':sents})"
   ]
  },
  {
   "cell_type": "code",
   "execution_count": 475,
   "metadata": {},
   "outputs": [
    {
     "data": {
      "text/html": [
       "<div>\n",
       "<style scoped>\n",
       "    .dataframe tbody tr th:only-of-type {\n",
       "        vertical-align: middle;\n",
       "    }\n",
       "\n",
       "    .dataframe tbody tr th {\n",
       "        vertical-align: top;\n",
       "    }\n",
       "\n",
       "    .dataframe thead th {\n",
       "        text-align: right;\n",
       "    }\n",
       "</style>\n",
       "<table border=\"1\" class=\"dataframe\">\n",
       "  <thead>\n",
       "    <tr style=\"text-align: right;\">\n",
       "      <th></th>\n",
       "      <th>Sentences</th>\n",
       "    </tr>\n",
       "  </thead>\n",
       "  <tbody>\n",
       "    <tr>\n",
       "      <th>0</th>\n",
       "      <td>Terror powers expose 'tyranny'.</td>\n",
       "    </tr>\n",
       "    <tr>\n",
       "      <th>1</th>\n",
       "      <td>The Lord Chancellor has defended government pl...</td>\n",
       "    </tr>\n",
       "    <tr>\n",
       "      <th>2</th>\n",
       "      <td>But thriller writer Frederick Forsyth tells BB...</td>\n",
       "    </tr>\n",
       "    <tr>\n",
       "      <th>3</th>\n",
       "      <td>There is a mortal danger aimed at the heart of...</td>\n",
       "    </tr>\n",
       "    <tr>\n",
       "      <th>4</th>\n",
       "      <td>Or so says Home Secretary Charles Clarke.</td>\n",
       "    </tr>\n",
       "  </tbody>\n",
       "</table>\n",
       "</div>"
      ],
      "text/plain": [
       "                                           Sentences\n",
       "0                    Terror powers expose 'tyranny'.\n",
       "1  The Lord Chancellor has defended government pl...\n",
       "2  But thriller writer Frederick Forsyth tells BB...\n",
       "3  There is a mortal danger aimed at the heart of...\n",
       "4          Or so says Home Secretary Charles Clarke."
      ]
     },
     "execution_count": 475,
     "metadata": {},
     "output_type": "execute_result"
    }
   ],
   "source": [
    "sent_df.head()"
   ]
  },
  {
   "cell_type": "code",
   "execution_count": 476,
   "metadata": {},
   "outputs": [
    {
     "data": {
      "text/plain": [
       "<233x1102 sparse matrix of type '<class 'numpy.float64'>'\n",
       "\twith 2071 stored elements in Compressed Sparse Row format>"
      ]
     },
     "execution_count": 476,
     "metadata": {},
     "output_type": "execute_result"
    }
   ],
   "source": [
    "feature = tfidf.fit_transform(sent_df.Sentences)\n",
    "feature"
   ]
  },
  {
   "cell_type": "code",
   "execution_count": 477,
   "metadata": {},
   "outputs": [],
   "source": [
    "feature_matrix = feature.todense()"
   ]
  },
  {
   "cell_type": "code",
   "execution_count": 478,
   "metadata": {},
   "outputs": [],
   "source": [
    "# def avg_calculator(x):\n",
    "#     x = x.tolist()[0]\n",
    "#     x = [j for j in x if j>0]\n",
    "#     x = sum(x)/len(x)\n",
    "#     return x\n",
    "# [avg_calculator(i) for  i in feature_matrix]\n"
   ]
  },
  {
   "cell_type": "code",
   "execution_count": 479,
   "metadata": {},
   "outputs": [],
   "source": [
    "sent_df['score'] = np.true_divide(feature_matrix.sum(1),(feature_matrix!=0).sum(1)).tolist()"
   ]
  },
  {
   "cell_type": "code",
   "execution_count": 480,
   "metadata": {},
   "outputs": [],
   "source": [
    "sent_df.score = sent_df.score.apply(lambda x:x[0])"
   ]
  },
  {
   "cell_type": "code",
   "execution_count": 481,
   "metadata": {},
   "outputs": [
    {
     "data": {
      "text/html": [
       "<div>\n",
       "<style scoped>\n",
       "    .dataframe tbody tr th:only-of-type {\n",
       "        vertical-align: middle;\n",
       "    }\n",
       "\n",
       "    .dataframe tbody tr th {\n",
       "        vertical-align: top;\n",
       "    }\n",
       "\n",
       "    .dataframe thead th {\n",
       "        text-align: right;\n",
       "    }\n",
       "</style>\n",
       "<table border=\"1\" class=\"dataframe\">\n",
       "  <thead>\n",
       "    <tr style=\"text-align: right;\">\n",
       "      <th></th>\n",
       "      <th>Sentences</th>\n",
       "      <th>score</th>\n",
       "    </tr>\n",
       "  </thead>\n",
       "  <tbody>\n",
       "    <tr>\n",
       "      <th>32</th>\n",
       "      <td>That was why the tyrants lost.</td>\n",
       "      <td>0.707107</td>\n",
       "    </tr>\n",
       "    <tr>\n",
       "      <th>64</th>\n",
       "      <td>The threat now is new.</td>\n",
       "      <td>0.706659</td>\n",
       "    </tr>\n",
       "    <tr>\n",
       "      <th>195</th>\n",
       "      <td>Who will support their families?</td>\n",
       "      <td>0.705663</td>\n",
       "    </tr>\n",
       "    <tr>\n",
       "      <th>190</th>\n",
       "      <td>Who is to decide whom is a suspect?</td>\n",
       "      <td>0.705663</td>\n",
       "    </tr>\n",
       "    <tr>\n",
       "      <th>196</th>\n",
       "      <td>Will their children still go to school?</td>\n",
       "      <td>0.704484</td>\n",
       "    </tr>\n",
       "    <tr>\n",
       "      <th>...</th>\n",
       "      <td>...</td>\n",
       "      <td>...</td>\n",
       "    </tr>\n",
       "    <tr>\n",
       "      <th>98</th>\n",
       "      <td>We are sleep-walking into this.</td>\n",
       "      <td>NaN</td>\n",
       "    </tr>\n",
       "    <tr>\n",
       "      <th>99</th>\n",
       "      <td>Wake up!.</td>\n",
       "      <td>NaN</td>\n",
       "    </tr>\n",
       "    <tr>\n",
       "      <th>115</th>\n",
       "      <td>Where will this end.</td>\n",
       "      <td>NaN</td>\n",
       "    </tr>\n",
       "    <tr>\n",
       "      <th>124</th>\n",
       "      <td>It is to you and I.</td>\n",
       "      <td>NaN</td>\n",
       "    </tr>\n",
       "    <tr>\n",
       "      <th>191</th>\n",
       "      <td>Why should we believe them?</td>\n",
       "      <td>NaN</td>\n",
       "    </tr>\n",
       "  </tbody>\n",
       "</table>\n",
       "<p>233 rows × 2 columns</p>\n",
       "</div>"
      ],
      "text/plain": [
       "                                   Sentences     score\n",
       "32            That was why the tyrants lost.  0.707107\n",
       "64                    The threat now is new.  0.706659\n",
       "195         Who will support their families?  0.705663\n",
       "190      Who is to decide whom is a suspect?  0.705663\n",
       "196  Will their children still go to school?  0.704484\n",
       "..                                       ...       ...\n",
       "98           We are sleep-walking into this.       NaN\n",
       "99                                 Wake up!.       NaN\n",
       "115                     Where will this end.       NaN\n",
       "124                      It is to you and I.       NaN\n",
       "191              Why should we believe them?       NaN\n",
       "\n",
       "[233 rows x 2 columns]"
      ]
     },
     "execution_count": 481,
     "metadata": {},
     "output_type": "execute_result"
    }
   ],
   "source": [
    "# sent_df[sent_df==1] are the cases which are very small sentences , like 1 or 2 words and aren't important without previous or next sentences\n",
    "# so removing them\n",
    "sent_df[sent_df!=1].sort_values('score',ascending=False)"
   ]
  },
  {
   "cell_type": "code",
   "execution_count": 482,
   "metadata": {},
   "outputs": [],
   "source": [
    "sent_max = sent_df[sent_df!=1].sort_values('score',ascending=False).head(int(0.3*len(sent_df)))"
   ]
  },
  {
   "cell_type": "code",
   "execution_count": 483,
   "metadata": {},
   "outputs": [
    {
     "data": {
      "text/html": [
       "<div>\n",
       "<style scoped>\n",
       "    .dataframe tbody tr th:only-of-type {\n",
       "        vertical-align: middle;\n",
       "    }\n",
       "\n",
       "    .dataframe tbody tr th {\n",
       "        vertical-align: top;\n",
       "    }\n",
       "\n",
       "    .dataframe thead th {\n",
       "        text-align: right;\n",
       "    }\n",
       "</style>\n",
       "<table border=\"1\" class=\"dataframe\">\n",
       "  <thead>\n",
       "    <tr style=\"text-align: right;\">\n",
       "      <th></th>\n",
       "      <th>Sentences</th>\n",
       "      <th>score</th>\n",
       "    </tr>\n",
       "  </thead>\n",
       "  <tbody>\n",
       "    <tr>\n",
       "      <th>0</th>\n",
       "      <td>Terror powers expose 'tyranny'.</td>\n",
       "      <td>0.497685</td>\n",
       "    </tr>\n",
       "    <tr>\n",
       "      <th>3</th>\n",
       "      <td>There is a mortal danger aimed at the heart of...</td>\n",
       "      <td>0.445245</td>\n",
       "    </tr>\n",
       "    <tr>\n",
       "      <th>4</th>\n",
       "      <td>Or so says Home Secretary Charles Clarke.</td>\n",
       "      <td>0.446220</td>\n",
       "    </tr>\n",
       "    <tr>\n",
       "      <th>7</th>\n",
       "      <td>It is not that I am cynical or just do not care.</td>\n",
       "      <td>0.573720</td>\n",
       "    </tr>\n",
       "    <tr>\n",
       "      <th>8</th>\n",
       "      <td>I care about this country very much..</td>\n",
       "      <td>0.556704</td>\n",
       "    </tr>\n",
       "    <tr>\n",
       "      <th>...</th>\n",
       "      <td>...</td>\n",
       "      <td>...</td>\n",
       "    </tr>\n",
       "    <tr>\n",
       "      <th>211</th>\n",
       "      <td>I agree with Mr Forsyth.</td>\n",
       "      <td>0.574676</td>\n",
       "    </tr>\n",
       "    <tr>\n",
       "      <th>213</th>\n",
       "      <td>The facts turned out to be very different.</td>\n",
       "      <td>0.576345</td>\n",
       "    </tr>\n",
       "    <tr>\n",
       "      <th>215</th>\n",
       "      <td>We become animals too..</td>\n",
       "      <td>0.662352</td>\n",
       "    </tr>\n",
       "    <tr>\n",
       "      <th>223</th>\n",
       "      <td>They have arrived at their own interpretations...</td>\n",
       "      <td>0.447031</td>\n",
       "    </tr>\n",
       "    <tr>\n",
       "      <th>224</th>\n",
       "      <td>On top of that, they claim to be following Isl...</td>\n",
       "      <td>0.445973</td>\n",
       "    </tr>\n",
       "  </tbody>\n",
       "</table>\n",
       "<p>69 rows × 2 columns</p>\n",
       "</div>"
      ],
      "text/plain": [
       "                                             Sentences     score\n",
       "0                      Terror powers expose 'tyranny'.  0.497685\n",
       "3    There is a mortal danger aimed at the heart of...  0.445245\n",
       "4            Or so says Home Secretary Charles Clarke.  0.446220\n",
       "7     It is not that I am cynical or just do not care.  0.573720\n",
       "8                I care about this country very much..  0.556704\n",
       "..                                                 ...       ...\n",
       "211                           I agree with Mr Forsyth.  0.574676\n",
       "213         The facts turned out to be very different.  0.576345\n",
       "215                            We become animals too..  0.662352\n",
       "223  They have arrived at their own interpretations...  0.447031\n",
       "224  On top of that, they claim to be following Isl...  0.445973\n",
       "\n",
       "[69 rows x 2 columns]"
      ]
     },
     "execution_count": 483,
     "metadata": {},
     "output_type": "execute_result"
    }
   ],
   "source": [
    "sent_max.sort_index()"
   ]
  },
  {
   "cell_type": "code",
   "execution_count": 484,
   "metadata": {},
   "outputs": [],
   "source": [
    "text_summarized = '\\n'.join(sent_max.sort_index().Sentences.to_list())"
   ]
  },
  {
   "cell_type": "code",
   "execution_count": 485,
   "metadata": {},
   "outputs": [
    {
     "data": {
      "text/plain": [
       "'Terror powers expose \\'tyranny\\'.\\nThere is a mortal danger aimed at the heart of Britain.\\nOr so says Home Secretary Charles Clarke.\\nIt is not that I am cynical or just do not care.\\nI care about this country very much..\\nMy point is, the British have always coped without becoming a dictatorship.\\nI was born on 25 August, 1938.\\nA week after my first birthday, the threat had become reality.\\nMy father wore a uniform for five years.\\nAfter 1945 we yearned for peace at last.\\nBehind the Iron Curtain, another genocidal psychopath, another threat.\\nWe built shelters that would have sheltered nothing.\\nWe spent our treasure on weapons instead of hospitals.\\nWe took silly precautions.\\nSome fought it; some marched futilely against it.\\nBy the early seventies it was terrorism as well.\\nThat was why the tyrants lost.\\nCivil rights were infringed as little as humanly possible.\\nNow the threat is Islamic fundamentalism.\\nIt is based and funded abroad; so was the IRA.\\nIt is extremely hard to penetrate with our agents; so was the IRA.\\nTo be protected from terror the government says, we must become a tyranny.\\nBut a tyranny is based on the citizen\\'s terror.\\nI agree with Frederick Forsyth.\\nWhat we really need is more honesty from our security services and our politicians.\\nRemember there were no WMD in Iraq.\\nThe threat now is new.\\nYou cannot compare the threats of past years with now.\\nWhilst life wasn\\'t perfect, we could make better for ourselves.\\nNow we are riddled with red tape and be told what we can or cannot do.\\nWe have to be politically-correct and we are not allowed to have beliefs or opinions.\\nThe terrorists have already won..\\nI absolutely agree with Frederick Forsyth.\\nYes we have to defend ourselves against terrorism but existing laws seem to be more than adequate.\\nThe evidence of any real terrorist capability in the UK is scant.\\nI agree wholeheartedly with Mr Forsyth.\\nThe government is seeking to introduce a police state.\\nWe won\\'t have much of a society left to debate !.\\nHe\\'s correct in most of what he says.\\nHe also forgets basic Human Rights were suspended then as now.\\nFor very little return and maximum alienation.\\nThe nature of the current threat is new.\\nThe terrorist aim to kill indiscriminately.\\nThe best comparison is therefore the blitz, 1941.\\nWe must not forget we are at war..\\nI agree wholeheartedly with Mr Forsyth.\\nIt should be of great concern to everyone..\\nI am against a police state and would not like to think that I lived in one.\\nI am reminded of a quote attributed to Thomas Jefferson.\\n\"A nation that limits freedom in the name of security will have neither.\".\\nI agree absolutely.\\nI do not usually agree with Mr. Forsyth, but he is spot on here.\\nI do not believe the government\\'s plans are justified.\\nLike New Labour, he called himself a libertarian.\\nHobbes has been roundly condemned by posterity, and rightly so.\\nI agree with Mr Forsyth\\'s views.\\nWho is to decide whom is a suspect?\\nWhat is to stop false denunciations?\\nWhat of those falsely accused who will lose their careers?\\nWho will support their families?\\nWill their children still go to school?\\nBut history has shown that if you have laws like that, they always get abused by those in power.\\nAfter all, today you may be scared of the same people as those in power but someday those in power may be scared of you!\\nAnd that day, you\\'ll be the one imprisoned without the chance of justice.\\nI agree with Mr Forsyth.\\nThe facts turned out to be very different.\\nWe become animals too..\\nThey have arrived at their own interpretations and assumptions with regards their actions.\\nOn top of that, they claim to be following Islam in its true form!.'"
      ]
     },
     "execution_count": 485,
     "metadata": {},
     "output_type": "execute_result"
    }
   ],
   "source": [
    "text_summarized"
   ]
  },
  {
   "cell_type": "code",
   "execution_count": 486,
   "metadata": {},
   "outputs": [],
   "source": [
    "# creating a article summarizer function\n",
    "\n",
    "def summarize_aricle(text):\n",
    "    text = re.sub(r'\\n+','. ',text)\n",
    "    sents = nltk.sent_tokenize(text)\n",
    "    sent_df = pd.DataFrame({'Sentences':sents})\n",
    "    feature = tfidf.fit_transform(sent_df.Sentences)\n",
    "    feature_matrix = feature.todense()\n",
    "    sent_df['score'] = np.true_divide(feature_matrix.sum(1),(feature_matrix!=0).sum(1)).tolist()\n",
    "    sent_df.score = sent_df.score.apply(lambda x:x[0])\n",
    "    sent_df[sent_df!=1].sort_values('score',ascending=False)\n",
    "    sent_max = sent_df[sent_df!=1].sort_values('score',ascending=False).head(int(0.3*len(sent_df)))\n",
    "    sent_max.sort_index()\n",
    "    text_summarized = '\\n'.join(sent_max.sort_index().Sentences.to_list())\n",
    "    return text_summarized"
   ]
  },
  {
   "attachments": {},
   "cell_type": "markdown",
   "metadata": {},
   "source": [
    "### `Using the function`"
   ]
  },
  {
   "cell_type": "code",
   "execution_count": 487,
   "metadata": {},
   "outputs": [
    {
     "name": "stdout",
     "output_type": "stream",
     "text": [
      "Ad sales boost Time Warner profit\n",
      "\n",
      "Quarterly profits at US media giant TimeWarner jumped 76% to $1.13bn (£600m) for the three months to December, from $639m year-earlier.\n",
      "\n",
      "The firm, which is now one of the biggest investors in Google, benefited from sales of high-speed internet connections and higher advert sales. TimeWarner said fourth quarter sales rose 2% to $11.1bn from $10.9bn. Its profits were buoyed by one-off gains which offset a profit dip at Warner Bros, and less users for AOL.\n",
      "\n",
      "Time Warner said on Friday that it now owns 8% of search-engine Google. But its own internet business, AOL, had has mixed fortunes. It lost 464,000 subscribers in the fourth quarter profits were lower than in the preceding three quarters. However, the company said AOL's underlying profit before exceptional items rose 8% on the back of stronger internet advertising revenues. It hopes to increase subscribers by offering the online service free to TimeWarner internet customers and will try to sign up AOL's existing customers for high-speed broadband. TimeWarner also has to restate 2000 and 2003 results following a probe by the US Securities Exchange Commission (SEC), which is close to concluding.\n",
      "\n",
      "Time Warner's fourth quarter profits were slightly better than analysts' expectations. But its film division saw profits slump 27% to $284m, helped by box-office flops Alexander and Catwoman, a sharp contrast to year-earlier, when the third and final film in the Lord of the Rings trilogy boosted results. For the full-year, TimeWarner posted a profit of $3.36bn, up 27% from its 2003 performance, while revenues grew 6.4% to $42.09bn. \"Our financial performance was strong, meeting or exceeding all of our full-year objectives and greatly enhancing our flexibility,\" chairman and chief executive Richard Parsons said. For 2005, TimeWarner is projecting operating earnings growth of around 5%, and also expects higher revenue and wider profit margins.\n",
      "\n",
      "TimeWarner is to restate its accounts as part of efforts to resolve an inquiry into AOL by US market regulators. It has already offered to pay $300m to settle charges, in a deal that is under review by the SEC. The company said it was unable to estimate the amount it needed to set aside for legal reserves, which it previously set at $500m. It intends to adjust the way it accounts for a deal with German music publisher Bertelsmann's purchase of a stake in AOL Europe, which it had reported as advertising revenue. It will now book the sale of its stake in AOL Europe as a loss on the value of that stake.\n"
     ]
    }
   ],
   "source": [
    "print(df.loc[0, 'text'])"
   ]
  },
  {
   "cell_type": "code",
   "execution_count": 488,
   "metadata": {},
   "outputs": [
    {
     "name": "stdout",
     "output_type": "stream",
     "text": [
      "Ad sales boost Time Warner profit.\n",
      "But its own internet business, AOL, had has mixed fortunes.\n",
      "It lost 464,000 subscribers in the fourth quarter profits were lower than in the preceding three quarters.\n",
      "It has already offered to pay $300m to settle charges, in a deal that is under review by the SEC.\n",
      "It will now book the sale of its stake in AOL Europe as a loss on the value of that stake.\n"
     ]
    }
   ],
   "source": [
    "summarized = summarize_aricle(df.loc[0, 'text'])\n",
    "print(summarized)"
   ]
  },
  {
   "cell_type": "code",
   "execution_count": 489,
   "metadata": {},
   "outputs": [],
   "source": [
    "article=\"\"\"\n",
    "Satya Narayana Nadella (Telugu: నాదెళ్ల సత్యనారాయణ, /nəˈdɛlə/; born 19 August 1967) is an Indian-American business executive.He is the executive chairman and CEO of Microsoft, succeeding Steve Ballmer in 2014 as CEO and John W. Thompson in 2021 as chairman. Before becoming CEO, he was the executive vice president of Microsoft's cloud and enterprise group, responsible for building and running the company's computing platforms.\n",
    "Nadella was born in Hyderabad in Andhra Pradesh state, India into a Telugu-speaking Hindu family. His mother Prabhavati was a Sanskrit lecturer and his father, Bukkapuram Nadella Yugandhar, was an Indian Administrative Service officer of the 1962 batch. Yugandhar hailed from Bukkapuram in Anantapur district of Andhra Pradesh. Yugandhar's father migrated from Nadella village in Guntur district of Andhra Pradesh to Bukkapuram.\n",
    "Satya Nadella attended the Hyderabad Public School, Begumpet before receiving a bachelor's in electrical engineering from the Manipal Institute of Technology in Karnataka in 1988. Nadella then traveled to the U.S. to study for an MS in computer science at the University of Wisconsin–Milwaukee, receiving his degree in 1990. Later, he received an MBA from the University of Chicago Booth School of Business in 1997.\n",
    "Nadella worked at Sun Microsystems as a member of its technology staff before joining Microsoft in 1992.\n",
    "At Microsoft, Nadella has led major projects that included the company's move to cloud computing and the development of one of the largest cloud infrastructures in the world.\n",
    "Nadella worked as the senior vice-president of research and development (R&D) for the Online Services Division and vice-president of the Microsoft Business Division. Later, he was made the president of Microsoft's $19 billion Server and Tools Business and led a transformation of the company's business and technology culture from client services to cloud infrastructure and services. He has been credited for helping bring Microsoft's database, Windows Server and developer tools to its Azure cloud. The revenue from Cloud Services grew to $20.3 billion in June 2013 from $16.6 billion when he took over in 2011. He received $84.5 million in 2016 pay.\n",
    "\n",
    "In 2013, Nadella's base salary was reportedly $669,167. Including stock bonuses, the total compensation stood at around $7.6 million.\n",
    "\n",
    "Previous positions held by Nadella include:President of the Server & Tools Division (9 February 2011 – February 2014),Senior Vice-president of Research and Development for the Online Services Division (March 2007 – February 2011),Vice-president of the Business Division,Corporate Vice-president of Business Solutions and Search & Advertising Platform Group,Executive Vice-president of Cloud and Enterprise group\n",
    "\n",
    "\n",
    "On 4 February 2014, Nadella was announced as the new CEO of Microsoft, the third CEO in the company's history, following Bill Gates and Steve Ballmer.\n",
    "\n",
    "In October 2014, Nadella attended an event on Women in Computing and courted controversy after he made a statement that women should not ask for a raise and should trust the system. Nadella was criticised for the statement and he later apologized on Twitter. He then sent an email to Microsoft employees admitting he was \"Completely wrong.\"\n",
    "Nadella leads a live discussion on Microsoft's cloud strategy in 2014 in San Francisco.\n",
    "\n",
    "Nadella's tenure at Microsoft has emphasized working with companies and technologies with which Microsoft also competes, including Apple Inc., Salesforce, IBM, and Dropbox. In contrast to previous Microsoft campaigns against the Linux operating system, Nadella proclaimed that \"Microsoft ❤️ Linux\", and Microsoft joined the Linux Foundation as a Platinum member in 2016.\n",
    "\n",
    "Under Nadella, Microsoft revised its mission statement to \"empower every person and every organization on the planet to achieve more\". He orchestrated a cultural shift at Microsoft by emphasizing empathy, collaboration, and 'growth mindset'. He has transformed Microsoft's corporate culture into one that emphasizes continual learning and growth.\n",
    "\n",
    "In 2014, Nadella's first acquisition with Microsoft was of Mojang, a Swedish game company best known for the computer game Minecraft, for $2.5 billion. He followed that by purchasing Xamarin for an undisclosed amount. He oversaw the purchase of professional network LinkedIn in 2016 for $26.2 billion. On October 26, 2018, Microsoft acquired GitHub for US$7.5 billion.\n",
    "\n",
    "Since Nadella became CEO, Microsoft stock had tripled by September 2018, with a 27% annual growth rate.\n",
    "\n",
    "In 2018, he was a Time 100 honoree.\n",
    "\n",
    "In 2019, Nadella was named Financial Times Person of the Year and Fortune magazine Businessperson of the Year.\n",
    "\n",
    "In 2020, Nadella was recognized as Global Indian Business Icon at CNBC-TV18's India Business Leader Awards in Mumbai.\n",
    "\n",
    "In 2022, Nadella was awarded Padma Bhushan, the third highest civilian award in India by the Government of India.\n",
    "\n",
    "In 1992, Nadella married Anupama, the daughter of his father's IAS batchmate. She was his junior at Manipal pursuing a B.Arch in the Faculty of Architecture. The couple had three children, a son and two daughters, and live in Clyde Hill and Bellevue, Washington. His son Zain was a legally blind quadriplegic with cerebral palsy. Zain died in February 2022, at the age of 26.\n",
    "\n",
    "Nadella is an avid reader of American and Indian poetry. He also nurses a passion for cricket, having played on his school team. Nadella and his wife Anupama are part of the ownership group of Seattle Sounders FC, a Major League Soccer club.\n",
    "\n",
    "Nadella has authored a book titled Hit Refresh that explores his life, his career in Microsoft and how he believes technology will shape the future. He announced that the profits from the book would go to Microsoft Philanthropies and through that to nonprofit organizations. \"\"\""
   ]
  },
  {
   "cell_type": "code",
   "execution_count": 490,
   "metadata": {},
   "outputs": [
    {
     "name": "stdout",
     "output_type": "stream",
     "text": [
      "Yugandhar hailed from Bukkapuram in Anantapur district of Andhra Pradesh.\n",
      "He received $84.5 million in 2016 pay..\n",
      "In 2013, Nadella's base salary was reportedly $669,167.\n",
      "Nadella was criticised for the statement and he later apologized on Twitter.\n",
      "He then sent an email to Microsoft employees admitting he was \"Completely wrong.\".\n",
      "He followed that by purchasing Xamarin for an undisclosed amount.\n",
      "He oversaw the purchase of professional network LinkedIn in 2016 for $26.2 billion.\n",
      "In 2018, he was a Time 100 honoree..\n",
      "She was his junior at Manipal pursuing a B.Arch in the Faculty of Architecture.\n",
      "His son Zain was a legally blind quadriplegic with cerebral palsy.\n",
      "He also nurses a passion for cricket, having played on his school team.\n",
      "He announced that the profits from the book would go to Microsoft Philanthropies and through that to nonprofit organizations.\n"
     ]
    }
   ],
   "source": [
    "summarized = summarize_aricle(article)\n",
    "print(summarized)"
   ]
  },
  {
   "cell_type": "code",
   "execution_count": null,
   "metadata": {},
   "outputs": [],
   "source": []
  }
 ],
 "metadata": {
  "kernelspec": {
   "display_name": ".venv",
   "language": "python",
   "name": "python3"
  },
  "language_info": {
   "codemirror_mode": {
    "name": "ipython",
    "version": 3
   },
   "file_extension": ".py",
   "mimetype": "text/x-python",
   "name": "python",
   "nbconvert_exporter": "python",
   "pygments_lexer": "ipython3",
   "version": "3.8.10"
  },
  "orig_nbformat": 4
 },
 "nbformat": 4,
 "nbformat_minor": 2
}
