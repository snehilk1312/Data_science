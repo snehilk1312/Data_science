{
 "cells": [
  {
   "cell_type": "code",
   "execution_count": 212,
   "metadata": {},
   "outputs": [],
   "source": [
    "import numpy as np\n",
    "a=np.array([[9.0,8.0,7.0],[6.0,5.0,4.0]],dtype='int32')"
   ]
  },
  {
   "cell_type": "code",
   "execution_count": 213,
   "metadata": {},
   "outputs": [
    {
     "name": "stdout",
     "output_type": "stream",
     "text": [
      "[[9 8 7]\n",
      " [6 5 4]]\n"
     ]
    }
   ],
   "source": [
    "print(a)"
   ]
  },
  {
   "cell_type": "code",
   "execution_count": 214,
   "metadata": {},
   "outputs": [
    {
     "data": {
      "text/plain": [
       "2"
      ]
     },
     "execution_count": 214,
     "metadata": {},
     "output_type": "execute_result"
    }
   ],
   "source": [
    "#Get Dimension\n",
    "a.ndim"
   ]
  },
  {
   "cell_type": "code",
   "execution_count": 215,
   "metadata": {},
   "outputs": [
    {
     "data": {
      "text/plain": [
       "(2, 3)"
      ]
     },
     "execution_count": 215,
     "metadata": {},
     "output_type": "execute_result"
    }
   ],
   "source": [
    "a.shape"
   ]
  },
  {
   "cell_type": "code",
   "execution_count": 216,
   "metadata": {},
   "outputs": [
    {
     "data": {
      "text/plain": [
       "dtype('int32')"
      ]
     },
     "execution_count": 216,
     "metadata": {},
     "output_type": "execute_result"
    }
   ],
   "source": [
    "#Get Type\n",
    "type(a)\n",
    "a.dtype"
   ]
  },
  {
   "cell_type": "code",
   "execution_count": 217,
   "metadata": {},
   "outputs": [
    {
     "data": {
      "text/plain": [
       "4"
      ]
     },
     "execution_count": 217,
     "metadata": {},
     "output_type": "execute_result"
    }
   ],
   "source": [
    "a.itemsize"
   ]
  },
  {
   "cell_type": "code",
   "execution_count": 218,
   "metadata": {},
   "outputs": [
    {
     "data": {
      "text/plain": [
       "24"
      ]
     },
     "execution_count": 218,
     "metadata": {},
     "output_type": "execute_result"
    }
   ],
   "source": [
    "#Get Total Size\n",
    "a.size*a.itemsize"
   ]
  },
  {
   "cell_type": "code",
   "execution_count": 219,
   "metadata": {},
   "outputs": [
    {
     "data": {
      "text/plain": [
       "24"
      ]
     },
     "execution_count": 219,
     "metadata": {},
     "output_type": "execute_result"
    }
   ],
   "source": [
    "#Get Total Size\n",
    "a.nbytes"
   ]
  },
  {
   "cell_type": "code",
   "execution_count": 220,
   "metadata": {},
   "outputs": [],
   "source": [
    "a=np.array([[1,2,3,4,5,6,7],[8,9,10,11,12,13,14]])"
   ]
  },
  {
   "cell_type": "code",
   "execution_count": 221,
   "metadata": {},
   "outputs": [
    {
     "data": {
      "text/plain": [
       "9"
      ]
     },
     "execution_count": 221,
     "metadata": {},
     "output_type": "execute_result"
    }
   ],
   "source": [
    "a[1,1]"
   ]
  },
  {
   "cell_type": "code",
   "execution_count": 222,
   "metadata": {},
   "outputs": [
    {
     "data": {
      "text/plain": [
       "14"
      ]
     },
     "execution_count": 222,
     "metadata": {},
     "output_type": "execute_result"
    }
   ],
   "source": [
    "a[-1,-1]       #Negative indexing"
   ]
  },
  {
   "cell_type": "code",
   "execution_count": 223,
   "metadata": {},
   "outputs": [
    {
     "data": {
      "text/plain": [
       "array([1, 2, 3, 4, 5, 6, 7])"
      ]
     },
     "execution_count": 223,
     "metadata": {},
     "output_type": "execute_result"
    }
   ],
   "source": [
    "a[0,:]  #1st row all columns"
   ]
  },
  {
   "cell_type": "code",
   "execution_count": 224,
   "metadata": {},
   "outputs": [
    {
     "data": {
      "text/plain": [
       "array([ 3, 10])"
      ]
     },
     "execution_count": 224,
     "metadata": {},
     "output_type": "execute_result"
    }
   ],
   "source": [
    "a[:,2]    #specific column"
   ]
  },
  {
   "cell_type": "code",
   "execution_count": 225,
   "metadata": {},
   "outputs": [
    {
     "data": {
      "text/plain": [
       "array([2, 4, 6])"
      ]
     },
     "execution_count": 225,
     "metadata": {},
     "output_type": "execute_result"
    }
   ],
   "source": [
    "a[0,1:6:2]   #Jump of 2"
   ]
  },
  {
   "cell_type": "code",
   "execution_count": 226,
   "metadata": {},
   "outputs": [],
   "source": [
    "a[1,2]=67"
   ]
  },
  {
   "cell_type": "code",
   "execution_count": 227,
   "metadata": {},
   "outputs": [
    {
     "data": {
      "text/plain": [
       "array([[ 1,  2,  3,  4,  5,  6,  7],\n",
       "       [ 8,  9, 67, 11, 12, 13, 14]])"
      ]
     },
     "execution_count": 227,
     "metadata": {},
     "output_type": "execute_result"
    }
   ],
   "source": [
    "a"
   ]
  },
  {
   "cell_type": "code",
   "execution_count": 228,
   "metadata": {},
   "outputs": [],
   "source": [
    "a[:,6]=78"
   ]
  },
  {
   "cell_type": "code",
   "execution_count": 229,
   "metadata": {},
   "outputs": [
    {
     "data": {
      "text/plain": [
       "array([[ 1,  2,  3,  4,  5,  6, 78],\n",
       "       [ 8,  9, 67, 11, 12, 13, 78]])"
      ]
     },
     "execution_count": 229,
     "metadata": {},
     "output_type": "execute_result"
    }
   ],
   "source": [
    "a"
   ]
  },
  {
   "cell_type": "code",
   "execution_count": 230,
   "metadata": {},
   "outputs": [],
   "source": [
    "a[:,5]=1,2  #value assigning"
   ]
  },
  {
   "cell_type": "code",
   "execution_count": 231,
   "metadata": {},
   "outputs": [
    {
     "data": {
      "text/plain": [
       "array([[ 1,  2,  3,  4,  5,  1, 78],\n",
       "       [ 8,  9, 67, 11, 12,  2, 78]])"
      ]
     },
     "execution_count": 231,
     "metadata": {},
     "output_type": "execute_result"
    }
   ],
   "source": [
    "a"
   ]
  },
  {
   "cell_type": "code",
   "execution_count": 232,
   "metadata": {},
   "outputs": [],
   "source": [
    "b=np.array([[[1,2],[3,4]],[[5,6],[7,8]]])"
   ]
  },
  {
   "cell_type": "code",
   "execution_count": 233,
   "metadata": {},
   "outputs": [
    {
     "data": {
      "text/plain": [
       "array([[[1, 2],\n",
       "        [3, 4]],\n",
       "\n",
       "       [[5, 6],\n",
       "        [7, 8]]])"
      ]
     },
     "execution_count": 233,
     "metadata": {},
     "output_type": "execute_result"
    }
   ],
   "source": [
    "b"
   ]
  },
  {
   "cell_type": "code",
   "execution_count": 234,
   "metadata": {},
   "outputs": [
    {
     "data": {
      "text/plain": [
       "array([1, 2, 3, 4, 5, 6, 7, 8])"
      ]
     },
     "execution_count": 234,
     "metadata": {},
     "output_type": "execute_result"
    }
   ],
   "source": [
    "b.flatten()"
   ]
  },
  {
   "cell_type": "code",
   "execution_count": 235,
   "metadata": {},
   "outputs": [
    {
     "data": {
      "text/plain": [
       "array([[[1, 2],\n",
       "        [3, 4]],\n",
       "\n",
       "       [[5, 6],\n",
       "        [7, 8]]])"
      ]
     },
     "execution_count": 235,
     "metadata": {},
     "output_type": "execute_result"
    }
   ],
   "source": [
    "b"
   ]
  },
  {
   "cell_type": "code",
   "execution_count": 236,
   "metadata": {},
   "outputs": [
    {
     "data": {
      "text/plain": [
       "8"
      ]
     },
     "execution_count": 236,
     "metadata": {},
     "output_type": "execute_result"
    }
   ],
   "source": [
    "b[1,1,1]"
   ]
  },
  {
   "cell_type": "code",
   "execution_count": 237,
   "metadata": {},
   "outputs": [
    {
     "data": {
      "text/plain": [
       "4"
      ]
     },
     "execution_count": 237,
     "metadata": {},
     "output_type": "execute_result"
    }
   ],
   "source": [
    "b[0,1,1]   #to get 4"
   ]
  },
  {
   "cell_type": "code",
   "execution_count": 238,
   "metadata": {},
   "outputs": [
    {
     "data": {
      "text/plain": [
       "array([[[1, 2],\n",
       "        [3, 4]],\n",
       "\n",
       "       [[5, 6],\n",
       "        [7, 8]]])"
      ]
     },
     "execution_count": 238,
     "metadata": {},
     "output_type": "execute_result"
    }
   ],
   "source": [
    "b"
   ]
  },
  {
   "cell_type": "code",
   "execution_count": 242,
   "metadata": {},
   "outputs": [
    {
     "data": {
      "text/plain": [
       "array([[9, 8],\n",
       "       [6, 4]])"
      ]
     },
     "execution_count": 242,
     "metadata": {},
     "output_type": "execute_result"
    }
   ],
   "source": [
    "b[:,1,:]"
   ]
  },
  {
   "cell_type": "code",
   "execution_count": 243,
   "metadata": {},
   "outputs": [
    {
     "data": {
      "text/plain": [
       "5.125"
      ]
     },
     "execution_count": 243,
     "metadata": {},
     "output_type": "execute_result"
    }
   ],
   "source": [
    "b.mean()"
   ]
  },
  {
   "cell_type": "code",
   "execution_count": 244,
   "metadata": {},
   "outputs": [],
   "source": [
    "b[:,1,:]=[[9,8],[6,4]]"
   ]
  },
  {
   "cell_type": "code",
   "execution_count": 245,
   "metadata": {},
   "outputs": [
    {
     "data": {
      "text/plain": [
       "array([[[1, 2],\n",
       "        [9, 8]],\n",
       "\n",
       "       [[5, 6],\n",
       "        [6, 4]]])"
      ]
     },
     "execution_count": 245,
     "metadata": {},
     "output_type": "execute_result"
    }
   ],
   "source": [
    "b"
   ]
  },
  {
   "cell_type": "code",
   "execution_count": 246,
   "metadata": {},
   "outputs": [
    {
     "data": {
      "text/plain": [
       "array([[0., 0., 0.],\n",
       "       [0., 0., 0.],\n",
       "       [0., 0., 0.]])"
      ]
     },
     "execution_count": 246,
     "metadata": {},
     "output_type": "execute_result"
    }
   ],
   "source": [
    "np.zeros((3,3))"
   ]
  },
  {
   "cell_type": "code",
   "execution_count": 247,
   "metadata": {},
   "outputs": [
    {
     "data": {
      "text/plain": [
       "array([[[0., 0., 0.],\n",
       "        [0., 0., 0.]],\n",
       "\n",
       "       [[0., 0., 0.],\n",
       "        [0., 0., 0.]]])"
      ]
     },
     "execution_count": 247,
     "metadata": {},
     "output_type": "execute_result"
    }
   ],
   "source": [
    "np.zeros((2,2,3))"
   ]
  },
  {
   "cell_type": "code",
   "execution_count": 248,
   "metadata": {},
   "outputs": [
    {
     "data": {
      "text/plain": [
       "array([[[[0., 0.],\n",
       "         [0., 0.],\n",
       "         [0., 0.]],\n",
       "\n",
       "        [[0., 0.],\n",
       "         [0., 0.],\n",
       "         [0., 0.]]],\n",
       "\n",
       "\n",
       "       [[[0., 0.],\n",
       "         [0., 0.],\n",
       "         [0., 0.]],\n",
       "\n",
       "        [[0., 0.],\n",
       "         [0., 0.],\n",
       "         [0., 0.]]]])"
      ]
     },
     "execution_count": 248,
     "metadata": {},
     "output_type": "execute_result"
    }
   ],
   "source": [
    "np.zeros((2,2,3,2))"
   ]
  },
  {
   "cell_type": "code",
   "execution_count": 249,
   "metadata": {},
   "outputs": [
    {
     "data": {
      "text/plain": [
       "array([[[1, 1, 1],\n",
       "        [1, 1, 1],\n",
       "        [1, 1, 1]],\n",
       "\n",
       "       [[1, 1, 1],\n",
       "        [1, 1, 1],\n",
       "        [1, 1, 1]],\n",
       "\n",
       "       [[1, 1, 1],\n",
       "        [1, 1, 1],\n",
       "        [1, 1, 1]],\n",
       "\n",
       "       [[1, 1, 1],\n",
       "        [1, 1, 1],\n",
       "        [1, 1, 1]]])"
      ]
     },
     "execution_count": 249,
     "metadata": {},
     "output_type": "execute_result"
    }
   ],
   "source": [
    "np.ones((4,3,3),dtype='int32')"
   ]
  },
  {
   "cell_type": "code",
   "execution_count": 250,
   "metadata": {},
   "outputs": [
    {
     "data": {
      "text/plain": [
       "array([[45, 45, 45],\n",
       "       [45, 45, 45]])"
      ]
     },
     "execution_count": 250,
     "metadata": {},
     "output_type": "execute_result"
    }
   ],
   "source": [
    "#Any Number\n",
    "np.full((2,3),45)"
   ]
  },
  {
   "cell_type": "code",
   "execution_count": 251,
   "metadata": {},
   "outputs": [
    {
     "data": {
      "text/plain": [
       "array([[4, 4, 4, 4, 4, 4, 4],\n",
       "       [4, 4, 4, 4, 4, 4, 4]])"
      ]
     },
     "execution_count": 251,
     "metadata": {},
     "output_type": "execute_result"
    }
   ],
   "source": [
    "np.full(a.shape,4)"
   ]
  },
  {
   "cell_type": "code",
   "execution_count": 252,
   "metadata": {},
   "outputs": [
    {
     "data": {
      "text/plain": [
       "array([[5, 5, 5, 5, 5, 5, 5],\n",
       "       [5, 5, 5, 5, 5, 5, 5]])"
      ]
     },
     "execution_count": 252,
     "metadata": {},
     "output_type": "execute_result"
    }
   ],
   "source": [
    "np.full_like(a,5)"
   ]
  },
  {
   "cell_type": "code",
   "execution_count": 253,
   "metadata": {},
   "outputs": [
    {
     "data": {
      "text/plain": [
       "array([[[0.31273162, 0.66006702, 0.36731845],\n",
       "        [0.70035315, 0.21269417, 0.81646912]],\n",
       "\n",
       "       [[0.04501496, 0.19870542, 0.98156313],\n",
       "        [0.20470377, 0.36737687, 0.43231836]],\n",
       "\n",
       "       [[0.45124584, 0.45633994, 0.38121826],\n",
       "        [0.38357558, 0.46997554, 0.12017274]],\n",
       "\n",
       "       [[0.42040961, 0.67739964, 0.64750223],\n",
       "        [0.30505845, 0.98804178, 0.82944826]]])"
      ]
     },
     "execution_count": 253,
     "metadata": {},
     "output_type": "execute_result"
    }
   ],
   "source": [
    "np.random.rand(4,2,3)"
   ]
  },
  {
   "cell_type": "code",
   "execution_count": 254,
   "metadata": {},
   "outputs": [
    {
     "data": {
      "text/plain": [
       "array([[0.07924624, 0.47076756, 0.43229279, 0.51065779, 0.1870172 ,\n",
       "        0.00639524, 0.11461823],\n",
       "       [0.49376197, 0.0378034 , 0.7079719 , 0.13934384, 0.51833148,\n",
       "        0.30575435, 0.03835928]])"
      ]
     },
     "execution_count": 254,
     "metadata": {},
     "output_type": "execute_result"
    }
   ],
   "source": [
    "np.random.random_sample(a.shape)"
   ]
  },
  {
   "cell_type": "code",
   "execution_count": 255,
   "metadata": {},
   "outputs": [
    {
     "data": {
      "text/plain": [
       "array([[ 52,  47,  13],\n",
       "       [-17, -25,  54],\n",
       "       [  5,  62, -32]])"
      ]
     },
     "execution_count": 255,
     "metadata": {},
     "output_type": "execute_result"
    }
   ],
   "source": [
    "#Random Integer Values,starting value,ending value, size\n",
    "np.random.randint(-40,99,size=(3,3))"
   ]
  },
  {
   "cell_type": "code",
   "execution_count": 258,
   "metadata": {},
   "outputs": [
    {
     "data": {
      "text/plain": [
       "array([[1, 0, 0],\n",
       "       [0, 1, 0],\n",
       "       [0, 0, 1]], dtype=int8)"
      ]
     },
     "execution_count": 258,
     "metadata": {},
     "output_type": "execute_result"
    }
   ],
   "source": [
    "#The Identity Matrix\n",
    "np.identity(3,dtype='int8')"
   ]
  },
  {
   "cell_type": "code",
   "execution_count": 259,
   "metadata": {},
   "outputs": [
    {
     "data": {
      "text/plain": [
       "array([[1, 2, 3],\n",
       "       [1, 2, 3],\n",
       "       [1, 2, 3]])"
      ]
     },
     "execution_count": 259,
     "metadata": {},
     "output_type": "execute_result"
    }
   ],
   "source": [
    "#Repeat \n",
    "arr=np.array([[1,2,3]])\n",
    "r1=np.repeat(arr,3,axis=0)   #axis=0 is the axis along the row\n",
    "r1"
   ]
  },
  {
   "cell_type": "code",
   "execution_count": 260,
   "metadata": {},
   "outputs": [
    {
     "data": {
      "text/plain": [
       "array([[1, 1, 1],\n",
       "       [2, 2, 2],\n",
       "       [3, 3, 3]])"
      ]
     },
     "execution_count": 260,
     "metadata": {},
     "output_type": "execute_result"
    }
   ],
   "source": [
    "ar=np.array([[1],[2],[3]])\n",
    "r2=np.repeat(ar,3,axis=1)   #axis=1 is the axis along the columns\n",
    "r2"
   ]
  },
  {
   "cell_type": "code",
   "execution_count": 261,
   "metadata": {},
   "outputs": [
    {
     "data": {
      "text/plain": [
       "array([[1],\n",
       "       [1],\n",
       "       [1],\n",
       "       [2],\n",
       "       [2],\n",
       "       [2],\n",
       "       [3],\n",
       "       [3],\n",
       "       [3]])"
      ]
     },
     "execution_count": 261,
     "metadata": {},
     "output_type": "execute_result"
    }
   ],
   "source": [
    "ar=np.array([[1],[2],[3]])\n",
    "r2=np.repeat(ar,3,axis=0)\n",
    "r2"
   ]
  },
  {
   "cell_type": "code",
   "execution_count": 266,
   "metadata": {},
   "outputs": [
    {
     "data": {
      "text/plain": [
       "array([0, 1, 2, 3, 4, 5])"
      ]
     },
     "execution_count": 266,
     "metadata": {},
     "output_type": "execute_result"
    }
   ],
   "source": [
    "k=np.arange(6)      #np.arange(6) is equivalent to np.array([0,1,2,3,4,5])\n",
    "k"
   ]
  },
  {
   "cell_type": "code",
   "execution_count": 267,
   "metadata": {},
   "outputs": [
    {
     "data": {
      "text/plain": [
       "array([[0, 1, 2],\n",
       "       [3, 4, 5]])"
      ]
     },
     "execution_count": 267,
     "metadata": {},
     "output_type": "execute_result"
    }
   ],
   "source": [
    "j=np.reshape(k,(2,3))\n",
    "j"
   ]
  },
  {
   "cell_type": "code",
   "execution_count": 268,
   "metadata": {},
   "outputs": [
    {
     "data": {
      "text/plain": [
       "array([3, 5, 7])"
      ]
     },
     "execution_count": 268,
     "metadata": {},
     "output_type": "execute_result"
    }
   ],
   "source": [
    "np.sum(j,axis=0)  # When we set axis = 0,  we collapse the rows … we collapse axis 0."
   ]
  },
  {
   "cell_type": "code",
   "execution_count": 265,
   "metadata": {},
   "outputs": [
    {
     "data": {
      "text/plain": [
       "array([ 3, 12])"
      ]
     },
     "execution_count": 265,
     "metadata": {},
     "output_type": "execute_result"
    }
   ],
   "source": [
    "np.sum(j,axis=1)  #when we set axis=1,we collapse the axis 1"
   ]
  },
  {
   "cell_type": "code",
   "execution_count": 269,
   "metadata": {},
   "outputs": [],
   "source": [
    "a=np.arange(9)\n",
    "a=np.reshape(a,(3,3))"
   ]
  },
  {
   "cell_type": "code",
   "execution_count": 270,
   "metadata": {},
   "outputs": [
    {
     "data": {
      "text/plain": [
       "array([[0, 1, 2],\n",
       "       [3, 4, 5],\n",
       "       [6, 7, 8]])"
      ]
     },
     "execution_count": 270,
     "metadata": {},
     "output_type": "execute_result"
    }
   ],
   "source": [
    "a"
   ]
  },
  {
   "cell_type": "code",
   "execution_count": 271,
   "metadata": {},
   "outputs": [],
   "source": [
    "b=np.arange(10,19)"
   ]
  },
  {
   "cell_type": "code",
   "execution_count": 275,
   "metadata": {},
   "outputs": [],
   "source": [
    "b=np.reshape(b,(3,3))"
   ]
  },
  {
   "cell_type": "code",
   "execution_count": 276,
   "metadata": {},
   "outputs": [
    {
     "data": {
      "text/plain": [
       "array([[10, 11, 12],\n",
       "       [13, 14, 15],\n",
       "       [16, 17, 18]])"
      ]
     },
     "execution_count": 276,
     "metadata": {},
     "output_type": "execute_result"
    }
   ],
   "source": [
    "b"
   ]
  },
  {
   "cell_type": "code",
   "execution_count": 277,
   "metadata": {},
   "outputs": [],
   "source": [
    "c=np.concatenate((a,b),axis=0)"
   ]
  },
  {
   "cell_type": "code",
   "execution_count": 278,
   "metadata": {},
   "outputs": [
    {
     "name": "stdout",
     "output_type": "stream",
     "text": [
      "[[ 0  1  2]\n",
      " [ 3  4  5]\n",
      " [ 6  7  8]\n",
      " [10 11 12]\n",
      " [13 14 15]\n",
      " [16 17 18]]\n",
      "(6, 3)\n"
     ]
    }
   ],
   "source": [
    "print(c)\n",
    "print(c.shape)"
   ]
  },
  {
   "cell_type": "code",
   "execution_count": 279,
   "metadata": {},
   "outputs": [],
   "source": [
    "d=np.concatenate((a,b),axis=1)"
   ]
  },
  {
   "cell_type": "code",
   "execution_count": 98,
   "metadata": {},
   "outputs": [
    {
     "name": "stdout",
     "output_type": "stream",
     "text": [
      "[[ 0  1  2 10 11 12]\n",
      " [ 3  4  5 13 14 15]\n",
      " [ 6  7  8 16 17 18]]\n",
      "(3, 6)\n"
     ]
    }
   ],
   "source": [
    "print(d)\n",
    "print(d.shape)"
   ]
  },
  {
   "cell_type": "code",
   "execution_count": 102,
   "metadata": {},
   "outputs": [
    {
     "data": {
      "text/plain": [
       "array([ 9, 12, 15, 39, 42, 45])"
      ]
     },
     "execution_count": 102,
     "metadata": {},
     "output_type": "execute_result"
    }
   ],
   "source": [
    "np.sum(d,axis=0) #collapses around axis 0"
   ]
  },
  {
   "cell_type": "code",
   "execution_count": 103,
   "metadata": {},
   "outputs": [
    {
     "data": {
      "text/plain": [
       "162"
      ]
     },
     "execution_count": 103,
     "metadata": {},
     "output_type": "execute_result"
    }
   ],
   "source": [
    "np.sum(d)   #collapses whole array"
   ]
  },
  {
   "cell_type": "code",
   "execution_count": 113,
   "metadata": {},
   "outputs": [],
   "source": [
    "a=np.zeros((5,5),dtype='int32')"
   ]
  },
  {
   "cell_type": "code",
   "execution_count": 114,
   "metadata": {},
   "outputs": [
    {
     "data": {
      "text/plain": [
       "array([[0, 0, 0, 0, 0],\n",
       "       [0, 0, 0, 0, 0],\n",
       "       [0, 0, 0, 0, 0],\n",
       "       [0, 0, 0, 0, 0],\n",
       "       [0, 0, 0, 0, 0]])"
      ]
     },
     "execution_count": 114,
     "metadata": {},
     "output_type": "execute_result"
    }
   ],
   "source": [
    "a"
   ]
  },
  {
   "cell_type": "code",
   "execution_count": 115,
   "metadata": {},
   "outputs": [],
   "source": [
    "a[:,0]=1"
   ]
  },
  {
   "cell_type": "code",
   "execution_count": 117,
   "metadata": {},
   "outputs": [],
   "source": [
    "a[:,4]=1"
   ]
  },
  {
   "cell_type": "code",
   "execution_count": 118,
   "metadata": {},
   "outputs": [],
   "source": [
    "a[0,:]=1"
   ]
  },
  {
   "cell_type": "code",
   "execution_count": 119,
   "metadata": {},
   "outputs": [],
   "source": [
    "a[4,:]=1"
   ]
  },
  {
   "cell_type": "code",
   "execution_count": 121,
   "metadata": {},
   "outputs": [],
   "source": [
    "a[2,2]=9"
   ]
  },
  {
   "cell_type": "code",
   "execution_count": 122,
   "metadata": {
    "scrolled": true
   },
   "outputs": [
    {
     "name": "stdout",
     "output_type": "stream",
     "text": [
      "[[1 1 1 1 1]\n",
      " [1 0 0 0 1]\n",
      " [1 0 9 0 1]\n",
      " [1 0 0 0 1]\n",
      " [1 1 1 1 1]]\n"
     ]
    }
   ],
   "source": [
    "print(a)"
   ]
  },
  {
   "cell_type": "markdown",
   "metadata": {},
   "source": [
    "# Be Careful while copying array"
   ]
  },
  {
   "cell_type": "code",
   "execution_count": 124,
   "metadata": {},
   "outputs": [
    {
     "name": "stdout",
     "output_type": "stream",
     "text": [
      "[100   2   3]\n"
     ]
    }
   ],
   "source": [
    "a=np.array([1,2,3])\n",
    "b=a\n",
    "b[0]=100\n",
    "print(a)"
   ]
  },
  {
   "cell_type": "markdown",
   "metadata": {},
   "source": [
    "# Use copy Instead direct assignment"
   ]
  },
  {
   "cell_type": "code",
   "execution_count": 128,
   "metadata": {},
   "outputs": [
    {
     "name": "stdout",
     "output_type": "stream",
     "text": [
      "[1 2 3]\n",
      "[1 2 3]\n",
      "[100   2   3]\n"
     ]
    }
   ],
   "source": [
    "a=np.arange(1,4)\n",
    "print(a)\n",
    "b=np.copy(a)  # or copy a by using a.copy()\n",
    "b[0]=100\n",
    "print(a)\n",
    "print(b)"
   ]
  },
  {
   "cell_type": "code",
   "execution_count": 129,
   "metadata": {},
   "outputs": [],
   "source": [
    "a=np.array([1,2,3,4])"
   ]
  },
  {
   "cell_type": "code",
   "execution_count": 130,
   "metadata": {},
   "outputs": [
    {
     "data": {
      "text/plain": [
       "array([1, 2, 3, 4])"
      ]
     },
     "execution_count": 130,
     "metadata": {},
     "output_type": "execute_result"
    }
   ],
   "source": [
    "a"
   ]
  },
  {
   "cell_type": "code",
   "execution_count": 138,
   "metadata": {},
   "outputs": [
    {
     "data": {
      "text/plain": [
       "array([3, 4, 5, 6])"
      ]
     },
     "execution_count": 138,
     "metadata": {},
     "output_type": "execute_result"
    }
   ],
   "source": [
    "a+2   #while adding to array,no error"
   ]
  },
  {
   "cell_type": "code",
   "execution_count": 139,
   "metadata": {},
   "outputs": [
    {
     "data": {
      "text/plain": [
       "array([-1,  0,  1,  2])"
      ]
     },
     "execution_count": 139,
     "metadata": {},
     "output_type": "execute_result"
    }
   ],
   "source": [
    "a-2"
   ]
  },
  {
   "cell_type": "code",
   "execution_count": 140,
   "metadata": {},
   "outputs": [],
   "source": [
    "l=[1,2,3,4]"
   ]
  },
  {
   "cell_type": "code",
   "execution_count": 141,
   "metadata": {},
   "outputs": [
    {
     "ename": "TypeError",
     "evalue": "can only concatenate list (not \"int\") to list",
     "output_type": "error",
     "traceback": [
      "\u001b[1;31m---------------------------------------------------------------------------\u001b[0m",
      "\u001b[1;31mTypeError\u001b[0m                                 Traceback (most recent call last)",
      "\u001b[1;32m<ipython-input-141-63fd2f305ffb>\u001b[0m in \u001b[0;36m<module>\u001b[1;34m\u001b[0m\n\u001b[1;32m----> 1\u001b[1;33m \u001b[0ml\u001b[0m\u001b[1;33m+\u001b[0m\u001b[1;36m1\u001b[0m  \u001b[1;31m#while adding to list,error\u001b[0m\u001b[1;33m\u001b[0m\u001b[1;33m\u001b[0m\u001b[0m\n\u001b[0m",
      "\u001b[1;31mTypeError\u001b[0m: can only concatenate list (not \"int\") to list"
     ]
    }
   ],
   "source": [
    "l+1  #while adding to list,error"
   ]
  },
  {
   "cell_type": "code",
   "execution_count": 142,
   "metadata": {},
   "outputs": [
    {
     "data": {
      "text/plain": [
       "array([ 1,  4,  9, 16], dtype=int32)"
      ]
     },
     "execution_count": 142,
     "metadata": {},
     "output_type": "execute_result"
    }
   ],
   "source": [
    "a**2"
   ]
  },
  {
   "cell_type": "code",
   "execution_count": 143,
   "metadata": {},
   "outputs": [
    {
     "data": {
      "text/plain": [
       "array([ 0.84147098,  0.90929743,  0.14112001, -0.7568025 ])"
      ]
     },
     "execution_count": 143,
     "metadata": {},
     "output_type": "execute_result"
    }
   ],
   "source": [
    "np.sin(a)"
   ]
  },
  {
   "cell_type": "code",
   "execution_count": 145,
   "metadata": {},
   "outputs": [],
   "source": [
    "a=np.random.randint(1,9,(2,2))"
   ]
  },
  {
   "cell_type": "code",
   "execution_count": 146,
   "metadata": {},
   "outputs": [
    {
     "data": {
      "text/plain": [
       "array([[6, 2],\n",
       "       [4, 5]])"
      ]
     },
     "execution_count": 146,
     "metadata": {},
     "output_type": "execute_result"
    }
   ],
   "source": [
    "a"
   ]
  },
  {
   "cell_type": "code",
   "execution_count": 149,
   "metadata": {},
   "outputs": [],
   "source": [
    "b=np.identity(2,dtype='int32')"
   ]
  },
  {
   "cell_type": "code",
   "execution_count": 150,
   "metadata": {},
   "outputs": [
    {
     "data": {
      "text/plain": [
       "array([[1, 0],\n",
       "       [0, 1]])"
      ]
     },
     "execution_count": 150,
     "metadata": {},
     "output_type": "execute_result"
    }
   ],
   "source": [
    "b"
   ]
  },
  {
   "cell_type": "code",
   "execution_count": 152,
   "metadata": {},
   "outputs": [
    {
     "data": {
      "text/plain": [
       "array([[6, 2],\n",
       "       [4, 5]])"
      ]
     },
     "execution_count": 152,
     "metadata": {},
     "output_type": "execute_result"
    }
   ],
   "source": [
    "np.dot(a,b)"
   ]
  },
  {
   "cell_type": "code",
   "execution_count": 153,
   "metadata": {},
   "outputs": [
    {
     "data": {
      "text/plain": [
       "array([[6, 0],\n",
       "       [0, 5]])"
      ]
     },
     "execution_count": 153,
     "metadata": {},
     "output_type": "execute_result"
    }
   ],
   "source": [
    "a*b"
   ]
  },
  {
   "cell_type": "code",
   "execution_count": 155,
   "metadata": {},
   "outputs": [
    {
     "data": {
      "text/plain": [
       "array([[6, 2],\n",
       "       [4, 5]])"
      ]
     },
     "execution_count": 155,
     "metadata": {},
     "output_type": "execute_result"
    }
   ],
   "source": [
    "np.matmul(a,b)      #Matrix Multiplication"
   ]
  },
  {
   "cell_type": "code",
   "execution_count": 156,
   "metadata": {},
   "outputs": [
    {
     "data": {
      "text/plain": [
       "22.000000000000004"
      ]
     },
     "execution_count": 156,
     "metadata": {},
     "output_type": "execute_result"
    }
   ],
   "source": [
    "np.linalg.det(a)"
   ]
  },
  {
   "cell_type": "code",
   "execution_count": 157,
   "metadata": {},
   "outputs": [
    {
     "data": {
      "text/plain": [
       "1.0"
      ]
     },
     "execution_count": 157,
     "metadata": {},
     "output_type": "execute_result"
    }
   ],
   "source": [
    "np.linalg.det(b)"
   ]
  },
  {
   "cell_type": "markdown",
   "metadata": {},
   "source": [
    "# statistics"
   ]
  },
  {
   "cell_type": "code",
   "execution_count": 160,
   "metadata": {},
   "outputs": [],
   "source": [
    "a=np.arange(9)\n",
    "a=np.reshape(a,(3,3))"
   ]
  },
  {
   "cell_type": "code",
   "execution_count": 161,
   "metadata": {},
   "outputs": [
    {
     "data": {
      "text/plain": [
       "array([3., 4., 5.])"
      ]
     },
     "execution_count": 161,
     "metadata": {},
     "output_type": "execute_result"
    }
   ],
   "source": [
    "np.mean(a,axis=0)"
   ]
  },
  {
   "cell_type": "code",
   "execution_count": 162,
   "metadata": {},
   "outputs": [
    {
     "data": {
      "text/plain": [
       "array([6, 7, 8])"
      ]
     },
     "execution_count": 162,
     "metadata": {},
     "output_type": "execute_result"
    }
   ],
   "source": [
    "np.max(a,axis=0)"
   ]
  },
  {
   "cell_type": "code",
   "execution_count": 163,
   "metadata": {},
   "outputs": [
    {
     "data": {
      "text/plain": [
       "array([2, 5, 8])"
      ]
     },
     "execution_count": 163,
     "metadata": {},
     "output_type": "execute_result"
    }
   ],
   "source": [
    "np.max(a,axis=1)"
   ]
  },
  {
   "cell_type": "markdown",
   "metadata": {},
   "source": [
    "# Reshaping Array"
   ]
  },
  {
   "cell_type": "code",
   "execution_count": 173,
   "metadata": {},
   "outputs": [],
   "source": [
    "#vertically stacking vectors\n",
    "v1=np.arange(1,5)\n",
    "v2=np.arange(5,9)\n",
    "c=np.vstack([v1,v2])  #np.vstack((v1,v2))"
   ]
  },
  {
   "cell_type": "code",
   "execution_count": 174,
   "metadata": {},
   "outputs": [
    {
     "data": {
      "text/plain": [
       "array([[1, 2, 3, 4],\n",
       "       [5, 6, 7, 8],\n",
       "       [1, 2, 3, 4],\n",
       "       [5, 6, 7, 8],\n",
       "       [5, 6, 7, 8],\n",
       "       [1, 2, 3, 4]])"
      ]
     },
     "execution_count": 174,
     "metadata": {},
     "output_type": "execute_result"
    }
   ],
   "source": [
    "np.vstack((v1,v2,v1,v2,v2,v1))"
   ]
  },
  {
   "cell_type": "code",
   "execution_count": 175,
   "metadata": {},
   "outputs": [
    {
     "data": {
      "text/plain": [
       "array([1, 2, 3, 4, 5, 6, 7, 8])"
      ]
     },
     "execution_count": 175,
     "metadata": {},
     "output_type": "execute_result"
    }
   ],
   "source": [
    "np.hstack((v1,v2))"
   ]
  },
  {
   "cell_type": "code",
   "execution_count": 182,
   "metadata": {},
   "outputs": [
    {
     "data": {
      "text/plain": [
       "array([[1, 2, 3, 4, 1, 2, 3, 4],\n",
       "       [5, 6, 7, 8, 5, 6, 7, 8]])"
      ]
     },
     "execution_count": 182,
     "metadata": {},
     "output_type": "execute_result"
    }
   ],
   "source": [
    "np.hstack((c,np.concatenate((v1,v2),axis=0).reshape(2,4)))"
   ]
  },
  {
   "cell_type": "markdown",
   "metadata": {},
   "source": [
    "# If for any reason you dont want to use pandas(hahaha),taking \n",
    "# files into  numpy array is done below"
   ]
  },
  {
   "cell_type": "code",
   "execution_count": 186,
   "metadata": {},
   "outputs": [],
   "source": [
    "filedata=np.genfromtxt('F:\\Desktop\\mlr09.csv',delimiter=',')"
   ]
  },
  {
   "cell_type": "code",
   "execution_count": 187,
   "metadata": {},
   "outputs": [
    {
     "data": {
      "text/plain": [
       "array([[-2147483648, -2147483648, -2147483648, -2147483648, -2147483648],\n",
       "       [          6,         225,           0,           0,           9],\n",
       "       [          6,         180,           0,           0,          11],\n",
       "       [          6,         190,           0,           0,          15],\n",
       "       [          6,         180,           0,           0,           8],\n",
       "       [          6,         205,           0,           0,          23],\n",
       "       [          6,         225,           0,           0,          27],\n",
       "       [          6,         185,           0,           0,           9],\n",
       "       [          6,         235,           0,           0,          16],\n",
       "       [          6,         235,           0,           0,           4],\n",
       "       [          6,         210,           0,           0,          12],\n",
       "       [          6,         245,           0,           0,          20],\n",
       "       [          6,         245,           0,           0,           9],\n",
       "       [          6,         185,           0,           0,           8],\n",
       "       [          6,         185,           0,           0,           8],\n",
       "       [          6,         180,           0,           0,          20],\n",
       "       [          6,         220,           0,           0,          25],\n",
       "       [          6,         194,           0,           0,          19],\n",
       "       [          7,         225,           0,           0,           3],\n",
       "       [          6,         210,           0,           0,          11],\n",
       "       [          7,         240,           0,           0,          10],\n",
       "       [          6,         225,           0,           0,          10],\n",
       "       [          7,         263,           0,           0,           7],\n",
       "       [          6,         210,           0,           0,          13],\n",
       "       [          6,         235,           0,           0,           9],\n",
       "       [          7,         230,           0,           0,          24],\n",
       "       [          6,         190,           0,           0,          12],\n",
       "       [          6,         220,           0,           0,           5],\n",
       "       [          6,         210,           0,           0,           8],\n",
       "       [          6,         180,           0,           0,           7],\n",
       "       [          6,         235,           0,           0,          24],\n",
       "       [          6,         185,           0,           0,          11],\n",
       "       [          6,         175,           0,           0,           7],\n",
       "       [          6,         192,           0,           0,           9],\n",
       "       [          7,         263,           0,           0,           7],\n",
       "       [          6,         180,           0,           0,          12],\n",
       "       [          6,         240,           0,           0,           8],\n",
       "       [          6,         210,           0,           0,          13],\n",
       "       [          5,         160,           0,           0,          11],\n",
       "       [          6,         230,           0,           0,           2],\n",
       "       [          7,         245,           0,           0,           3],\n",
       "       [          7,         228,           0,           0,           9],\n",
       "       [          5,         155,           0,           0,          11],\n",
       "       [          6,         200,           0,           0,          15],\n",
       "       [          6,         235,           0,           0,           7],\n",
       "       [          7,         235,           0,           0,          18],\n",
       "       [          5,         105,           0,           0,           7],\n",
       "       [          6,         180,           0,           0,          12],\n",
       "       [          5,         185,           0,           0,          11],\n",
       "       [          7,         245,           0,           0,           2],\n",
       "       [          5,         180,           0,           0,          11],\n",
       "       [          7,         240,           0,           0,          17],\n",
       "       [          6,         225,           0,           0,          11],\n",
       "       [          6,         215,           0,           0,           5],\n",
       "       [          7,         230,           0,           0,           8]])"
      ]
     },
     "execution_count": 187,
     "metadata": {},
     "output_type": "execute_result"
    }
   ],
   "source": [
    "filedata.astype('int32')"
   ]
  },
  {
   "cell_type": "markdown",
   "metadata": {},
   "source": [
    "## Advanced Indexing and Boolean Masking"
   ]
  },
  {
   "cell_type": "code",
   "execution_count": 188,
   "metadata": {},
   "outputs": [
    {
     "name": "stderr",
     "output_type": "stream",
     "text": [
      "C:\\Users\\HP\\Anaconda3\\lib\\site-packages\\ipykernel_launcher.py:1: RuntimeWarning: invalid value encountered in greater\n",
      "  \"\"\"Entry point for launching an IPython kernel.\n"
     ]
    },
    {
     "data": {
      "text/plain": [
       "array([[False, False, False, False, False],\n",
       "       [ True,  True, False, False,  True],\n",
       "       [ True,  True, False, False,  True],\n",
       "       [ True,  True, False, False,  True],\n",
       "       [ True,  True, False, False,  True],\n",
       "       [ True,  True, False, False,  True],\n",
       "       [ True,  True, False, False,  True],\n",
       "       [ True,  True, False, False,  True],\n",
       "       [ True,  True, False, False,  True],\n",
       "       [ True,  True, False, False, False],\n",
       "       [ True,  True, False, False,  True],\n",
       "       [ True,  True, False, False,  True],\n",
       "       [ True,  True, False, False,  True],\n",
       "       [ True,  True, False, False,  True],\n",
       "       [ True,  True, False, False,  True],\n",
       "       [ True,  True, False, False,  True],\n",
       "       [ True,  True, False, False,  True],\n",
       "       [ True,  True, False, False,  True],\n",
       "       [ True,  True, False, False, False],\n",
       "       [ True,  True, False, False,  True],\n",
       "       [ True,  True, False, False,  True],\n",
       "       [ True,  True, False, False,  True],\n",
       "       [ True,  True, False, False,  True],\n",
       "       [ True,  True, False, False,  True],\n",
       "       [ True,  True, False, False,  True],\n",
       "       [ True,  True, False, False,  True],\n",
       "       [ True,  True, False, False,  True],\n",
       "       [ True,  True, False, False,  True],\n",
       "       [ True,  True, False, False,  True],\n",
       "       [ True,  True, False, False,  True],\n",
       "       [ True,  True, False, False,  True],\n",
       "       [ True,  True, False, False,  True],\n",
       "       [ True,  True, False, False,  True],\n",
       "       [ True,  True, False, False,  True],\n",
       "       [ True,  True, False, False,  True],\n",
       "       [ True,  True, False, False,  True],\n",
       "       [ True,  True, False, False,  True],\n",
       "       [ True,  True, False, False,  True],\n",
       "       [ True,  True, False, False,  True],\n",
       "       [ True,  True, False, False, False],\n",
       "       [ True,  True, False, False, False],\n",
       "       [ True,  True, False, False,  True],\n",
       "       [ True,  True, False, False,  True],\n",
       "       [ True,  True, False, False,  True],\n",
       "       [ True,  True, False, False,  True],\n",
       "       [ True,  True, False, False,  True],\n",
       "       [ True,  True, False, False,  True],\n",
       "       [ True,  True, False, False,  True],\n",
       "       [ True,  True, False, False,  True],\n",
       "       [ True,  True, False, False, False],\n",
       "       [ True,  True, False, False,  True],\n",
       "       [ True,  True, False, False,  True],\n",
       "       [ True,  True, False, False,  True],\n",
       "       [ True,  True, False, False,  True],\n",
       "       [ True,  True, False, False,  True]])"
      ]
     },
     "execution_count": 188,
     "metadata": {},
     "output_type": "execute_result"
    }
   ],
   "source": [
    "filedata>5"
   ]
  },
  {
   "cell_type": "code",
   "execution_count": 195,
   "metadata": {},
   "outputs": [
    {
     "name": "stderr",
     "output_type": "stream",
     "text": [
      "C:\\Users\\HP\\Anaconda3\\lib\\site-packages\\ipykernel_launcher.py:1: RuntimeWarning: invalid value encountered in less\n",
      "  \"\"\"Entry point for launching an IPython kernel.\n"
     ]
    },
    {
     "data": {
      "text/plain": [
       "array([6.8  , 0.442, 0.672, 9.2  , 6.3  , 0.435, 0.797, 6.4  , 0.456,\n",
       "       0.761, 6.2  , 0.416, 0.651, 8.6  , 6.9  , 0.449, 0.9  , 6.4  ,\n",
       "       0.431, 0.78 , 6.3  , 0.487, 0.771, 9.3  , 6.8  , 0.469, 0.75 ,\n",
       "       6.9  , 0.435, 0.818, 4.7  , 6.7  , 0.48 , 0.825, 6.9  , 0.516,\n",
       "       0.632, 6.9  , 0.493, 0.757, 9.1  , 6.3  , 0.374, 0.709, 8.1  ,\n",
       "       6.1  , 0.424, 0.782, 8.6  , 6.2  , 0.441, 0.775, 6.8  , 0.503,\n",
       "       0.88 , 6.5  , 0.503, 0.833, 7.6  , 0.425, 0.571, 3.3  , 6.3  ,\n",
       "       0.371, 0.816, 7.1  , 0.504, 0.714, 6.8  , 0.4  , 0.765, 7.3  ,\n",
       "       0.482, 0.655, 7.2  , 6.4  , 0.475, 0.244, 6.8  , 0.428, 0.728,\n",
       "       9.   , 7.2  , 0.559, 0.721, 6.4  , 0.441, 0.757, 6.6  , 0.492,\n",
       "       0.747, 5.6  , 6.8  , 0.402, 0.739, 8.7  , 6.1  , 0.415, 0.713,\n",
       "       7.7  , 6.5  , 0.492, 0.742, 6.4  , 0.484, 0.861, 6.   , 0.387,\n",
       "       0.721, 7.7  , 6.   , 0.436, 0.785, 9.6  , 7.3  , 0.482, 0.655,\n",
       "       7.2  , 6.1  , 0.34 , 0.821, 6.7  , 0.516, 0.728, 8.9  , 6.4  ,\n",
       "       0.475, 0.846, 5.8  , 0.412, 0.813, 6.9  , 0.411, 0.595, 2.8  ,\n",
       "       7.   , 0.407, 0.573, 3.2  , 7.3  , 0.445, 0.726, 9.4  , 5.9  ,\n",
       "       0.291, 0.707, 6.2  , 0.449, 0.804, 6.8  , 0.546, 0.784, 7.4  ,\n",
       "       7.   , 0.48 , 0.744, 5.9  , 0.359, 0.839, 7.9  , 6.1  , 0.528,\n",
       "       0.79 , 5.7  , 0.352, 0.701, 7.1  , 0.414, 0.778, 2.8  , 5.8  ,\n",
       "       0.425, 0.872, 7.4  , 0.599, 0.713, 6.8  , 0.482, 0.701, 6.8  ,\n",
       "       0.457, 0.734, 5.8  , 7.   , 0.435, 0.764, 8.3  ])"
      ]
     },
     "execution_count": 195,
     "metadata": {},
     "output_type": "execute_result"
    }
   ],
   "source": [
    "filedata[filedata<10]"
   ]
  },
  {
   "cell_type": "markdown",
   "metadata": {},
   "source": [
    "### you can index with a list in Numpy"
   ]
  },
  {
   "cell_type": "code",
   "execution_count": 196,
   "metadata": {},
   "outputs": [],
   "source": [
    "a=np.array([1,2,3,4,5,6,7,8,9])"
   ]
  },
  {
   "cell_type": "code",
   "execution_count": 197,
   "metadata": {},
   "outputs": [
    {
     "data": {
      "text/plain": [
       "array([2, 3, 9])"
      ]
     },
     "execution_count": 197,
     "metadata": {},
     "output_type": "execute_result"
    }
   ],
   "source": [
    "a[[1,2,8]]"
   ]
  },
  {
   "cell_type": "code",
   "execution_count": 201,
   "metadata": {},
   "outputs": [
    {
     "name": "stderr",
     "output_type": "stream",
     "text": [
      "C:\\Users\\HP\\Anaconda3\\lib\\site-packages\\ipykernel_launcher.py:1: RuntimeWarning: invalid value encountered in greater\n",
      "  \"\"\"Entry point for launching an IPython kernel.\n"
     ]
    },
    {
     "data": {
      "text/plain": [
       "array([False,  True, False, False,  True])"
      ]
     },
     "execution_count": 201,
     "metadata": {},
     "output_type": "execute_result"
    }
   ],
   "source": [
    "np.any(filedata>10,axis=0)"
   ]
  },
  {
   "cell_type": "code",
   "execution_count": 202,
   "metadata": {},
   "outputs": [
    {
     "name": "stderr",
     "output_type": "stream",
     "text": [
      "C:\\Users\\HP\\Anaconda3\\lib\\site-packages\\ipykernel_launcher.py:1: RuntimeWarning: invalid value encountered in less\n",
      "  \"\"\"Entry point for launching an IPython kernel.\n"
     ]
    },
    {
     "data": {
      "text/plain": [
       "array([ True, False,  True,  True,  True])"
      ]
     },
     "execution_count": 202,
     "metadata": {},
     "output_type": "execute_result"
    }
   ],
   "source": [
    "np.any(filedata<10,axis=0)"
   ]
  },
  {
   "cell_type": "code",
   "execution_count": 203,
   "metadata": {},
   "outputs": [
    {
     "data": {
      "text/plain": [
       "array([[     nan,      nan,      nan,      nan,      nan],\n",
       "       [6.80e+00, 2.25e+02, 4.42e-01, 6.72e-01, 9.20e+00],\n",
       "       [6.30e+00, 1.80e+02, 4.35e-01, 7.97e-01, 1.17e+01],\n",
       "       [6.40e+00, 1.90e+02, 4.56e-01, 7.61e-01, 1.58e+01],\n",
       "       [6.20e+00, 1.80e+02, 4.16e-01, 6.51e-01, 8.60e+00],\n",
       "       [6.90e+00, 2.05e+02, 4.49e-01, 9.00e-01, 2.32e+01],\n",
       "       [6.40e+00, 2.25e+02, 4.31e-01, 7.80e-01, 2.74e+01],\n",
       "       [6.30e+00, 1.85e+02, 4.87e-01, 7.71e-01, 9.30e+00],\n",
       "       [6.80e+00, 2.35e+02, 4.69e-01, 7.50e-01, 1.60e+01],\n",
       "       [6.90e+00, 2.35e+02, 4.35e-01, 8.18e-01, 4.70e+00],\n",
       "       [6.70e+00, 2.10e+02, 4.80e-01, 8.25e-01, 1.25e+01],\n",
       "       [6.90e+00, 2.45e+02, 5.16e-01, 6.32e-01, 2.01e+01],\n",
       "       [6.90e+00, 2.45e+02, 4.93e-01, 7.57e-01, 9.10e+00],\n",
       "       [6.30e+00, 1.85e+02, 3.74e-01, 7.09e-01, 8.10e+00],\n",
       "       [6.10e+00, 1.85e+02, 4.24e-01, 7.82e-01, 8.60e+00],\n",
       "       [6.20e+00, 1.80e+02, 4.41e-01, 7.75e-01, 2.03e+01],\n",
       "       [6.80e+00, 2.20e+02, 5.03e-01, 8.80e-01, 2.50e+01],\n",
       "       [6.50e+00, 1.94e+02, 5.03e-01, 8.33e-01, 1.92e+01],\n",
       "       [7.60e+00, 2.25e+02, 4.25e-01, 5.71e-01, 3.30e+00],\n",
       "       [6.30e+00, 2.10e+02, 3.71e-01, 8.16e-01, 1.12e+01],\n",
       "       [7.10e+00, 2.40e+02, 5.04e-01, 7.14e-01, 1.05e+01],\n",
       "       [6.80e+00, 2.25e+02, 4.00e-01, 7.65e-01, 1.01e+01],\n",
       "       [7.30e+00, 2.63e+02, 4.82e-01, 6.55e-01, 7.20e+00],\n",
       "       [6.40e+00, 2.10e+02, 4.75e-01, 2.44e-01, 1.36e+01],\n",
       "       [6.80e+00, 2.35e+02, 4.28e-01, 7.28e-01, 9.00e+00],\n",
       "       [7.20e+00, 2.30e+02, 5.59e-01, 7.21e-01, 2.46e+01],\n",
       "       [6.40e+00, 1.90e+02, 4.41e-01, 7.57e-01, 1.26e+01],\n",
       "       [6.60e+00, 2.20e+02, 4.92e-01, 7.47e-01, 5.60e+00],\n",
       "       [6.80e+00, 2.10e+02, 4.02e-01, 7.39e-01, 8.70e+00],\n",
       "       [6.10e+00, 1.80e+02, 4.15e-01, 7.13e-01, 7.70e+00],\n",
       "       [6.50e+00, 2.35e+02, 4.92e-01, 7.42e-01, 2.41e+01],\n",
       "       [6.40e+00, 1.85e+02, 4.84e-01, 8.61e-01, 1.17e+01],\n",
       "       [6.00e+00, 1.75e+02, 3.87e-01, 7.21e-01, 7.70e+00],\n",
       "       [6.00e+00, 1.92e+02, 4.36e-01, 7.85e-01, 9.60e+00],\n",
       "       [7.30e+00, 2.63e+02, 4.82e-01, 6.55e-01, 7.20e+00],\n",
       "       [6.10e+00, 1.80e+02, 3.40e-01, 8.21e-01, 1.23e+01],\n",
       "       [6.70e+00, 2.40e+02, 5.16e-01, 7.28e-01, 8.90e+00],\n",
       "       [6.40e+00, 2.10e+02, 4.75e-01, 8.46e-01, 1.36e+01],\n",
       "       [5.80e+00, 1.60e+02, 4.12e-01, 8.13e-01, 1.12e+01],\n",
       "       [6.90e+00, 2.30e+02, 4.11e-01, 5.95e-01, 2.80e+00],\n",
       "       [7.00e+00, 2.45e+02, 4.07e-01, 5.73e-01, 3.20e+00],\n",
       "       [7.30e+00, 2.28e+02, 4.45e-01, 7.26e-01, 9.40e+00],\n",
       "       [5.90e+00, 1.55e+02, 2.91e-01, 7.07e-01, 1.19e+01],\n",
       "       [6.20e+00, 2.00e+02, 4.49e-01, 8.04e-01, 1.54e+01],\n",
       "       [6.80e+00, 2.35e+02, 5.46e-01, 7.84e-01, 7.40e+00],\n",
       "       [7.00e+00, 2.35e+02, 4.80e-01, 7.44e-01, 1.89e+01],\n",
       "       [5.90e+00, 1.05e+02, 3.59e-01, 8.39e-01, 7.90e+00],\n",
       "       [6.10e+00, 1.80e+02, 5.28e-01, 7.90e-01, 1.22e+01],\n",
       "       [5.70e+00, 1.85e+02, 3.52e-01, 7.01e-01, 1.10e+01],\n",
       "       [7.10e+00, 2.45e+02, 4.14e-01, 7.78e-01, 2.80e+00],\n",
       "       [5.80e+00, 1.80e+02, 4.25e-01, 8.72e-01, 1.18e+01],\n",
       "       [7.40e+00, 2.40e+02, 5.99e-01, 7.13e-01, 1.71e+01],\n",
       "       [6.80e+00, 2.25e+02, 4.82e-01, 7.01e-01, 1.16e+01],\n",
       "       [6.80e+00, 2.15e+02, 4.57e-01, 7.34e-01, 5.80e+00],\n",
       "       [7.00e+00, 2.30e+02, 4.35e-01, 7.64e-01, 8.30e+00]])"
      ]
     },
     "execution_count": 203,
     "metadata": {},
     "output_type": "execute_result"
    }
   ],
   "source": [
    "filedata"
   ]
  },
  {
   "cell_type": "code",
   "execution_count": 205,
   "metadata": {},
   "outputs": [
    {
     "data": {
      "text/plain": [
       "array([[ 81,  44,  38,  63,  58],\n",
       "       [ 43,  28,  23, -37,  11],\n",
       "       [-50, -19,  13, -60,  62],\n",
       "       [  9,  35,  77,   0, -15],\n",
       "       [ 52,  92,   0,  83, -76],\n",
       "       [-75, -26, -59,  -9, -74]])"
      ]
     },
     "execution_count": 205,
     "metadata": {},
     "output_type": "execute_result"
    }
   ],
   "source": [
    "k=np.random.randint(-100,100,size=(6,5))\n",
    "k"
   ]
  },
  {
   "cell_type": "code",
   "execution_count": 206,
   "metadata": {},
   "outputs": [
    {
     "data": {
      "text/plain": [
       "array([[-50, -19],\n",
       "       [  9,  35]])"
      ]
     },
     "execution_count": 206,
     "metadata": {},
     "output_type": "execute_result"
    }
   ],
   "source": [
    "k[2:4,0:2]"
   ]
  },
  {
   "cell_type": "code",
   "execution_count": 210,
   "metadata": {},
   "outputs": [
    {
     "data": {
      "text/plain": [
       "array([ 44,  23, -60, -15])"
      ]
     },
     "execution_count": 210,
     "metadata": {},
     "output_type": "execute_result"
    }
   ],
   "source": [
    "k[[0,1,2,3],[1,2,3,4]]   #COOL ,AIN'T IT"
   ]
  },
  {
   "cell_type": "code",
   "execution_count": 211,
   "metadata": {},
   "outputs": [
    {
     "data": {
      "text/plain": [
       "array([[ 63,  58],\n",
       "       [ 83, -76],\n",
       "       [ -9, -74]])"
      ]
     },
     "execution_count": 211,
     "metadata": {},
     "output_type": "execute_result"
    }
   ],
   "source": [
    "k[[0,-2,-1],3:]"
   ]
  },
  {
   "cell_type": "code",
   "execution_count": null,
   "metadata": {},
   "outputs": [],
   "source": []
  }
 ],
 "metadata": {
  "kernelspec": {
   "display_name": "Python 3",
   "language": "python",
   "name": "python3"
  },
  "language_info": {
   "codemirror_mode": {
    "name": "ipython",
    "version": 3
   },
   "file_extension": ".py",
   "mimetype": "text/x-python",
   "name": "python",
   "nbconvert_exporter": "python",
   "pygments_lexer": "ipython3",
   "version": "3.7.3"
  }
 },
 "nbformat": 4,
 "nbformat_minor": 2
}
