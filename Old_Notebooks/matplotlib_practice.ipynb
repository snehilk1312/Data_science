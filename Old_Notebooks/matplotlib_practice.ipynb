{
 "cells": [
  {
   "cell_type": "code",
   "execution_count": 3,
   "metadata": {},
   "outputs": [],
   "source": [
    "import matplotlib.pyplot as plt\n",
    "import pandas as pd\n",
    "import seaborn as sns\n",
    "import numpy as np"
   ]
  },
  {
   "cell_type": "code",
   "execution_count": 6,
   "metadata": {},
   "outputs": [],
   "source": [
    "url=\"F:\\\\Desktop\\\\statistics\\\\stats 1\\\\utf-8''nhanes_2015_2016.csv\"\n",
    "da=pd.read_csv(url)"
   ]
  },
  {
   "cell_type": "code",
   "execution_count": 10,
   "metadata": {},
   "outputs": [
    {
     "data": {
      "text/html": [
       "<div>\n",
       "<style scoped>\n",
       "    .dataframe tbody tr th:only-of-type {\n",
       "        vertical-align: middle;\n",
       "    }\n",
       "\n",
       "    .dataframe tbody tr th {\n",
       "        vertical-align: top;\n",
       "    }\n",
       "\n",
       "    .dataframe thead th {\n",
       "        text-align: right;\n",
       "    }\n",
       "</style>\n",
       "<table border=\"1\" class=\"dataframe\">\n",
       "  <thead>\n",
       "    <tr style=\"text-align: right;\">\n",
       "      <th></th>\n",
       "      <th>SEQN</th>\n",
       "      <th>ALQ101</th>\n",
       "      <th>ALQ110</th>\n",
       "      <th>ALQ130</th>\n",
       "      <th>SMQ020</th>\n",
       "      <th>RIAGENDR</th>\n",
       "      <th>RIDAGEYR</th>\n",
       "      <th>RIDRETH1</th>\n",
       "      <th>DMDCITZN</th>\n",
       "      <th>DMDEDUC2</th>\n",
       "      <th>...</th>\n",
       "      <th>BPXSY2</th>\n",
       "      <th>BPXDI2</th>\n",
       "      <th>BMXWT</th>\n",
       "      <th>BMXHT</th>\n",
       "      <th>BMXBMI</th>\n",
       "      <th>BMXLEG</th>\n",
       "      <th>BMXARML</th>\n",
       "      <th>BMXARMC</th>\n",
       "      <th>BMXWAIST</th>\n",
       "      <th>HIQ210</th>\n",
       "    </tr>\n",
       "  </thead>\n",
       "  <tbody>\n",
       "    <tr>\n",
       "      <th>count</th>\n",
       "      <td>5735.000000</td>\n",
       "      <td>5208.000000</td>\n",
       "      <td>1731.000000</td>\n",
       "      <td>3379.000000</td>\n",
       "      <td>5735.000000</td>\n",
       "      <td>5735.000000</td>\n",
       "      <td>5735.000000</td>\n",
       "      <td>5735.000000</td>\n",
       "      <td>5734.000000</td>\n",
       "      <td>5474.000000</td>\n",
       "      <td>...</td>\n",
       "      <td>5535.000000</td>\n",
       "      <td>5535.000000</td>\n",
       "      <td>5666.000000</td>\n",
       "      <td>5673.000000</td>\n",
       "      <td>5662.000000</td>\n",
       "      <td>5345.000000</td>\n",
       "      <td>5427.000000</td>\n",
       "      <td>5427.000000</td>\n",
       "      <td>5368.000000</td>\n",
       "      <td>4732.000000</td>\n",
       "    </tr>\n",
       "    <tr>\n",
       "      <th>mean</th>\n",
       "      <td>88678.583435</td>\n",
       "      <td>1.336406</td>\n",
       "      <td>1.587522</td>\n",
       "      <td>3.911512</td>\n",
       "      <td>1.607149</td>\n",
       "      <td>1.518919</td>\n",
       "      <td>48.052310</td>\n",
       "      <td>3.042371</td>\n",
       "      <td>1.185385</td>\n",
       "      <td>3.441725</td>\n",
       "      <td>...</td>\n",
       "      <td>124.783017</td>\n",
       "      <td>69.346703</td>\n",
       "      <td>81.342676</td>\n",
       "      <td>166.142834</td>\n",
       "      <td>29.382197</td>\n",
       "      <td>38.576782</td>\n",
       "      <td>37.146987</td>\n",
       "      <td>33.112235</td>\n",
       "      <td>99.567213</td>\n",
       "      <td>1.915469</td>\n",
       "    </tr>\n",
       "    <tr>\n",
       "      <th>std</th>\n",
       "      <td>2882.139237</td>\n",
       "      <td>0.505514</td>\n",
       "      <td>0.623940</td>\n",
       "      <td>34.341839</td>\n",
       "      <td>0.571975</td>\n",
       "      <td>0.499686</td>\n",
       "      <td>18.431011</td>\n",
       "      <td>1.296793</td>\n",
       "      <td>0.491678</td>\n",
       "      <td>1.309700</td>\n",
       "      <td>...</td>\n",
       "      <td>18.527012</td>\n",
       "      <td>13.022829</td>\n",
       "      <td>21.764409</td>\n",
       "      <td>10.079264</td>\n",
       "      <td>7.095921</td>\n",
       "      <td>3.873018</td>\n",
       "      <td>2.800784</td>\n",
       "      <td>5.268027</td>\n",
       "      <td>16.844109</td>\n",
       "      <td>0.414845</td>\n",
       "    </tr>\n",
       "    <tr>\n",
       "      <th>min</th>\n",
       "      <td>83732.000000</td>\n",
       "      <td>1.000000</td>\n",
       "      <td>1.000000</td>\n",
       "      <td>1.000000</td>\n",
       "      <td>1.000000</td>\n",
       "      <td>1.000000</td>\n",
       "      <td>18.000000</td>\n",
       "      <td>1.000000</td>\n",
       "      <td>1.000000</td>\n",
       "      <td>1.000000</td>\n",
       "      <td>...</td>\n",
       "      <td>84.000000</td>\n",
       "      <td>0.000000</td>\n",
       "      <td>32.400000</td>\n",
       "      <td>129.700000</td>\n",
       "      <td>14.500000</td>\n",
       "      <td>26.000000</td>\n",
       "      <td>28.200000</td>\n",
       "      <td>17.100000</td>\n",
       "      <td>58.700000</td>\n",
       "      <td>1.000000</td>\n",
       "    </tr>\n",
       "    <tr>\n",
       "      <th>25%</th>\n",
       "      <td>86164.000000</td>\n",
       "      <td>1.000000</td>\n",
       "      <td>1.000000</td>\n",
       "      <td>1.000000</td>\n",
       "      <td>1.000000</td>\n",
       "      <td>1.000000</td>\n",
       "      <td>32.000000</td>\n",
       "      <td>2.000000</td>\n",
       "      <td>1.000000</td>\n",
       "      <td>3.000000</td>\n",
       "      <td>...</td>\n",
       "      <td>112.000000</td>\n",
       "      <td>62.000000</td>\n",
       "      <td>65.900000</td>\n",
       "      <td>158.700000</td>\n",
       "      <td>24.300000</td>\n",
       "      <td>36.000000</td>\n",
       "      <td>35.200000</td>\n",
       "      <td>29.500000</td>\n",
       "      <td>87.600000</td>\n",
       "      <td>2.000000</td>\n",
       "    </tr>\n",
       "    <tr>\n",
       "      <th>50%</th>\n",
       "      <td>88668.000000</td>\n",
       "      <td>1.000000</td>\n",
       "      <td>2.000000</td>\n",
       "      <td>2.000000</td>\n",
       "      <td>2.000000</td>\n",
       "      <td>2.000000</td>\n",
       "      <td>48.000000</td>\n",
       "      <td>3.000000</td>\n",
       "      <td>1.000000</td>\n",
       "      <td>4.000000</td>\n",
       "      <td>...</td>\n",
       "      <td>122.000000</td>\n",
       "      <td>70.000000</td>\n",
       "      <td>78.200000</td>\n",
       "      <td>166.000000</td>\n",
       "      <td>28.300000</td>\n",
       "      <td>38.600000</td>\n",
       "      <td>37.100000</td>\n",
       "      <td>32.700000</td>\n",
       "      <td>98.300000</td>\n",
       "      <td>2.000000</td>\n",
       "    </tr>\n",
       "    <tr>\n",
       "      <th>75%</th>\n",
       "      <td>91178.500000</td>\n",
       "      <td>2.000000</td>\n",
       "      <td>2.000000</td>\n",
       "      <td>3.000000</td>\n",
       "      <td>2.000000</td>\n",
       "      <td>2.000000</td>\n",
       "      <td>63.000000</td>\n",
       "      <td>4.000000</td>\n",
       "      <td>1.000000</td>\n",
       "      <td>4.750000</td>\n",
       "      <td>...</td>\n",
       "      <td>134.000000</td>\n",
       "      <td>78.000000</td>\n",
       "      <td>92.700000</td>\n",
       "      <td>173.500000</td>\n",
       "      <td>33.000000</td>\n",
       "      <td>41.200000</td>\n",
       "      <td>39.000000</td>\n",
       "      <td>36.200000</td>\n",
       "      <td>109.300000</td>\n",
       "      <td>2.000000</td>\n",
       "    </tr>\n",
       "    <tr>\n",
       "      <th>max</th>\n",
       "      <td>93702.000000</td>\n",
       "      <td>9.000000</td>\n",
       "      <td>9.000000</td>\n",
       "      <td>999.000000</td>\n",
       "      <td>9.000000</td>\n",
       "      <td>2.000000</td>\n",
       "      <td>80.000000</td>\n",
       "      <td>5.000000</td>\n",
       "      <td>9.000000</td>\n",
       "      <td>9.000000</td>\n",
       "      <td>...</td>\n",
       "      <td>238.000000</td>\n",
       "      <td>144.000000</td>\n",
       "      <td>198.900000</td>\n",
       "      <td>202.700000</td>\n",
       "      <td>67.300000</td>\n",
       "      <td>51.500000</td>\n",
       "      <td>47.400000</td>\n",
       "      <td>58.400000</td>\n",
       "      <td>171.600000</td>\n",
       "      <td>9.000000</td>\n",
       "    </tr>\n",
       "  </tbody>\n",
       "</table>\n",
       "<p>8 rows × 28 columns</p>\n",
       "</div>"
      ],
      "text/plain": [
       "               SEQN       ALQ101       ALQ110       ALQ130       SMQ020  \\\n",
       "count   5735.000000  5208.000000  1731.000000  3379.000000  5735.000000   \n",
       "mean   88678.583435     1.336406     1.587522     3.911512     1.607149   \n",
       "std     2882.139237     0.505514     0.623940    34.341839     0.571975   \n",
       "min    83732.000000     1.000000     1.000000     1.000000     1.000000   \n",
       "25%    86164.000000     1.000000     1.000000     1.000000     1.000000   \n",
       "50%    88668.000000     1.000000     2.000000     2.000000     2.000000   \n",
       "75%    91178.500000     2.000000     2.000000     3.000000     2.000000   \n",
       "max    93702.000000     9.000000     9.000000   999.000000     9.000000   \n",
       "\n",
       "          RIAGENDR     RIDAGEYR     RIDRETH1     DMDCITZN     DMDEDUC2  ...  \\\n",
       "count  5735.000000  5735.000000  5735.000000  5734.000000  5474.000000  ...   \n",
       "mean      1.518919    48.052310     3.042371     1.185385     3.441725  ...   \n",
       "std       0.499686    18.431011     1.296793     0.491678     1.309700  ...   \n",
       "min       1.000000    18.000000     1.000000     1.000000     1.000000  ...   \n",
       "25%       1.000000    32.000000     2.000000     1.000000     3.000000  ...   \n",
       "50%       2.000000    48.000000     3.000000     1.000000     4.000000  ...   \n",
       "75%       2.000000    63.000000     4.000000     1.000000     4.750000  ...   \n",
       "max       2.000000    80.000000     5.000000     9.000000     9.000000  ...   \n",
       "\n",
       "            BPXSY2       BPXDI2        BMXWT        BMXHT       BMXBMI  \\\n",
       "count  5535.000000  5535.000000  5666.000000  5673.000000  5662.000000   \n",
       "mean    124.783017    69.346703    81.342676   166.142834    29.382197   \n",
       "std      18.527012    13.022829    21.764409    10.079264     7.095921   \n",
       "min      84.000000     0.000000    32.400000   129.700000    14.500000   \n",
       "25%     112.000000    62.000000    65.900000   158.700000    24.300000   \n",
       "50%     122.000000    70.000000    78.200000   166.000000    28.300000   \n",
       "75%     134.000000    78.000000    92.700000   173.500000    33.000000   \n",
       "max     238.000000   144.000000   198.900000   202.700000    67.300000   \n",
       "\n",
       "            BMXLEG      BMXARML      BMXARMC     BMXWAIST       HIQ210  \n",
       "count  5345.000000  5427.000000  5427.000000  5368.000000  4732.000000  \n",
       "mean     38.576782    37.146987    33.112235    99.567213     1.915469  \n",
       "std       3.873018     2.800784     5.268027    16.844109     0.414845  \n",
       "min      26.000000    28.200000    17.100000    58.700000     1.000000  \n",
       "25%      36.000000    35.200000    29.500000    87.600000     2.000000  \n",
       "50%      38.600000    37.100000    32.700000    98.300000     2.000000  \n",
       "75%      41.200000    39.000000    36.200000   109.300000     2.000000  \n",
       "max      51.500000    47.400000    58.400000   171.600000     9.000000  \n",
       "\n",
       "[8 rows x 28 columns]"
      ]
     },
     "execution_count": 10,
     "metadata": {},
     "output_type": "execute_result"
    }
   ],
   "source": [
    "\n",
    "da.describe()"
   ]
  },
  {
   "cell_type": "code",
   "execution_count": 11,
   "metadata": {},
   "outputs": [
    {
     "data": {
      "text/plain": [
       "pandas.core.frame.DataFrame"
      ]
     },
     "execution_count": 11,
     "metadata": {},
     "output_type": "execute_result"
    }
   ],
   "source": [
    "type(da)"
   ]
  },
  {
   "cell_type": "code",
   "execution_count": 12,
   "metadata": {},
   "outputs": [
    {
     "data": {
      "text/plain": [
       "4.0    1621\n",
       "5.0    1366\n",
       "3.0    1186\n",
       "1.0     655\n",
       "2.0     643\n",
       "9.0       3\n",
       "Name: DMDEDUC2, dtype: int64"
      ]
     },
     "execution_count": 12,
     "metadata": {},
     "output_type": "execute_result"
    }
   ],
   "source": [
    "da.DMDEDUC2.value_counts()"
   ]
  },
  {
   "cell_type": "code",
   "execution_count": 13,
   "metadata": {},
   "outputs": [
    {
     "data": {
      "text/plain": [
       "5474"
      ]
     },
     "execution_count": 13,
     "metadata": {},
     "output_type": "execute_result"
    }
   ],
   "source": [
    "da.DMDEDUC2.value_counts().sum()"
   ]
  },
  {
   "cell_type": "code",
   "execution_count": 14,
   "metadata": {},
   "outputs": [
    {
     "data": {
      "text/plain": [
       "0       False\n",
       "1       False\n",
       "2       False\n",
       "3       False\n",
       "4       False\n",
       "5       False\n",
       "6       False\n",
       "7       False\n",
       "8        True\n",
       "9       False\n",
       "10      False\n",
       "11      False\n",
       "12      False\n",
       "13      False\n",
       "14      False\n",
       "15      False\n",
       "16       True\n",
       "17      False\n",
       "18      False\n",
       "19      False\n",
       "20      False\n",
       "21      False\n",
       "22      False\n",
       "23      False\n",
       "24      False\n",
       "25      False\n",
       "26      False\n",
       "27      False\n",
       "28      False\n",
       "29      False\n",
       "        ...  \n",
       "5705    False\n",
       "5706    False\n",
       "5707    False\n",
       "5708    False\n",
       "5709    False\n",
       "5710    False\n",
       "5711    False\n",
       "5712    False\n",
       "5713    False\n",
       "5714    False\n",
       "5715    False\n",
       "5716    False\n",
       "5717    False\n",
       "5718    False\n",
       "5719    False\n",
       "5720    False\n",
       "5721    False\n",
       "5722    False\n",
       "5723    False\n",
       "5724    False\n",
       "5725    False\n",
       "5726    False\n",
       "5727    False\n",
       "5728    False\n",
       "5729    False\n",
       "5730    False\n",
       "5731    False\n",
       "5732    False\n",
       "5733    False\n",
       "5734    False\n",
       "Name: DMDEDUC2, Length: 5735, dtype: bool"
      ]
     },
     "execution_count": 14,
     "metadata": {},
     "output_type": "execute_result"
    }
   ],
   "source": [
    "pd.isnull(da.DMDEDUC2)"
   ]
  },
  {
   "cell_type": "code",
   "execution_count": 16,
   "metadata": {},
   "outputs": [
    {
     "data": {
      "text/plain": [
       "SEQN           0\n",
       "ALQ101       527\n",
       "ALQ110      4004\n",
       "ALQ130      2356\n",
       "SMQ020         0\n",
       "RIAGENDR       0\n",
       "RIDAGEYR       0\n",
       "RIDRETH1       0\n",
       "DMDCITZN       1\n",
       "DMDEDUC2     261\n",
       "DMDMARTL     261\n",
       "DMDHHSIZ       0\n",
       "WTINT2YR       0\n",
       "SDMVPSU        0\n",
       "SDMVSTRA       0\n",
       "INDFMPIR     601\n",
       "BPXSY1       334\n",
       "BPXDI1       334\n",
       "BPXSY2       200\n",
       "BPXDI2       200\n",
       "BMXWT         69\n",
       "BMXHT         62\n",
       "BMXBMI        73\n",
       "BMXLEG       390\n",
       "BMXARML      308\n",
       "BMXARMC      308\n",
       "BMXWAIST     367\n",
       "HIQ210      1003\n",
       "dtype: int64"
      ]
     },
     "execution_count": 16,
     "metadata": {},
     "output_type": "execute_result"
    }
   ],
   "source": [
    "pd.isnull(da).sum()"
   ]
  },
  {
   "cell_type": "code",
   "execution_count": 17,
   "metadata": {},
   "outputs": [
    {
     "data": {
      "text/plain": [
       "261"
      ]
     },
     "execution_count": 17,
     "metadata": {},
     "output_type": "execute_result"
    }
   ],
   "source": [
    "pd.isnull(da.DMDEDUC2).sum()"
   ]
  },
  {
   "cell_type": "code",
   "execution_count": 18,
   "metadata": {},
   "outputs": [
    {
     "data": {
      "text/plain": [
       "Some college/AA    1621\n",
       "College            1366\n",
       "HS/GED             1186\n",
       "<9                  655\n",
       "9-11                643\n",
       "Don't Know            3\n",
       "Name: DMDEDUC2x, dtype: int64"
      ]
     },
     "execution_count": 18,
     "metadata": {},
     "output_type": "execute_result"
    }
   ],
   "source": [
    "da[\"DMDEDUC2x\"] = da.DMDEDUC2.replace({1: \"<9\", 2: \"9-11\", 3: \"HS/GED\", 4: \"Some college/AA\", 5: \"College\", \n",
    "                                    7:\"Refused\",9:\"Don't Know\"})\n",
    "da.DMDEDUC2x.value_counts()"
   ]
  },
  {
   "cell_type": "code",
   "execution_count": 24,
   "metadata": {},
   "outputs": [
    {
     "data": {
      "text/plain": [
       "4.0    0.296127\n",
       "5.0    0.249543\n",
       "3.0    0.216661\n",
       "1.0    0.119657\n",
       "2.0    0.117464\n",
       "9.0    0.000548\n",
       "Name: DMDEDUC2, dtype: float64"
      ]
     },
     "execution_count": 24,
     "metadata": {},
     "output_type": "execute_result"
    }
   ],
   "source": [
    "x=da.DMDEDUC2.value_counts()\n",
    "x/x.sum()"
   ]
  },
  {
   "cell_type": "code",
   "execution_count": 25,
   "metadata": {},
   "outputs": [],
   "source": [
    "a=np.array([1,2],dtype='float32')"
   ]
  },
  {
   "cell_type": "code",
   "execution_count": 26,
   "metadata": {},
   "outputs": [
    {
     "data": {
      "text/plain": [
       "array([1., 2.], dtype=float32)"
      ]
     },
     "execution_count": 26,
     "metadata": {},
     "output_type": "execute_result"
    }
   ],
   "source": [
    "a"
   ]
  },
  {
   "cell_type": "code",
   "execution_count": 29,
   "metadata": {},
   "outputs": [],
   "source": [
    "da['DMDEDUC2']=da.DMDEDUC2x.fillna('Missing')#created category \"Missing\",assign missing values using fillna. "
   ]
  },
  {
   "cell_type": "code",
   "execution_count": 30,
   "metadata": {},
   "outputs": [
    {
     "data": {
      "text/plain": [
       "Some college/AA    1621\n",
       "College            1366\n",
       "HS/GED             1186\n",
       "<9                  655\n",
       "9-11                643\n",
       "Missing             261\n",
       "Don't Know            3\n",
       "Name: DMDEDUC2, dtype: int64"
      ]
     },
     "execution_count": 30,
     "metadata": {},
     "output_type": "execute_result"
    }
   ],
   "source": [
    "da.DMDEDUC2.value_counts()"
   ]
  },
  {
   "cell_type": "code",
   "execution_count": 31,
   "metadata": {},
   "outputs": [
    {
     "data": {
      "text/html": [
       "<div>\n",
       "<style scoped>\n",
       "    .dataframe tbody tr th:only-of-type {\n",
       "        vertical-align: middle;\n",
       "    }\n",
       "\n",
       "    .dataframe tbody tr th {\n",
       "        vertical-align: top;\n",
       "    }\n",
       "\n",
       "    .dataframe thead th {\n",
       "        text-align: right;\n",
       "    }\n",
       "</style>\n",
       "<table border=\"1\" class=\"dataframe\">\n",
       "  <thead>\n",
       "    <tr style=\"text-align: right;\">\n",
       "      <th></th>\n",
       "      <th>SEQN</th>\n",
       "      <th>ALQ101</th>\n",
       "      <th>ALQ110</th>\n",
       "      <th>ALQ130</th>\n",
       "      <th>SMQ020</th>\n",
       "      <th>RIAGENDR</th>\n",
       "      <th>RIDAGEYR</th>\n",
       "      <th>RIDRETH1</th>\n",
       "      <th>DMDCITZN</th>\n",
       "      <th>DMDMARTL</th>\n",
       "      <th>...</th>\n",
       "      <th>BPXSY2</th>\n",
       "      <th>BPXDI2</th>\n",
       "      <th>BMXWT</th>\n",
       "      <th>BMXHT</th>\n",
       "      <th>BMXBMI</th>\n",
       "      <th>BMXLEG</th>\n",
       "      <th>BMXARML</th>\n",
       "      <th>BMXARMC</th>\n",
       "      <th>BMXWAIST</th>\n",
       "      <th>HIQ210</th>\n",
       "    </tr>\n",
       "  </thead>\n",
       "  <tbody>\n",
       "    <tr>\n",
       "      <th>count</th>\n",
       "      <td>5735.000000</td>\n",
       "      <td>5208.000000</td>\n",
       "      <td>1731.000000</td>\n",
       "      <td>3379.000000</td>\n",
       "      <td>5735.000000</td>\n",
       "      <td>5735.000000</td>\n",
       "      <td>5735.000000</td>\n",
       "      <td>5735.000000</td>\n",
       "      <td>5734.000000</td>\n",
       "      <td>5474.000000</td>\n",
       "      <td>...</td>\n",
       "      <td>5535.000000</td>\n",
       "      <td>5535.000000</td>\n",
       "      <td>5666.000000</td>\n",
       "      <td>5673.000000</td>\n",
       "      <td>5662.000000</td>\n",
       "      <td>5345.000000</td>\n",
       "      <td>5427.000000</td>\n",
       "      <td>5427.000000</td>\n",
       "      <td>5368.000000</td>\n",
       "      <td>4732.000000</td>\n",
       "    </tr>\n",
       "    <tr>\n",
       "      <th>mean</th>\n",
       "      <td>88678.583435</td>\n",
       "      <td>1.336406</td>\n",
       "      <td>1.587522</td>\n",
       "      <td>3.911512</td>\n",
       "      <td>1.607149</td>\n",
       "      <td>1.518919</td>\n",
       "      <td>48.052310</td>\n",
       "      <td>3.042371</td>\n",
       "      <td>1.185385</td>\n",
       "      <td>2.628608</td>\n",
       "      <td>...</td>\n",
       "      <td>124.783017</td>\n",
       "      <td>69.346703</td>\n",
       "      <td>81.342676</td>\n",
       "      <td>166.142834</td>\n",
       "      <td>29.382197</td>\n",
       "      <td>38.576782</td>\n",
       "      <td>37.146987</td>\n",
       "      <td>33.112235</td>\n",
       "      <td>99.567213</td>\n",
       "      <td>1.915469</td>\n",
       "    </tr>\n",
       "    <tr>\n",
       "      <th>std</th>\n",
       "      <td>2882.139237</td>\n",
       "      <td>0.505514</td>\n",
       "      <td>0.623940</td>\n",
       "      <td>34.341839</td>\n",
       "      <td>0.571975</td>\n",
       "      <td>0.499686</td>\n",
       "      <td>18.431011</td>\n",
       "      <td>1.296793</td>\n",
       "      <td>0.491678</td>\n",
       "      <td>2.366786</td>\n",
       "      <td>...</td>\n",
       "      <td>18.527012</td>\n",
       "      <td>13.022829</td>\n",
       "      <td>21.764409</td>\n",
       "      <td>10.079264</td>\n",
       "      <td>7.095921</td>\n",
       "      <td>3.873018</td>\n",
       "      <td>2.800784</td>\n",
       "      <td>5.268027</td>\n",
       "      <td>16.844109</td>\n",
       "      <td>0.414845</td>\n",
       "    </tr>\n",
       "    <tr>\n",
       "      <th>min</th>\n",
       "      <td>83732.000000</td>\n",
       "      <td>1.000000</td>\n",
       "      <td>1.000000</td>\n",
       "      <td>1.000000</td>\n",
       "      <td>1.000000</td>\n",
       "      <td>1.000000</td>\n",
       "      <td>18.000000</td>\n",
       "      <td>1.000000</td>\n",
       "      <td>1.000000</td>\n",
       "      <td>1.000000</td>\n",
       "      <td>...</td>\n",
       "      <td>84.000000</td>\n",
       "      <td>0.000000</td>\n",
       "      <td>32.400000</td>\n",
       "      <td>129.700000</td>\n",
       "      <td>14.500000</td>\n",
       "      <td>26.000000</td>\n",
       "      <td>28.200000</td>\n",
       "      <td>17.100000</td>\n",
       "      <td>58.700000</td>\n",
       "      <td>1.000000</td>\n",
       "    </tr>\n",
       "    <tr>\n",
       "      <th>25%</th>\n",
       "      <td>86164.000000</td>\n",
       "      <td>1.000000</td>\n",
       "      <td>1.000000</td>\n",
       "      <td>1.000000</td>\n",
       "      <td>1.000000</td>\n",
       "      <td>1.000000</td>\n",
       "      <td>32.000000</td>\n",
       "      <td>2.000000</td>\n",
       "      <td>1.000000</td>\n",
       "      <td>1.000000</td>\n",
       "      <td>...</td>\n",
       "      <td>112.000000</td>\n",
       "      <td>62.000000</td>\n",
       "      <td>65.900000</td>\n",
       "      <td>158.700000</td>\n",
       "      <td>24.300000</td>\n",
       "      <td>36.000000</td>\n",
       "      <td>35.200000</td>\n",
       "      <td>29.500000</td>\n",
       "      <td>87.600000</td>\n",
       "      <td>2.000000</td>\n",
       "    </tr>\n",
       "    <tr>\n",
       "      <th>50%</th>\n",
       "      <td>88668.000000</td>\n",
       "      <td>1.000000</td>\n",
       "      <td>2.000000</td>\n",
       "      <td>2.000000</td>\n",
       "      <td>2.000000</td>\n",
       "      <td>2.000000</td>\n",
       "      <td>48.000000</td>\n",
       "      <td>3.000000</td>\n",
       "      <td>1.000000</td>\n",
       "      <td>1.000000</td>\n",
       "      <td>...</td>\n",
       "      <td>122.000000</td>\n",
       "      <td>70.000000</td>\n",
       "      <td>78.200000</td>\n",
       "      <td>166.000000</td>\n",
       "      <td>28.300000</td>\n",
       "      <td>38.600000</td>\n",
       "      <td>37.100000</td>\n",
       "      <td>32.700000</td>\n",
       "      <td>98.300000</td>\n",
       "      <td>2.000000</td>\n",
       "    </tr>\n",
       "    <tr>\n",
       "      <th>75%</th>\n",
       "      <td>91178.500000</td>\n",
       "      <td>2.000000</td>\n",
       "      <td>2.000000</td>\n",
       "      <td>3.000000</td>\n",
       "      <td>2.000000</td>\n",
       "      <td>2.000000</td>\n",
       "      <td>63.000000</td>\n",
       "      <td>4.000000</td>\n",
       "      <td>1.000000</td>\n",
       "      <td>5.000000</td>\n",
       "      <td>...</td>\n",
       "      <td>134.000000</td>\n",
       "      <td>78.000000</td>\n",
       "      <td>92.700000</td>\n",
       "      <td>173.500000</td>\n",
       "      <td>33.000000</td>\n",
       "      <td>41.200000</td>\n",
       "      <td>39.000000</td>\n",
       "      <td>36.200000</td>\n",
       "      <td>109.300000</td>\n",
       "      <td>2.000000</td>\n",
       "    </tr>\n",
       "    <tr>\n",
       "      <th>max</th>\n",
       "      <td>93702.000000</td>\n",
       "      <td>9.000000</td>\n",
       "      <td>9.000000</td>\n",
       "      <td>999.000000</td>\n",
       "      <td>9.000000</td>\n",
       "      <td>2.000000</td>\n",
       "      <td>80.000000</td>\n",
       "      <td>5.000000</td>\n",
       "      <td>9.000000</td>\n",
       "      <td>77.000000</td>\n",
       "      <td>...</td>\n",
       "      <td>238.000000</td>\n",
       "      <td>144.000000</td>\n",
       "      <td>198.900000</td>\n",
       "      <td>202.700000</td>\n",
       "      <td>67.300000</td>\n",
       "      <td>51.500000</td>\n",
       "      <td>47.400000</td>\n",
       "      <td>58.400000</td>\n",
       "      <td>171.600000</td>\n",
       "      <td>9.000000</td>\n",
       "    </tr>\n",
       "  </tbody>\n",
       "</table>\n",
       "<p>8 rows × 27 columns</p>\n",
       "</div>"
      ],
      "text/plain": [
       "               SEQN       ALQ101       ALQ110       ALQ130       SMQ020  \\\n",
       "count   5735.000000  5208.000000  1731.000000  3379.000000  5735.000000   \n",
       "mean   88678.583435     1.336406     1.587522     3.911512     1.607149   \n",
       "std     2882.139237     0.505514     0.623940    34.341839     0.571975   \n",
       "min    83732.000000     1.000000     1.000000     1.000000     1.000000   \n",
       "25%    86164.000000     1.000000     1.000000     1.000000     1.000000   \n",
       "50%    88668.000000     1.000000     2.000000     2.000000     2.000000   \n",
       "75%    91178.500000     2.000000     2.000000     3.000000     2.000000   \n",
       "max    93702.000000     9.000000     9.000000   999.000000     9.000000   \n",
       "\n",
       "          RIAGENDR     RIDAGEYR     RIDRETH1     DMDCITZN     DMDMARTL  ...  \\\n",
       "count  5735.000000  5735.000000  5735.000000  5734.000000  5474.000000  ...   \n",
       "mean      1.518919    48.052310     3.042371     1.185385     2.628608  ...   \n",
       "std       0.499686    18.431011     1.296793     0.491678     2.366786  ...   \n",
       "min       1.000000    18.000000     1.000000     1.000000     1.000000  ...   \n",
       "25%       1.000000    32.000000     2.000000     1.000000     1.000000  ...   \n",
       "50%       2.000000    48.000000     3.000000     1.000000     1.000000  ...   \n",
       "75%       2.000000    63.000000     4.000000     1.000000     5.000000  ...   \n",
       "max       2.000000    80.000000     5.000000     9.000000    77.000000  ...   \n",
       "\n",
       "            BPXSY2       BPXDI2        BMXWT        BMXHT       BMXBMI  \\\n",
       "count  5535.000000  5535.000000  5666.000000  5673.000000  5662.000000   \n",
       "mean    124.783017    69.346703    81.342676   166.142834    29.382197   \n",
       "std      18.527012    13.022829    21.764409    10.079264     7.095921   \n",
       "min      84.000000     0.000000    32.400000   129.700000    14.500000   \n",
       "25%     112.000000    62.000000    65.900000   158.700000    24.300000   \n",
       "50%     122.000000    70.000000    78.200000   166.000000    28.300000   \n",
       "75%     134.000000    78.000000    92.700000   173.500000    33.000000   \n",
       "max     238.000000   144.000000   198.900000   202.700000    67.300000   \n",
       "\n",
       "            BMXLEG      BMXARML      BMXARMC     BMXWAIST       HIQ210  \n",
       "count  5345.000000  5427.000000  5427.000000  5368.000000  4732.000000  \n",
       "mean     38.576782    37.146987    33.112235    99.567213     1.915469  \n",
       "std       3.873018     2.800784     5.268027    16.844109     0.414845  \n",
       "min      26.000000    28.200000    17.100000    58.700000     1.000000  \n",
       "25%      36.000000    35.200000    29.500000    87.600000     2.000000  \n",
       "50%      38.600000    37.100000    32.700000    98.300000     2.000000  \n",
       "75%      41.200000    39.000000    36.200000   109.300000     2.000000  \n",
       "max      51.500000    47.400000    58.400000   171.600000     9.000000  \n",
       "\n",
       "[8 rows x 27 columns]"
      ]
     },
     "execution_count": 31,
     "metadata": {},
     "output_type": "execute_result"
    }
   ],
   "source": [
    "da.describe()"
   ]
  },
  {
   "cell_type": "code",
   "execution_count": 38,
   "metadata": {},
   "outputs": [
    {
     "data": {
      "text/plain": [
       "count    5666.000000\n",
       "mean       81.342676\n",
       "std        21.764409\n",
       "min        32.400000\n",
       "25%        65.900000\n",
       "50%        78.200000\n",
       "75%        92.700000\n",
       "max       198.900000\n",
       "Name: BMXWT, dtype: float64"
      ]
     },
     "execution_count": 38,
     "metadata": {},
     "output_type": "execute_result"
    }
   ],
   "source": [
    "da.BMXWT.dropna().describe()"
   ]
  },
  {
   "cell_type": "code",
   "execution_count": 39,
   "metadata": {},
   "outputs": [
    {
     "data": {
      "text/plain": [
       "count    5666.000000\n",
       "mean       81.342676\n",
       "std        21.764409\n",
       "min        32.400000\n",
       "25%        65.900000\n",
       "50%        78.200000\n",
       "75%        92.700000\n",
       "max       198.900000\n",
       "Name: BMXWT, dtype: float64"
      ]
     },
     "execution_count": 39,
     "metadata": {},
     "output_type": "execute_result"
    }
   ],
   "source": [
    "da.BMXWT.describe()"
   ]
  },
  {
   "cell_type": "code",
   "execution_count": 41,
   "metadata": {},
   "outputs": [],
   "source": [
    "x=da.BMXWT.dropna()\n"
   ]
  },
  {
   "cell_type": "code",
   "execution_count": 42,
   "metadata": {},
   "outputs": [
    {
     "data": {
      "text/plain": [
       "pandas.core.series.Series"
      ]
     },
     "execution_count": 42,
     "metadata": {},
     "output_type": "execute_result"
    }
   ],
   "source": [
    "type(x)"
   ]
  },
  {
   "cell_type": "code",
   "execution_count": 43,
   "metadata": {},
   "outputs": [
    {
     "data": {
      "text/plain": [
       "pandas.core.frame.DataFrame"
      ]
     },
     "execution_count": 43,
     "metadata": {},
     "output_type": "execute_result"
    }
   ],
   "source": [
    "type(da)"
   ]
  },
  {
   "cell_type": "code",
   "execution_count": 45,
   "metadata": {},
   "outputs": [
    {
     "data": {
      "text/plain": [
       "5666"
      ]
     },
     "execution_count": 45,
     "metadata": {},
     "output_type": "execute_result"
    }
   ],
   "source": [
    "x.count()"
   ]
  },
  {
   "cell_type": "code",
   "execution_count": 67,
   "metadata": {},
   "outputs": [],
   "source": [
    "x=da.BMXWT.dropna()#dropna() drops missing values"
   ]
  },
  {
   "cell_type": "code",
   "execution_count": 68,
   "metadata": {},
   "outputs": [
    {
     "data": {
      "text/plain": [
       "count    5666.000000\n",
       "mean       81.342676\n",
       "std        21.764409\n",
       "min        32.400000\n",
       "25%        65.900000\n",
       "50%        78.200000\n",
       "75%        92.700000\n",
       "max       198.900000\n",
       "Name: BMXWT, dtype: float64"
      ]
     },
     "execution_count": 68,
     "metadata": {},
     "output_type": "execute_result"
    }
   ],
   "source": [
    "x.describe()"
   ]
  },
  {
   "cell_type": "code",
   "execution_count": 69,
   "metadata": {},
   "outputs": [
    {
     "name": "stdout",
     "output_type": "stream",
     "text": [
      "81.34267560889509\n",
      "21.76440935900391\n",
      "32.4\n",
      "65.9\n",
      "83.1\n",
      "92.7\n"
     ]
    }
   ],
   "source": [
    "print(x.mean())\n",
    "print(x.std())\n",
    "print(x.min())\n",
    "print(np.percentile(x,25))\n",
    "print(np.percentile(x,60))\n",
    "print(np.percentile(x,75))"
   ]
  },
  {
   "cell_type": "code",
   "execution_count": 71,
   "metadata": {},
   "outputs": [
    {
     "data": {
      "text/plain": [
       "5666"
      ]
     },
     "execution_count": 71,
     "metadata": {},
     "output_type": "execute_result"
    }
   ],
   "source": [
    "x.value_counts().sum()"
   ]
  },
  {
   "cell_type": "code",
   "execution_count": 74,
   "metadata": {},
   "outputs": [
    {
     "data": {
      "text/plain": [
       "5666"
      ]
     },
     "execution_count": 74,
     "metadata": {},
     "output_type": "execute_result"
    }
   ],
   "source": [
    "y=da.BMXWT.value_counts().sum()\n",
    "y"
   ]
  },
  {
   "cell_type": "code",
   "execution_count": 75,
   "metadata": {},
   "outputs": [
    {
     "data": {
      "text/html": [
       "<div>\n",
       "<style scoped>\n",
       "    .dataframe tbody tr th:only-of-type {\n",
       "        vertical-align: middle;\n",
       "    }\n",
       "\n",
       "    .dataframe tbody tr th {\n",
       "        vertical-align: top;\n",
       "    }\n",
       "\n",
       "    .dataframe thead th {\n",
       "        text-align: right;\n",
       "    }\n",
       "</style>\n",
       "<table border=\"1\" class=\"dataframe\">\n",
       "  <thead>\n",
       "    <tr style=\"text-align: right;\">\n",
       "      <th></th>\n",
       "      <th>SEQN</th>\n",
       "      <th>ALQ101</th>\n",
       "      <th>ALQ110</th>\n",
       "      <th>ALQ130</th>\n",
       "      <th>SMQ020</th>\n",
       "      <th>RIAGENDR</th>\n",
       "      <th>RIDAGEYR</th>\n",
       "      <th>RIDRETH1</th>\n",
       "      <th>DMDCITZN</th>\n",
       "      <th>DMDMARTL</th>\n",
       "      <th>...</th>\n",
       "      <th>BPXSY2</th>\n",
       "      <th>BPXDI2</th>\n",
       "      <th>BMXWT</th>\n",
       "      <th>BMXHT</th>\n",
       "      <th>BMXBMI</th>\n",
       "      <th>BMXLEG</th>\n",
       "      <th>BMXARML</th>\n",
       "      <th>BMXARMC</th>\n",
       "      <th>BMXWAIST</th>\n",
       "      <th>HIQ210</th>\n",
       "    </tr>\n",
       "  </thead>\n",
       "  <tbody>\n",
       "    <tr>\n",
       "      <th>count</th>\n",
       "      <td>5735.000000</td>\n",
       "      <td>5208.000000</td>\n",
       "      <td>1731.000000</td>\n",
       "      <td>3379.000000</td>\n",
       "      <td>5735.000000</td>\n",
       "      <td>5735.000000</td>\n",
       "      <td>5735.000000</td>\n",
       "      <td>5735.000000</td>\n",
       "      <td>5734.000000</td>\n",
       "      <td>5474.000000</td>\n",
       "      <td>...</td>\n",
       "      <td>5535.000000</td>\n",
       "      <td>5535.000000</td>\n",
       "      <td>5666.000000</td>\n",
       "      <td>5673.000000</td>\n",
       "      <td>5662.000000</td>\n",
       "      <td>5345.000000</td>\n",
       "      <td>5427.000000</td>\n",
       "      <td>5427.000000</td>\n",
       "      <td>5368.000000</td>\n",
       "      <td>4732.000000</td>\n",
       "    </tr>\n",
       "    <tr>\n",
       "      <th>mean</th>\n",
       "      <td>88678.583435</td>\n",
       "      <td>1.336406</td>\n",
       "      <td>1.587522</td>\n",
       "      <td>3.911512</td>\n",
       "      <td>1.607149</td>\n",
       "      <td>1.518919</td>\n",
       "      <td>48.052310</td>\n",
       "      <td>3.042371</td>\n",
       "      <td>1.185385</td>\n",
       "      <td>2.628608</td>\n",
       "      <td>...</td>\n",
       "      <td>124.783017</td>\n",
       "      <td>69.346703</td>\n",
       "      <td>81.342676</td>\n",
       "      <td>166.142834</td>\n",
       "      <td>29.382197</td>\n",
       "      <td>38.576782</td>\n",
       "      <td>37.146987</td>\n",
       "      <td>33.112235</td>\n",
       "      <td>99.567213</td>\n",
       "      <td>1.915469</td>\n",
       "    </tr>\n",
       "    <tr>\n",
       "      <th>std</th>\n",
       "      <td>2882.139237</td>\n",
       "      <td>0.505514</td>\n",
       "      <td>0.623940</td>\n",
       "      <td>34.341839</td>\n",
       "      <td>0.571975</td>\n",
       "      <td>0.499686</td>\n",
       "      <td>18.431011</td>\n",
       "      <td>1.296793</td>\n",
       "      <td>0.491678</td>\n",
       "      <td>2.366786</td>\n",
       "      <td>...</td>\n",
       "      <td>18.527012</td>\n",
       "      <td>13.022829</td>\n",
       "      <td>21.764409</td>\n",
       "      <td>10.079264</td>\n",
       "      <td>7.095921</td>\n",
       "      <td>3.873018</td>\n",
       "      <td>2.800784</td>\n",
       "      <td>5.268027</td>\n",
       "      <td>16.844109</td>\n",
       "      <td>0.414845</td>\n",
       "    </tr>\n",
       "    <tr>\n",
       "      <th>min</th>\n",
       "      <td>83732.000000</td>\n",
       "      <td>1.000000</td>\n",
       "      <td>1.000000</td>\n",
       "      <td>1.000000</td>\n",
       "      <td>1.000000</td>\n",
       "      <td>1.000000</td>\n",
       "      <td>18.000000</td>\n",
       "      <td>1.000000</td>\n",
       "      <td>1.000000</td>\n",
       "      <td>1.000000</td>\n",
       "      <td>...</td>\n",
       "      <td>84.000000</td>\n",
       "      <td>0.000000</td>\n",
       "      <td>32.400000</td>\n",
       "      <td>129.700000</td>\n",
       "      <td>14.500000</td>\n",
       "      <td>26.000000</td>\n",
       "      <td>28.200000</td>\n",
       "      <td>17.100000</td>\n",
       "      <td>58.700000</td>\n",
       "      <td>1.000000</td>\n",
       "    </tr>\n",
       "    <tr>\n",
       "      <th>25%</th>\n",
       "      <td>86164.000000</td>\n",
       "      <td>1.000000</td>\n",
       "      <td>1.000000</td>\n",
       "      <td>1.000000</td>\n",
       "      <td>1.000000</td>\n",
       "      <td>1.000000</td>\n",
       "      <td>32.000000</td>\n",
       "      <td>2.000000</td>\n",
       "      <td>1.000000</td>\n",
       "      <td>1.000000</td>\n",
       "      <td>...</td>\n",
       "      <td>112.000000</td>\n",
       "      <td>62.000000</td>\n",
       "      <td>65.900000</td>\n",
       "      <td>158.700000</td>\n",
       "      <td>24.300000</td>\n",
       "      <td>36.000000</td>\n",
       "      <td>35.200000</td>\n",
       "      <td>29.500000</td>\n",
       "      <td>87.600000</td>\n",
       "      <td>2.000000</td>\n",
       "    </tr>\n",
       "    <tr>\n",
       "      <th>50%</th>\n",
       "      <td>88668.000000</td>\n",
       "      <td>1.000000</td>\n",
       "      <td>2.000000</td>\n",
       "      <td>2.000000</td>\n",
       "      <td>2.000000</td>\n",
       "      <td>2.000000</td>\n",
       "      <td>48.000000</td>\n",
       "      <td>3.000000</td>\n",
       "      <td>1.000000</td>\n",
       "      <td>1.000000</td>\n",
       "      <td>...</td>\n",
       "      <td>122.000000</td>\n",
       "      <td>70.000000</td>\n",
       "      <td>78.200000</td>\n",
       "      <td>166.000000</td>\n",
       "      <td>28.300000</td>\n",
       "      <td>38.600000</td>\n",
       "      <td>37.100000</td>\n",
       "      <td>32.700000</td>\n",
       "      <td>98.300000</td>\n",
       "      <td>2.000000</td>\n",
       "    </tr>\n",
       "    <tr>\n",
       "      <th>75%</th>\n",
       "      <td>91178.500000</td>\n",
       "      <td>2.000000</td>\n",
       "      <td>2.000000</td>\n",
       "      <td>3.000000</td>\n",
       "      <td>2.000000</td>\n",
       "      <td>2.000000</td>\n",
       "      <td>63.000000</td>\n",
       "      <td>4.000000</td>\n",
       "      <td>1.000000</td>\n",
       "      <td>5.000000</td>\n",
       "      <td>...</td>\n",
       "      <td>134.000000</td>\n",
       "      <td>78.000000</td>\n",
       "      <td>92.700000</td>\n",
       "      <td>173.500000</td>\n",
       "      <td>33.000000</td>\n",
       "      <td>41.200000</td>\n",
       "      <td>39.000000</td>\n",
       "      <td>36.200000</td>\n",
       "      <td>109.300000</td>\n",
       "      <td>2.000000</td>\n",
       "    </tr>\n",
       "    <tr>\n",
       "      <th>max</th>\n",
       "      <td>93702.000000</td>\n",
       "      <td>9.000000</td>\n",
       "      <td>9.000000</td>\n",
       "      <td>999.000000</td>\n",
       "      <td>9.000000</td>\n",
       "      <td>2.000000</td>\n",
       "      <td>80.000000</td>\n",
       "      <td>5.000000</td>\n",
       "      <td>9.000000</td>\n",
       "      <td>77.000000</td>\n",
       "      <td>...</td>\n",
       "      <td>238.000000</td>\n",
       "      <td>144.000000</td>\n",
       "      <td>198.900000</td>\n",
       "      <td>202.700000</td>\n",
       "      <td>67.300000</td>\n",
       "      <td>51.500000</td>\n",
       "      <td>47.400000</td>\n",
       "      <td>58.400000</td>\n",
       "      <td>171.600000</td>\n",
       "      <td>9.000000</td>\n",
       "    </tr>\n",
       "  </tbody>\n",
       "</table>\n",
       "<p>8 rows × 27 columns</p>\n",
       "</div>"
      ],
      "text/plain": [
       "               SEQN       ALQ101       ALQ110       ALQ130       SMQ020  \\\n",
       "count   5735.000000  5208.000000  1731.000000  3379.000000  5735.000000   \n",
       "mean   88678.583435     1.336406     1.587522     3.911512     1.607149   \n",
       "std     2882.139237     0.505514     0.623940    34.341839     0.571975   \n",
       "min    83732.000000     1.000000     1.000000     1.000000     1.000000   \n",
       "25%    86164.000000     1.000000     1.000000     1.000000     1.000000   \n",
       "50%    88668.000000     1.000000     2.000000     2.000000     2.000000   \n",
       "75%    91178.500000     2.000000     2.000000     3.000000     2.000000   \n",
       "max    93702.000000     9.000000     9.000000   999.000000     9.000000   \n",
       "\n",
       "          RIAGENDR     RIDAGEYR     RIDRETH1     DMDCITZN     DMDMARTL  ...  \\\n",
       "count  5735.000000  5735.000000  5735.000000  5734.000000  5474.000000  ...   \n",
       "mean      1.518919    48.052310     3.042371     1.185385     2.628608  ...   \n",
       "std       0.499686    18.431011     1.296793     0.491678     2.366786  ...   \n",
       "min       1.000000    18.000000     1.000000     1.000000     1.000000  ...   \n",
       "25%       1.000000    32.000000     2.000000     1.000000     1.000000  ...   \n",
       "50%       2.000000    48.000000     3.000000     1.000000     1.000000  ...   \n",
       "75%       2.000000    63.000000     4.000000     1.000000     5.000000  ...   \n",
       "max       2.000000    80.000000     5.000000     9.000000    77.000000  ...   \n",
       "\n",
       "            BPXSY2       BPXDI2        BMXWT        BMXHT       BMXBMI  \\\n",
       "count  5535.000000  5535.000000  5666.000000  5673.000000  5662.000000   \n",
       "mean    124.783017    69.346703    81.342676   166.142834    29.382197   \n",
       "std      18.527012    13.022829    21.764409    10.079264     7.095921   \n",
       "min      84.000000     0.000000    32.400000   129.700000    14.500000   \n",
       "25%     112.000000    62.000000    65.900000   158.700000    24.300000   \n",
       "50%     122.000000    70.000000    78.200000   166.000000    28.300000   \n",
       "75%     134.000000    78.000000    92.700000   173.500000    33.000000   \n",
       "max     238.000000   144.000000   198.900000   202.700000    67.300000   \n",
       "\n",
       "            BMXLEG      BMXARML      BMXARMC     BMXWAIST       HIQ210  \n",
       "count  5345.000000  5427.000000  5427.000000  5368.000000  4732.000000  \n",
       "mean     38.576782    37.146987    33.112235    99.567213     1.915469  \n",
       "std       3.873018     2.800784     5.268027    16.844109     0.414845  \n",
       "min      26.000000    28.200000    17.100000    58.700000     1.000000  \n",
       "25%      36.000000    35.200000    29.500000    87.600000     2.000000  \n",
       "50%      38.600000    37.100000    32.700000    98.300000     2.000000  \n",
       "75%      41.200000    39.000000    36.200000   109.300000     2.000000  \n",
       "max      51.500000    47.400000    58.400000   171.600000     9.000000  \n",
       "\n",
       "[8 rows x 27 columns]"
      ]
     },
     "execution_count": 75,
     "metadata": {},
     "output_type": "execute_result"
    }
   ],
   "source": [
    "da.describe()"
   ]
  },
  {
   "cell_type": "code",
   "execution_count": 79,
   "metadata": {},
   "outputs": [
    {
     "data": {
      "text/plain": [
       "count    5401.000000\n",
       "mean      125.084614\n",
       "std        18.480873\n",
       "min        82.000000\n",
       "25%       112.000000\n",
       "50%       122.000000\n",
       "75%       134.000000\n",
       "max       236.000000\n",
       "Name: BPXSY1, dtype: float64"
      ]
     },
     "execution_count": 79,
     "metadata": {},
     "output_type": "execute_result"
    }
   ],
   "source": [
    "da.BPXSY1.describe()"
   ]
  },
  {
   "cell_type": "code",
   "execution_count": 80,
   "metadata": {},
   "outputs": [
    {
     "data": {
      "text/plain": [
       "count    5535.000000\n",
       "mean      124.783017\n",
       "std        18.527012\n",
       "min        84.000000\n",
       "25%       112.000000\n",
       "50%       122.000000\n",
       "75%       134.000000\n",
       "max       238.000000\n",
       "Name: BPXSY2, dtype: float64"
      ]
     },
     "execution_count": 80,
     "metadata": {},
     "output_type": "execute_result"
    }
   ],
   "source": [
    "da.BPXSY2.describe()"
   ]
  },
  {
   "cell_type": "code",
   "execution_count": 88,
   "metadata": {},
   "outputs": [
    {
     "data": {
      "text/plain": [
       "0.43975588491717527"
      ]
     },
     "execution_count": 88,
     "metadata": {},
     "output_type": "execute_result"
    }
   ],
   "source": [
    "np.mean((da.BPXSY1>=120) & (da.BPXSY2<=139)| (da.BPXDI1 >= 80)&(da.BPXDI2 <= 89))"
   ]
  },
  {
   "cell_type": "code",
   "execution_count": 90,
   "metadata": {
    "scrolled": true
   },
   "outputs": [
    {
     "data": {
      "text/plain": [
       "<matplotlib.axes._subplots.AxesSubplot at 0x2431ff55cc0>"
      ]
     },
     "execution_count": 90,
     "metadata": {},
     "output_type": "execute_result"
    },
    {
     "data": {
      "image/png": "[encoded data removed]",
      "text/plain": [
       "<Figure size 432x288 with 1 Axes>"
      ]
     },
     "metadata": {
      "needs_background": "light"
     },
     "output_type": "display_data"
    }
   ],
   "source": [
    "sns.boxplot(da.BMXWT.dropna())"
   ]
  },
  {
   "cell_type": "code",
   "execution_count": 91,
   "metadata": {},
   "outputs": [
    {
     "data": {
      "text/plain": [
       "<matplotlib.axes._subplots.AxesSubplot at 0x2431ffe0e80>"
      ]
     },
     "execution_count": 91,
     "metadata": {},
     "output_type": "execute_result"
    },
    {
     "data": {
      "image/png": "[encoded data removed]",
      "text/plain": [
       "<Figure size 432x288 with 1 Axes>"
      ]
     },
     "metadata": {
      "needs_background": "light"
     },
     "output_type": "display_data"
    }
   ],
   "source": [
    "sns.distplot(da.BMXWT.dropna())"
   ]
  },
  {
   "cell_type": "code",
   "execution_count": 112,
   "metadata": {},
   "outputs": [],
   "source": [
    "k=da.RIAGENDR.replace({1:'Male',2:'Female'})"
   ]
  },
  {
   "cell_type": "code",
   "execution_count": 110,
   "metadata": {},
   "outputs": [
    {
     "data": {
      "text/plain": [
       "<matplotlib.axes._subplots.AxesSubplot at 0x24321f0a278>"
      ]
     },
     "execution_count": 110,
     "metadata": {},
     "output_type": "execute_result"
    },
    {
     "data": {
      "image/png": "[encoded data removed]",
      "text/plain": [
       "<Figure size 864x360 with 1 Axes>"
      ]
     },
     "metadata": {
      "needs_background": "light"
     },
     "output_type": "display_data"
    }
   ],
   "source": [
    "da[\"agegrp\"] = pd.cut(da.RIDAGEYR, [18, 30, 40, 50, 60, 70, 80]) # Create age strata based on these cut points\n",
    "plt.figure(figsize=(12, 5))  # Make the figure wider than default (12cm wide by 5cm tall)\n",
    "sns.boxplot(x=da[\"agegrp\"], y=da[\"BPXSY1\"])  # Make boxplot of BPXSY1 stratified by age group"
   ]
  },
  {
   "cell_type": "code",
   "execution_count": 114,
   "metadata": {},
   "outputs": [
    {
     "data": {
      "text/plain": [
       "<matplotlib.axes._subplots.AxesSubplot at 0x24321fec588>"
      ]
     },
     "execution_count": 114,
     "metadata": {},
     "output_type": "execute_result"
    },
    {
     "data": {
      "image/png": "[encoded data removed]",
      "text/plain": [
       "<Figure size 864x360 with 1 Axes>"
      ]
     },
     "metadata": {
      "needs_background": "light"
     },
     "output_type": "display_data"
    }
   ],
   "source": [
    "da[\"agegrp\"] = pd.cut(da.RIDAGEYR, [18, 30, 40, 50, 60, 70, 80])\n",
    "plt.figure(figsize=(12, 5))\n",
    "sns.boxplot(x=da[\"agegrp\"], y=da[\"BPXSY1\"],hue=da[\"RIAGENDR\"])#hue is used to diffrentiate color on Basis of RIAGENDR\n"
   ]
  },
  {
   "cell_type": "code",
   "execution_count": 115,
   "metadata": {},
   "outputs": [
    {
     "data": {
      "text/plain": [
       "agegrp    DMDEDUC2       \n",
       "(18, 30]  Some college/AA    364\n",
       "          College            278\n",
       "          HS/GED             237\n",
       "          Missing            128\n",
       "          9-11                99\n",
       "          <9                  47\n",
       "(30, 40]  Some college/AA    282\n",
       "          College            264\n",
       "          HS/GED             182\n",
       "          9-11               111\n",
       "          <9                  93\n",
       "(40, 50]  Some college/AA    262\n",
       "          College            260\n",
       "          HS/GED             171\n",
       "          9-11               112\n",
       "          <9                  98\n",
       "(50, 60]  Some college/AA    258\n",
       "          College            220\n",
       "          HS/GED             220\n",
       "          9-11               122\n",
       "          <9                 104\n",
       "(60, 70]  Some college/AA    238\n",
       "          HS/GED             192\n",
       "          College            188\n",
       "          <9                 149\n",
       "          9-11               111\n",
       "(70, 80]  Some college/AA    217\n",
       "          HS/GED             184\n",
       "          <9                 164\n",
       "          College            156\n",
       "          9-11                88\n",
       "          Don't Know           3\n",
       "Name: DMDEDUC2, dtype: int64"
      ]
     },
     "execution_count": 115,
     "metadata": {},
     "output_type": "execute_result"
    }
   ],
   "source": [
    "da.groupby('agegrp')['DMDEDUC2'].value_counts()"
   ]
  },
  {
   "cell_type": "code",
   "execution_count": 116,
   "metadata": {},
   "outputs": [
    {
     "data": {
      "text/plain": [
       "agegrp    RIAGENDR\n",
       "(18, 30]  2           609\n",
       "          1           544\n",
       "(30, 40]  2           474\n",
       "          1           458\n",
       "(40, 50]  2           502\n",
       "          1           401\n",
       "(50, 60]  2           470\n",
       "          1           454\n",
       "(60, 70]  2           441\n",
       "          1           437\n",
       "(70, 80]  2           410\n",
       "          1           402\n",
       "Name: RIAGENDR, dtype: int64"
      ]
     },
     "execution_count": 116,
     "metadata": {},
     "output_type": "execute_result"
    }
   ],
   "source": [
    "da.groupby('agegrp')['RIAGENDR'].value_counts()"
   ]
  },
  {
   "cell_type": "code",
   "execution_count": 124,
   "metadata": {},
   "outputs": [
    {
     "data": {
      "text/plain": [
       "count    5535.000000\n",
       "mean      124.783017\n",
       "std        18.527012\n",
       "min        84.000000\n",
       "25%       112.000000\n",
       "50%       122.000000\n",
       "75%       134.000000\n",
       "max       238.000000\n",
       "Name: BPXSY2, dtype: float64"
      ]
     },
     "execution_count": 124,
     "metadata": {},
     "output_type": "execute_result"
    }
   ],
   "source": [
    "da.BPXSY2.dropna().describe()"
   ]
  },
  {
   "cell_type": "code",
   "execution_count": 133,
   "metadata": {},
   "outputs": [
    {
     "ename": "SyntaxError",
     "evalue": "invalid syntax (<ipython-input-133-b0ac415cd4b6>, line 1)",
     "output_type": "error",
     "traceback": [
      "\u001b[1;36m  File \u001b[1;32m\"<ipython-input-133-b0ac415cd4b6>\"\u001b[1;36m, line \u001b[1;32m1\u001b[0m\n\u001b[1;33m    sns.(distplot.dropna()).(da.BPXSY2)\u001b[0m\n\u001b[1;37m        ^\u001b[0m\n\u001b[1;31mSyntaxError\u001b[0m\u001b[1;31m:\u001b[0m invalid syntax\n"
     ]
    }
   ],
   "source": [
    "sns.(distplot.dropna()).(da.BPXSY2)"
   ]
  },
  {
   "cell_type": "code",
   "execution_count": 134,
   "metadata": {},
   "outputs": [
    {
     "data": {
      "text/html": [
       "<div>\n",
       "<style scoped>\n",
       "    .dataframe tbody tr th:only-of-type {\n",
       "        vertical-align: middle;\n",
       "    }\n",
       "\n",
       "    .dataframe tbody tr th {\n",
       "        vertical-align: top;\n",
       "    }\n",
       "\n",
       "    .dataframe thead th {\n",
       "        text-align: right;\n",
       "    }\n",
       "</style>\n",
       "<table border=\"1\" class=\"dataframe\">\n",
       "  <thead>\n",
       "    <tr style=\"text-align: right;\">\n",
       "      <th></th>\n",
       "      <th>SEQN</th>\n",
       "      <th>ALQ101</th>\n",
       "      <th>ALQ110</th>\n",
       "      <th>ALQ130</th>\n",
       "      <th>SMQ020</th>\n",
       "      <th>RIAGENDR</th>\n",
       "      <th>RIDAGEYR</th>\n",
       "      <th>RIDRETH1</th>\n",
       "      <th>DMDCITZN</th>\n",
       "      <th>DMDEDUC2</th>\n",
       "      <th>...</th>\n",
       "      <th>BMXWT</th>\n",
       "      <th>BMXHT</th>\n",
       "      <th>BMXBMI</th>\n",
       "      <th>BMXLEG</th>\n",
       "      <th>BMXARML</th>\n",
       "      <th>BMXARMC</th>\n",
       "      <th>BMXWAIST</th>\n",
       "      <th>HIQ210</th>\n",
       "      <th>DMDEDUC2x</th>\n",
       "      <th>agegrp</th>\n",
       "    </tr>\n",
       "  </thead>\n",
       "  <tbody>\n",
       "    <tr>\n",
       "      <th>0</th>\n",
       "      <td>83732</td>\n",
       "      <td>1.0</td>\n",
       "      <td>NaN</td>\n",
       "      <td>1.0</td>\n",
       "      <td>1</td>\n",
       "      <td>1</td>\n",
       "      <td>62</td>\n",
       "      <td>3</td>\n",
       "      <td>1.0</td>\n",
       "      <td>College</td>\n",
       "      <td>...</td>\n",
       "      <td>94.8</td>\n",
       "      <td>184.5</td>\n",
       "      <td>27.8</td>\n",
       "      <td>43.3</td>\n",
       "      <td>43.6</td>\n",
       "      <td>35.9</td>\n",
       "      <td>101.1</td>\n",
       "      <td>2.0</td>\n",
       "      <td>College</td>\n",
       "      <td>(60, 70]</td>\n",
       "    </tr>\n",
       "    <tr>\n",
       "      <th>1</th>\n",
       "      <td>83733</td>\n",
       "      <td>1.0</td>\n",
       "      <td>NaN</td>\n",
       "      <td>6.0</td>\n",
       "      <td>1</td>\n",
       "      <td>1</td>\n",
       "      <td>53</td>\n",
       "      <td>3</td>\n",
       "      <td>2.0</td>\n",
       "      <td>HS/GED</td>\n",
       "      <td>...</td>\n",
       "      <td>90.4</td>\n",
       "      <td>171.4</td>\n",
       "      <td>30.8</td>\n",
       "      <td>38.0</td>\n",
       "      <td>40.0</td>\n",
       "      <td>33.2</td>\n",
       "      <td>107.9</td>\n",
       "      <td>NaN</td>\n",
       "      <td>HS/GED</td>\n",
       "      <td>(50, 60]</td>\n",
       "    </tr>\n",
       "    <tr>\n",
       "      <th>2</th>\n",
       "      <td>83734</td>\n",
       "      <td>1.0</td>\n",
       "      <td>NaN</td>\n",
       "      <td>NaN</td>\n",
       "      <td>1</td>\n",
       "      <td>1</td>\n",
       "      <td>78</td>\n",
       "      <td>3</td>\n",
       "      <td>1.0</td>\n",
       "      <td>HS/GED</td>\n",
       "      <td>...</td>\n",
       "      <td>83.4</td>\n",
       "      <td>170.1</td>\n",
       "      <td>28.8</td>\n",
       "      <td>35.6</td>\n",
       "      <td>37.0</td>\n",
       "      <td>31.0</td>\n",
       "      <td>116.5</td>\n",
       "      <td>2.0</td>\n",
       "      <td>HS/GED</td>\n",
       "      <td>(70, 80]</td>\n",
       "    </tr>\n",
       "    <tr>\n",
       "      <th>3</th>\n",
       "      <td>83735</td>\n",
       "      <td>2.0</td>\n",
       "      <td>1.0</td>\n",
       "      <td>1.0</td>\n",
       "      <td>2</td>\n",
       "      <td>2</td>\n",
       "      <td>56</td>\n",
       "      <td>3</td>\n",
       "      <td>1.0</td>\n",
       "      <td>College</td>\n",
       "      <td>...</td>\n",
       "      <td>109.8</td>\n",
       "      <td>160.9</td>\n",
       "      <td>42.4</td>\n",
       "      <td>38.5</td>\n",
       "      <td>37.7</td>\n",
       "      <td>38.3</td>\n",
       "      <td>110.1</td>\n",
       "      <td>2.0</td>\n",
       "      <td>College</td>\n",
       "      <td>(50, 60]</td>\n",
       "    </tr>\n",
       "    <tr>\n",
       "      <th>4</th>\n",
       "      <td>83736</td>\n",
       "      <td>2.0</td>\n",
       "      <td>1.0</td>\n",
       "      <td>1.0</td>\n",
       "      <td>2</td>\n",
       "      <td>2</td>\n",
       "      <td>42</td>\n",
       "      <td>4</td>\n",
       "      <td>1.0</td>\n",
       "      <td>Some college/AA</td>\n",
       "      <td>...</td>\n",
       "      <td>55.2</td>\n",
       "      <td>164.9</td>\n",
       "      <td>20.3</td>\n",
       "      <td>37.4</td>\n",
       "      <td>36.0</td>\n",
       "      <td>27.2</td>\n",
       "      <td>80.4</td>\n",
       "      <td>2.0</td>\n",
       "      <td>Some college/AA</td>\n",
       "      <td>(40, 50]</td>\n",
       "    </tr>\n",
       "  </tbody>\n",
       "</table>\n",
       "<p>5 rows × 30 columns</p>\n",
       "</div>"
      ],
      "text/plain": [
       "    SEQN  ALQ101  ALQ110  ALQ130  SMQ020  RIAGENDR  RIDAGEYR  RIDRETH1  \\\n",
       "0  83732     1.0     NaN     1.0       1         1        62         3   \n",
       "1  83733     1.0     NaN     6.0       1         1        53         3   \n",
       "2  83734     1.0     NaN     NaN       1         1        78         3   \n",
       "3  83735     2.0     1.0     1.0       2         2        56         3   \n",
       "4  83736     2.0     1.0     1.0       2         2        42         4   \n",
       "\n",
       "   DMDCITZN         DMDEDUC2  ...  BMXWT  BMXHT  BMXBMI  BMXLEG  BMXARML  \\\n",
       "0       1.0          College  ...   94.8  184.5    27.8    43.3     43.6   \n",
       "1       2.0           HS/GED  ...   90.4  171.4    30.8    38.0     40.0   \n",
       "2       1.0           HS/GED  ...   83.4  170.1    28.8    35.6     37.0   \n",
       "3       1.0          College  ...  109.8  160.9    42.4    38.5     37.7   \n",
       "4       1.0  Some college/AA  ...   55.2  164.9    20.3    37.4     36.0   \n",
       "\n",
       "   BMXARMC  BMXWAIST  HIQ210        DMDEDUC2x    agegrp  \n",
       "0     35.9     101.1     2.0          College  (60, 70]  \n",
       "1     33.2     107.9     NaN           HS/GED  (50, 60]  \n",
       "2     31.0     116.5     2.0           HS/GED  (70, 80]  \n",
       "3     38.3     110.1     2.0          College  (50, 60]  \n",
       "4     27.2      80.4     2.0  Some college/AA  (40, 50]  \n",
       "\n",
       "[5 rows x 30 columns]"
      ]
     },
     "execution_count": 134,
     "metadata": {},
     "output_type": "execute_result"
    }
   ],
   "source": [
    "da.head()"
   ]
  },
  {
   "cell_type": "code",
   "execution_count": 135,
   "metadata": {},
   "outputs": [
    {
     "data": {
      "text/plain": [
       "count    5535.000000\n",
       "mean      124.783017\n",
       "std        18.527012\n",
       "min        84.000000\n",
       "25%       112.000000\n",
       "50%       122.000000\n",
       "75%       134.000000\n",
       "max       238.000000\n",
       "Name: BPXSY2, dtype: float64"
      ]
     },
     "execution_count": 135,
     "metadata": {},
     "output_type": "execute_result"
    }
   ],
   "source": [
    "da.BPXSY2.dropna().describe()"
   ]
  },
  {
   "cell_type": "code",
   "execution_count": 136,
   "metadata": {},
   "outputs": [
    {
     "ename": "AttributeError",
     "evalue": "module 'seaborn' has no attribute 'hist'",
     "output_type": "error",
     "traceback": [
      "\u001b[1;31m---------------------------------------------------------------------------\u001b[0m",
      "\u001b[1;31mAttributeError\u001b[0m                            Traceback (most recent call last)",
      "\u001b[1;32m<ipython-input-136-c6dd78b64ade>\u001b[0m in \u001b[0;36m<module>\u001b[1;34m\u001b[0m\n\u001b[1;32m----> 1\u001b[1;33m \u001b[0msns\u001b[0m\u001b[1;33m.\u001b[0m\u001b[0mhist\u001b[0m\u001b[1;33m(\u001b[0m\u001b[1;33m)\u001b[0m\u001b[1;33m\u001b[0m\u001b[1;33m\u001b[0m\u001b[0m\n\u001b[0m",
      "\u001b[1;31mAttributeError\u001b[0m: module 'seaborn' has no attribute 'hist'"
     ]
    }
   ],
   "source": [
    "sns.hist()"
   ]
  },
  {
   "cell_type": "code",
   "execution_count": null,
   "metadata": {},
   "outputs": [],
   "source": []
  }
 ],
 "metadata": {
  "kernelspec": {
   "display_name": "Python 3",
   "language": "python",
   "name": "python3"
  },
  "language_info": {
   "codemirror_mode": {
    "name": "ipython",
    "version": 3
   },
   "file_extension": ".py",
   "mimetype": "text/x-python",
   "name": "python",
   "nbconvert_exporter": "python",
   "pygments_lexer": "ipython3",
   "version": "3.7.3"
  }
 },
 "nbformat": 4,
 "nbformat_minor": 2
}
