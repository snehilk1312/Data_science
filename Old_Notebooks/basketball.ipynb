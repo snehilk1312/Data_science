{
 "cells": [
  {
   "cell_type": "markdown",
   "metadata": {},
   "source": [
    "### x1=height in feet\n",
    "### x2=weight in pounds\n",
    "### x3=% of succesfull field goals\n",
    "### x4=% of successful free throws\n",
    "### x5=average pts scored per game"
   ]
  },
  {
   "cell_type": "code",
   "execution_count": 35,
   "metadata": {},
   "outputs": [],
   "source": [
    "import os\n",
    "import numpy as np\n",
    "import pandas as pd\n",
    "\n",
    "from sklearn.model_selection import train_test_split\n",
    "from sklearn.linear_model import LinearRegression\n",
    "from sklearn.ensemble import RandomForestRegressor\n",
    "from sklearn.svm import SVR\n"
   ]
  },
  {
   "cell_type": "code",
   "execution_count": 36,
   "metadata": {
    "scrolled": true
   },
   "outputs": [],
   "source": [
    "df=pd.read_csv('F:\\Desktop\\mlr09.csv')"
   ]
  },
  {
   "cell_type": "code",
   "execution_count": 37,
   "metadata": {},
   "outputs": [
    {
     "data": {
      "text/html": [
       "<div>\n",
       "<style scoped>\n",
       "    .dataframe tbody tr th:only-of-type {\n",
       "        vertical-align: middle;\n",
       "    }\n",
       "\n",
       "    .dataframe tbody tr th {\n",
       "        vertical-align: top;\n",
       "    }\n",
       "\n",
       "    .dataframe thead th {\n",
       "        text-align: right;\n",
       "    }\n",
       "</style>\n",
       "<table border=\"1\" class=\"dataframe\">\n",
       "  <thead>\n",
       "    <tr style=\"text-align: right;\">\n",
       "      <th></th>\n",
       "      <th>X1</th>\n",
       "      <th>X2</th>\n",
       "      <th>X3</th>\n",
       "      <th>X4</th>\n",
       "      <th>X5</th>\n",
       "    </tr>\n",
       "  </thead>\n",
       "  <tbody>\n",
       "    <tr>\n",
       "      <th>0</th>\n",
       "      <td>6.8</td>\n",
       "      <td>225</td>\n",
       "      <td>0.442</td>\n",
       "      <td>0.672</td>\n",
       "      <td>9.2</td>\n",
       "    </tr>\n",
       "    <tr>\n",
       "      <th>1</th>\n",
       "      <td>6.3</td>\n",
       "      <td>180</td>\n",
       "      <td>0.435</td>\n",
       "      <td>0.797</td>\n",
       "      <td>11.7</td>\n",
       "    </tr>\n",
       "    <tr>\n",
       "      <th>2</th>\n",
       "      <td>6.4</td>\n",
       "      <td>190</td>\n",
       "      <td>0.456</td>\n",
       "      <td>0.761</td>\n",
       "      <td>15.8</td>\n",
       "    </tr>\n",
       "    <tr>\n",
       "      <th>3</th>\n",
       "      <td>6.2</td>\n",
       "      <td>180</td>\n",
       "      <td>0.416</td>\n",
       "      <td>0.651</td>\n",
       "      <td>8.6</td>\n",
       "    </tr>\n",
       "    <tr>\n",
       "      <th>4</th>\n",
       "      <td>6.9</td>\n",
       "      <td>205</td>\n",
       "      <td>0.449</td>\n",
       "      <td>0.900</td>\n",
       "      <td>23.2</td>\n",
       "    </tr>\n",
       "  </tbody>\n",
       "</table>\n",
       "</div>"
      ],
      "text/plain": [
       "    X1   X2     X3     X4    X5\n",
       "0  6.8  225  0.442  0.672   9.2\n",
       "1  6.3  180  0.435  0.797  11.7\n",
       "2  6.4  190  0.456  0.761  15.8\n",
       "3  6.2  180  0.416  0.651   8.6\n",
       "4  6.9  205  0.449  0.900  23.2"
      ]
     },
     "execution_count": 37,
     "metadata": {},
     "output_type": "execute_result"
    }
   ],
   "source": [
    "df.head()"
   ]
  },
  {
   "cell_type": "code",
   "execution_count": 38,
   "metadata": {},
   "outputs": [],
   "source": [
    "X=df.values[:,:4]"
   ]
  },
  {
   "cell_type": "code",
   "execution_count": 39,
   "metadata": {},
   "outputs": [
    {
     "data": {
      "text/plain": [
       "array([[6.80e+00, 2.25e+02, 4.42e-01, 6.72e-01],\n",
       "       [6.30e+00, 1.80e+02, 4.35e-01, 7.97e-01],\n",
       "       [6.40e+00, 1.90e+02, 4.56e-01, 7.61e-01],\n",
       "       [6.20e+00, 1.80e+02, 4.16e-01, 6.51e-01],\n",
       "       [6.90e+00, 2.05e+02, 4.49e-01, 9.00e-01],\n",
       "       [6.40e+00, 2.25e+02, 4.31e-01, 7.80e-01],\n",
       "       [6.30e+00, 1.85e+02, 4.87e-01, 7.71e-01],\n",
       "       [6.80e+00, 2.35e+02, 4.69e-01, 7.50e-01],\n",
       "       [6.90e+00, 2.35e+02, 4.35e-01, 8.18e-01],\n",
       "       [6.70e+00, 2.10e+02, 4.80e-01, 8.25e-01],\n",
       "       [6.90e+00, 2.45e+02, 5.16e-01, 6.32e-01],\n",
       "       [6.90e+00, 2.45e+02, 4.93e-01, 7.57e-01],\n",
       "       [6.30e+00, 1.85e+02, 3.74e-01, 7.09e-01],\n",
       "       [6.10e+00, 1.85e+02, 4.24e-01, 7.82e-01],\n",
       "       [6.20e+00, 1.80e+02, 4.41e-01, 7.75e-01],\n",
       "       [6.80e+00, 2.20e+02, 5.03e-01, 8.80e-01],\n",
       "       [6.50e+00, 1.94e+02, 5.03e-01, 8.33e-01],\n",
       "       [7.60e+00, 2.25e+02, 4.25e-01, 5.71e-01],\n",
       "       [6.30e+00, 2.10e+02, 3.71e-01, 8.16e-01],\n",
       "       [7.10e+00, 2.40e+02, 5.04e-01, 7.14e-01],\n",
       "       [6.80e+00, 2.25e+02, 4.00e-01, 7.65e-01],\n",
       "       [7.30e+00, 2.63e+02, 4.82e-01, 6.55e-01],\n",
       "       [6.40e+00, 2.10e+02, 4.75e-01, 2.44e-01],\n",
       "       [6.80e+00, 2.35e+02, 4.28e-01, 7.28e-01],\n",
       "       [7.20e+00, 2.30e+02, 5.59e-01, 7.21e-01],\n",
       "       [6.40e+00, 1.90e+02, 4.41e-01, 7.57e-01],\n",
       "       [6.60e+00, 2.20e+02, 4.92e-01, 7.47e-01],\n",
       "       [6.80e+00, 2.10e+02, 4.02e-01, 7.39e-01],\n",
       "       [6.10e+00, 1.80e+02, 4.15e-01, 7.13e-01],\n",
       "       [6.50e+00, 2.35e+02, 4.92e-01, 7.42e-01],\n",
       "       [6.40e+00, 1.85e+02, 4.84e-01, 8.61e-01],\n",
       "       [6.00e+00, 1.75e+02, 3.87e-01, 7.21e-01],\n",
       "       [6.00e+00, 1.92e+02, 4.36e-01, 7.85e-01],\n",
       "       [7.30e+00, 2.63e+02, 4.82e-01, 6.55e-01],\n",
       "       [6.10e+00, 1.80e+02, 3.40e-01, 8.21e-01],\n",
       "       [6.70e+00, 2.40e+02, 5.16e-01, 7.28e-01],\n",
       "       [6.40e+00, 2.10e+02, 4.75e-01, 8.46e-01],\n",
       "       [5.80e+00, 1.60e+02, 4.12e-01, 8.13e-01],\n",
       "       [6.90e+00, 2.30e+02, 4.11e-01, 5.95e-01],\n",
       "       [7.00e+00, 2.45e+02, 4.07e-01, 5.73e-01],\n",
       "       [7.30e+00, 2.28e+02, 4.45e-01, 7.26e-01],\n",
       "       [5.90e+00, 1.55e+02, 2.91e-01, 7.07e-01],\n",
       "       [6.20e+00, 2.00e+02, 4.49e-01, 8.04e-01],\n",
       "       [6.80e+00, 2.35e+02, 5.46e-01, 7.84e-01],\n",
       "       [7.00e+00, 2.35e+02, 4.80e-01, 7.44e-01],\n",
       "       [5.90e+00, 1.05e+02, 3.59e-01, 8.39e-01],\n",
       "       [6.10e+00, 1.80e+02, 5.28e-01, 7.90e-01],\n",
       "       [5.70e+00, 1.85e+02, 3.52e-01, 7.01e-01],\n",
       "       [7.10e+00, 2.45e+02, 4.14e-01, 7.78e-01],\n",
       "       [5.80e+00, 1.80e+02, 4.25e-01, 8.72e-01],\n",
       "       [7.40e+00, 2.40e+02, 5.99e-01, 7.13e-01],\n",
       "       [6.80e+00, 2.25e+02, 4.82e-01, 7.01e-01],\n",
       "       [6.80e+00, 2.15e+02, 4.57e-01, 7.34e-01],\n",
       "       [7.00e+00, 2.30e+02, 4.35e-01, 7.64e-01]])"
      ]
     },
     "execution_count": 39,
     "metadata": {},
     "output_type": "execute_result"
    }
   ],
   "source": [
    "X"
   ]
  },
  {
   "cell_type": "code",
   "execution_count": 40,
   "metadata": {},
   "outputs": [],
   "source": [
    "y=df.values[:,-1]"
   ]
  },
  {
   "cell_type": "code",
   "execution_count": 41,
   "metadata": {},
   "outputs": [
    {
     "data": {
      "text/plain": [
       "array([ 9.2, 11.7, 15.8,  8.6, 23.2, 27.4,  9.3, 16. ,  4.7, 12.5, 20.1,\n",
       "        9.1,  8.1,  8.6, 20.3, 25. , 19.2,  3.3, 11.2, 10.5, 10.1,  7.2,\n",
       "       13.6,  9. , 24.6, 12.6,  5.6,  8.7,  7.7, 24.1, 11.7,  7.7,  9.6,\n",
       "        7.2, 12.3,  8.9, 13.6, 11.2,  2.8,  3.2,  9.4, 11.9, 15.4,  7.4,\n",
       "       18.9,  7.9, 12.2, 11. ,  2.8, 11.8, 17.1, 11.6,  5.8,  8.3])"
      ]
     },
     "execution_count": 41,
     "metadata": {},
     "output_type": "execute_result"
    }
   ],
   "source": [
    "y"
   ]
  },
  {
   "cell_type": "code",
   "execution_count": 42,
   "metadata": {},
   "outputs": [],
   "source": [
    "x_train,x_test,y_train,y_test=train_test_split(X,y,test_size=0.33, random_state = 69879869)"
   ]
  },
  {
   "cell_type": "code",
   "execution_count": 43,
   "metadata": {},
   "outputs": [
    {
     "name": "stdout",
     "output_type": "stream",
     "text": [
      "0.26521829600198765\n"
     ]
    }
   ],
   "source": [
    "mlr_model=LinearRegression()\n",
    "mlr_model.fit(x_train,y_train)\n",
    "mlr_score=mlr_model.score(x_train,y_train)\n",
    "print(mlr_score)"
   ]
  },
  {
   "cell_type": "code",
   "execution_count": 44,
   "metadata": {},
   "outputs": [],
   "source": [
    "rfr_model=RandomForestRegressor()"
   ]
  },
  {
   "cell_type": "code",
   "execution_count": 45,
   "metadata": {},
   "outputs": [
    {
     "name": "stderr",
     "output_type": "stream",
     "text": [
      "C:\\Users\\HP\\Anaconda3\\lib\\site-packages\\sklearn\\ensemble\\forest.py:245: FutureWarning: The default value of n_estimators will change from 10 in version 0.20 to 100 in 0.22.\n",
      "  \"10 in version 0.20 to 100 in 0.22.\", FutureWarning)\n"
     ]
    },
    {
     "data": {
      "text/plain": [
       "RandomForestRegressor(bootstrap=True, criterion='mse', max_depth=None,\n",
       "                      max_features='auto', max_leaf_nodes=None,\n",
       "                      min_impurity_decrease=0.0, min_impurity_split=None,\n",
       "                      min_samples_leaf=1, min_samples_split=2,\n",
       "                      min_weight_fraction_leaf=0.0, n_estimators=10,\n",
       "                      n_jobs=None, oob_score=False, random_state=None,\n",
       "                      verbose=0, warm_start=False)"
      ]
     },
     "execution_count": 45,
     "metadata": {},
     "output_type": "execute_result"
    }
   ],
   "source": [
    "rfr_model.fit(x_train,y_train)"
   ]
  },
  {
   "cell_type": "code",
   "execution_count": 47,
   "metadata": {},
   "outputs": [],
   "source": [
    "rfr_score=rfr_model.score(x_train,y_train)"
   ]
  },
  {
   "cell_type": "code",
   "execution_count": 48,
   "metadata": {},
   "outputs": [
    {
     "name": "stdout",
     "output_type": "stream",
     "text": [
      "0.8194596371941754\n"
     ]
    }
   ],
   "source": [
    "print(rfr_score)"
   ]
  },
  {
   "cell_type": "code",
   "execution_count": 62,
   "metadata": {},
   "outputs": [
    {
     "data": {
      "text/plain": [
       "SVR(C=1000000, cache_size=200, coef0=0.0, degree=3, epsilon=0.1, gamma='scale',\n",
       "    kernel='rbf', max_iter=-1, shrinking=True, tol=0.001, verbose=False)"
      ]
     },
     "execution_count": 62,
     "metadata": {},
     "output_type": "execute_result"
    }
   ],
   "source": [
    "svr_model=SVR(kernel='rbf',gamma='scale',C=1000000)\n",
    "svr_model.fit(x_train,y_train)"
   ]
  },
  {
   "cell_type": "code",
   "execution_count": 63,
   "metadata": {},
   "outputs": [
    {
     "name": "stdout",
     "output_type": "stream",
     "text": [
      "0.17142099604247352\n"
     ]
    }
   ],
   "source": [
    "svr_score=svr_model.score(x_train,y_train)\n",
    "print(svr_score)"
   ]
  },
  {
   "cell_type": "code",
   "execution_count": null,
   "metadata": {},
   "outputs": [],
   "source": []
  },
  {
   "cell_type": "code",
   "execution_count": null,
   "metadata": {},
   "outputs": [],
   "source": []
  }
 ],
 "metadata": {
  "kernelspec": {
   "display_name": "Python 3",
   "language": "python",
   "name": "python3"
  },
  "language_info": {
   "codemirror_mode": {
    "name": "ipython",
    "version": 3
   },
   "file_extension": ".py",
   "mimetype": "text/x-python",
   "name": "python",
   "nbconvert_exporter": "python",
   "pygments_lexer": "ipython3",
   "version": "3.7.3"
  }
 },
 "nbformat": 4,
 "nbformat_minor": 2
}
