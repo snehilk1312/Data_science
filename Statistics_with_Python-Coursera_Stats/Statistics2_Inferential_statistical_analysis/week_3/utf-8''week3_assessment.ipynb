{
 "cells": [
  {
   "cell_type": "markdown",
   "metadata": {
    "colab_type": "text",
    "id": "6w1_Mo78NDof"
   },
   "source": [
    "## Creating confidence intervals in python\n",
    "In this assessment, you will look at data from a study on toddler sleep habits. \n",
    "\n",
    "The confidence intervals you create and the questions you answer in this Jupyter notebook will be used to answer questions in the following graded assignment."
   ]
  },
  {
   "cell_type": "code",
   "execution_count": 36,
   "metadata": {
    "colab": {},
    "colab_type": "code",
    "id": "YNKXymB_NDoh"
   },
   "outputs": [],
   "source": [
    "import numpy as np\n",
    "import pandas as pd\n",
    "from scipy.stats import t\n",
    "pd.set_option('display.max_columns', 30) # set so can see all columns of the DataFrame"
   ]
  },
  {
   "cell_type": "markdown",
   "metadata": {
    "colab_type": "text",
    "id": "HL4-ACl_NDol"
   },
   "source": [
    "Your goal is to analyse data which is the result of a study that examined\n",
    "differences in a number of sleep variables between napping and non-napping toddlers. Some of these\n",
    "sleep variables included: Bedtime (lights-off time in decimalized time), Night Sleep Onset Time (in\n",
    "decimalized time), Wake Time (sleep end time in decimalized time), Night Sleep Duration (interval\n",
    "between sleep onset and sleep end in minutes), and Total 24-Hour Sleep Duration (in minutes). Note:\n",
    "[Decimalized time](https://en.wikipedia.org/wiki/Decimal_time) is the representation of the time of day using units which are decimally related.   \n",
    "\n",
    "\n",
    "The 20 study participants were healthy, normally developing toddlers with no sleep or behavioral\n",
    "problems. These children were categorized as napping or non-napping based upon parental report of\n",
    "children’s habitual sleep patterns. Researchers then verified napping status with data from actigraphy (a\n",
    "non-invasive method of monitoring human rest/activity cycles by wearing of a sensor on the wrist) and\n",
    "sleep diaries during the 5 days before the study assessments were made.\n",
    "\n",
    "\n",
    "You are specifically interested in the results for the Bedtime, Night Sleep Duration, and Total 24-\n",
    "Hour Sleep Duration. "
   ]
  },
  {
   "cell_type": "markdown",
   "metadata": {
    "colab_type": "text",
    "id": "XHo6lLm_NDol"
   },
   "source": [
    "ref: Akacem LD, Simpkin CT, Carskadon MA, Wright KP Jr, Jenni OG, Achermann P, et al. (2015) The Timing of the Circadian Clock and Sleep Differ between Napping and Non-Napping Toddlers. PLoS ONE 10(4): e0125181. https://doi.org/10.1371/journal.pone.0125181"
   ]
  },
  {
   "cell_type": "code",
   "execution_count": 37,
   "metadata": {
    "colab": {},
    "colab_type": "code",
    "id": "mBcxVw04NFW9"
   },
   "outputs": [],
   "source": [
    "# Import the data\n",
    "df = pd.read_csv(\"nap_no_nap.csv\") "
   ]
  },
  {
   "cell_type": "code",
   "execution_count": 38,
   "metadata": {
    "colab": {},
    "colab_type": "code",
    "id": "TYe8b7MoNDop"
   },
   "outputs": [
    {
     "data": {
      "text/html": [
       "<div>\n",
       "<style scoped>\n",
       "    .dataframe tbody tr th:only-of-type {\n",
       "        vertical-align: middle;\n",
       "    }\n",
       "\n",
       "    .dataframe tbody tr th {\n",
       "        vertical-align: top;\n",
       "    }\n",
       "\n",
       "    .dataframe thead th {\n",
       "        text-align: right;\n",
       "    }\n",
       "</style>\n",
       "<table border=\"1\" class=\"dataframe\">\n",
       "  <thead>\n",
       "    <tr style=\"text-align: right;\">\n",
       "      <th></th>\n",
       "      <th>id</th>\n",
       "      <th>sex</th>\n",
       "      <th>age (months)</th>\n",
       "      <th>dlmo time</th>\n",
       "      <th>days napped</th>\n",
       "      <th>napping</th>\n",
       "      <th>nap lights outl time</th>\n",
       "      <th>nap sleep onset</th>\n",
       "      <th>nap midsleep</th>\n",
       "      <th>nap sleep offset</th>\n",
       "      <th>nap wake time</th>\n",
       "      <th>nap duration</th>\n",
       "      <th>nap time in bed</th>\n",
       "      <th>night bedtime</th>\n",
       "      <th>night sleep onset</th>\n",
       "      <th>sleep onset latency</th>\n",
       "      <th>night midsleep time</th>\n",
       "      <th>night wake time</th>\n",
       "      <th>night sleep duration</th>\n",
       "      <th>night time in bed</th>\n",
       "      <th>24 h sleep duration</th>\n",
       "      <th>bedtime phase difference</th>\n",
       "      <th>sleep onset phase difference</th>\n",
       "      <th>midsleep phase difference</th>\n",
       "      <th>wake time phase difference</th>\n",
       "    </tr>\n",
       "  </thead>\n",
       "  <tbody>\n",
       "    <tr>\n",
       "      <th>0</th>\n",
       "      <td>1</td>\n",
       "      <td>female</td>\n",
       "      <td>33.7</td>\n",
       "      <td>19.24</td>\n",
       "      <td>0</td>\n",
       "      <td>0</td>\n",
       "      <td>NaN</td>\n",
       "      <td>NaN</td>\n",
       "      <td>NaN</td>\n",
       "      <td>NaN</td>\n",
       "      <td>NaN</td>\n",
       "      <td>NaN</td>\n",
       "      <td>NaN</td>\n",
       "      <td>20.45</td>\n",
       "      <td>20.68</td>\n",
       "      <td>0.23</td>\n",
       "      <td>1.92</td>\n",
       "      <td>7.17</td>\n",
       "      <td>629.4</td>\n",
       "      <td>643.0</td>\n",
       "      <td>629.4</td>\n",
       "      <td>-1.21</td>\n",
       "      <td>-1.44</td>\n",
       "      <td>6.68</td>\n",
       "      <td>11.93</td>\n",
       "    </tr>\n",
       "    <tr>\n",
       "      <th>1</th>\n",
       "      <td>2</td>\n",
       "      <td>female</td>\n",
       "      <td>31.5</td>\n",
       "      <td>18.27</td>\n",
       "      <td>0</td>\n",
       "      <td>0</td>\n",
       "      <td>NaN</td>\n",
       "      <td>NaN</td>\n",
       "      <td>NaN</td>\n",
       "      <td>NaN</td>\n",
       "      <td>NaN</td>\n",
       "      <td>NaN</td>\n",
       "      <td>NaN</td>\n",
       "      <td>19.23</td>\n",
       "      <td>19.48</td>\n",
       "      <td>0.25</td>\n",
       "      <td>1.09</td>\n",
       "      <td>6.69</td>\n",
       "      <td>672.4</td>\n",
       "      <td>700.4</td>\n",
       "      <td>672.4</td>\n",
       "      <td>-0.96</td>\n",
       "      <td>-1.21</td>\n",
       "      <td>6.82</td>\n",
       "      <td>12.42</td>\n",
       "    </tr>\n",
       "    <tr>\n",
       "      <th>2</th>\n",
       "      <td>3</td>\n",
       "      <td>male</td>\n",
       "      <td>31.9</td>\n",
       "      <td>19.14</td>\n",
       "      <td>0</td>\n",
       "      <td>0</td>\n",
       "      <td>NaN</td>\n",
       "      <td>NaN</td>\n",
       "      <td>NaN</td>\n",
       "      <td>NaN</td>\n",
       "      <td>NaN</td>\n",
       "      <td>NaN</td>\n",
       "      <td>NaN</td>\n",
       "      <td>19.60</td>\n",
       "      <td>20.05</td>\n",
       "      <td>0.45</td>\n",
       "      <td>1.29</td>\n",
       "      <td>6.53</td>\n",
       "      <td>628.8</td>\n",
       "      <td>682.6</td>\n",
       "      <td>628.8</td>\n",
       "      <td>-0.46</td>\n",
       "      <td>-0.91</td>\n",
       "      <td>6.15</td>\n",
       "      <td>11.39</td>\n",
       "    </tr>\n",
       "    <tr>\n",
       "      <th>3</th>\n",
       "      <td>4</td>\n",
       "      <td>female</td>\n",
       "      <td>31.6</td>\n",
       "      <td>19.69</td>\n",
       "      <td>0</td>\n",
       "      <td>0</td>\n",
       "      <td>NaN</td>\n",
       "      <td>NaN</td>\n",
       "      <td>NaN</td>\n",
       "      <td>NaN</td>\n",
       "      <td>NaN</td>\n",
       "      <td>NaN</td>\n",
       "      <td>NaN</td>\n",
       "      <td>19.46</td>\n",
       "      <td>19.50</td>\n",
       "      <td>0.05</td>\n",
       "      <td>1.89</td>\n",
       "      <td>8.28</td>\n",
       "      <td>766.6</td>\n",
       "      <td>784.0</td>\n",
       "      <td>766.6</td>\n",
       "      <td>0.23</td>\n",
       "      <td>0.19</td>\n",
       "      <td>6.20</td>\n",
       "      <td>12.59</td>\n",
       "    </tr>\n",
       "    <tr>\n",
       "      <th>4</th>\n",
       "      <td>5</td>\n",
       "      <td>female</td>\n",
       "      <td>33.0</td>\n",
       "      <td>19.52</td>\n",
       "      <td>0</td>\n",
       "      <td>0</td>\n",
       "      <td>NaN</td>\n",
       "      <td>NaN</td>\n",
       "      <td>NaN</td>\n",
       "      <td>NaN</td>\n",
       "      <td>NaN</td>\n",
       "      <td>NaN</td>\n",
       "      <td>NaN</td>\n",
       "      <td>19.21</td>\n",
       "      <td>19.65</td>\n",
       "      <td>0.45</td>\n",
       "      <td>1.30</td>\n",
       "      <td>6.95</td>\n",
       "      <td>678.0</td>\n",
       "      <td>718.0</td>\n",
       "      <td>678.0</td>\n",
       "      <td>0.31</td>\n",
       "      <td>-0.13</td>\n",
       "      <td>5.78</td>\n",
       "      <td>11.43</td>\n",
       "    </tr>\n",
       "  </tbody>\n",
       "</table>\n",
       "</div>"
      ],
      "text/plain": [
       "   id     sex  age (months)  dlmo time  days napped  napping  \\\n",
       "0   1  female          33.7      19.24            0        0   \n",
       "1   2  female          31.5      18.27            0        0   \n",
       "2   3    male          31.9      19.14            0        0   \n",
       "3   4  female          31.6      19.69            0        0   \n",
       "4   5  female          33.0      19.52            0        0   \n",
       "\n",
       "   nap lights outl time  nap sleep onset  nap midsleep  nap sleep offset  \\\n",
       "0                   NaN              NaN           NaN               NaN   \n",
       "1                   NaN              NaN           NaN               NaN   \n",
       "2                   NaN              NaN           NaN               NaN   \n",
       "3                   NaN              NaN           NaN               NaN   \n",
       "4                   NaN              NaN           NaN               NaN   \n",
       "\n",
       "   nap wake time  nap duration  nap time in bed  night bedtime  \\\n",
       "0            NaN           NaN              NaN          20.45   \n",
       "1            NaN           NaN              NaN          19.23   \n",
       "2            NaN           NaN              NaN          19.60   \n",
       "3            NaN           NaN              NaN          19.46   \n",
       "4            NaN           NaN              NaN          19.21   \n",
       "\n",
       "   night sleep onset  sleep onset latency  night midsleep time  \\\n",
       "0              20.68                 0.23                 1.92   \n",
       "1              19.48                 0.25                 1.09   \n",
       "2              20.05                 0.45                 1.29   \n",
       "3              19.50                 0.05                 1.89   \n",
       "4              19.65                 0.45                 1.30   \n",
       "\n",
       "   night wake time  night sleep duration  night time in bed  \\\n",
       "0             7.17                 629.4              643.0   \n",
       "1             6.69                 672.4              700.4   \n",
       "2             6.53                 628.8              682.6   \n",
       "3             8.28                 766.6              784.0   \n",
       "4             6.95                 678.0              718.0   \n",
       "\n",
       "   24 h sleep duration  bedtime phase difference  \\\n",
       "0                629.4                     -1.21   \n",
       "1                672.4                     -0.96   \n",
       "2                628.8                     -0.46   \n",
       "3                766.6                      0.23   \n",
       "4                678.0                      0.31   \n",
       "\n",
       "   sleep onset phase difference  midsleep phase difference  \\\n",
       "0                         -1.44                       6.68   \n",
       "1                         -1.21                       6.82   \n",
       "2                         -0.91                       6.15   \n",
       "3                          0.19                       6.20   \n",
       "4                         -0.13                       5.78   \n",
       "\n",
       "   wake time phase difference  \n",
       "0                       11.93  \n",
       "1                       12.42  \n",
       "2                       11.39  \n",
       "3                       12.59  \n",
       "4                       11.43  "
      ]
     },
     "execution_count": 38,
     "metadata": {},
     "output_type": "execute_result"
    }
   ],
   "source": [
    "# First, look at the DataFrame to get a sense of the data\n",
    "df.head()"
   ]
  },
  {
   "cell_type": "markdown",
   "metadata": {
    "colab_type": "text",
    "id": "VfZxEx3gNDor"
   },
   "source": [
    "**Question**: What variable is used in the column 'napping' to indicate a toddler takes a nap?  \n",
    "**Question**: What is the sample size $n$?"
   ]
  },
  {
   "cell_type": "code",
   "execution_count": 39,
   "metadata": {},
   "outputs": [
    {
     "data": {
      "text/plain": [
       "20"
      ]
     },
     "execution_count": 39,
     "metadata": {},
     "output_type": "execute_result"
    }
   ],
   "source": [
    "# ans 1:1\n",
    "ans2=len(df)\n",
    "ans2"
   ]
  },
  {
   "cell_type": "markdown",
   "metadata": {
    "colab_type": "text",
    "id": "9djLvqwJNDos"
   },
   "source": [
    "## Hypothesis tesing\n",
    "We will look at two hypothesis test, each with $\\alpha = .025$:  \n",
    "\n",
    "\n",
    "1. Is the average bedtime for toddlers who nap later than the average bedtime for toddlers who don't nap?\n",
    "$$H_0: \\mu_{nap}=\\mu_{no\\ nap}, \\ H_a:\\mu_{nap}>\\mu_{no\\ nap}$$\n",
    "Or equivalently:\n",
    "$$H_0: \\mu_{nap}-\\mu_{no\\ nap}=0, \\ H_a:\\mu_{nap}-\\mu_{no\\ nap}>0$$\n",
    "2. The average 24 h sleep duration (in minutes) for napping toddlers is different from toddlers who don't nap.\n",
    "$$H_0: \\mu_{nap}=\\mu_{no\\ nap}, \\ H_a:\\mu_{nap}\\neq\\mu_{no\\ nap}$$\n",
    "Or equivalenty:\n",
    "$$H_0: \\mu_{nap}-\\mu_{no\\ nap}=0, \\ H_a:\\mu_{nap}-\\mu_{no\\ nap} \\neq 0$$\n",
    "\n",
    "Aside: This $\\alpha$ level is equivalent to $\\alpha = .05$ and then applying the [Bonferonni correction](https://en.wikipedia.org/wiki/Bonferroni_correction)."
   ]
  },
  {
   "cell_type": "markdown",
   "metadata": {
    "colab_type": "text",
    "id": "WprO1i-ONDot"
   },
   "source": [
    "Before any analysis, we will convert 'night bedtime' into decimalized time. "
   ]
  },
  {
   "cell_type": "code",
   "execution_count": 40,
   "metadata": {
    "colab": {},
    "colab_type": "code",
    "id": "KReCXeO_NDou"
   },
   "outputs": [],
   "source": [
    "# Convert 'night bedtime' into decimalized time\n",
    "df.loc[:,'night bedtime'] = np.floor(df['night bedtime'])*60 + np.round(df['night bedtime']%1,2 )*100"
   ]
  },
  {
   "cell_type": "markdown",
   "metadata": {
    "colab_type": "text",
    "id": "VJyTAzZcNDox"
   },
   "source": [
    "Now, isolate the column 'night bedtime' for those who nap into a new variable, and those who didn't nap into another new variable. "
   ]
  },
  {
   "cell_type": "code",
   "execution_count": 41,
   "metadata": {
    "colab": {},
    "colab_type": "code",
    "id": "5gZyghIbNDoy",
    "scrolled": true
   },
   "outputs": [
    {
     "data": {
      "text/html": [
       "<div>\n",
       "<style scoped>\n",
       "    .dataframe tbody tr th:only-of-type {\n",
       "        vertical-align: middle;\n",
       "    }\n",
       "\n",
       "    .dataframe tbody tr th {\n",
       "        vertical-align: top;\n",
       "    }\n",
       "\n",
       "    .dataframe thead th {\n",
       "        text-align: right;\n",
       "    }\n",
       "</style>\n",
       "<table border=\"1\" class=\"dataframe\">\n",
       "  <thead>\n",
       "    <tr style=\"text-align: right;\">\n",
       "      <th></th>\n",
       "      <th>id</th>\n",
       "      <th>sex</th>\n",
       "      <th>age (months)</th>\n",
       "      <th>dlmo time</th>\n",
       "      <th>days napped</th>\n",
       "      <th>napping</th>\n",
       "      <th>nap lights outl time</th>\n",
       "      <th>nap sleep onset</th>\n",
       "      <th>nap midsleep</th>\n",
       "      <th>nap sleep offset</th>\n",
       "      <th>nap wake time</th>\n",
       "      <th>nap duration</th>\n",
       "      <th>nap time in bed</th>\n",
       "      <th>night bedtime</th>\n",
       "      <th>night sleep onset</th>\n",
       "      <th>sleep onset latency</th>\n",
       "      <th>night midsleep time</th>\n",
       "      <th>night wake time</th>\n",
       "      <th>night sleep duration</th>\n",
       "      <th>night time in bed</th>\n",
       "      <th>24 h sleep duration</th>\n",
       "      <th>bedtime phase difference</th>\n",
       "      <th>sleep onset phase difference</th>\n",
       "      <th>midsleep phase difference</th>\n",
       "      <th>wake time phase difference</th>\n",
       "    </tr>\n",
       "  </thead>\n",
       "  <tbody>\n",
       "    <tr>\n",
       "      <th>5</th>\n",
       "      <td>6</td>\n",
       "      <td>female</td>\n",
       "      <td>36.2</td>\n",
       "      <td>18.22</td>\n",
       "      <td>4</td>\n",
       "      <td>1</td>\n",
       "      <td>14.00</td>\n",
       "      <td>14.22</td>\n",
       "      <td>15.00</td>\n",
       "      <td>15.78</td>\n",
       "      <td>16.28</td>\n",
       "      <td>93.75</td>\n",
       "      <td>137.00</td>\n",
       "      <td>1235.0</td>\n",
       "      <td>20.25</td>\n",
       "      <td>0.29</td>\n",
       "      <td>1.26</td>\n",
       "      <td>6.28</td>\n",
       "      <td>602.2</td>\n",
       "      <td>653.80</td>\n",
       "      <td>695.95</td>\n",
       "      <td>-1.73</td>\n",
       "      <td>-2.03</td>\n",
       "      <td>7.05</td>\n",
       "      <td>12.06</td>\n",
       "    </tr>\n",
       "    <tr>\n",
       "      <th>6</th>\n",
       "      <td>7</td>\n",
       "      <td>male</td>\n",
       "      <td>36.3</td>\n",
       "      <td>19.28</td>\n",
       "      <td>1</td>\n",
       "      <td>1</td>\n",
       "      <td>14.75</td>\n",
       "      <td>15.03</td>\n",
       "      <td>15.92</td>\n",
       "      <td>16.80</td>\n",
       "      <td>16.08</td>\n",
       "      <td>106.00</td>\n",
       "      <td>80.00</td>\n",
       "      <td>1260.0</td>\n",
       "      <td>20.96</td>\n",
       "      <td>0.36</td>\n",
       "      <td>2.12</td>\n",
       "      <td>7.27</td>\n",
       "      <td>618.4</td>\n",
       "      <td>655.40</td>\n",
       "      <td>724.40</td>\n",
       "      <td>-1.32</td>\n",
       "      <td>-1.68</td>\n",
       "      <td>6.84</td>\n",
       "      <td>11.99</td>\n",
       "    </tr>\n",
       "    <tr>\n",
       "      <th>7</th>\n",
       "      <td>8</td>\n",
       "      <td>male</td>\n",
       "      <td>30.0</td>\n",
       "      <td>21.06</td>\n",
       "      <td>5</td>\n",
       "      <td>1</td>\n",
       "      <td>13.09</td>\n",
       "      <td>13.43</td>\n",
       "      <td>14.44</td>\n",
       "      <td>15.46</td>\n",
       "      <td>15.82</td>\n",
       "      <td>121.60</td>\n",
       "      <td>163.80</td>\n",
       "      <td>1321.0</td>\n",
       "      <td>22.53</td>\n",
       "      <td>0.51</td>\n",
       "      <td>2.92</td>\n",
       "      <td>7.31</td>\n",
       "      <td>526.8</td>\n",
       "      <td>582.40</td>\n",
       "      <td>648.40</td>\n",
       "      <td>-0.95</td>\n",
       "      <td>-1.47</td>\n",
       "      <td>5.86</td>\n",
       "      <td>10.25</td>\n",
       "    </tr>\n",
       "    <tr>\n",
       "      <th>8</th>\n",
       "      <td>9</td>\n",
       "      <td>male</td>\n",
       "      <td>33.2</td>\n",
       "      <td>19.38</td>\n",
       "      <td>2</td>\n",
       "      <td>1</td>\n",
       "      <td>14.41</td>\n",
       "      <td>14.42</td>\n",
       "      <td>15.71</td>\n",
       "      <td>17.01</td>\n",
       "      <td>16.60</td>\n",
       "      <td>155.50</td>\n",
       "      <td>131.25</td>\n",
       "      <td>1224.0</td>\n",
       "      <td>20.37</td>\n",
       "      <td>0.13</td>\n",
       "      <td>1.60</td>\n",
       "      <td>6.82</td>\n",
       "      <td>626.8</td>\n",
       "      <td>660.33</td>\n",
       "      <td>782.30</td>\n",
       "      <td>-0.86</td>\n",
       "      <td>-0.99</td>\n",
       "      <td>6.22</td>\n",
       "      <td>11.44</td>\n",
       "    </tr>\n",
       "    <tr>\n",
       "      <th>9</th>\n",
       "      <td>10</td>\n",
       "      <td>female</td>\n",
       "      <td>37.1</td>\n",
       "      <td>19.93</td>\n",
       "      <td>3</td>\n",
       "      <td>1</td>\n",
       "      <td>13.12</td>\n",
       "      <td>13.42</td>\n",
       "      <td>14.31</td>\n",
       "      <td>15.19</td>\n",
       "      <td>15.30</td>\n",
       "      <td>106.67</td>\n",
       "      <td>130.67</td>\n",
       "      <td>1278.0</td>\n",
       "      <td>21.63</td>\n",
       "      <td>0.84</td>\n",
       "      <td>2.20</td>\n",
       "      <td>6.52</td>\n",
       "      <td>549.5</td>\n",
       "      <td>626.00</td>\n",
       "      <td>656.17</td>\n",
       "      <td>-0.76</td>\n",
       "      <td>-1.82</td>\n",
       "      <td>6.21</td>\n",
       "      <td>10.59</td>\n",
       "    </tr>\n",
       "  </tbody>\n",
       "</table>\n",
       "</div>"
      ],
      "text/plain": [
       "   id     sex  age (months)  dlmo time  days napped  napping  \\\n",
       "5   6  female          36.2      18.22            4        1   \n",
       "6   7    male          36.3      19.28            1        1   \n",
       "7   8    male          30.0      21.06            5        1   \n",
       "8   9    male          33.2      19.38            2        1   \n",
       "9  10  female          37.1      19.93            3        1   \n",
       "\n",
       "   nap lights outl time  nap sleep onset  nap midsleep  nap sleep offset  \\\n",
       "5                 14.00            14.22         15.00             15.78   \n",
       "6                 14.75            15.03         15.92             16.80   \n",
       "7                 13.09            13.43         14.44             15.46   \n",
       "8                 14.41            14.42         15.71             17.01   \n",
       "9                 13.12            13.42         14.31             15.19   \n",
       "\n",
       "   nap wake time  nap duration  nap time in bed  night bedtime  \\\n",
       "5          16.28         93.75           137.00         1235.0   \n",
       "6          16.08        106.00            80.00         1260.0   \n",
       "7          15.82        121.60           163.80         1321.0   \n",
       "8          16.60        155.50           131.25         1224.0   \n",
       "9          15.30        106.67           130.67         1278.0   \n",
       "\n",
       "   night sleep onset  sleep onset latency  night midsleep time  \\\n",
       "5              20.25                 0.29                 1.26   \n",
       "6              20.96                 0.36                 2.12   \n",
       "7              22.53                 0.51                 2.92   \n",
       "8              20.37                 0.13                 1.60   \n",
       "9              21.63                 0.84                 2.20   \n",
       "\n",
       "   night wake time  night sleep duration  night time in bed  \\\n",
       "5             6.28                 602.2             653.80   \n",
       "6             7.27                 618.4             655.40   \n",
       "7             7.31                 526.8             582.40   \n",
       "8             6.82                 626.8             660.33   \n",
       "9             6.52                 549.5             626.00   \n",
       "\n",
       "   24 h sleep duration  bedtime phase difference  \\\n",
       "5               695.95                     -1.73   \n",
       "6               724.40                     -1.32   \n",
       "7               648.40                     -0.95   \n",
       "8               782.30                     -0.86   \n",
       "9               656.17                     -0.76   \n",
       "\n",
       "   sleep onset phase difference  midsleep phase difference  \\\n",
       "5                         -2.03                       7.05   \n",
       "6                         -1.68                       6.84   \n",
       "7                         -1.47                       5.86   \n",
       "8                         -0.99                       6.22   \n",
       "9                         -1.82                       6.21   \n",
       "\n",
       "   wake time phase difference  \n",
       "5                       12.06  \n",
       "6                       11.99  \n",
       "7                       10.25  \n",
       "8                       11.44  \n",
       "9                       10.59  "
      ]
     },
     "execution_count": 41,
     "metadata": {},
     "output_type": "execute_result"
    }
   ],
   "source": [
    "nap_bedtime = df[df['napping']==1]\n",
    "nap_bedtime.head()"
   ]
  },
  {
   "cell_type": "code",
   "execution_count": 42,
   "metadata": {},
   "outputs": [
    {
     "name": "stdout",
     "output_type": "stream",
     "text": [
      "15\n"
     ]
    }
   ],
   "source": [
    "print(len(nap_bedtime\n",
    "         ))"
   ]
  },
  {
   "cell_type": "code",
   "execution_count": 43,
   "metadata": {
    "colab": {},
    "colab_type": "code",
    "id": "yoX2nh1RNDo0"
   },
   "outputs": [
    {
     "data": {
      "text/html": [
       "<div>\n",
       "<style scoped>\n",
       "    .dataframe tbody tr th:only-of-type {\n",
       "        vertical-align: middle;\n",
       "    }\n",
       "\n",
       "    .dataframe tbody tr th {\n",
       "        vertical-align: top;\n",
       "    }\n",
       "\n",
       "    .dataframe thead th {\n",
       "        text-align: right;\n",
       "    }\n",
       "</style>\n",
       "<table border=\"1\" class=\"dataframe\">\n",
       "  <thead>\n",
       "    <tr style=\"text-align: right;\">\n",
       "      <th></th>\n",
       "      <th>id</th>\n",
       "      <th>sex</th>\n",
       "      <th>age (months)</th>\n",
       "      <th>dlmo time</th>\n",
       "      <th>days napped</th>\n",
       "      <th>napping</th>\n",
       "      <th>nap lights outl time</th>\n",
       "      <th>nap sleep onset</th>\n",
       "      <th>nap midsleep</th>\n",
       "      <th>nap sleep offset</th>\n",
       "      <th>nap wake time</th>\n",
       "      <th>nap duration</th>\n",
       "      <th>nap time in bed</th>\n",
       "      <th>night bedtime</th>\n",
       "      <th>night sleep onset</th>\n",
       "      <th>sleep onset latency</th>\n",
       "      <th>night midsleep time</th>\n",
       "      <th>night wake time</th>\n",
       "      <th>night sleep duration</th>\n",
       "      <th>night time in bed</th>\n",
       "      <th>24 h sleep duration</th>\n",
       "      <th>bedtime phase difference</th>\n",
       "      <th>sleep onset phase difference</th>\n",
       "      <th>midsleep phase difference</th>\n",
       "      <th>wake time phase difference</th>\n",
       "    </tr>\n",
       "  </thead>\n",
       "  <tbody>\n",
       "    <tr>\n",
       "      <th>0</th>\n",
       "      <td>1</td>\n",
       "      <td>female</td>\n",
       "      <td>33.7</td>\n",
       "      <td>19.24</td>\n",
       "      <td>0</td>\n",
       "      <td>0</td>\n",
       "      <td>NaN</td>\n",
       "      <td>NaN</td>\n",
       "      <td>NaN</td>\n",
       "      <td>NaN</td>\n",
       "      <td>NaN</td>\n",
       "      <td>NaN</td>\n",
       "      <td>NaN</td>\n",
       "      <td>1245.0</td>\n",
       "      <td>20.68</td>\n",
       "      <td>0.23</td>\n",
       "      <td>1.92</td>\n",
       "      <td>7.17</td>\n",
       "      <td>629.4</td>\n",
       "      <td>643.0</td>\n",
       "      <td>629.4</td>\n",
       "      <td>-1.21</td>\n",
       "      <td>-1.44</td>\n",
       "      <td>6.68</td>\n",
       "      <td>11.93</td>\n",
       "    </tr>\n",
       "    <tr>\n",
       "      <th>1</th>\n",
       "      <td>2</td>\n",
       "      <td>female</td>\n",
       "      <td>31.5</td>\n",
       "      <td>18.27</td>\n",
       "      <td>0</td>\n",
       "      <td>0</td>\n",
       "      <td>NaN</td>\n",
       "      <td>NaN</td>\n",
       "      <td>NaN</td>\n",
       "      <td>NaN</td>\n",
       "      <td>NaN</td>\n",
       "      <td>NaN</td>\n",
       "      <td>NaN</td>\n",
       "      <td>1163.0</td>\n",
       "      <td>19.48</td>\n",
       "      <td>0.25</td>\n",
       "      <td>1.09</td>\n",
       "      <td>6.69</td>\n",
       "      <td>672.4</td>\n",
       "      <td>700.4</td>\n",
       "      <td>672.4</td>\n",
       "      <td>-0.96</td>\n",
       "      <td>-1.21</td>\n",
       "      <td>6.82</td>\n",
       "      <td>12.42</td>\n",
       "    </tr>\n",
       "    <tr>\n",
       "      <th>2</th>\n",
       "      <td>3</td>\n",
       "      <td>male</td>\n",
       "      <td>31.9</td>\n",
       "      <td>19.14</td>\n",
       "      <td>0</td>\n",
       "      <td>0</td>\n",
       "      <td>NaN</td>\n",
       "      <td>NaN</td>\n",
       "      <td>NaN</td>\n",
       "      <td>NaN</td>\n",
       "      <td>NaN</td>\n",
       "      <td>NaN</td>\n",
       "      <td>NaN</td>\n",
       "      <td>1200.0</td>\n",
       "      <td>20.05</td>\n",
       "      <td>0.45</td>\n",
       "      <td>1.29</td>\n",
       "      <td>6.53</td>\n",
       "      <td>628.8</td>\n",
       "      <td>682.6</td>\n",
       "      <td>628.8</td>\n",
       "      <td>-0.46</td>\n",
       "      <td>-0.91</td>\n",
       "      <td>6.15</td>\n",
       "      <td>11.39</td>\n",
       "    </tr>\n",
       "    <tr>\n",
       "      <th>3</th>\n",
       "      <td>4</td>\n",
       "      <td>female</td>\n",
       "      <td>31.6</td>\n",
       "      <td>19.69</td>\n",
       "      <td>0</td>\n",
       "      <td>0</td>\n",
       "      <td>NaN</td>\n",
       "      <td>NaN</td>\n",
       "      <td>NaN</td>\n",
       "      <td>NaN</td>\n",
       "      <td>NaN</td>\n",
       "      <td>NaN</td>\n",
       "      <td>NaN</td>\n",
       "      <td>1186.0</td>\n",
       "      <td>19.50</td>\n",
       "      <td>0.05</td>\n",
       "      <td>1.89</td>\n",
       "      <td>8.28</td>\n",
       "      <td>766.6</td>\n",
       "      <td>784.0</td>\n",
       "      <td>766.6</td>\n",
       "      <td>0.23</td>\n",
       "      <td>0.19</td>\n",
       "      <td>6.20</td>\n",
       "      <td>12.59</td>\n",
       "    </tr>\n",
       "    <tr>\n",
       "      <th>4</th>\n",
       "      <td>5</td>\n",
       "      <td>female</td>\n",
       "      <td>33.0</td>\n",
       "      <td>19.52</td>\n",
       "      <td>0</td>\n",
       "      <td>0</td>\n",
       "      <td>NaN</td>\n",
       "      <td>NaN</td>\n",
       "      <td>NaN</td>\n",
       "      <td>NaN</td>\n",
       "      <td>NaN</td>\n",
       "      <td>NaN</td>\n",
       "      <td>NaN</td>\n",
       "      <td>1161.0</td>\n",
       "      <td>19.65</td>\n",
       "      <td>0.45</td>\n",
       "      <td>1.30</td>\n",
       "      <td>6.95</td>\n",
       "      <td>678.0</td>\n",
       "      <td>718.0</td>\n",
       "      <td>678.0</td>\n",
       "      <td>0.31</td>\n",
       "      <td>-0.13</td>\n",
       "      <td>5.78</td>\n",
       "      <td>11.43</td>\n",
       "    </tr>\n",
       "  </tbody>\n",
       "</table>\n",
       "</div>"
      ],
      "text/plain": [
       "   id     sex  age (months)  dlmo time  days napped  napping  \\\n",
       "0   1  female          33.7      19.24            0        0   \n",
       "1   2  female          31.5      18.27            0        0   \n",
       "2   3    male          31.9      19.14            0        0   \n",
       "3   4  female          31.6      19.69            0        0   \n",
       "4   5  female          33.0      19.52            0        0   \n",
       "\n",
       "   nap lights outl time  nap sleep onset  nap midsleep  nap sleep offset  \\\n",
       "0                   NaN              NaN           NaN               NaN   \n",
       "1                   NaN              NaN           NaN               NaN   \n",
       "2                   NaN              NaN           NaN               NaN   \n",
       "3                   NaN              NaN           NaN               NaN   \n",
       "4                   NaN              NaN           NaN               NaN   \n",
       "\n",
       "   nap wake time  nap duration  nap time in bed  night bedtime  \\\n",
       "0            NaN           NaN              NaN         1245.0   \n",
       "1            NaN           NaN              NaN         1163.0   \n",
       "2            NaN           NaN              NaN         1200.0   \n",
       "3            NaN           NaN              NaN         1186.0   \n",
       "4            NaN           NaN              NaN         1161.0   \n",
       "\n",
       "   night sleep onset  sleep onset latency  night midsleep time  \\\n",
       "0              20.68                 0.23                 1.92   \n",
       "1              19.48                 0.25                 1.09   \n",
       "2              20.05                 0.45                 1.29   \n",
       "3              19.50                 0.05                 1.89   \n",
       "4              19.65                 0.45                 1.30   \n",
       "\n",
       "   night wake time  night sleep duration  night time in bed  \\\n",
       "0             7.17                 629.4              643.0   \n",
       "1             6.69                 672.4              700.4   \n",
       "2             6.53                 628.8              682.6   \n",
       "3             8.28                 766.6              784.0   \n",
       "4             6.95                 678.0              718.0   \n",
       "\n",
       "   24 h sleep duration  bedtime phase difference  \\\n",
       "0                629.4                     -1.21   \n",
       "1                672.4                     -0.96   \n",
       "2                628.8                     -0.46   \n",
       "3                766.6                      0.23   \n",
       "4                678.0                      0.31   \n",
       "\n",
       "   sleep onset phase difference  midsleep phase difference  \\\n",
       "0                         -1.44                       6.68   \n",
       "1                         -1.21                       6.82   \n",
       "2                         -0.91                       6.15   \n",
       "3                          0.19                       6.20   \n",
       "4                         -0.13                       5.78   \n",
       "\n",
       "   wake time phase difference  \n",
       "0                       11.93  \n",
       "1                       12.42  \n",
       "2                       11.39  \n",
       "3                       12.59  \n",
       "4                       11.43  "
      ]
     },
     "execution_count": 43,
     "metadata": {},
     "output_type": "execute_result"
    }
   ],
   "source": [
    "no_nap_bedtime =df[df['napping']==0] \n",
    "no_nap_bedtime.head()"
   ]
  },
  {
   "cell_type": "code",
   "execution_count": 44,
   "metadata": {},
   "outputs": [
    {
     "name": "stdout",
     "output_type": "stream",
     "text": [
      "5\n"
     ]
    }
   ],
   "source": [
    "print(len(no_nap_bedtime\n",
    "         ))"
   ]
  },
  {
   "cell_type": "markdown",
   "metadata": {
    "colab_type": "text",
    "id": "ZEqxhPObNDo3"
   },
   "source": [
    "Now find the sample mean bedtime for nap and no_nap."
   ]
  },
  {
   "cell_type": "code",
   "execution_count": 45,
   "metadata": {},
   "outputs": [
    {
     "data": {
      "text/plain": [
       "Index(['id', 'sex', 'age (months)', 'dlmo time', 'days napped', 'napping',\n",
       "       'nap lights outl time', 'nap sleep onset', 'nap midsleep',\n",
       "       'nap sleep offset', 'nap wake time', 'nap duration', 'nap time in bed',\n",
       "       'night bedtime', 'night sleep onset', 'sleep onset latency',\n",
       "       'night midsleep time', 'night wake time', 'night sleep duration',\n",
       "       'night time in bed', '24 h sleep duration', 'bedtime phase difference',\n",
       "       'sleep onset phase difference', 'midsleep phase difference',\n",
       "       'wake time phase difference'],\n",
       "      dtype='object')"
      ]
     },
     "execution_count": 45,
     "metadata": {},
     "output_type": "execute_result"
    }
   ],
   "source": [
    "nap_bedtime.columns"
   ]
  },
  {
   "cell_type": "code",
   "execution_count": 46,
   "metadata": {
    "colab": {},
    "colab_type": "code",
    "id": "ySJiflu5NDo5"
   },
   "outputs": [],
   "source": [
    "nap_mean_bedtime = nap_bedtime['night bedtime'].mean()"
   ]
  },
  {
   "cell_type": "code",
   "execution_count": 47,
   "metadata": {
    "colab": {},
    "colab_type": "code",
    "id": "IV2eUZAtNDo9"
   },
   "outputs": [],
   "source": [
    "no_nap_mean_bedtime = no_nap_bedtime['night bedtime'].mean()"
   ]
  },
  {
   "cell_type": "markdown",
   "metadata": {
    "colab_type": "text",
    "id": "LFCWELIDNDo-"
   },
   "source": [
    "**Question**: What is the sample difference of mean bedtime for nappers minus no nappers?"
   ]
  },
  {
   "cell_type": "code",
   "execution_count": 48,
   "metadata": {},
   "outputs": [
    {
     "data": {
      "text/plain": [
       "42.066666666666606"
      ]
     },
     "execution_count": 48,
     "metadata": {},
     "output_type": "execute_result"
    }
   ],
   "source": [
    "ans=nap_mean_bedtime-no_nap_mean_bedtime\n",
    "ans"
   ]
  },
  {
   "cell_type": "markdown",
   "metadata": {
    "colab_type": "text",
    "id": "qm-fIbluNDpA"
   },
   "source": [
    "Now find the sample standard deviation for $X_{nap}$ and $X_{no\\ nap}$."
   ]
  },
  {
   "cell_type": "code",
   "execution_count": 49,
   "metadata": {
    "colab": {},
    "colab_type": "code",
    "id": "G5X_l8-qNDpA"
   },
   "outputs": [],
   "source": [
    "nap_s_bedtime = nap_bedtime['night bedtime'].std()"
   ]
  },
  {
   "cell_type": "code",
   "execution_count": 50,
   "metadata": {
    "colab": {},
    "colab_type": "code",
    "id": "2Y29xWT5NDpD"
   },
   "outputs": [],
   "source": [
    "no_nap_s_bedtime =no_nap_bedtime['night bedtime'].std()"
   ]
  },
  {
   "cell_type": "markdown",
   "metadata": {
    "colab_type": "text",
    "id": "zikRy_GINDpF"
   },
   "source": [
    "We expect the variance in sleep time for toddlers who nap and toddlers who don't nap to be the same. Calculate the pooled standard error of $\\bar{X}_{nap} - \\bar{X}_{no\\ nap}$.\n",
    "\n",
    "$s.e.(\\bar{X}_{nap} - \\bar{X}_{no\\ nap}) = \\sqrt{\\frac{(n_1-1)s_1^2 + (n_2-1)s_2^2}{n_1+n_2-2}(\\frac{1}{n_1}+\\frac{1}{n_2})}$"
   ]
  },
  {
   "cell_type": "code",
   "execution_count": 51,
   "metadata": {
    "colab": {},
    "colab_type": "code",
    "id": "KZUAaqFYNDpF"
   },
   "outputs": [
    {
     "data": {
      "text/plain": [
       "17.77094313065816"
      ]
     },
     "execution_count": 51,
     "metadata": {},
     "output_type": "execute_result"
    }
   ],
   "source": [
    "pooled_se = np.sqrt(((14*(nap_s_bedtime**2)+4*(no_nap_s_bedtime**2))/18)*((1/5)+(1/15)))\n",
    "pooled_se"
   ]
  },
  {
   "cell_type": "markdown",
   "metadata": {
    "colab_type": "text",
    "id": "63-jF9fmNDpI"
   },
   "source": [
    "**Question**: What is the pooled s.e.$(\\bar{X}_{nap} - \\bar{X}_{no\\ nap})$?\n",
    "\n",
    "**Question**: Given our sample size of $n$, how many degrees of freedom ($df$) are there for the associated $t$ distribution?"
   ]
  },
  {
   "cell_type": "markdown",
   "metadata": {
    "colab_type": "text",
    "id": "S3DC4b-iNDpI"
   },
   "source": [
    "Now find the $t$-test statistic for our hypothesis test using  \n",
    "* pooled s.e.($\\bar{X}_{nap} - \\bar{X}_{no\\ nap}$)  \n",
    "* $\\bar{X}_{nap} - \\bar{X}_{no\\ nap}$  \n",
    "* $\\mu_{0,\\ nap} - \\mu_{0,\\ no\\ nap}$, the population difference in means under the null hypothesis"
   ]
  },
  {
   "cell_type": "markdown",
   "metadata": {
    "colab_type": "text",
    "id": "vpGx3jGXNDpJ"
   },
   "source": [
    "**Question**: What is the $t$-test statistic for the hypothesis test?"
   ]
  },
  {
   "cell_type": "markdown",
   "metadata": {
    "colab_type": "text",
    "id": "YSys0xG3NDpK"
   },
   "source": [
    "To find the p-value, we can use the function:\n",
    "```\n",
    "t.cdf(y, df)\n",
    "```\n",
    "Which for $X \\sim t(df)$ returns $P(X \\leq y)$.\n",
    "\n",
    "Because of the symmetry of the $t$ distrubution, we have that \n",
    "```\n",
    "1-t.cdf(y, df)\n",
    "```\n",
    "returns $P(X > y)$\n",
    "\n",
    "This function, t.cdf(y, df), will give you the same value as finding the one-tailed probability of y on a t-table with the specified degrees of freedom."
   ]
  },
  {
   "cell_type": "markdown",
   "metadata": {
    "colab_type": "text",
    "id": "iCR_7GeaNDpL"
   },
   "source": [
    "Using the function t.cdf and your $t$-test statistics, find the p-value."
   ]
  },
  {
   "cell_type": "code",
   "execution_count": 52,
   "metadata": {
    "colab": {},
    "colab_type": "code",
    "id": "onJwGMApNDpM",
    "scrolled": true
   },
   "outputs": [
    {
     "data": {
      "text/plain": [
       "2.367160052079275"
      ]
     },
     "execution_count": 52,
     "metadata": {},
     "output_type": "execute_result"
    }
   ],
   "source": [
    "z_score=(nap_mean_bedtime-no_nap_mean_bedtime)/pooled_se\n",
    "z_score"
   ]
  },
  {
   "cell_type": "code",
   "execution_count": 65,
   "metadata": {},
   "outputs": [],
   "source": [
    "p_value=1-t.cdf(2.367160052079275,18)"
   ]
  },
  {
   "cell_type": "code",
   "execution_count": 66,
   "metadata": {},
   "outputs": [
    {
     "data": {
      "text/plain": [
       "0.014667451430902756"
      ]
     },
     "execution_count": 66,
     "metadata": {},
     "output_type": "execute_result"
    }
   ],
   "source": [
    "p_value"
   ]
  },
  {
   "cell_type": "code",
   "execution_count": null,
   "metadata": {
    "scrolled": true
   },
   "outputs": [],
   "source": []
  },
  {
   "cell_type": "markdown",
   "metadata": {
    "colab_type": "text",
    "id": "KAasK4C6NDpO"
   },
   "source": [
    "**Question**: What is the p-value to the nearest hundredth?"
   ]
  },
  {
   "cell_type": "markdown",
   "metadata": {
    "colab_type": "text",
    "id": "ObOjGXrTNDpP"
   },
   "source": [
    "Calculate the $t$ test statistics and corresponding p-value using the scipy function scipy.stats.ttest_ind(a, b, equal_var=True) and check with your answer. \n",
    "\n",
    "Does scipy.stats.ttest_ind return values for a one-sided or two-sided test? Can you think of a way to recover the results you got using 1-t.cdf from the p-value given by scipy.stats.ttest_ind?"
   ]
  },
  {
   "cell_type": "code",
   "execution_count": 54,
   "metadata": {},
   "outputs": [],
   "source": [
    "from scipy import stats"
   ]
  },
  {
   "cell_type": "code",
   "execution_count": 55,
   "metadata": {
    "colab": {},
    "colab_type": "code",
    "id": "mOdFSpXoNDpQ"
   },
   "outputs": [
    {
     "data": {
      "text/plain": [
       "Ttest_indResult(statistic=2.367160052079275, pvalue=0.029334902861805394)"
      ]
     },
     "execution_count": 55,
     "metadata": {},
     "output_type": "execute_result"
    }
   ],
   "source": [
    "stats.ttest_ind(nap_bedtime['night bedtime'], no_nap_bedtime['night bedtime'], equal_var=True) "
   ]
  },
  {
   "cell_type": "code",
   "execution_count": null,
   "metadata": {},
   "outputs": [],
   "source": []
  },
  {
   "cell_type": "markdown",
   "metadata": {
    "colab_type": "text",
    "id": "XulxTfp1NDpU"
   },
   "source": [
    "**Question**: Do you reject or fail to reject the null hypothesis that the difference in average bedtime for napping versus non napping toddlers is 0?"
   ]
  },
  {
   "cell_type": "markdown",
   "metadata": {
    "colab_type": "text",
    "id": "nJKOHN5pNDpV"
   },
   "source": [
    "Using the scipy.stats.ttest_ind function, find the $t$-test statistic and p-value for the following hypothesis test:  \n",
    "\n",
    "The average bedtime for napping toddlers is different from toddlers who don't nap.\n",
    "$$H_0: \\mu_{nap}=\\mu_{no\\ nap}, \\ H_a:\\mu_{nap}\\neq\\mu_{no\\ nap}$$\n",
    "Or equivalenty:\n",
    "$$H_0: \\mu_{nap}-\\mu_{no\\ nap}=0, \\ H_a:\\mu_{nap}-\\mu_{no\\ nap} \\neq 0$$"
   ]
  },
  {
   "cell_type": "markdown",
   "metadata": {
    "colab_type": "text",
    "id": "ATF7D28TNDpW"
   },
   "source": [
    "**Question**: What is the $t$-test statistic and p-value for the two-sided hypothesis test?\n",
    "\n",
    "**Question**: For $\\alpha=.025$, do you reject or fail to reject the original one-sided null hypothesis that toddlers who nap have a later bedtime than toddlers who don't nap?"
   ]
  }
 ],
 "metadata": {
  "colab": {
   "collapsed_sections": [],
   "name": "Hypothesis testing assessment.ipynb",
   "provenance": [],
   "version": "0.3.2"
  },
  "kernelspec": {
   "display_name": "Python 3",
   "language": "python",
   "name": "python3"
  },
  "language_info": {
   "codemirror_mode": {
    "name": "ipython",
    "version": 3
   },
   "file_extension": ".py",
   "mimetype": "text/x-python",
   "name": "python",
   "nbconvert_exporter": "python",
   "pygments_lexer": "ipython3",
   "version": "3.6.3"
  }
 },
 "nbformat": 4,
 "nbformat_minor": 1
}
