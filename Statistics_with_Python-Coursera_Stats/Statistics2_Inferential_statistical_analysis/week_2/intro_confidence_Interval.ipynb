{
  "nbformat": 4,
  "nbformat_minor": 0,
  "metadata": {
    "colab": {
      "name": "intro_confidence_Interval.ipynb",
      "provenance": [],
      "collapsed_sections": []
    },
    "kernelspec": {
      "name": "python3",
      "display_name": "Python 3"
    }
  },
  "cells": [
    {
      "cell_type": "markdown",
      "metadata": {
        "id": "xUMnc__hBGX8",
        "colab_type": "text"
      },
      "source": [
        "**Statistical Inference with Confidence Intervals**\n",
        "\n",
        "Confidence intervals are a calculated range or boundary around a parameter or a statistic that is supported mathematically with a certain level of confidence. For example, in the lecture, we estimated, with 95% confidence, that the population proportion of parents with a toddler that use a car seat for all travel with their toddler was somewhere between 82.2% and 87.7%.\n",
        "\n",
        "This is different than having a 95% probability that the true population proportion is within our confidence interval.\n",
        "\n",
        "Essentially, if we were to repeat this process, 95% of our calculated confidence intervals would contain the true proportion.\n",
        "\n",
        "Probability is the odds of a favorable outcome occurring. So if I am flipping a coin the probability of flipping a head is 1/2.\n",
        "\n",
        "In statistics, there is a concept known as a confidence interval. Say I am flipping 10 coins, I wonder how many of these coins are likely to some up heads, anywhere from 0 to 10.\n",
        "\n",
        "I am 100% confident of an interval of 0 to 10 heads. But that is a very broad interval, so it is not much help. Instead let us look at 5 ± 3, from 2 to 8, still a pretty broad interval, my confidence level is almost 98% still very high. Lets look at 5 ± 1, from 4 to 6, now my confidence level is only approximately 65.6%. A confidence level is about how sure we are that a result will fall within a certain range of options, like 4 to 6 heads or 2 to 8 heads.\n",
        "\n"
      ]
    },
    {
      "cell_type": "code",
      "metadata": {
        "id": "g5FBhXl_BYlp",
        "colab_type": "code",
        "colab": {}
      },
      "source": [
        ""
      ],
      "execution_count": 0,
      "outputs": []
    },
    {
      "cell_type": "markdown",
      "metadata": {
        "id": "UuvM1nJBBZxa",
        "colab_type": "text"
      },
      "source": [
        "**How are Confidence Intervals Calculated?**\n",
        "\n",
        "Our equation for calculating confidence intervals is as follows:\n",
        "\n",
        "$$Best\\ Estimate \\pm Margin\\ of\\ Error$$\n",
        "\n",
        "Where the *Best Estimate* is the **observed population proportion or mean** and the *Margin of Error* is the **t-multiplier**.\n",
        "\n",
        "The t-multiplier is calculated based on the degrees of freedom and desired confidence level.  For samples with more than 30 observations and a confidence level of 95%, the t-multiplier is 1.96\n",
        "\n",
        "The equation to create a 95% confidence interval can also be shown as:\n",
        "\n",
        "$$Population\\ Proportion\\ or\\ Mean\\ \\pm (t-multiplier *\\ Standard\\ Error)$$\n",
        "\n",
        "Lastly, the Standard Error is calculated differenly for population proportion and mean:\n",
        "\n",
        "$$Standard\\ Error \\ for\\ Population\\ Proportion = \\sqrt{\\frac{Population\\ Proportion * (1 - Population\\ Proportion)}{Number\\ Of\\ Observations}}$$\n",
        "\n",
        "$$Standard\\ Error \\ for\\ Mean = \\frac{Standard\\ Deviation}{\\sqrt{Number\\ Of\\ Observations}}$$\n",
        "\n",
        "Let's replicate the car seat example from lecture:"
      ]
    },
    {
      "cell_type": "code",
      "metadata": {
        "id": "SK_JmNtwBkCZ",
        "colab_type": "code",
        "colab": {}
      },
      "source": [
        "import numpy as np\n"
      ],
      "execution_count": 0,
      "outputs": []
    },
    {
      "cell_type": "code",
      "metadata": {
        "id": "iTPysOQLBr6o",
        "colab_type": "code",
        "colab": {}
      },
      "source": [
        "zstar =1.96\n",
        "p = .85       #population proportion\n",
        "n =659        #sample size\n",
        "\n",
        "\n",
        "se = np.sqrt(p*(1-p)/n)"
      ],
      "execution_count": 0,
      "outputs": []
    },
    {
      "cell_type": "code",
      "metadata": {
        "id": "Db3zlzGqCR6o",
        "colab_type": "code",
        "colab": {
          "base_uri": "https://localhost:8080/",
          "height": 35
        },
        "outputId": "ce93a549-cd1f-4203-f671-d50f4560ddbc"
      },
      "source": [
        "se"
      ],
      "execution_count": 4,
      "outputs": [
        {
          "output_type": "execute_result",
          "data": {
            "text/plain": [
              "0.01390952774409444"
            ]
          },
          "metadata": {
            "tags": []
          },
          "execution_count": 4
        }
      ]
    },
    {
      "cell_type": "code",
      "metadata": {
        "id": "ikqulL_ACUh4",
        "colab_type": "code",
        "colab": {
          "base_uri": "https://localhost:8080/",
          "height": 35
        },
        "outputId": "1886ee5f-6404-40ef-ad12-8563e3868967"
      },
      "source": [
        "lcb = p-zstar*se\n",
        "ucb = p+zstar*se\n",
        "(lcb,ucb)"
      ],
      "execution_count": 5,
      "outputs": [
        {
          "output_type": "execute_result",
          "data": {
            "text/plain": [
              "(0.8227373256215749, 0.8772626743784251)"
            ]
          },
          "metadata": {
            "tags": []
          },
          "execution_count": 5
        }
      ]
    },
    {
      "cell_type": "code",
      "metadata": {
        "id": "6j2UsX_vCphu",
        "colab_type": "code",
        "colab": {}
      },
      "source": [
        ""
      ],
      "execution_count": 0,
      "outputs": []
    },
    {
      "cell_type": "markdown",
      "metadata": {
        "id": "KkVmDmxFCuMN",
        "colab_type": "text"
      },
      "source": [
        "**using statsmodel module**"
      ]
    },
    {
      "cell_type": "code",
      "metadata": {
        "id": "lf2tPLhmCySA",
        "colab_type": "code",
        "colab": {
          "base_uri": "https://localhost:8080/",
          "height": 35
        },
        "outputId": "6675c560-8c13-4dd0-f14c-446d2ac8738c"
      },
      "source": [
        "import statsmodels.api as sm\n",
        "sm.stats.proportion_confint(n*p , n)"
      ],
      "execution_count": 6,
      "outputs": [
        {
          "output_type": "execute_result",
          "data": {
            "text/plain": [
              "(0.8227378265796143, 0.8772621734203857)"
            ]
          },
          "metadata": {
            "tags": []
          },
          "execution_count": 6
        }
      ]
    },
    {
      "cell_type": "code",
      "metadata": {
        "id": "Ps0OZzj8DftB",
        "colab_type": "code",
        "colab": {
          "base_uri": "https://localhost:8080/",
          "height": 238
        },
        "outputId": "c4d44066-a2f3-4559-fba6-521397ee32ec"
      },
      "source": [
        "import pandas as pd\n",
        "df = pd.read_csv('/content/cartwheeldata.csv',index_col=0)\n",
        "df.head()"
      ],
      "execution_count": 8,
      "outputs": [
        {
          "output_type": "execute_result",
          "data": {
            "text/html": [
              "<div>\n",
              "<style scoped>\n",
              "    .dataframe tbody tr th:only-of-type {\n",
              "        vertical-align: middle;\n",
              "    }\n",
              "\n",
              "    .dataframe tbody tr th {\n",
              "        vertical-align: top;\n",
              "    }\n",
              "\n",
              "    .dataframe thead th {\n",
              "        text-align: right;\n",
              "    }\n",
              "</style>\n",
              "<table border=\"1\" class=\"dataframe\">\n",
              "  <thead>\n",
              "    <tr style=\"text-align: right;\">\n",
              "      <th></th>\n",
              "      <th>Age</th>\n",
              "      <th>Gender</th>\n",
              "      <th>GenderGroup</th>\n",
              "      <th>Glasses</th>\n",
              "      <th>GlassesGroup</th>\n",
              "      <th>Height</th>\n",
              "      <th>Wingspan</th>\n",
              "      <th>CWDistance</th>\n",
              "      <th>Complete</th>\n",
              "      <th>CompleteGroup</th>\n",
              "      <th>Score</th>\n",
              "    </tr>\n",
              "    <tr>\n",
              "      <th>ID</th>\n",
              "      <th></th>\n",
              "      <th></th>\n",
              "      <th></th>\n",
              "      <th></th>\n",
              "      <th></th>\n",
              "      <th></th>\n",
              "      <th></th>\n",
              "      <th></th>\n",
              "      <th></th>\n",
              "      <th></th>\n",
              "      <th></th>\n",
              "    </tr>\n",
              "  </thead>\n",
              "  <tbody>\n",
              "    <tr>\n",
              "      <th>1</th>\n",
              "      <td>56</td>\n",
              "      <td>F</td>\n",
              "      <td>1</td>\n",
              "      <td>Y</td>\n",
              "      <td>1</td>\n",
              "      <td>62.0</td>\n",
              "      <td>61.0</td>\n",
              "      <td>79</td>\n",
              "      <td>Y</td>\n",
              "      <td>1</td>\n",
              "      <td>7</td>\n",
              "    </tr>\n",
              "    <tr>\n",
              "      <th>2</th>\n",
              "      <td>26</td>\n",
              "      <td>F</td>\n",
              "      <td>1</td>\n",
              "      <td>Y</td>\n",
              "      <td>1</td>\n",
              "      <td>62.0</td>\n",
              "      <td>60.0</td>\n",
              "      <td>70</td>\n",
              "      <td>Y</td>\n",
              "      <td>1</td>\n",
              "      <td>8</td>\n",
              "    </tr>\n",
              "    <tr>\n",
              "      <th>3</th>\n",
              "      <td>33</td>\n",
              "      <td>F</td>\n",
              "      <td>1</td>\n",
              "      <td>Y</td>\n",
              "      <td>1</td>\n",
              "      <td>66.0</td>\n",
              "      <td>64.0</td>\n",
              "      <td>85</td>\n",
              "      <td>Y</td>\n",
              "      <td>1</td>\n",
              "      <td>7</td>\n",
              "    </tr>\n",
              "    <tr>\n",
              "      <th>4</th>\n",
              "      <td>39</td>\n",
              "      <td>F</td>\n",
              "      <td>1</td>\n",
              "      <td>N</td>\n",
              "      <td>0</td>\n",
              "      <td>64.0</td>\n",
              "      <td>63.0</td>\n",
              "      <td>87</td>\n",
              "      <td>Y</td>\n",
              "      <td>1</td>\n",
              "      <td>10</td>\n",
              "    </tr>\n",
              "    <tr>\n",
              "      <th>5</th>\n",
              "      <td>27</td>\n",
              "      <td>M</td>\n",
              "      <td>2</td>\n",
              "      <td>N</td>\n",
              "      <td>0</td>\n",
              "      <td>73.0</td>\n",
              "      <td>75.0</td>\n",
              "      <td>72</td>\n",
              "      <td>N</td>\n",
              "      <td>0</td>\n",
              "      <td>4</td>\n",
              "    </tr>\n",
              "  </tbody>\n",
              "</table>\n",
              "</div>"
            ],
            "text/plain": [
              "    Age Gender  GenderGroup Glasses  ...  CWDistance  Complete  CompleteGroup  Score\n",
              "ID                                   ...                                            \n",
              "1    56      F            1       Y  ...          79         Y              1      7\n",
              "2    26      F            1       Y  ...          70         Y              1      8\n",
              "3    33      F            1       Y  ...          85         Y              1      7\n",
              "4    39      F            1       N  ...          87         Y              1     10\n",
              "5    27      M            2       N  ...          72         N              0      4\n",
              "\n",
              "[5 rows x 11 columns]"
            ]
          },
          "metadata": {
            "tags": []
          },
          "execution_count": 8
        }
      ]
    },
    {
      "cell_type": "code",
      "metadata": {
        "id": "_QuQqnvjEq7r",
        "colab_type": "code",
        "colab": {
          "base_uri": "https://localhost:8080/",
          "height": 35
        },
        "outputId": "cf23db2f-48ec-468d-9a5b-eb8f8719fb13"
      },
      "source": [
        "standard_dev=df['CWDistance'].std()\n",
        "standard_dev"
      ],
      "execution_count": 29,
      "outputs": [
        {
          "output_type": "execute_result",
          "data": {
            "text/plain": [
              "15.058552387264855"
            ]
          },
          "metadata": {
            "tags": []
          },
          "execution_count": 29
        }
      ]
    },
    {
      "cell_type": "code",
      "metadata": {
        "id": "67c9IjKlFgh7",
        "colab_type": "code",
        "colab": {
          "base_uri": "https://localhost:8080/",
          "height": 182
        },
        "outputId": "b6a0d07d-fe15-4264-dbc5-bd50b19c9992"
      },
      "source": [
        "df['CWDistance'].describe()"
      ],
      "execution_count": 30,
      "outputs": [
        {
          "output_type": "execute_result",
          "data": {
            "text/plain": [
              "count     25.000000\n",
              "mean      82.480000\n",
              "std       15.058552\n",
              "min       63.000000\n",
              "25%       70.000000\n",
              "50%       81.000000\n",
              "75%       92.000000\n",
              "max      115.000000\n",
              "Name: CWDistance, dtype: float64"
            ]
          },
          "metadata": {
            "tags": []
          },
          "execution_count": 30
        }
      ]
    },
    {
      "cell_type": "code",
      "metadata": {
        "id": "7uFH-UfPE6KY",
        "colab_type": "code",
        "colab": {
          "base_uri": "https://localhost:8080/",
          "height": 35
        },
        "outputId": "79d4ce18-a4c7-4355-f86a-77f34377cad4"
      },
      "source": [
        "num=df['CWDistance'].count()\n",
        "se_mean = standard_dev/np.sqrt(num)\n",
        "se_mean"
      ],
      "execution_count": 34,
      "outputs": [
        {
          "output_type": "execute_result",
          "data": {
            "text/plain": [
              "3.0117104774529713"
            ]
          },
          "metadata": {
            "tags": []
          },
          "execution_count": 34
        }
      ]
    },
    {
      "cell_type": "code",
      "metadata": {
        "id": "wJjxC7jvFvad",
        "colab_type": "code",
        "colab": {}
      },
      "source": [
        "tstar = 2.064"
      ],
      "execution_count": 0,
      "outputs": []
    },
    {
      "cell_type": "code",
      "metadata": {
        "id": "xQ9EeXBvFw01",
        "colab_type": "code",
        "colab": {
          "base_uri": "https://localhost:8080/",
          "height": 35
        },
        "outputId": "c0f42c64-779e-4d89-e991-18ee6cf67fe7"
      },
      "source": [
        "lcb_mean = df['CWDistance'].mean() - tstar*se_mean\n",
        "ucb_mean = df['CWDistance'].mean() + tstar*se_mean\n",
        "(lcb_mean, ucb_mean)"
      ],
      "execution_count": 36,
      "outputs": [
        {
          "output_type": "execute_result",
          "data": {
            "text/plain": [
              "(76.26382957453707, 88.69617042546294)"
            ]
          },
          "metadata": {
            "tags": []
          },
          "execution_count": 36
        }
      ]
    },
    {
      "cell_type": "code",
      "metadata": {
        "id": "bCr_ffgBGkqL",
        "colab_type": "code",
        "colab": {
          "base_uri": "https://localhost:8080/",
          "height": 35
        },
        "outputId": "17d6936e-b565-4c93-a236-5c5afbed1dfb"
      },
      "source": [
        "sm.stats.DescrStatsW(df[\"CWDistance\"]).zconfint_mean()"
      ],
      "execution_count": 37,
      "outputs": [
        {
          "output_type": "execute_result",
          "data": {
            "text/plain": [
              "(76.57715593233024, 88.38284406766977)"
            ]
          },
          "metadata": {
            "tags": []
          },
          "execution_count": 37
        }
      ]
    },
    {
      "cell_type": "code",
      "metadata": {
        "id": "mzteuKX4HlrA",
        "colab_type": "code",
        "colab": {}
      },
      "source": [
        ""
      ],
      "execution_count": 0,
      "outputs": []
    }
  ]
}