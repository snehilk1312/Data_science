{
  "nbformat": 4,
  "nbformat_minor": 0,
  "metadata": {
    "colab": {
      "name": "confidence_intervals.ipynb",
      "provenance": [],
      "collapsed_sections": []
    },
    "kernelspec": {
      "name": "python3",
      "display_name": "Python 3"
    }
  },
  "cells": [
    {
      "cell_type": "code",
      "metadata": {
        "id": "9lu3OfzbH2iZ",
        "colab_type": "code",
        "colab": {}
      },
      "source": [
        "import pandas as pd\n",
        "import numpy as np\n",
        "import matplotlib\n",
        "matplotlib.use('Agg')\n",
        "import seaborn as sns\n",
        "%matplotlib inline\n",
        "import matplotlib.pyplot as plt\n",
        "import statsmodels.api as sm"
      ],
      "execution_count": 0,
      "outputs": []
    },
    {
      "cell_type": "code",
      "metadata": {
        "id": "7qEAC-ywMuq5",
        "colab_type": "code",
        "colab": {
          "base_uri": "https://localhost:8080/",
          "height": 226
        },
        "outputId": "61945e4b-d944-4bd8-dc5a-24c404d60ac2"
      },
      "source": [
        "df = pd.read_csv('/content/cartwheel.csv')\n",
        "df.head()"
      ],
      "execution_count": 178,
      "outputs": [
        {
          "output_type": "execute_result",
          "data": {
            "text/html": [
              "<div>\n",
              "<style scoped>\n",
              "    .dataframe tbody tr th:only-of-type {\n",
              "        vertical-align: middle;\n",
              "    }\n",
              "\n",
              "    .dataframe tbody tr th {\n",
              "        vertical-align: top;\n",
              "    }\n",
              "\n",
              "    .dataframe thead th {\n",
              "        text-align: right;\n",
              "    }\n",
              "</style>\n",
              "<table border=\"1\" class=\"dataframe\">\n",
              "  <thead>\n",
              "    <tr style=\"text-align: right;\">\n",
              "      <th></th>\n",
              "      <th>SEQN</th>\n",
              "      <th>ALQ101</th>\n",
              "      <th>ALQ110</th>\n",
              "      <th>ALQ130</th>\n",
              "      <th>SMQ020</th>\n",
              "      <th>RIAGENDR</th>\n",
              "      <th>RIDAGEYR</th>\n",
              "      <th>RIDRETH1</th>\n",
              "      <th>DMDCITZN</th>\n",
              "      <th>DMDEDUC2</th>\n",
              "      <th>DMDMARTL</th>\n",
              "      <th>DMDHHSIZ</th>\n",
              "      <th>WTINT2YR</th>\n",
              "      <th>SDMVPSU</th>\n",
              "      <th>SDMVSTRA</th>\n",
              "      <th>INDFMPIR</th>\n",
              "      <th>BPXSY1</th>\n",
              "      <th>BPXDI1</th>\n",
              "      <th>BPXSY2</th>\n",
              "      <th>BPXDI2</th>\n",
              "      <th>BMXWT</th>\n",
              "      <th>BMXHT</th>\n",
              "      <th>BMXBMI</th>\n",
              "      <th>BMXLEG</th>\n",
              "      <th>BMXARML</th>\n",
              "      <th>BMXARMC</th>\n",
              "      <th>BMXWAIST</th>\n",
              "      <th>HIQ210</th>\n",
              "    </tr>\n",
              "  </thead>\n",
              "  <tbody>\n",
              "    <tr>\n",
              "      <th>0</th>\n",
              "      <td>83732</td>\n",
              "      <td>1.0</td>\n",
              "      <td>NaN</td>\n",
              "      <td>1.0</td>\n",
              "      <td>1</td>\n",
              "      <td>1</td>\n",
              "      <td>62</td>\n",
              "      <td>3</td>\n",
              "      <td>1.0</td>\n",
              "      <td>5.0</td>\n",
              "      <td>1.0</td>\n",
              "      <td>2</td>\n",
              "      <td>134671.37</td>\n",
              "      <td>1</td>\n",
              "      <td>125</td>\n",
              "      <td>4.39</td>\n",
              "      <td>128.0</td>\n",
              "      <td>70.0</td>\n",
              "      <td>124.0</td>\n",
              "      <td>64.0</td>\n",
              "      <td>94.8</td>\n",
              "      <td>184.5</td>\n",
              "      <td>27.8</td>\n",
              "      <td>43.3</td>\n",
              "      <td>43.6</td>\n",
              "      <td>35.9</td>\n",
              "      <td>101.1</td>\n",
              "      <td>2.0</td>\n",
              "    </tr>\n",
              "    <tr>\n",
              "      <th>1</th>\n",
              "      <td>83733</td>\n",
              "      <td>1.0</td>\n",
              "      <td>NaN</td>\n",
              "      <td>6.0</td>\n",
              "      <td>1</td>\n",
              "      <td>1</td>\n",
              "      <td>53</td>\n",
              "      <td>3</td>\n",
              "      <td>2.0</td>\n",
              "      <td>3.0</td>\n",
              "      <td>3.0</td>\n",
              "      <td>1</td>\n",
              "      <td>24328.56</td>\n",
              "      <td>1</td>\n",
              "      <td>125</td>\n",
              "      <td>1.32</td>\n",
              "      <td>146.0</td>\n",
              "      <td>88.0</td>\n",
              "      <td>140.0</td>\n",
              "      <td>88.0</td>\n",
              "      <td>90.4</td>\n",
              "      <td>171.4</td>\n",
              "      <td>30.8</td>\n",
              "      <td>38.0</td>\n",
              "      <td>40.0</td>\n",
              "      <td>33.2</td>\n",
              "      <td>107.9</td>\n",
              "      <td>NaN</td>\n",
              "    </tr>\n",
              "    <tr>\n",
              "      <th>2</th>\n",
              "      <td>83734</td>\n",
              "      <td>1.0</td>\n",
              "      <td>NaN</td>\n",
              "      <td>NaN</td>\n",
              "      <td>1</td>\n",
              "      <td>1</td>\n",
              "      <td>78</td>\n",
              "      <td>3</td>\n",
              "      <td>1.0</td>\n",
              "      <td>3.0</td>\n",
              "      <td>1.0</td>\n",
              "      <td>2</td>\n",
              "      <td>12400.01</td>\n",
              "      <td>1</td>\n",
              "      <td>131</td>\n",
              "      <td>1.51</td>\n",
              "      <td>138.0</td>\n",
              "      <td>46.0</td>\n",
              "      <td>132.0</td>\n",
              "      <td>44.0</td>\n",
              "      <td>83.4</td>\n",
              "      <td>170.1</td>\n",
              "      <td>28.8</td>\n",
              "      <td>35.6</td>\n",
              "      <td>37.0</td>\n",
              "      <td>31.0</td>\n",
              "      <td>116.5</td>\n",
              "      <td>2.0</td>\n",
              "    </tr>\n",
              "    <tr>\n",
              "      <th>3</th>\n",
              "      <td>83735</td>\n",
              "      <td>2.0</td>\n",
              "      <td>1.0</td>\n",
              "      <td>1.0</td>\n",
              "      <td>2</td>\n",
              "      <td>2</td>\n",
              "      <td>56</td>\n",
              "      <td>3</td>\n",
              "      <td>1.0</td>\n",
              "      <td>5.0</td>\n",
              "      <td>6.0</td>\n",
              "      <td>1</td>\n",
              "      <td>102718.00</td>\n",
              "      <td>1</td>\n",
              "      <td>131</td>\n",
              "      <td>5.00</td>\n",
              "      <td>132.0</td>\n",
              "      <td>72.0</td>\n",
              "      <td>134.0</td>\n",
              "      <td>68.0</td>\n",
              "      <td>109.8</td>\n",
              "      <td>160.9</td>\n",
              "      <td>42.4</td>\n",
              "      <td>38.5</td>\n",
              "      <td>37.7</td>\n",
              "      <td>38.3</td>\n",
              "      <td>110.1</td>\n",
              "      <td>2.0</td>\n",
              "    </tr>\n",
              "    <tr>\n",
              "      <th>4</th>\n",
              "      <td>83736</td>\n",
              "      <td>2.0</td>\n",
              "      <td>1.0</td>\n",
              "      <td>1.0</td>\n",
              "      <td>2</td>\n",
              "      <td>2</td>\n",
              "      <td>42</td>\n",
              "      <td>4</td>\n",
              "      <td>1.0</td>\n",
              "      <td>4.0</td>\n",
              "      <td>3.0</td>\n",
              "      <td>5</td>\n",
              "      <td>17627.67</td>\n",
              "      <td>2</td>\n",
              "      <td>126</td>\n",
              "      <td>1.23</td>\n",
              "      <td>100.0</td>\n",
              "      <td>70.0</td>\n",
              "      <td>114.0</td>\n",
              "      <td>54.0</td>\n",
              "      <td>55.2</td>\n",
              "      <td>164.9</td>\n",
              "      <td>20.3</td>\n",
              "      <td>37.4</td>\n",
              "      <td>36.0</td>\n",
              "      <td>27.2</td>\n",
              "      <td>80.4</td>\n",
              "      <td>2.0</td>\n",
              "    </tr>\n",
              "  </tbody>\n",
              "</table>\n",
              "</div>"
            ],
            "text/plain": [
              "    SEQN  ALQ101  ALQ110  ALQ130  ...  BMXARML  BMXARMC  BMXWAIST  HIQ210\n",
              "0  83732     1.0     NaN     1.0  ...     43.6     35.9     101.1     2.0\n",
              "1  83733     1.0     NaN     6.0  ...     40.0     33.2     107.9     NaN\n",
              "2  83734     1.0     NaN     NaN  ...     37.0     31.0     116.5     2.0\n",
              "3  83735     2.0     1.0     1.0  ...     37.7     38.3     110.1     2.0\n",
              "4  83736     2.0     1.0     1.0  ...     36.0     27.2      80.4     2.0\n",
              "\n",
              "[5 rows x 28 columns]"
            ]
          },
          "metadata": {
            "tags": []
          },
          "execution_count": 178
        }
      ]
    },
    {
      "cell_type": "code",
      "metadata": {
        "id": "UFbHqVncM3cY",
        "colab_type": "code",
        "colab": {
          "base_uri": "https://localhost:8080/",
          "height": 35
        },
        "outputId": "93f8920f-14ed-42a0-991c-e4c190ef0f9f"
      },
      "source": [
        "df.shape"
      ],
      "execution_count": 179,
      "outputs": [
        {
          "output_type": "execute_result",
          "data": {
            "text/plain": [
              "(5735, 28)"
            ]
          },
          "metadata": {
            "tags": []
          },
          "execution_count": 179
        }
      ]
    },
    {
      "cell_type": "code",
      "metadata": {
        "id": "yXKoX0IvM5Z2",
        "colab_type": "code",
        "colab": {
          "base_uri": "https://localhost:8080/",
          "height": 127
        },
        "outputId": "fba42c50-dbf3-4bfd-9e84-b2c0aae16edd"
      },
      "source": [
        "df.columns"
      ],
      "execution_count": 180,
      "outputs": [
        {
          "output_type": "execute_result",
          "data": {
            "text/plain": [
              "Index(['SEQN', 'ALQ101', 'ALQ110', 'ALQ130', 'SMQ020', 'RIAGENDR', 'RIDAGEYR',\n",
              "       'RIDRETH1', 'DMDCITZN', 'DMDEDUC2', 'DMDMARTL', 'DMDHHSIZ', 'WTINT2YR',\n",
              "       'SDMVPSU', 'SDMVSTRA', 'INDFMPIR', 'BPXSY1', 'BPXDI1', 'BPXSY2',\n",
              "       'BPXDI2', 'BMXWT', 'BMXHT', 'BMXBMI', 'BMXLEG', 'BMXARML', 'BMXARMC',\n",
              "       'BMXWAIST', 'HIQ210'],\n",
              "      dtype='object')"
            ]
          },
          "metadata": {
            "tags": []
          },
          "execution_count": 180
        }
      ]
    },
    {
      "cell_type": "markdown",
      "metadata": {
        "id": "UKtZC4a0NAte",
        "colab_type": "text"
      },
      "source": [
        "**DIFFERENCE OF PROPORTION  FOR MALE AND FEMALE SMOKER**"
      ]
    },
    {
      "cell_type": "code",
      "metadata": {
        "id": "yHJgYbtsNFRB",
        "colab_type": "code",
        "colab": {
          "base_uri": "https://localhost:8080/",
          "height": 35
        },
        "outputId": "c5937227-28f8-4df9-d75d-aa97a0839d33"
      },
      "source": [
        "df['SMQ020'].unique()"
      ],
      "execution_count": 181,
      "outputs": [
        {
          "output_type": "execute_result",
          "data": {
            "text/plain": [
              "array([1, 2, 7, 9])"
            ]
          },
          "metadata": {
            "tags": []
          },
          "execution_count": 181
        }
      ]
    },
    {
      "cell_type": "code",
      "metadata": {
        "id": "7MEl8bmgNoIG",
        "colab_type": "code",
        "colab": {}
      },
      "source": [
        "df_smoker = df[['SMQ020', 'RIAGENDR']]"
      ],
      "execution_count": 0,
      "outputs": []
    },
    {
      "cell_type": "code",
      "metadata": {
        "id": "U8YA5X6EN5xx",
        "colab_type": "code",
        "colab": {}
      },
      "source": [
        ""
      ],
      "execution_count": 0,
      "outputs": []
    },
    {
      "cell_type": "code",
      "metadata": {
        "id": "U2EAkpgDN9Jx",
        "colab_type": "code",
        "colab": {
          "base_uri": "https://localhost:8080/",
          "height": 127
        },
        "outputId": "5130a6f4-c93d-4f8d-c8e2-e1bdacb3417c"
      },
      "source": [
        "df_smoker['SMQ020'].replace(to_replace=7, value=np.nan,inplace=True)\n",
        "\n",
        "df_smoker['SMQ020'].unique()"
      ],
      "execution_count": 183,
      "outputs": [
        {
          "output_type": "stream",
          "text": [
            "/usr/local/lib/python3.6/dist-packages/pandas/core/generic.py:6786: SettingWithCopyWarning: \n",
            "A value is trying to be set on a copy of a slice from a DataFrame\n",
            "\n",
            "See the caveats in the documentation: http://pandas.pydata.org/pandas-docs/stable/user_guide/indexing.html#returning-a-view-versus-a-copy\n",
            "  self._update_inplace(new_data)\n"
          ],
          "name": "stderr"
        },
        {
          "output_type": "execute_result",
          "data": {
            "text/plain": [
              "array([ 1.,  2., nan,  9.])"
            ]
          },
          "metadata": {
            "tags": []
          },
          "execution_count": 183
        }
      ]
    },
    {
      "cell_type": "code",
      "metadata": {
        "id": "4uvR3ylMPJ3S",
        "colab_type": "code",
        "colab": {
          "base_uri": "https://localhost:8080/",
          "height": 127
        },
        "outputId": "1e382b6c-3520-45e8-8549-d8b5c914b51d"
      },
      "source": [
        "df_smoker['SMQ020'].replace(to_replace=9, value=np.nan,inplace=True)\n",
        "df_smoker['SMQ020'].unique()\n"
      ],
      "execution_count": 184,
      "outputs": [
        {
          "output_type": "stream",
          "text": [
            "/usr/local/lib/python3.6/dist-packages/pandas/core/generic.py:6786: SettingWithCopyWarning: \n",
            "A value is trying to be set on a copy of a slice from a DataFrame\n",
            "\n",
            "See the caveats in the documentation: http://pandas.pydata.org/pandas-docs/stable/user_guide/indexing.html#returning-a-view-versus-a-copy\n",
            "  self._update_inplace(new_data)\n"
          ],
          "name": "stderr"
        },
        {
          "output_type": "execute_result",
          "data": {
            "text/plain": [
              "array([ 1.,  2., nan])"
            ]
          },
          "metadata": {
            "tags": []
          },
          "execution_count": 184
        }
      ]
    },
    {
      "cell_type": "code",
      "metadata": {
        "id": "RWbzd1lDRytS",
        "colab_type": "code",
        "colab": {
          "base_uri": "https://localhost:8080/",
          "height": 109
        },
        "outputId": "75d05270-bba7-45d8-c34c-0aef3fee035f"
      },
      "source": [
        "df_smoker.dropna(inplace=True)"
      ],
      "execution_count": 185,
      "outputs": [
        {
          "output_type": "stream",
          "text": [
            "/usr/local/lib/python3.6/dist-packages/ipykernel_launcher.py:1: SettingWithCopyWarning: \n",
            "A value is trying to be set on a copy of a slice from a DataFrame\n",
            "\n",
            "See the caveats in the documentation: http://pandas.pydata.org/pandas-docs/stable/user_guide/indexing.html#returning-a-view-versus-a-copy\n",
            "  \"\"\"Entry point for launching an IPython kernel.\n"
          ],
          "name": "stderr"
        }
      ]
    },
    {
      "cell_type": "code",
      "metadata": {
        "id": "AvLnYtHwR4__",
        "colab_type": "code",
        "colab": {
          "base_uri": "https://localhost:8080/",
          "height": 35
        },
        "outputId": "343f6a28-0a7c-488a-e928-cf83793f9ed3"
      },
      "source": [
        "df_smoker.shape"
      ],
      "execution_count": 186,
      "outputs": [
        {
          "output_type": "execute_result",
          "data": {
            "text/plain": [
              "(5725, 2)"
            ]
          },
          "metadata": {
            "tags": []
          },
          "execution_count": 186
        }
      ]
    },
    {
      "cell_type": "code",
      "metadata": {
        "id": "DvPLPaJ8R7OC",
        "colab_type": "code",
        "colab": {
          "base_uri": "https://localhost:8080/",
          "height": 35
        },
        "outputId": "1140a3dd-302b-4ed3-cc06-bb9d617495e6"
      },
      "source": [
        "df_smoker['RIAGENDR'].unique()"
      ],
      "execution_count": 187,
      "outputs": [
        {
          "output_type": "execute_result",
          "data": {
            "text/plain": [
              "array([1, 2])"
            ]
          },
          "metadata": {
            "tags": []
          },
          "execution_count": 187
        }
      ]
    },
    {
      "cell_type": "code",
      "metadata": {
        "id": "8b3y-L4ySC2I",
        "colab_type": "code",
        "colab": {
          "base_uri": "https://localhost:8080/",
          "height": 109
        },
        "outputId": "c9c4b686-18e0-4097-a2d9-42849c80665a"
      },
      "source": [
        "df_smoker['SMQ020'].replace(to_replace=1, value='yes',inplace=True)\n",
        "df_smoker['SMQ020'].replace(to_replace=2, value='no',inplace=True)\n",
        "df_smoker['RIAGENDR'].replace(to_replace=1, value='Male',inplace=True)\n",
        "df_smoker['RIAGENDR'].replace(to_replace=2, value='Female',inplace=True)\n"
      ],
      "execution_count": 188,
      "outputs": [
        {
          "output_type": "stream",
          "text": [
            "/usr/local/lib/python3.6/dist-packages/pandas/core/generic.py:6786: SettingWithCopyWarning: \n",
            "A value is trying to be set on a copy of a slice from a DataFrame\n",
            "\n",
            "See the caveats in the documentation: http://pandas.pydata.org/pandas-docs/stable/user_guide/indexing.html#returning-a-view-versus-a-copy\n",
            "  self._update_inplace(new_data)\n"
          ],
          "name": "stderr"
        }
      ]
    },
    {
      "cell_type": "code",
      "metadata": {
        "id": "fphwlQVxSgCC",
        "colab_type": "code",
        "colab": {
          "base_uri": "https://localhost:8080/",
          "height": 206
        },
        "outputId": "f89d4035-75f2-4839-a157-73d5fe229745"
      },
      "source": [
        "df_smoker.head()"
      ],
      "execution_count": 189,
      "outputs": [
        {
          "output_type": "execute_result",
          "data": {
            "text/html": [
              "<div>\n",
              "<style scoped>\n",
              "    .dataframe tbody tr th:only-of-type {\n",
              "        vertical-align: middle;\n",
              "    }\n",
              "\n",
              "    .dataframe tbody tr th {\n",
              "        vertical-align: top;\n",
              "    }\n",
              "\n",
              "    .dataframe thead th {\n",
              "        text-align: right;\n",
              "    }\n",
              "</style>\n",
              "<table border=\"1\" class=\"dataframe\">\n",
              "  <thead>\n",
              "    <tr style=\"text-align: right;\">\n",
              "      <th></th>\n",
              "      <th>SMQ020</th>\n",
              "      <th>RIAGENDR</th>\n",
              "    </tr>\n",
              "  </thead>\n",
              "  <tbody>\n",
              "    <tr>\n",
              "      <th>0</th>\n",
              "      <td>yes</td>\n",
              "      <td>Male</td>\n",
              "    </tr>\n",
              "    <tr>\n",
              "      <th>1</th>\n",
              "      <td>yes</td>\n",
              "      <td>Male</td>\n",
              "    </tr>\n",
              "    <tr>\n",
              "      <th>2</th>\n",
              "      <td>yes</td>\n",
              "      <td>Male</td>\n",
              "    </tr>\n",
              "    <tr>\n",
              "      <th>3</th>\n",
              "      <td>no</td>\n",
              "      <td>Female</td>\n",
              "    </tr>\n",
              "    <tr>\n",
              "      <th>4</th>\n",
              "      <td>no</td>\n",
              "      <td>Female</td>\n",
              "    </tr>\n",
              "  </tbody>\n",
              "</table>\n",
              "</div>"
            ],
            "text/plain": [
              "  SMQ020 RIAGENDR\n",
              "0    yes     Male\n",
              "1    yes     Male\n",
              "2    yes     Male\n",
              "3     no   Female\n",
              "4     no   Female"
            ]
          },
          "metadata": {
            "tags": []
          },
          "execution_count": 189
        }
      ]
    },
    {
      "cell_type": "code",
      "metadata": {
        "id": "nJQXQS7cSjU5",
        "colab_type": "code",
        "colab": {
          "base_uri": "https://localhost:8080/",
          "height": 143
        },
        "outputId": "4e6f7572-b2a6-4450-9d9f-623821d2ead4"
      },
      "source": [
        "pd.crosstab(df_smoker['RIAGENDR'],df_smoker['SMQ020'])"
      ],
      "execution_count": 190,
      "outputs": [
        {
          "output_type": "execute_result",
          "data": {
            "text/html": [
              "<div>\n",
              "<style scoped>\n",
              "    .dataframe tbody tr th:only-of-type {\n",
              "        vertical-align: middle;\n",
              "    }\n",
              "\n",
              "    .dataframe tbody tr th {\n",
              "        vertical-align: top;\n",
              "    }\n",
              "\n",
              "    .dataframe thead th {\n",
              "        text-align: right;\n",
              "    }\n",
              "</style>\n",
              "<table border=\"1\" class=\"dataframe\">\n",
              "  <thead>\n",
              "    <tr style=\"text-align: right;\">\n",
              "      <th>SMQ020</th>\n",
              "      <th>no</th>\n",
              "      <th>yes</th>\n",
              "    </tr>\n",
              "    <tr>\n",
              "      <th>RIAGENDR</th>\n",
              "      <th></th>\n",
              "      <th></th>\n",
              "    </tr>\n",
              "  </thead>\n",
              "  <tbody>\n",
              "    <tr>\n",
              "      <th>Female</th>\n",
              "      <td>2066</td>\n",
              "      <td>906</td>\n",
              "    </tr>\n",
              "    <tr>\n",
              "      <th>Male</th>\n",
              "      <td>1340</td>\n",
              "      <td>1413</td>\n",
              "    </tr>\n",
              "  </tbody>\n",
              "</table>\n",
              "</div>"
            ],
            "text/plain": [
              "SMQ020      no   yes\n",
              "RIAGENDR            \n",
              "Female    2066   906\n",
              "Male      1340  1413"
            ]
          },
          "metadata": {
            "tags": []
          },
          "execution_count": 190
        }
      ]
    },
    {
      "cell_type": "code",
      "metadata": {
        "id": "FuzWQHyRTLJS",
        "colab_type": "code",
        "colab": {}
      },
      "source": [
        "df_smoker_male = df_smoker.loc[df_smoker['RIAGENDR'] == 'Male']\n",
        "df_smoker_female = df_smoker.loc[df_smoker['RIAGENDR'] == 'Female']"
      ],
      "execution_count": 0,
      "outputs": []
    },
    {
      "cell_type": "code",
      "metadata": {
        "id": "VjcM1QnyT62h",
        "colab_type": "code",
        "colab": {
          "base_uri": "https://localhost:8080/",
          "height": 206
        },
        "outputId": "4cd14470-559e-4e8d-8482-182ee47f2789"
      },
      "source": [
        "df_smoker_male.head()"
      ],
      "execution_count": 192,
      "outputs": [
        {
          "output_type": "execute_result",
          "data": {
            "text/html": [
              "<div>\n",
              "<style scoped>\n",
              "    .dataframe tbody tr th:only-of-type {\n",
              "        vertical-align: middle;\n",
              "    }\n",
              "\n",
              "    .dataframe tbody tr th {\n",
              "        vertical-align: top;\n",
              "    }\n",
              "\n",
              "    .dataframe thead th {\n",
              "        text-align: right;\n",
              "    }\n",
              "</style>\n",
              "<table border=\"1\" class=\"dataframe\">\n",
              "  <thead>\n",
              "    <tr style=\"text-align: right;\">\n",
              "      <th></th>\n",
              "      <th>SMQ020</th>\n",
              "      <th>RIAGENDR</th>\n",
              "    </tr>\n",
              "  </thead>\n",
              "  <tbody>\n",
              "    <tr>\n",
              "      <th>0</th>\n",
              "      <td>yes</td>\n",
              "      <td>Male</td>\n",
              "    </tr>\n",
              "    <tr>\n",
              "      <th>1</th>\n",
              "      <td>yes</td>\n",
              "      <td>Male</td>\n",
              "    </tr>\n",
              "    <tr>\n",
              "      <th>2</th>\n",
              "      <td>yes</td>\n",
              "      <td>Male</td>\n",
              "    </tr>\n",
              "    <tr>\n",
              "      <th>6</th>\n",
              "      <td>yes</td>\n",
              "      <td>Male</td>\n",
              "    </tr>\n",
              "    <tr>\n",
              "      <th>8</th>\n",
              "      <td>no</td>\n",
              "      <td>Male</td>\n",
              "    </tr>\n",
              "  </tbody>\n",
              "</table>\n",
              "</div>"
            ],
            "text/plain": [
              "  SMQ020 RIAGENDR\n",
              "0    yes     Male\n",
              "1    yes     Male\n",
              "2    yes     Male\n",
              "6    yes     Male\n",
              "8     no     Male"
            ]
          },
          "metadata": {
            "tags": []
          },
          "execution_count": 192
        }
      ]
    },
    {
      "cell_type": "code",
      "metadata": {
        "id": "1WefMFU-UD9w",
        "colab_type": "code",
        "colab": {
          "base_uri": "https://localhost:8080/",
          "height": 206
        },
        "outputId": "18ec97b7-d707-45a1-c8be-a7e9df225f38"
      },
      "source": [
        "df_smoker_female.head()"
      ],
      "execution_count": 193,
      "outputs": [
        {
          "output_type": "execute_result",
          "data": {
            "text/html": [
              "<div>\n",
              "<style scoped>\n",
              "    .dataframe tbody tr th:only-of-type {\n",
              "        vertical-align: middle;\n",
              "    }\n",
              "\n",
              "    .dataframe tbody tr th {\n",
              "        vertical-align: top;\n",
              "    }\n",
              "\n",
              "    .dataframe thead th {\n",
              "        text-align: right;\n",
              "    }\n",
              "</style>\n",
              "<table border=\"1\" class=\"dataframe\">\n",
              "  <thead>\n",
              "    <tr style=\"text-align: right;\">\n",
              "      <th></th>\n",
              "      <th>SMQ020</th>\n",
              "      <th>RIAGENDR</th>\n",
              "    </tr>\n",
              "  </thead>\n",
              "  <tbody>\n",
              "    <tr>\n",
              "      <th>3</th>\n",
              "      <td>no</td>\n",
              "      <td>Female</td>\n",
              "    </tr>\n",
              "    <tr>\n",
              "      <th>4</th>\n",
              "      <td>no</td>\n",
              "      <td>Female</td>\n",
              "    </tr>\n",
              "    <tr>\n",
              "      <th>5</th>\n",
              "      <td>no</td>\n",
              "      <td>Female</td>\n",
              "    </tr>\n",
              "    <tr>\n",
              "      <th>7</th>\n",
              "      <td>no</td>\n",
              "      <td>Female</td>\n",
              "    </tr>\n",
              "    <tr>\n",
              "      <th>12</th>\n",
              "      <td>yes</td>\n",
              "      <td>Female</td>\n",
              "    </tr>\n",
              "  </tbody>\n",
              "</table>\n",
              "</div>"
            ],
            "text/plain": [
              "   SMQ020 RIAGENDR\n",
              "3      no   Female\n",
              "4      no   Female\n",
              "5      no   Female\n",
              "7      no   Female\n",
              "12    yes   Female"
            ]
          },
          "metadata": {
            "tags": []
          },
          "execution_count": 193
        }
      ]
    },
    {
      "cell_type": "code",
      "metadata": {
        "id": "-6zdN13KUUFL",
        "colab_type": "code",
        "colab": {
          "base_uri": "https://localhost:8080/",
          "height": 175
        },
        "outputId": "2c6cb54f-b7e2-4570-fd34-e28acb66e617"
      },
      "source": [
        "df_smoker_male.describe()"
      ],
      "execution_count": 194,
      "outputs": [
        {
          "output_type": "execute_result",
          "data": {
            "text/html": [
              "<div>\n",
              "<style scoped>\n",
              "    .dataframe tbody tr th:only-of-type {\n",
              "        vertical-align: middle;\n",
              "    }\n",
              "\n",
              "    .dataframe tbody tr th {\n",
              "        vertical-align: top;\n",
              "    }\n",
              "\n",
              "    .dataframe thead th {\n",
              "        text-align: right;\n",
              "    }\n",
              "</style>\n",
              "<table border=\"1\" class=\"dataframe\">\n",
              "  <thead>\n",
              "    <tr style=\"text-align: right;\">\n",
              "      <th></th>\n",
              "      <th>SMQ020</th>\n",
              "      <th>RIAGENDR</th>\n",
              "    </tr>\n",
              "  </thead>\n",
              "  <tbody>\n",
              "    <tr>\n",
              "      <th>count</th>\n",
              "      <td>2753</td>\n",
              "      <td>2753</td>\n",
              "    </tr>\n",
              "    <tr>\n",
              "      <th>unique</th>\n",
              "      <td>2</td>\n",
              "      <td>1</td>\n",
              "    </tr>\n",
              "    <tr>\n",
              "      <th>top</th>\n",
              "      <td>yes</td>\n",
              "      <td>Male</td>\n",
              "    </tr>\n",
              "    <tr>\n",
              "      <th>freq</th>\n",
              "      <td>1413</td>\n",
              "      <td>2753</td>\n",
              "    </tr>\n",
              "  </tbody>\n",
              "</table>\n",
              "</div>"
            ],
            "text/plain": [
              "       SMQ020 RIAGENDR\n",
              "count    2753     2753\n",
              "unique      2        1\n",
              "top       yes     Male\n",
              "freq     1413     2753"
            ]
          },
          "metadata": {
            "tags": []
          },
          "execution_count": 194
        }
      ]
    },
    {
      "cell_type": "code",
      "metadata": {
        "id": "p0gUOtjVUaGO",
        "colab_type": "code",
        "colab": {
          "base_uri": "https://localhost:8080/",
          "height": 175
        },
        "outputId": "ee53af5f-75cc-4bfa-e0e9-2029e6644276"
      },
      "source": [
        "df_smoker_female.describe()"
      ],
      "execution_count": 195,
      "outputs": [
        {
          "output_type": "execute_result",
          "data": {
            "text/html": [
              "<div>\n",
              "<style scoped>\n",
              "    .dataframe tbody tr th:only-of-type {\n",
              "        vertical-align: middle;\n",
              "    }\n",
              "\n",
              "    .dataframe tbody tr th {\n",
              "        vertical-align: top;\n",
              "    }\n",
              "\n",
              "    .dataframe thead th {\n",
              "        text-align: right;\n",
              "    }\n",
              "</style>\n",
              "<table border=\"1\" class=\"dataframe\">\n",
              "  <thead>\n",
              "    <tr style=\"text-align: right;\">\n",
              "      <th></th>\n",
              "      <th>SMQ020</th>\n",
              "      <th>RIAGENDR</th>\n",
              "    </tr>\n",
              "  </thead>\n",
              "  <tbody>\n",
              "    <tr>\n",
              "      <th>count</th>\n",
              "      <td>2972</td>\n",
              "      <td>2972</td>\n",
              "    </tr>\n",
              "    <tr>\n",
              "      <th>unique</th>\n",
              "      <td>2</td>\n",
              "      <td>1</td>\n",
              "    </tr>\n",
              "    <tr>\n",
              "      <th>top</th>\n",
              "      <td>no</td>\n",
              "      <td>Female</td>\n",
              "    </tr>\n",
              "    <tr>\n",
              "      <th>freq</th>\n",
              "      <td>2066</td>\n",
              "      <td>2972</td>\n",
              "    </tr>\n",
              "  </tbody>\n",
              "</table>\n",
              "</div>"
            ],
            "text/plain": [
              "       SMQ020 RIAGENDR\n",
              "count    2972     2972\n",
              "unique      2        1\n",
              "top        no   Female\n",
              "freq     2066     2972"
            ]
          },
          "metadata": {
            "tags": []
          },
          "execution_count": 195
        }
      ]
    },
    {
      "cell_type": "code",
      "metadata": {
        "id": "dXpbAC2HUfc3",
        "colab_type": "code",
        "colab": {}
      },
      "source": [
        "p_male = 1413/2753\n",
        "p_female=906/2972"
      ],
      "execution_count": 0,
      "outputs": []
    },
    {
      "cell_type": "code",
      "metadata": {
        "id": "MIBDvevcVDj3",
        "colab_type": "code",
        "colab": {}
      },
      "source": [
        "zstar=1.96\n",
        "n_male=2753\n",
        "n_female=2972"
      ],
      "execution_count": 0,
      "outputs": []
    },
    {
      "cell_type": "code",
      "metadata": {
        "id": "sBOUjh47VNsI",
        "colab_type": "code",
        "colab": {}
      },
      "source": [
        "male =(p_male*(1-p_male)/n_male)\n",
        "female = (p_female*(1-p_female)/n_female)"
      ],
      "execution_count": 0,
      "outputs": []
    },
    {
      "cell_type": "code",
      "metadata": {
        "id": "ZhMIL08GVc5D",
        "colab_type": "code",
        "colab": {}
      },
      "source": [
        "moe = zstar*np.sqrt(male+female)"
      ],
      "execution_count": 0,
      "outputs": []
    },
    {
      "cell_type": "code",
      "metadata": {
        "id": "3FGOXyH9WEB3",
        "colab_type": "code",
        "colab": {
          "base_uri": "https://localhost:8080/",
          "height": 35
        },
        "outputId": "448b652e-8ff4-4724-d8cc-beec014d29fa"
      },
      "source": [
        "lcb_mean = (p_female-p_male)-moe\n",
        "ucb_mean = (p_female-p_male)+moe\n",
        "(lcb_mean, ucb_mean)"
      ],
      "execution_count": 200,
      "outputs": [
        {
          "output_type": "execute_result",
          "data": {
            "text/plain": [
              "(-0.2333636091471941, -0.18346247413207697)"
            ]
          },
          "metadata": {
            "tags": []
          },
          "execution_count": 200
        }
      ]
    },
    {
      "cell_type": "code",
      "metadata": {
        "id": "66AhKVtKWU8S",
        "colab_type": "code",
        "colab": {
          "base_uri": "https://localhost:8080/",
          "height": 35
        },
        "outputId": "5472c218-642d-4e8d-e041-77be51f60da2"
      },
      "source": [
        "np.sqrt(male)"
      ],
      "execution_count": 201,
      "outputs": [
        {
          "output_type": "execute_result",
          "data": {
            "text/plain": [
              "0.009526078653689868"
            ]
          },
          "metadata": {
            "tags": []
          },
          "execution_count": 201
        }
      ]
    },
    {
      "cell_type": "code",
      "metadata": {
        "id": "CTiI6iiXXQi3",
        "colab_type": "code",
        "colab": {
          "base_uri": "https://localhost:8080/",
          "height": 35
        },
        "outputId": "395dd74d-4e50-49a6-b146-3767f02c1bc4"
      },
      "source": [
        "np.sqrt(female)"
      ],
      "execution_count": 202,
      "outputs": [
        {
          "output_type": "execute_result",
          "data": {
            "text/plain": [
              "0.008444152146214435"
            ]
          },
          "metadata": {
            "tags": []
          },
          "execution_count": 202
        }
      ]
    },
    {
      "cell_type": "markdown",
      "metadata": {
        "id": "jTvopGpmXRE-",
        "colab_type": "text"
      },
      "source": [
        "**difference of mean of body mass index within our female and male populations**"
      ]
    },
    {
      "cell_type": "code",
      "metadata": {
        "id": "Dmqaowt6XVVQ",
        "colab_type": "code",
        "colab": {}
      },
      "source": [
        "da = pd.read_csv('/content/cartwheel.csv')"
      ],
      "execution_count": 0,
      "outputs": []
    },
    {
      "cell_type": "code",
      "metadata": {
        "id": "aTnz6aU2XfB8",
        "colab_type": "code",
        "colab": {
          "base_uri": "https://localhost:8080/",
          "height": 226
        },
        "outputId": "a84e8237-3987-4649-dbe6-8fbcb6bdf7ae"
      },
      "source": [
        "da.head()"
      ],
      "execution_count": 204,
      "outputs": [
        {
          "output_type": "execute_result",
          "data": {
            "text/html": [
              "<div>\n",
              "<style scoped>\n",
              "    .dataframe tbody tr th:only-of-type {\n",
              "        vertical-align: middle;\n",
              "    }\n",
              "\n",
              "    .dataframe tbody tr th {\n",
              "        vertical-align: top;\n",
              "    }\n",
              "\n",
              "    .dataframe thead th {\n",
              "        text-align: right;\n",
              "    }\n",
              "</style>\n",
              "<table border=\"1\" class=\"dataframe\">\n",
              "  <thead>\n",
              "    <tr style=\"text-align: right;\">\n",
              "      <th></th>\n",
              "      <th>SEQN</th>\n",
              "      <th>ALQ101</th>\n",
              "      <th>ALQ110</th>\n",
              "      <th>ALQ130</th>\n",
              "      <th>SMQ020</th>\n",
              "      <th>RIAGENDR</th>\n",
              "      <th>RIDAGEYR</th>\n",
              "      <th>RIDRETH1</th>\n",
              "      <th>DMDCITZN</th>\n",
              "      <th>DMDEDUC2</th>\n",
              "      <th>DMDMARTL</th>\n",
              "      <th>DMDHHSIZ</th>\n",
              "      <th>WTINT2YR</th>\n",
              "      <th>SDMVPSU</th>\n",
              "      <th>SDMVSTRA</th>\n",
              "      <th>INDFMPIR</th>\n",
              "      <th>BPXSY1</th>\n",
              "      <th>BPXDI1</th>\n",
              "      <th>BPXSY2</th>\n",
              "      <th>BPXDI2</th>\n",
              "      <th>BMXWT</th>\n",
              "      <th>BMXHT</th>\n",
              "      <th>BMXBMI</th>\n",
              "      <th>BMXLEG</th>\n",
              "      <th>BMXARML</th>\n",
              "      <th>BMXARMC</th>\n",
              "      <th>BMXWAIST</th>\n",
              "      <th>HIQ210</th>\n",
              "    </tr>\n",
              "  </thead>\n",
              "  <tbody>\n",
              "    <tr>\n",
              "      <th>0</th>\n",
              "      <td>83732</td>\n",
              "      <td>1.0</td>\n",
              "      <td>NaN</td>\n",
              "      <td>1.0</td>\n",
              "      <td>1</td>\n",
              "      <td>1</td>\n",
              "      <td>62</td>\n",
              "      <td>3</td>\n",
              "      <td>1.0</td>\n",
              "      <td>5.0</td>\n",
              "      <td>1.0</td>\n",
              "      <td>2</td>\n",
              "      <td>134671.37</td>\n",
              "      <td>1</td>\n",
              "      <td>125</td>\n",
              "      <td>4.39</td>\n",
              "      <td>128.0</td>\n",
              "      <td>70.0</td>\n",
              "      <td>124.0</td>\n",
              "      <td>64.0</td>\n",
              "      <td>94.8</td>\n",
              "      <td>184.5</td>\n",
              "      <td>27.8</td>\n",
              "      <td>43.3</td>\n",
              "      <td>43.6</td>\n",
              "      <td>35.9</td>\n",
              "      <td>101.1</td>\n",
              "      <td>2.0</td>\n",
              "    </tr>\n",
              "    <tr>\n",
              "      <th>1</th>\n",
              "      <td>83733</td>\n",
              "      <td>1.0</td>\n",
              "      <td>NaN</td>\n",
              "      <td>6.0</td>\n",
              "      <td>1</td>\n",
              "      <td>1</td>\n",
              "      <td>53</td>\n",
              "      <td>3</td>\n",
              "      <td>2.0</td>\n",
              "      <td>3.0</td>\n",
              "      <td>3.0</td>\n",
              "      <td>1</td>\n",
              "      <td>24328.56</td>\n",
              "      <td>1</td>\n",
              "      <td>125</td>\n",
              "      <td>1.32</td>\n",
              "      <td>146.0</td>\n",
              "      <td>88.0</td>\n",
              "      <td>140.0</td>\n",
              "      <td>88.0</td>\n",
              "      <td>90.4</td>\n",
              "      <td>171.4</td>\n",
              "      <td>30.8</td>\n",
              "      <td>38.0</td>\n",
              "      <td>40.0</td>\n",
              "      <td>33.2</td>\n",
              "      <td>107.9</td>\n",
              "      <td>NaN</td>\n",
              "    </tr>\n",
              "    <tr>\n",
              "      <th>2</th>\n",
              "      <td>83734</td>\n",
              "      <td>1.0</td>\n",
              "      <td>NaN</td>\n",
              "      <td>NaN</td>\n",
              "      <td>1</td>\n",
              "      <td>1</td>\n",
              "      <td>78</td>\n",
              "      <td>3</td>\n",
              "      <td>1.0</td>\n",
              "      <td>3.0</td>\n",
              "      <td>1.0</td>\n",
              "      <td>2</td>\n",
              "      <td>12400.01</td>\n",
              "      <td>1</td>\n",
              "      <td>131</td>\n",
              "      <td>1.51</td>\n",
              "      <td>138.0</td>\n",
              "      <td>46.0</td>\n",
              "      <td>132.0</td>\n",
              "      <td>44.0</td>\n",
              "      <td>83.4</td>\n",
              "      <td>170.1</td>\n",
              "      <td>28.8</td>\n",
              "      <td>35.6</td>\n",
              "      <td>37.0</td>\n",
              "      <td>31.0</td>\n",
              "      <td>116.5</td>\n",
              "      <td>2.0</td>\n",
              "    </tr>\n",
              "    <tr>\n",
              "      <th>3</th>\n",
              "      <td>83735</td>\n",
              "      <td>2.0</td>\n",
              "      <td>1.0</td>\n",
              "      <td>1.0</td>\n",
              "      <td>2</td>\n",
              "      <td>2</td>\n",
              "      <td>56</td>\n",
              "      <td>3</td>\n",
              "      <td>1.0</td>\n",
              "      <td>5.0</td>\n",
              "      <td>6.0</td>\n",
              "      <td>1</td>\n",
              "      <td>102718.00</td>\n",
              "      <td>1</td>\n",
              "      <td>131</td>\n",
              "      <td>5.00</td>\n",
              "      <td>132.0</td>\n",
              "      <td>72.0</td>\n",
              "      <td>134.0</td>\n",
              "      <td>68.0</td>\n",
              "      <td>109.8</td>\n",
              "      <td>160.9</td>\n",
              "      <td>42.4</td>\n",
              "      <td>38.5</td>\n",
              "      <td>37.7</td>\n",
              "      <td>38.3</td>\n",
              "      <td>110.1</td>\n",
              "      <td>2.0</td>\n",
              "    </tr>\n",
              "    <tr>\n",
              "      <th>4</th>\n",
              "      <td>83736</td>\n",
              "      <td>2.0</td>\n",
              "      <td>1.0</td>\n",
              "      <td>1.0</td>\n",
              "      <td>2</td>\n",
              "      <td>2</td>\n",
              "      <td>42</td>\n",
              "      <td>4</td>\n",
              "      <td>1.0</td>\n",
              "      <td>4.0</td>\n",
              "      <td>3.0</td>\n",
              "      <td>5</td>\n",
              "      <td>17627.67</td>\n",
              "      <td>2</td>\n",
              "      <td>126</td>\n",
              "      <td>1.23</td>\n",
              "      <td>100.0</td>\n",
              "      <td>70.0</td>\n",
              "      <td>114.0</td>\n",
              "      <td>54.0</td>\n",
              "      <td>55.2</td>\n",
              "      <td>164.9</td>\n",
              "      <td>20.3</td>\n",
              "      <td>37.4</td>\n",
              "      <td>36.0</td>\n",
              "      <td>27.2</td>\n",
              "      <td>80.4</td>\n",
              "      <td>2.0</td>\n",
              "    </tr>\n",
              "  </tbody>\n",
              "</table>\n",
              "</div>"
            ],
            "text/plain": [
              "    SEQN  ALQ101  ALQ110  ALQ130  ...  BMXARML  BMXARMC  BMXWAIST  HIQ210\n",
              "0  83732     1.0     NaN     1.0  ...     43.6     35.9     101.1     2.0\n",
              "1  83733     1.0     NaN     6.0  ...     40.0     33.2     107.9     NaN\n",
              "2  83734     1.0     NaN     NaN  ...     37.0     31.0     116.5     2.0\n",
              "3  83735     2.0     1.0     1.0  ...     37.7     38.3     110.1     2.0\n",
              "4  83736     2.0     1.0     1.0  ...     36.0     27.2      80.4     2.0\n",
              "\n",
              "[5 rows x 28 columns]"
            ]
          },
          "metadata": {
            "tags": []
          },
          "execution_count": 204
        }
      ]
    },
    {
      "cell_type": "code",
      "metadata": {
        "id": "82cvhEYMXgyz",
        "colab_type": "code",
        "colab": {
          "base_uri": "https://localhost:8080/",
          "height": 206
        },
        "outputId": "12a641d7-9284-4faf-a270-164e511b7c90"
      },
      "source": [
        "da_bmi = da[['RIAGENDR', 'BMXBMI']]\n",
        "da_bmi.head()"
      ],
      "execution_count": 205,
      "outputs": [
        {
          "output_type": "execute_result",
          "data": {
            "text/html": [
              "<div>\n",
              "<style scoped>\n",
              "    .dataframe tbody tr th:only-of-type {\n",
              "        vertical-align: middle;\n",
              "    }\n",
              "\n",
              "    .dataframe tbody tr th {\n",
              "        vertical-align: top;\n",
              "    }\n",
              "\n",
              "    .dataframe thead th {\n",
              "        text-align: right;\n",
              "    }\n",
              "</style>\n",
              "<table border=\"1\" class=\"dataframe\">\n",
              "  <thead>\n",
              "    <tr style=\"text-align: right;\">\n",
              "      <th></th>\n",
              "      <th>RIAGENDR</th>\n",
              "      <th>BMXBMI</th>\n",
              "    </tr>\n",
              "  </thead>\n",
              "  <tbody>\n",
              "    <tr>\n",
              "      <th>0</th>\n",
              "      <td>1</td>\n",
              "      <td>27.8</td>\n",
              "    </tr>\n",
              "    <tr>\n",
              "      <th>1</th>\n",
              "      <td>1</td>\n",
              "      <td>30.8</td>\n",
              "    </tr>\n",
              "    <tr>\n",
              "      <th>2</th>\n",
              "      <td>1</td>\n",
              "      <td>28.8</td>\n",
              "    </tr>\n",
              "    <tr>\n",
              "      <th>3</th>\n",
              "      <td>2</td>\n",
              "      <td>42.4</td>\n",
              "    </tr>\n",
              "    <tr>\n",
              "      <th>4</th>\n",
              "      <td>2</td>\n",
              "      <td>20.3</td>\n",
              "    </tr>\n",
              "  </tbody>\n",
              "</table>\n",
              "</div>"
            ],
            "text/plain": [
              "   RIAGENDR  BMXBMI\n",
              "0         1    27.8\n",
              "1         1    30.8\n",
              "2         1    28.8\n",
              "3         2    42.4\n",
              "4         2    20.3"
            ]
          },
          "metadata": {
            "tags": []
          },
          "execution_count": 205
        }
      ]
    },
    {
      "cell_type": "code",
      "metadata": {
        "id": "N0KAYJzyXwNX",
        "colab_type": "code",
        "colab": {
          "base_uri": "https://localhost:8080/",
          "height": 109
        },
        "outputId": "eed579d6-86dd-432b-bea0-07f8cb070b22"
      },
      "source": [
        "da_bmi['RIAGENDR'].replace(to_replace=1, value='Male',inplace=True)\n",
        "da_bmi['RIAGENDR'].replace(to_replace=2, value='Female',inplace=True)\n"
      ],
      "execution_count": 206,
      "outputs": [
        {
          "output_type": "stream",
          "text": [
            "/usr/local/lib/python3.6/dist-packages/pandas/core/generic.py:6786: SettingWithCopyWarning: \n",
            "A value is trying to be set on a copy of a slice from a DataFrame\n",
            "\n",
            "See the caveats in the documentation: http://pandas.pydata.org/pandas-docs/stable/user_guide/indexing.html#returning-a-view-versus-a-copy\n",
            "  self._update_inplace(new_data)\n"
          ],
          "name": "stderr"
        }
      ]
    },
    {
      "cell_type": "code",
      "metadata": {
        "id": "uujctuB8YFvM",
        "colab_type": "code",
        "colab": {
          "base_uri": "https://localhost:8080/",
          "height": 206
        },
        "outputId": "85f65638-2358-4ddd-ed73-4ddd186b352d"
      },
      "source": [
        "da_bmi.head()"
      ],
      "execution_count": 207,
      "outputs": [
        {
          "output_type": "execute_result",
          "data": {
            "text/html": [
              "<div>\n",
              "<style scoped>\n",
              "    .dataframe tbody tr th:only-of-type {\n",
              "        vertical-align: middle;\n",
              "    }\n",
              "\n",
              "    .dataframe tbody tr th {\n",
              "        vertical-align: top;\n",
              "    }\n",
              "\n",
              "    .dataframe thead th {\n",
              "        text-align: right;\n",
              "    }\n",
              "</style>\n",
              "<table border=\"1\" class=\"dataframe\">\n",
              "  <thead>\n",
              "    <tr style=\"text-align: right;\">\n",
              "      <th></th>\n",
              "      <th>RIAGENDR</th>\n",
              "      <th>BMXBMI</th>\n",
              "    </tr>\n",
              "  </thead>\n",
              "  <tbody>\n",
              "    <tr>\n",
              "      <th>0</th>\n",
              "      <td>Male</td>\n",
              "      <td>27.8</td>\n",
              "    </tr>\n",
              "    <tr>\n",
              "      <th>1</th>\n",
              "      <td>Male</td>\n",
              "      <td>30.8</td>\n",
              "    </tr>\n",
              "    <tr>\n",
              "      <th>2</th>\n",
              "      <td>Male</td>\n",
              "      <td>28.8</td>\n",
              "    </tr>\n",
              "    <tr>\n",
              "      <th>3</th>\n",
              "      <td>Female</td>\n",
              "      <td>42.4</td>\n",
              "    </tr>\n",
              "    <tr>\n",
              "      <th>4</th>\n",
              "      <td>Female</td>\n",
              "      <td>20.3</td>\n",
              "    </tr>\n",
              "  </tbody>\n",
              "</table>\n",
              "</div>"
            ],
            "text/plain": [
              "  RIAGENDR  BMXBMI\n",
              "0     Male    27.8\n",
              "1     Male    30.8\n",
              "2     Male    28.8\n",
              "3   Female    42.4\n",
              "4   Female    20.3"
            ]
          },
          "metadata": {
            "tags": []
          },
          "execution_count": 207
        }
      ]
    },
    {
      "cell_type": "code",
      "metadata": {
        "id": "szb5rxVbYxsx",
        "colab_type": "code",
        "colab": {
          "base_uri": "https://localhost:8080/",
          "height": 109
        },
        "outputId": "5662b38b-bdd4-47c1-b665-36088654c53d"
      },
      "source": [
        "da_bmi.dropna(inplace=True)"
      ],
      "execution_count": 208,
      "outputs": [
        {
          "output_type": "stream",
          "text": [
            "/usr/local/lib/python3.6/dist-packages/ipykernel_launcher.py:1: SettingWithCopyWarning: \n",
            "A value is trying to be set on a copy of a slice from a DataFrame\n",
            "\n",
            "See the caveats in the documentation: http://pandas.pydata.org/pandas-docs/stable/user_guide/indexing.html#returning-a-view-versus-a-copy\n",
            "  \"\"\"Entry point for launching an IPython kernel.\n"
          ],
          "name": "stderr"
        }
      ]
    },
    {
      "cell_type": "code",
      "metadata": {
        "id": "6mHG--DWYIIU",
        "colab_type": "code",
        "colab": {}
      },
      "source": [
        "da_bmi_male = da_bmi.loc[da_bmi['RIAGENDR'] == 'Male']\n",
        "da_bmi_female = da_bmi.loc[da_bmi['RIAGENDR'] == 'Female']"
      ],
      "execution_count": 0,
      "outputs": []
    },
    {
      "cell_type": "code",
      "metadata": {
        "id": "CvIV8ZqiYaaB",
        "colab_type": "code",
        "colab": {
          "base_uri": "https://localhost:8080/",
          "height": 206
        },
        "outputId": "3d840338-02df-4455-97de-977c7e953dd6"
      },
      "source": [
        "da_bmi_male.head()"
      ],
      "execution_count": 210,
      "outputs": [
        {
          "output_type": "execute_result",
          "data": {
            "text/html": [
              "<div>\n",
              "<style scoped>\n",
              "    .dataframe tbody tr th:only-of-type {\n",
              "        vertical-align: middle;\n",
              "    }\n",
              "\n",
              "    .dataframe tbody tr th {\n",
              "        vertical-align: top;\n",
              "    }\n",
              "\n",
              "    .dataframe thead th {\n",
              "        text-align: right;\n",
              "    }\n",
              "</style>\n",
              "<table border=\"1\" class=\"dataframe\">\n",
              "  <thead>\n",
              "    <tr style=\"text-align: right;\">\n",
              "      <th></th>\n",
              "      <th>RIAGENDR</th>\n",
              "      <th>BMXBMI</th>\n",
              "    </tr>\n",
              "  </thead>\n",
              "  <tbody>\n",
              "    <tr>\n",
              "      <th>0</th>\n",
              "      <td>Male</td>\n",
              "      <td>27.8</td>\n",
              "    </tr>\n",
              "    <tr>\n",
              "      <th>1</th>\n",
              "      <td>Male</td>\n",
              "      <td>30.8</td>\n",
              "    </tr>\n",
              "    <tr>\n",
              "      <th>2</th>\n",
              "      <td>Male</td>\n",
              "      <td>28.8</td>\n",
              "    </tr>\n",
              "    <tr>\n",
              "      <th>6</th>\n",
              "      <td>Male</td>\n",
              "      <td>28.0</td>\n",
              "    </tr>\n",
              "    <tr>\n",
              "      <th>8</th>\n",
              "      <td>Male</td>\n",
              "      <td>26.2</td>\n",
              "    </tr>\n",
              "  </tbody>\n",
              "</table>\n",
              "</div>"
            ],
            "text/plain": [
              "  RIAGENDR  BMXBMI\n",
              "0     Male    27.8\n",
              "1     Male    30.8\n",
              "2     Male    28.8\n",
              "6     Male    28.0\n",
              "8     Male    26.2"
            ]
          },
          "metadata": {
            "tags": []
          },
          "execution_count": 210
        }
      ]
    },
    {
      "cell_type": "code",
      "metadata": {
        "id": "21CN_qI1Yd9p",
        "colab_type": "code",
        "colab": {
          "base_uri": "https://localhost:8080/",
          "height": 206
        },
        "outputId": "88fa9cc7-0585-46d6-af5d-24ff1318d36a"
      },
      "source": [
        "da_bmi_female.head()"
      ],
      "execution_count": 211,
      "outputs": [
        {
          "output_type": "execute_result",
          "data": {
            "text/html": [
              "<div>\n",
              "<style scoped>\n",
              "    .dataframe tbody tr th:only-of-type {\n",
              "        vertical-align: middle;\n",
              "    }\n",
              "\n",
              "    .dataframe tbody tr th {\n",
              "        vertical-align: top;\n",
              "    }\n",
              "\n",
              "    .dataframe thead th {\n",
              "        text-align: right;\n",
              "    }\n",
              "</style>\n",
              "<table border=\"1\" class=\"dataframe\">\n",
              "  <thead>\n",
              "    <tr style=\"text-align: right;\">\n",
              "      <th></th>\n",
              "      <th>RIAGENDR</th>\n",
              "      <th>BMXBMI</th>\n",
              "    </tr>\n",
              "  </thead>\n",
              "  <tbody>\n",
              "    <tr>\n",
              "      <th>3</th>\n",
              "      <td>Female</td>\n",
              "      <td>42.4</td>\n",
              "    </tr>\n",
              "    <tr>\n",
              "      <th>4</th>\n",
              "      <td>Female</td>\n",
              "      <td>20.3</td>\n",
              "    </tr>\n",
              "    <tr>\n",
              "      <th>5</th>\n",
              "      <td>Female</td>\n",
              "      <td>28.6</td>\n",
              "    </tr>\n",
              "    <tr>\n",
              "      <th>7</th>\n",
              "      <td>Female</td>\n",
              "      <td>28.2</td>\n",
              "    </tr>\n",
              "    <tr>\n",
              "      <th>12</th>\n",
              "      <td>Female</td>\n",
              "      <td>26.6</td>\n",
              "    </tr>\n",
              "  </tbody>\n",
              "</table>\n",
              "</div>"
            ],
            "text/plain": [
              "   RIAGENDR  BMXBMI\n",
              "3    Female    42.4\n",
              "4    Female    20.3\n",
              "5    Female    28.6\n",
              "7    Female    28.2\n",
              "12   Female    26.6"
            ]
          },
          "metadata": {
            "tags": []
          },
          "execution_count": 211
        }
      ]
    },
    {
      "cell_type": "code",
      "metadata": {
        "id": "6gY7-Gs3Yg6w",
        "colab_type": "code",
        "colab": {
          "base_uri": "https://localhost:8080/",
          "height": 300
        },
        "outputId": "295727f5-692d-41e5-a3a5-8e77e79d34fd"
      },
      "source": [
        "da_bmi_male.describe()"
      ],
      "execution_count": 212,
      "outputs": [
        {
          "output_type": "execute_result",
          "data": {
            "text/html": [
              "<div>\n",
              "<style scoped>\n",
              "    .dataframe tbody tr th:only-of-type {\n",
              "        vertical-align: middle;\n",
              "    }\n",
              "\n",
              "    .dataframe tbody tr th {\n",
              "        vertical-align: top;\n",
              "    }\n",
              "\n",
              "    .dataframe thead th {\n",
              "        text-align: right;\n",
              "    }\n",
              "</style>\n",
              "<table border=\"1\" class=\"dataframe\">\n",
              "  <thead>\n",
              "    <tr style=\"text-align: right;\">\n",
              "      <th></th>\n",
              "      <th>BMXBMI</th>\n",
              "    </tr>\n",
              "  </thead>\n",
              "  <tbody>\n",
              "    <tr>\n",
              "      <th>count</th>\n",
              "      <td>2718.000000</td>\n",
              "    </tr>\n",
              "    <tr>\n",
              "      <th>mean</th>\n",
              "      <td>28.778072</td>\n",
              "    </tr>\n",
              "    <tr>\n",
              "      <th>std</th>\n",
              "      <td>6.252568</td>\n",
              "    </tr>\n",
              "    <tr>\n",
              "      <th>min</th>\n",
              "      <td>15.100000</td>\n",
              "    </tr>\n",
              "    <tr>\n",
              "      <th>25%</th>\n",
              "      <td>24.400000</td>\n",
              "    </tr>\n",
              "    <tr>\n",
              "      <th>50%</th>\n",
              "      <td>27.900000</td>\n",
              "    </tr>\n",
              "    <tr>\n",
              "      <th>75%</th>\n",
              "      <td>31.975000</td>\n",
              "    </tr>\n",
              "    <tr>\n",
              "      <th>max</th>\n",
              "      <td>58.800000</td>\n",
              "    </tr>\n",
              "  </tbody>\n",
              "</table>\n",
              "</div>"
            ],
            "text/plain": [
              "            BMXBMI\n",
              "count  2718.000000\n",
              "mean     28.778072\n",
              "std       6.252568\n",
              "min      15.100000\n",
              "25%      24.400000\n",
              "50%      27.900000\n",
              "75%      31.975000\n",
              "max      58.800000"
            ]
          },
          "metadata": {
            "tags": []
          },
          "execution_count": 212
        }
      ]
    },
    {
      "cell_type": "code",
      "metadata": {
        "id": "aQxNYlYpYleO",
        "colab_type": "code",
        "colab": {
          "base_uri": "https://localhost:8080/",
          "height": 300
        },
        "outputId": "bd5a9fb8-e2d5-4e63-ac17-65a5692604d3"
      },
      "source": [
        "da_bmi_female.describe()"
      ],
      "execution_count": 213,
      "outputs": [
        {
          "output_type": "execute_result",
          "data": {
            "text/html": [
              "<div>\n",
              "<style scoped>\n",
              "    .dataframe tbody tr th:only-of-type {\n",
              "        vertical-align: middle;\n",
              "    }\n",
              "\n",
              "    .dataframe tbody tr th {\n",
              "        vertical-align: top;\n",
              "    }\n",
              "\n",
              "    .dataframe thead th {\n",
              "        text-align: right;\n",
              "    }\n",
              "</style>\n",
              "<table border=\"1\" class=\"dataframe\">\n",
              "  <thead>\n",
              "    <tr style=\"text-align: right;\">\n",
              "      <th></th>\n",
              "      <th>BMXBMI</th>\n",
              "    </tr>\n",
              "  </thead>\n",
              "  <tbody>\n",
              "    <tr>\n",
              "      <th>count</th>\n",
              "      <td>2944.000000</td>\n",
              "    </tr>\n",
              "    <tr>\n",
              "      <th>mean</th>\n",
              "      <td>29.939946</td>\n",
              "    </tr>\n",
              "    <tr>\n",
              "      <th>std</th>\n",
              "      <td>7.753319</td>\n",
              "    </tr>\n",
              "    <tr>\n",
              "      <th>min</th>\n",
              "      <td>14.500000</td>\n",
              "    </tr>\n",
              "    <tr>\n",
              "      <th>25%</th>\n",
              "      <td>24.100000</td>\n",
              "    </tr>\n",
              "    <tr>\n",
              "      <th>50%</th>\n",
              "      <td>28.800000</td>\n",
              "    </tr>\n",
              "    <tr>\n",
              "      <th>75%</th>\n",
              "      <td>34.100000</td>\n",
              "    </tr>\n",
              "    <tr>\n",
              "      <th>max</th>\n",
              "      <td>67.300000</td>\n",
              "    </tr>\n",
              "  </tbody>\n",
              "</table>\n",
              "</div>"
            ],
            "text/plain": [
              "            BMXBMI\n",
              "count  2944.000000\n",
              "mean     29.939946\n",
              "std       7.753319\n",
              "min      14.500000\n",
              "25%      24.100000\n",
              "50%      28.800000\n",
              "75%      34.100000\n",
              "max      67.300000"
            ]
          },
          "metadata": {
            "tags": []
          },
          "execution_count": 213
        }
      ]
    },
    {
      "cell_type": "code",
      "metadata": {
        "id": "QE6hg49bYo7u",
        "colab_type": "code",
        "colab": {}
      },
      "source": [
        "std_male = da_bmi_male['BMXBMI'].std()\n",
        "std_female= da_bmi_female['BMXBMI'].std()\n",
        "nMale = da_bmi_male['BMXBMI'].count()\n",
        "nFemale = da_bmi_female['BMXBMI'].count()"
      ],
      "execution_count": 0,
      "outputs": []
    },
    {
      "cell_type": "code",
      "metadata": {
        "id": "SrWefiJmZo0u",
        "colab_type": "code",
        "colab": {}
      },
      "source": [
        "male_part = ((std_male)**2)/nMale\n",
        "female_part = ((std_female)**2)/nFemale"
      ],
      "execution_count": 0,
      "outputs": []
    },
    {
      "cell_type": "code",
      "metadata": {
        "id": "j3Gqp-FaZ9ia",
        "colab_type": "code",
        "colab": {
          "base_uri": "https://localhost:8080/",
          "height": 35
        },
        "outputId": "ce3cbd5e-aa21-42a3-fbca-d444d8e1c5f4"
      },
      "source": [
        "moe=1.96*np.sqrt(male_part+female_part)\n",
        "moe"
      ],
      "execution_count": 216,
      "outputs": [
        {
          "output_type": "execute_result",
          "data": {
            "text/plain": [
              "0.36564761618870795"
            ]
          },
          "metadata": {
            "tags": []
          },
          "execution_count": 216
        }
      ]
    },
    {
      "cell_type": "code",
      "metadata": {
        "id": "k87ps90XaEnR",
        "colab_type": "code",
        "colab": {
          "base_uri": "https://localhost:8080/",
          "height": 35
        },
        "outputId": "efc5f526-b9cb-4898-9a16-bf5f316f4d2a"
      },
      "source": [
        "point_male = da_bmi_male['BMXBMI'].mean()\n",
        "point_male"
      ],
      "execution_count": 217,
      "outputs": [
        {
          "output_type": "execute_result",
          "data": {
            "text/plain": [
              "28.778072111846985"
            ]
          },
          "metadata": {
            "tags": []
          },
          "execution_count": 217
        }
      ]
    },
    {
      "cell_type": "code",
      "metadata": {
        "id": "DKeKQ1BHag9b",
        "colab_type": "code",
        "colab": {
          "base_uri": "https://localhost:8080/",
          "height": 35
        },
        "outputId": "cdd8359a-e67c-4143-d08d-20961a179626"
      },
      "source": [
        "point_female = da_bmi_female['BMXBMI'].mean()\n",
        "point_female"
      ],
      "execution_count": 218,
      "outputs": [
        {
          "output_type": "execute_result",
          "data": {
            "text/plain": [
              "29.939945652173996"
            ]
          },
          "metadata": {
            "tags": []
          },
          "execution_count": 218
        }
      ]
    },
    {
      "cell_type": "code",
      "metadata": {
        "id": "oEXjjNM9a0rN",
        "colab_type": "code",
        "colab": {}
      },
      "source": [
        "point_estimate= point_female-point_male"
      ],
      "execution_count": 0,
      "outputs": []
    },
    {
      "cell_type": "code",
      "metadata": {
        "id": "9LVC5xcca_VL",
        "colab_type": "code",
        "colab": {
          "base_uri": "https://localhost:8080/",
          "height": 35
        },
        "outputId": "d4b84b32-6627-4173-da1a-58728baed012"
      },
      "source": [
        "lcb_ci = point_estimate-moe\n",
        "ucb_ci = point_estimate+moe\n",
        "(lcb_ci, ucb_ci)"
      ],
      "execution_count": 220,
      "outputs": [
        {
          "output_type": "execute_result",
          "data": {
            "text/plain": [
              "(0.7962259241383036, 1.5275211565157194)"
            ]
          },
          "metadata": {
            "tags": []
          },
          "execution_count": 220
        }
      ]
    },
    {
      "cell_type": "code",
      "metadata": {
        "id": "YMKHkqGfbJGU",
        "colab_type": "code",
        "colab": {}
      },
      "source": [
        ""
      ],
      "execution_count": 0,
      "outputs": []
    },
    {
      "cell_type": "markdown",
      "metadata": {
        "id": "9PHsXVREnvrr",
        "colab_type": "text"
      },
      "source": [
        "**CONFIDENCE INTEERVAL FOR SUBPOPULATION**"
      ]
    },
    {
      "cell_type": "code",
      "metadata": {
        "id": "HZseLGeSn0IC",
        "colab_type": "code",
        "colab": {}
      },
      "source": [
        "df['agegrp'] = pd.cut(df['RIDAGEYR'], bins=[18, 30, 40, 50, 60, 70, 80], include_lowest=True)\n",
        "#ax = out.value_counts(sort=False).plot.bar(rot=0, color=\"b\", figsize=(10,10))\n",
        "#plt.show()"
      ],
      "execution_count": 0,
      "outputs": []
    },
    {
      "cell_type": "code",
      "metadata": {
        "id": "ufmL-_uDqJTf",
        "colab_type": "code",
        "colab": {
          "base_uri": "https://localhost:8080/",
          "height": 127
        },
        "outputId": "5a41571f-7776-400b-ae05-d784a0072e65"
      },
      "source": [
        "df.columns"
      ],
      "execution_count": 222,
      "outputs": [
        {
          "output_type": "execute_result",
          "data": {
            "text/plain": [
              "Index(['SEQN', 'ALQ101', 'ALQ110', 'ALQ130', 'SMQ020', 'RIAGENDR', 'RIDAGEYR',\n",
              "       'RIDRETH1', 'DMDCITZN', 'DMDEDUC2', 'DMDMARTL', 'DMDHHSIZ', 'WTINT2YR',\n",
              "       'SDMVPSU', 'SDMVSTRA', 'INDFMPIR', 'BPXSY1', 'BPXDI1', 'BPXSY2',\n",
              "       'BPXDI2', 'BMXWT', 'BMXHT', 'BMXBMI', 'BMXLEG', 'BMXARML', 'BMXARMC',\n",
              "       'BMXWAIST', 'HIQ210', 'agegrp'],\n",
              "      dtype='object')"
            ]
          },
          "metadata": {
            "tags": []
          },
          "execution_count": 222
        }
      ]
    },
    {
      "cell_type": "code",
      "metadata": {
        "id": "emoZ0G8Fr9b5",
        "colab_type": "code",
        "colab": {
          "base_uri": "https://localhost:8080/",
          "height": 313
        },
        "outputId": "0b7e432c-2dab-4aab-96e8-089a8a510a1d"
      },
      "source": [
        "df.head()"
      ],
      "execution_count": 223,
      "outputs": [
        {
          "output_type": "execute_result",
          "data": {
            "text/html": [
              "<div>\n",
              "<style scoped>\n",
              "    .dataframe tbody tr th:only-of-type {\n",
              "        vertical-align: middle;\n",
              "    }\n",
              "\n",
              "    .dataframe tbody tr th {\n",
              "        vertical-align: top;\n",
              "    }\n",
              "\n",
              "    .dataframe thead th {\n",
              "        text-align: right;\n",
              "    }\n",
              "</style>\n",
              "<table border=\"1\" class=\"dataframe\">\n",
              "  <thead>\n",
              "    <tr style=\"text-align: right;\">\n",
              "      <th></th>\n",
              "      <th>SEQN</th>\n",
              "      <th>ALQ101</th>\n",
              "      <th>ALQ110</th>\n",
              "      <th>ALQ130</th>\n",
              "      <th>SMQ020</th>\n",
              "      <th>RIAGENDR</th>\n",
              "      <th>RIDAGEYR</th>\n",
              "      <th>RIDRETH1</th>\n",
              "      <th>DMDCITZN</th>\n",
              "      <th>DMDEDUC2</th>\n",
              "      <th>DMDMARTL</th>\n",
              "      <th>DMDHHSIZ</th>\n",
              "      <th>WTINT2YR</th>\n",
              "      <th>SDMVPSU</th>\n",
              "      <th>SDMVSTRA</th>\n",
              "      <th>INDFMPIR</th>\n",
              "      <th>BPXSY1</th>\n",
              "      <th>BPXDI1</th>\n",
              "      <th>BPXSY2</th>\n",
              "      <th>BPXDI2</th>\n",
              "      <th>BMXWT</th>\n",
              "      <th>BMXHT</th>\n",
              "      <th>BMXBMI</th>\n",
              "      <th>BMXLEG</th>\n",
              "      <th>BMXARML</th>\n",
              "      <th>BMXARMC</th>\n",
              "      <th>BMXWAIST</th>\n",
              "      <th>HIQ210</th>\n",
              "      <th>agegrp</th>\n",
              "    </tr>\n",
              "  </thead>\n",
              "  <tbody>\n",
              "    <tr>\n",
              "      <th>0</th>\n",
              "      <td>83732</td>\n",
              "      <td>1.0</td>\n",
              "      <td>NaN</td>\n",
              "      <td>1.0</td>\n",
              "      <td>1</td>\n",
              "      <td>1</td>\n",
              "      <td>62</td>\n",
              "      <td>3</td>\n",
              "      <td>1.0</td>\n",
              "      <td>5.0</td>\n",
              "      <td>1.0</td>\n",
              "      <td>2</td>\n",
              "      <td>134671.37</td>\n",
              "      <td>1</td>\n",
              "      <td>125</td>\n",
              "      <td>4.39</td>\n",
              "      <td>128.0</td>\n",
              "      <td>70.0</td>\n",
              "      <td>124.0</td>\n",
              "      <td>64.0</td>\n",
              "      <td>94.8</td>\n",
              "      <td>184.5</td>\n",
              "      <td>27.8</td>\n",
              "      <td>43.3</td>\n",
              "      <td>43.6</td>\n",
              "      <td>35.9</td>\n",
              "      <td>101.1</td>\n",
              "      <td>2.0</td>\n",
              "      <td>(60.0, 70.0]</td>\n",
              "    </tr>\n",
              "    <tr>\n",
              "      <th>1</th>\n",
              "      <td>83733</td>\n",
              "      <td>1.0</td>\n",
              "      <td>NaN</td>\n",
              "      <td>6.0</td>\n",
              "      <td>1</td>\n",
              "      <td>1</td>\n",
              "      <td>53</td>\n",
              "      <td>3</td>\n",
              "      <td>2.0</td>\n",
              "      <td>3.0</td>\n",
              "      <td>3.0</td>\n",
              "      <td>1</td>\n",
              "      <td>24328.56</td>\n",
              "      <td>1</td>\n",
              "      <td>125</td>\n",
              "      <td>1.32</td>\n",
              "      <td>146.0</td>\n",
              "      <td>88.0</td>\n",
              "      <td>140.0</td>\n",
              "      <td>88.0</td>\n",
              "      <td>90.4</td>\n",
              "      <td>171.4</td>\n",
              "      <td>30.8</td>\n",
              "      <td>38.0</td>\n",
              "      <td>40.0</td>\n",
              "      <td>33.2</td>\n",
              "      <td>107.9</td>\n",
              "      <td>NaN</td>\n",
              "      <td>(50.0, 60.0]</td>\n",
              "    </tr>\n",
              "    <tr>\n",
              "      <th>2</th>\n",
              "      <td>83734</td>\n",
              "      <td>1.0</td>\n",
              "      <td>NaN</td>\n",
              "      <td>NaN</td>\n",
              "      <td>1</td>\n",
              "      <td>1</td>\n",
              "      <td>78</td>\n",
              "      <td>3</td>\n",
              "      <td>1.0</td>\n",
              "      <td>3.0</td>\n",
              "      <td>1.0</td>\n",
              "      <td>2</td>\n",
              "      <td>12400.01</td>\n",
              "      <td>1</td>\n",
              "      <td>131</td>\n",
              "      <td>1.51</td>\n",
              "      <td>138.0</td>\n",
              "      <td>46.0</td>\n",
              "      <td>132.0</td>\n",
              "      <td>44.0</td>\n",
              "      <td>83.4</td>\n",
              "      <td>170.1</td>\n",
              "      <td>28.8</td>\n",
              "      <td>35.6</td>\n",
              "      <td>37.0</td>\n",
              "      <td>31.0</td>\n",
              "      <td>116.5</td>\n",
              "      <td>2.0</td>\n",
              "      <td>(70.0, 80.0]</td>\n",
              "    </tr>\n",
              "    <tr>\n",
              "      <th>3</th>\n",
              "      <td>83735</td>\n",
              "      <td>2.0</td>\n",
              "      <td>1.0</td>\n",
              "      <td>1.0</td>\n",
              "      <td>2</td>\n",
              "      <td>2</td>\n",
              "      <td>56</td>\n",
              "      <td>3</td>\n",
              "      <td>1.0</td>\n",
              "      <td>5.0</td>\n",
              "      <td>6.0</td>\n",
              "      <td>1</td>\n",
              "      <td>102718.00</td>\n",
              "      <td>1</td>\n",
              "      <td>131</td>\n",
              "      <td>5.00</td>\n",
              "      <td>132.0</td>\n",
              "      <td>72.0</td>\n",
              "      <td>134.0</td>\n",
              "      <td>68.0</td>\n",
              "      <td>109.8</td>\n",
              "      <td>160.9</td>\n",
              "      <td>42.4</td>\n",
              "      <td>38.5</td>\n",
              "      <td>37.7</td>\n",
              "      <td>38.3</td>\n",
              "      <td>110.1</td>\n",
              "      <td>2.0</td>\n",
              "      <td>(50.0, 60.0]</td>\n",
              "    </tr>\n",
              "    <tr>\n",
              "      <th>4</th>\n",
              "      <td>83736</td>\n",
              "      <td>2.0</td>\n",
              "      <td>1.0</td>\n",
              "      <td>1.0</td>\n",
              "      <td>2</td>\n",
              "      <td>2</td>\n",
              "      <td>42</td>\n",
              "      <td>4</td>\n",
              "      <td>1.0</td>\n",
              "      <td>4.0</td>\n",
              "      <td>3.0</td>\n",
              "      <td>5</td>\n",
              "      <td>17627.67</td>\n",
              "      <td>2</td>\n",
              "      <td>126</td>\n",
              "      <td>1.23</td>\n",
              "      <td>100.0</td>\n",
              "      <td>70.0</td>\n",
              "      <td>114.0</td>\n",
              "      <td>54.0</td>\n",
              "      <td>55.2</td>\n",
              "      <td>164.9</td>\n",
              "      <td>20.3</td>\n",
              "      <td>37.4</td>\n",
              "      <td>36.0</td>\n",
              "      <td>27.2</td>\n",
              "      <td>80.4</td>\n",
              "      <td>2.0</td>\n",
              "      <td>(40.0, 50.0]</td>\n",
              "    </tr>\n",
              "  </tbody>\n",
              "</table>\n",
              "</div>"
            ],
            "text/plain": [
              "    SEQN  ALQ101  ALQ110  ALQ130  ...  BMXARMC  BMXWAIST  HIQ210        agegrp\n",
              "0  83732     1.0     NaN     1.0  ...     35.9     101.1     2.0  (60.0, 70.0]\n",
              "1  83733     1.0     NaN     6.0  ...     33.2     107.9     NaN  (50.0, 60.0]\n",
              "2  83734     1.0     NaN     NaN  ...     31.0     116.5     2.0  (70.0, 80.0]\n",
              "3  83735     2.0     1.0     1.0  ...     38.3     110.1     2.0  (50.0, 60.0]\n",
              "4  83736     2.0     1.0     1.0  ...     27.2      80.4     2.0  (40.0, 50.0]\n",
              "\n",
              "[5 rows x 29 columns]"
            ]
          },
          "metadata": {
            "tags": []
          },
          "execution_count": 223
        }
      ]
    },
    {
      "cell_type": "code",
      "metadata": {
        "id": "GNtxaEvkr_P2",
        "colab_type": "code",
        "colab": {}
      },
      "source": [
        "df['RIAGENDRX']=da_bmi['RIAGENDR'].replace({1:'Male', 2:'Female'})"
      ],
      "execution_count": 0,
      "outputs": []
    },
    {
      "cell_type": "code",
      "metadata": {
        "id": "x-Ab1x9atapC",
        "colab_type": "code",
        "colab": {
          "base_uri": "https://localhost:8080/",
          "height": 313
        },
        "outputId": "8f31e8ef-f7cf-46b3-e5c2-093fb0cd2972"
      },
      "source": [
        "df.head()"
      ],
      "execution_count": 225,
      "outputs": [
        {
          "output_type": "execute_result",
          "data": {
            "text/html": [
              "<div>\n",
              "<style scoped>\n",
              "    .dataframe tbody tr th:only-of-type {\n",
              "        vertical-align: middle;\n",
              "    }\n",
              "\n",
              "    .dataframe tbody tr th {\n",
              "        vertical-align: top;\n",
              "    }\n",
              "\n",
              "    .dataframe thead th {\n",
              "        text-align: right;\n",
              "    }\n",
              "</style>\n",
              "<table border=\"1\" class=\"dataframe\">\n",
              "  <thead>\n",
              "    <tr style=\"text-align: right;\">\n",
              "      <th></th>\n",
              "      <th>SEQN</th>\n",
              "      <th>ALQ101</th>\n",
              "      <th>ALQ110</th>\n",
              "      <th>ALQ130</th>\n",
              "      <th>SMQ020</th>\n",
              "      <th>RIAGENDR</th>\n",
              "      <th>RIDAGEYR</th>\n",
              "      <th>RIDRETH1</th>\n",
              "      <th>DMDCITZN</th>\n",
              "      <th>DMDEDUC2</th>\n",
              "      <th>DMDMARTL</th>\n",
              "      <th>DMDHHSIZ</th>\n",
              "      <th>WTINT2YR</th>\n",
              "      <th>SDMVPSU</th>\n",
              "      <th>SDMVSTRA</th>\n",
              "      <th>INDFMPIR</th>\n",
              "      <th>BPXSY1</th>\n",
              "      <th>BPXDI1</th>\n",
              "      <th>BPXSY2</th>\n",
              "      <th>BPXDI2</th>\n",
              "      <th>BMXWT</th>\n",
              "      <th>BMXHT</th>\n",
              "      <th>BMXBMI</th>\n",
              "      <th>BMXLEG</th>\n",
              "      <th>BMXARML</th>\n",
              "      <th>BMXARMC</th>\n",
              "      <th>BMXWAIST</th>\n",
              "      <th>HIQ210</th>\n",
              "      <th>agegrp</th>\n",
              "      <th>RIAGENDRX</th>\n",
              "    </tr>\n",
              "  </thead>\n",
              "  <tbody>\n",
              "    <tr>\n",
              "      <th>0</th>\n",
              "      <td>83732</td>\n",
              "      <td>1.0</td>\n",
              "      <td>NaN</td>\n",
              "      <td>1.0</td>\n",
              "      <td>1</td>\n",
              "      <td>1</td>\n",
              "      <td>62</td>\n",
              "      <td>3</td>\n",
              "      <td>1.0</td>\n",
              "      <td>5.0</td>\n",
              "      <td>1.0</td>\n",
              "      <td>2</td>\n",
              "      <td>134671.37</td>\n",
              "      <td>1</td>\n",
              "      <td>125</td>\n",
              "      <td>4.39</td>\n",
              "      <td>128.0</td>\n",
              "      <td>70.0</td>\n",
              "      <td>124.0</td>\n",
              "      <td>64.0</td>\n",
              "      <td>94.8</td>\n",
              "      <td>184.5</td>\n",
              "      <td>27.8</td>\n",
              "      <td>43.3</td>\n",
              "      <td>43.6</td>\n",
              "      <td>35.9</td>\n",
              "      <td>101.1</td>\n",
              "      <td>2.0</td>\n",
              "      <td>(60.0, 70.0]</td>\n",
              "      <td>Male</td>\n",
              "    </tr>\n",
              "    <tr>\n",
              "      <th>1</th>\n",
              "      <td>83733</td>\n",
              "      <td>1.0</td>\n",
              "      <td>NaN</td>\n",
              "      <td>6.0</td>\n",
              "      <td>1</td>\n",
              "      <td>1</td>\n",
              "      <td>53</td>\n",
              "      <td>3</td>\n",
              "      <td>2.0</td>\n",
              "      <td>3.0</td>\n",
              "      <td>3.0</td>\n",
              "      <td>1</td>\n",
              "      <td>24328.56</td>\n",
              "      <td>1</td>\n",
              "      <td>125</td>\n",
              "      <td>1.32</td>\n",
              "      <td>146.0</td>\n",
              "      <td>88.0</td>\n",
              "      <td>140.0</td>\n",
              "      <td>88.0</td>\n",
              "      <td>90.4</td>\n",
              "      <td>171.4</td>\n",
              "      <td>30.8</td>\n",
              "      <td>38.0</td>\n",
              "      <td>40.0</td>\n",
              "      <td>33.2</td>\n",
              "      <td>107.9</td>\n",
              "      <td>NaN</td>\n",
              "      <td>(50.0, 60.0]</td>\n",
              "      <td>Male</td>\n",
              "    </tr>\n",
              "    <tr>\n",
              "      <th>2</th>\n",
              "      <td>83734</td>\n",
              "      <td>1.0</td>\n",
              "      <td>NaN</td>\n",
              "      <td>NaN</td>\n",
              "      <td>1</td>\n",
              "      <td>1</td>\n",
              "      <td>78</td>\n",
              "      <td>3</td>\n",
              "      <td>1.0</td>\n",
              "      <td>3.0</td>\n",
              "      <td>1.0</td>\n",
              "      <td>2</td>\n",
              "      <td>12400.01</td>\n",
              "      <td>1</td>\n",
              "      <td>131</td>\n",
              "      <td>1.51</td>\n",
              "      <td>138.0</td>\n",
              "      <td>46.0</td>\n",
              "      <td>132.0</td>\n",
              "      <td>44.0</td>\n",
              "      <td>83.4</td>\n",
              "      <td>170.1</td>\n",
              "      <td>28.8</td>\n",
              "      <td>35.6</td>\n",
              "      <td>37.0</td>\n",
              "      <td>31.0</td>\n",
              "      <td>116.5</td>\n",
              "      <td>2.0</td>\n",
              "      <td>(70.0, 80.0]</td>\n",
              "      <td>Male</td>\n",
              "    </tr>\n",
              "    <tr>\n",
              "      <th>3</th>\n",
              "      <td>83735</td>\n",
              "      <td>2.0</td>\n",
              "      <td>1.0</td>\n",
              "      <td>1.0</td>\n",
              "      <td>2</td>\n",
              "      <td>2</td>\n",
              "      <td>56</td>\n",
              "      <td>3</td>\n",
              "      <td>1.0</td>\n",
              "      <td>5.0</td>\n",
              "      <td>6.0</td>\n",
              "      <td>1</td>\n",
              "      <td>102718.00</td>\n",
              "      <td>1</td>\n",
              "      <td>131</td>\n",
              "      <td>5.00</td>\n",
              "      <td>132.0</td>\n",
              "      <td>72.0</td>\n",
              "      <td>134.0</td>\n",
              "      <td>68.0</td>\n",
              "      <td>109.8</td>\n",
              "      <td>160.9</td>\n",
              "      <td>42.4</td>\n",
              "      <td>38.5</td>\n",
              "      <td>37.7</td>\n",
              "      <td>38.3</td>\n",
              "      <td>110.1</td>\n",
              "      <td>2.0</td>\n",
              "      <td>(50.0, 60.0]</td>\n",
              "      <td>Female</td>\n",
              "    </tr>\n",
              "    <tr>\n",
              "      <th>4</th>\n",
              "      <td>83736</td>\n",
              "      <td>2.0</td>\n",
              "      <td>1.0</td>\n",
              "      <td>1.0</td>\n",
              "      <td>2</td>\n",
              "      <td>2</td>\n",
              "      <td>42</td>\n",
              "      <td>4</td>\n",
              "      <td>1.0</td>\n",
              "      <td>4.0</td>\n",
              "      <td>3.0</td>\n",
              "      <td>5</td>\n",
              "      <td>17627.67</td>\n",
              "      <td>2</td>\n",
              "      <td>126</td>\n",
              "      <td>1.23</td>\n",
              "      <td>100.0</td>\n",
              "      <td>70.0</td>\n",
              "      <td>114.0</td>\n",
              "      <td>54.0</td>\n",
              "      <td>55.2</td>\n",
              "      <td>164.9</td>\n",
              "      <td>20.3</td>\n",
              "      <td>37.4</td>\n",
              "      <td>36.0</td>\n",
              "      <td>27.2</td>\n",
              "      <td>80.4</td>\n",
              "      <td>2.0</td>\n",
              "      <td>(40.0, 50.0]</td>\n",
              "      <td>Female</td>\n",
              "    </tr>\n",
              "  </tbody>\n",
              "</table>\n",
              "</div>"
            ],
            "text/plain": [
              "    SEQN  ALQ101  ALQ110  ALQ130  ...  BMXWAIST  HIQ210        agegrp  RIAGENDRX\n",
              "0  83732     1.0     NaN     1.0  ...     101.1     2.0  (60.0, 70.0]       Male\n",
              "1  83733     1.0     NaN     6.0  ...     107.9     NaN  (50.0, 60.0]       Male\n",
              "2  83734     1.0     NaN     NaN  ...     116.5     2.0  (70.0, 80.0]       Male\n",
              "3  83735     2.0     1.0     1.0  ...     110.1     2.0  (50.0, 60.0]     Female\n",
              "4  83736     2.0     1.0     1.0  ...      80.4     2.0  (40.0, 50.0]     Female\n",
              "\n",
              "[5 rows x 30 columns]"
            ]
          },
          "metadata": {
            "tags": []
          },
          "execution_count": 225
        }
      ]
    },
    {
      "cell_type": "code",
      "metadata": {
        "id": "WJO0pYOCteQG",
        "colab_type": "code",
        "colab": {}
      },
      "source": [
        "df['SMQ020X']=df['SMQ020'].replace({1:\"Yes\",2:'No',7:np.nan, 9:np.nan})\n",
        "df = df[['SMQ020X','agegrp','RIAGENDRX','RIDAGEYR','SMQ020','RIAGENDR']]\n",
        "df.dropna(inplace=True)"
      ],
      "execution_count": 0,
      "outputs": []
    },
    {
      "cell_type": "code",
      "metadata": {
        "id": "-vFE8MQSwq1u",
        "colab_type": "code",
        "colab": {}
      },
      "source": [
        "new_df = df.groupby(['agegrp','RIAGENDRX']).agg({\"SMQ020X\": lambda x: np.mean(x==\"Yes\")}).unstack()"
      ],
      "execution_count": 0,
      "outputs": []
    },
    {
      "cell_type": "code",
      "metadata": {
        "id": "4jNtipYrtvqR",
        "colab_type": "code",
        "colab": {
          "base_uri": "https://localhost:8080/",
          "height": 300
        },
        "outputId": "80151cf3-16bb-4af7-cbfb-66ee36251445"
      },
      "source": [
        "\n",
        "new_df"
      ],
      "execution_count": 228,
      "outputs": [
        {
          "output_type": "execute_result",
          "data": {
            "text/html": [
              "<div>\n",
              "<style scoped>\n",
              "    .dataframe tbody tr th:only-of-type {\n",
              "        vertical-align: middle;\n",
              "    }\n",
              "\n",
              "    .dataframe tbody tr th {\n",
              "        vertical-align: top;\n",
              "    }\n",
              "\n",
              "    .dataframe thead tr th {\n",
              "        text-align: left;\n",
              "    }\n",
              "\n",
              "    .dataframe thead tr:last-of-type th {\n",
              "        text-align: right;\n",
              "    }\n",
              "</style>\n",
              "<table border=\"1\" class=\"dataframe\">\n",
              "  <thead>\n",
              "    <tr>\n",
              "      <th></th>\n",
              "      <th colspan=\"2\" halign=\"left\">SMQ020X</th>\n",
              "    </tr>\n",
              "    <tr>\n",
              "      <th>RIAGENDRX</th>\n",
              "      <th>Female</th>\n",
              "      <th>Male</th>\n",
              "    </tr>\n",
              "    <tr>\n",
              "      <th>agegrp</th>\n",
              "      <th></th>\n",
              "      <th></th>\n",
              "    </tr>\n",
              "  </thead>\n",
              "  <tbody>\n",
              "    <tr>\n",
              "      <th>(17.999, 30.0]</th>\n",
              "      <td>0.204478</td>\n",
              "      <td>0.324459</td>\n",
              "    </tr>\n",
              "    <tr>\n",
              "      <th>(30.0, 40.0]</th>\n",
              "      <td>0.286325</td>\n",
              "      <td>0.503326</td>\n",
              "    </tr>\n",
              "    <tr>\n",
              "      <th>(40.0, 50.0]</th>\n",
              "      <td>0.269076</td>\n",
              "      <td>0.452261</td>\n",
              "    </tr>\n",
              "    <tr>\n",
              "      <th>(50.0, 60.0]</th>\n",
              "      <td>0.421505</td>\n",
              "      <td>0.569845</td>\n",
              "    </tr>\n",
              "    <tr>\n",
              "      <th>(60.0, 70.0]</th>\n",
              "      <td>0.372998</td>\n",
              "      <td>0.651765</td>\n",
              "    </tr>\n",
              "    <tr>\n",
              "      <th>(70.0, 80.0]</th>\n",
              "      <td>0.328358</td>\n",
              "      <td>0.658031</td>\n",
              "    </tr>\n",
              "  </tbody>\n",
              "</table>\n",
              "</div>"
            ],
            "text/plain": [
              "                 SMQ020X          \n",
              "RIAGENDRX         Female      Male\n",
              "agegrp                            \n",
              "(17.999, 30.0]  0.204478  0.324459\n",
              "(30.0, 40.0]    0.286325  0.503326\n",
              "(40.0, 50.0]    0.269076  0.452261\n",
              "(50.0, 60.0]    0.421505  0.569845\n",
              "(60.0, 70.0]    0.372998  0.651765\n",
              "(70.0, 80.0]    0.328358  0.658031"
            ]
          },
          "metadata": {
            "tags": []
          },
          "execution_count": 228
        }
      ]
    },
    {
      "cell_type": "code",
      "metadata": {
        "id": "5rvTesPruH5P",
        "colab_type": "code",
        "colab": {}
      },
      "source": [
        "new_df.columns=['Female','Male']"
      ],
      "execution_count": 0,
      "outputs": []
    },
    {
      "cell_type": "code",
      "metadata": {
        "id": "RMukbzWyvhd1",
        "colab_type": "code",
        "colab": {
          "base_uri": "https://localhost:8080/",
          "height": 269
        },
        "outputId": "f02ad1e1-a43e-4f04-e014-095180e42dd0"
      },
      "source": [
        "# Calculate the smoking rates within age/gender groups\n",
        "new_df"
      ],
      "execution_count": 230,
      "outputs": [
        {
          "output_type": "execute_result",
          "data": {
            "text/html": [
              "<div>\n",
              "<style scoped>\n",
              "    .dataframe tbody tr th:only-of-type {\n",
              "        vertical-align: middle;\n",
              "    }\n",
              "\n",
              "    .dataframe tbody tr th {\n",
              "        vertical-align: top;\n",
              "    }\n",
              "\n",
              "    .dataframe thead th {\n",
              "        text-align: right;\n",
              "    }\n",
              "</style>\n",
              "<table border=\"1\" class=\"dataframe\">\n",
              "  <thead>\n",
              "    <tr style=\"text-align: right;\">\n",
              "      <th></th>\n",
              "      <th>Female</th>\n",
              "      <th>Male</th>\n",
              "    </tr>\n",
              "    <tr>\n",
              "      <th>agegrp</th>\n",
              "      <th></th>\n",
              "      <th></th>\n",
              "    </tr>\n",
              "  </thead>\n",
              "  <tbody>\n",
              "    <tr>\n",
              "      <th>(17.999, 30.0]</th>\n",
              "      <td>0.204478</td>\n",
              "      <td>0.324459</td>\n",
              "    </tr>\n",
              "    <tr>\n",
              "      <th>(30.0, 40.0]</th>\n",
              "      <td>0.286325</td>\n",
              "      <td>0.503326</td>\n",
              "    </tr>\n",
              "    <tr>\n",
              "      <th>(40.0, 50.0]</th>\n",
              "      <td>0.269076</td>\n",
              "      <td>0.452261</td>\n",
              "    </tr>\n",
              "    <tr>\n",
              "      <th>(50.0, 60.0]</th>\n",
              "      <td>0.421505</td>\n",
              "      <td>0.569845</td>\n",
              "    </tr>\n",
              "    <tr>\n",
              "      <th>(60.0, 70.0]</th>\n",
              "      <td>0.372998</td>\n",
              "      <td>0.651765</td>\n",
              "    </tr>\n",
              "    <tr>\n",
              "      <th>(70.0, 80.0]</th>\n",
              "      <td>0.328358</td>\n",
              "      <td>0.658031</td>\n",
              "    </tr>\n",
              "  </tbody>\n",
              "</table>\n",
              "</div>"
            ],
            "text/plain": [
              "                  Female      Male\n",
              "agegrp                            \n",
              "(17.999, 30.0]  0.204478  0.324459\n",
              "(30.0, 40.0]    0.286325  0.503326\n",
              "(40.0, 50.0]    0.269076  0.452261\n",
              "(50.0, 60.0]    0.421505  0.569845\n",
              "(60.0, 70.0]    0.372998  0.651765\n",
              "(70.0, 80.0]    0.328358  0.658031"
            ]
          },
          "metadata": {
            "tags": []
          },
          "execution_count": 230
        }
      ]
    },
    {
      "cell_type": "code",
      "metadata": {
        "id": "Dfl2_4zPxLDa",
        "colab_type": "code",
        "colab": {}
      },
      "source": [
        "# The number of people for each calculated proportion\n",
        "dn = df.groupby([\"agegrp\", \"RIAGENDRX\"]).agg({\"SMQ020X\": np.size}).unstack()\n",
        "dn.columns = [\"Female\", \"Male\"]"
      ],
      "execution_count": 0,
      "outputs": []
    },
    {
      "cell_type": "code",
      "metadata": {
        "id": "ZfRc82H5xcbC",
        "colab_type": "code",
        "colab": {
          "base_uri": "https://localhost:8080/",
          "height": 269
        },
        "outputId": "dc6ddd3d-0a3c-40f3-f215-5f77716ed043"
      },
      "source": [
        "dn"
      ],
      "execution_count": 232,
      "outputs": [
        {
          "output_type": "execute_result",
          "data": {
            "text/html": [
              "<div>\n",
              "<style scoped>\n",
              "    .dataframe tbody tr th:only-of-type {\n",
              "        vertical-align: middle;\n",
              "    }\n",
              "\n",
              "    .dataframe tbody tr th {\n",
              "        vertical-align: top;\n",
              "    }\n",
              "\n",
              "    .dataframe thead th {\n",
              "        text-align: right;\n",
              "    }\n",
              "</style>\n",
              "<table border=\"1\" class=\"dataframe\">\n",
              "  <thead>\n",
              "    <tr style=\"text-align: right;\">\n",
              "      <th></th>\n",
              "      <th>Female</th>\n",
              "      <th>Male</th>\n",
              "    </tr>\n",
              "    <tr>\n",
              "      <th>agegrp</th>\n",
              "      <th></th>\n",
              "      <th></th>\n",
              "    </tr>\n",
              "  </thead>\n",
              "  <tbody>\n",
              "    <tr>\n",
              "      <th>(17.999, 30.0]</th>\n",
              "      <td>670</td>\n",
              "      <td>601</td>\n",
              "    </tr>\n",
              "    <tr>\n",
              "      <th>(30.0, 40.0]</th>\n",
              "      <td>468</td>\n",
              "      <td>451</td>\n",
              "    </tr>\n",
              "    <tr>\n",
              "      <th>(40.0, 50.0]</th>\n",
              "      <td>498</td>\n",
              "      <td>398</td>\n",
              "    </tr>\n",
              "    <tr>\n",
              "      <th>(50.0, 60.0]</th>\n",
              "      <td>465</td>\n",
              "      <td>451</td>\n",
              "    </tr>\n",
              "    <tr>\n",
              "      <th>(60.0, 70.0]</th>\n",
              "      <td>437</td>\n",
              "      <td>425</td>\n",
              "    </tr>\n",
              "    <tr>\n",
              "      <th>(70.0, 80.0]</th>\n",
              "      <td>402</td>\n",
              "      <td>386</td>\n",
              "    </tr>\n",
              "  </tbody>\n",
              "</table>\n",
              "</div>"
            ],
            "text/plain": [
              "                Female  Male\n",
              "agegrp                      \n",
              "(17.999, 30.0]     670   601\n",
              "(30.0, 40.0]       468   451\n",
              "(40.0, 50.0]       498   398\n",
              "(50.0, 60.0]       465   451\n",
              "(60.0, 70.0]       437   425\n",
              "(70.0, 80.0]       402   386"
            ]
          },
          "metadata": {
            "tags": []
          },
          "execution_count": 232
        }
      ]
    },
    {
      "cell_type": "code",
      "metadata": {
        "id": "G25saZJqxiDK",
        "colab_type": "code",
        "colab": {}
      },
      "source": [
        "# standard error for each proportion\n",
        "\n",
        "se = np.sqrt(new_df*(1-new_df)/dn)"
      ],
      "execution_count": 0,
      "outputs": []
    },
    {
      "cell_type": "code",
      "metadata": {
        "id": "JRE7SEBRyQlG",
        "colab_type": "code",
        "colab": {
          "base_uri": "https://localhost:8080/",
          "height": 269
        },
        "outputId": "d47d8918-504e-4577-c9f8-d2a5b338f95f"
      },
      "source": [
        "se"
      ],
      "execution_count": 234,
      "outputs": [
        {
          "output_type": "execute_result",
          "data": {
            "text/html": [
              "<div>\n",
              "<style scoped>\n",
              "    .dataframe tbody tr th:only-of-type {\n",
              "        vertical-align: middle;\n",
              "    }\n",
              "\n",
              "    .dataframe tbody tr th {\n",
              "        vertical-align: top;\n",
              "    }\n",
              "\n",
              "    .dataframe thead th {\n",
              "        text-align: right;\n",
              "    }\n",
              "</style>\n",
              "<table border=\"1\" class=\"dataframe\">\n",
              "  <thead>\n",
              "    <tr style=\"text-align: right;\">\n",
              "      <th></th>\n",
              "      <th>Female</th>\n",
              "      <th>Male</th>\n",
              "    </tr>\n",
              "    <tr>\n",
              "      <th>agegrp</th>\n",
              "      <th></th>\n",
              "      <th></th>\n",
              "    </tr>\n",
              "  </thead>\n",
              "  <tbody>\n",
              "    <tr>\n",
              "      <th>(17.999, 30.0]</th>\n",
              "      <td>0.015582</td>\n",
              "      <td>0.019097</td>\n",
              "    </tr>\n",
              "    <tr>\n",
              "      <th>(30.0, 40.0]</th>\n",
              "      <td>0.020896</td>\n",
              "      <td>0.023544</td>\n",
              "    </tr>\n",
              "    <tr>\n",
              "      <th>(40.0, 50.0]</th>\n",
              "      <td>0.019873</td>\n",
              "      <td>0.024948</td>\n",
              "    </tr>\n",
              "    <tr>\n",
              "      <th>(50.0, 60.0]</th>\n",
              "      <td>0.022899</td>\n",
              "      <td>0.023313</td>\n",
              "    </tr>\n",
              "    <tr>\n",
              "      <th>(60.0, 70.0]</th>\n",
              "      <td>0.023134</td>\n",
              "      <td>0.023109</td>\n",
              "    </tr>\n",
              "    <tr>\n",
              "      <th>(70.0, 80.0]</th>\n",
              "      <td>0.023422</td>\n",
              "      <td>0.024145</td>\n",
              "    </tr>\n",
              "  </tbody>\n",
              "</table>\n",
              "</div>"
            ],
            "text/plain": [
              "                  Female      Male\n",
              "agegrp                            \n",
              "(17.999, 30.0]  0.015582  0.019097\n",
              "(30.0, 40.0]    0.020896  0.023544\n",
              "(40.0, 50.0]    0.019873  0.024948\n",
              "(50.0, 60.0]    0.022899  0.023313\n",
              "(60.0, 70.0]    0.023134  0.023109\n",
              "(70.0, 80.0]    0.023422  0.024145"
            ]
          },
          "metadata": {
            "tags": []
          },
          "execution_count": 234
        }
      ]
    },
    {
      "cell_type": "code",
      "metadata": {
        "id": "TMmuDUfHySH-",
        "colab_type": "code",
        "colab": {
          "base_uri": "https://localhost:8080/",
          "height": 269
        },
        "outputId": "19837ad8-6a21-4aac-c099-47231cd851a1"
      },
      "source": [
        "moe=1.96*se\n",
        "moe"
      ],
      "execution_count": 235,
      "outputs": [
        {
          "output_type": "execute_result",
          "data": {
            "text/html": [
              "<div>\n",
              "<style scoped>\n",
              "    .dataframe tbody tr th:only-of-type {\n",
              "        vertical-align: middle;\n",
              "    }\n",
              "\n",
              "    .dataframe tbody tr th {\n",
              "        vertical-align: top;\n",
              "    }\n",
              "\n",
              "    .dataframe thead th {\n",
              "        text-align: right;\n",
              "    }\n",
              "</style>\n",
              "<table border=\"1\" class=\"dataframe\">\n",
              "  <thead>\n",
              "    <tr style=\"text-align: right;\">\n",
              "      <th></th>\n",
              "      <th>Female</th>\n",
              "      <th>Male</th>\n",
              "    </tr>\n",
              "    <tr>\n",
              "      <th>agegrp</th>\n",
              "      <th></th>\n",
              "      <th></th>\n",
              "    </tr>\n",
              "  </thead>\n",
              "  <tbody>\n",
              "    <tr>\n",
              "      <th>(17.999, 30.0]</th>\n",
              "      <td>0.030540</td>\n",
              "      <td>0.037430</td>\n",
              "    </tr>\n",
              "    <tr>\n",
              "      <th>(30.0, 40.0]</th>\n",
              "      <td>0.040956</td>\n",
              "      <td>0.046145</td>\n",
              "    </tr>\n",
              "    <tr>\n",
              "      <th>(40.0, 50.0]</th>\n",
              "      <td>0.038951</td>\n",
              "      <td>0.048899</td>\n",
              "    </tr>\n",
              "    <tr>\n",
              "      <th>(50.0, 60.0]</th>\n",
              "      <td>0.044883</td>\n",
              "      <td>0.045694</td>\n",
              "    </tr>\n",
              "    <tr>\n",
              "      <th>(60.0, 70.0]</th>\n",
              "      <td>0.045342</td>\n",
              "      <td>0.045294</td>\n",
              "    </tr>\n",
              "    <tr>\n",
              "      <th>(70.0, 80.0]</th>\n",
              "      <td>0.045908</td>\n",
              "      <td>0.047324</td>\n",
              "    </tr>\n",
              "  </tbody>\n",
              "</table>\n",
              "</div>"
            ],
            "text/plain": [
              "                  Female      Male\n",
              "agegrp                            \n",
              "(17.999, 30.0]  0.030540  0.037430\n",
              "(30.0, 40.0]    0.040956  0.046145\n",
              "(40.0, 50.0]    0.038951  0.048899\n",
              "(50.0, 60.0]    0.044883  0.045694\n",
              "(60.0, 70.0]    0.045342  0.045294\n",
              "(70.0, 80.0]    0.045908  0.047324"
            ]
          },
          "metadata": {
            "tags": []
          },
          "execution_count": 235
        }
      ]
    },
    {
      "cell_type": "code",
      "metadata": {
        "id": "M-2wtbXRyYsS",
        "colab_type": "code",
        "colab": {
          "base_uri": "https://localhost:8080/",
          "height": 164
        },
        "outputId": "fc2fd62f-ccee-45a7-ce4c-aa9b266d5cf5"
      },
      "source": [
        "new_df['Female']-new_df['Male']"
      ],
      "execution_count": 236,
      "outputs": [
        {
          "output_type": "execute_result",
          "data": {
            "text/plain": [
              "agegrp\n",
              "(17.999, 30.0]   -0.119982\n",
              "(30.0, 40.0]     -0.217001\n",
              "(40.0, 50.0]     -0.183185\n",
              "(50.0, 60.0]     -0.148339\n",
              "(60.0, 70.0]     -0.278767\n",
              "(70.0, 80.0]     -0.329673\n",
              "dtype: float64"
            ]
          },
          "metadata": {
            "tags": []
          },
          "execution_count": 236
        }
      ]
    },
    {
      "cell_type": "code",
      "metadata": {
        "id": "U0an6Kz_y9p3",
        "colab_type": "code",
        "colab": {}
      },
      "source": [
        "df_poin_est=pd.DataFrame(new_df['Female']-new_df['Male'])"
      ],
      "execution_count": 0,
      "outputs": []
    },
    {
      "cell_type": "code",
      "metadata": {
        "id": "pFxdquK7zPR1",
        "colab_type": "code",
        "colab": {}
      },
      "source": [
        "df_poin_est.columns=['Point_Estimate']"
      ],
      "execution_count": 0,
      "outputs": []
    },
    {
      "cell_type": "code",
      "metadata": {
        "id": "r6nPzl24zWpG",
        "colab_type": "code",
        "colab": {
          "base_uri": "https://localhost:8080/",
          "height": 269
        },
        "outputId": "15bcdaab-c99c-4a4d-e462-36a034fef680"
      },
      "source": [
        "df_poin_est"
      ],
      "execution_count": 239,
      "outputs": [
        {
          "output_type": "execute_result",
          "data": {
            "text/html": [
              "<div>\n",
              "<style scoped>\n",
              "    .dataframe tbody tr th:only-of-type {\n",
              "        vertical-align: middle;\n",
              "    }\n",
              "\n",
              "    .dataframe tbody tr th {\n",
              "        vertical-align: top;\n",
              "    }\n",
              "\n",
              "    .dataframe thead th {\n",
              "        text-align: right;\n",
              "    }\n",
              "</style>\n",
              "<table border=\"1\" class=\"dataframe\">\n",
              "  <thead>\n",
              "    <tr style=\"text-align: right;\">\n",
              "      <th></th>\n",
              "      <th>Point_Estimate</th>\n",
              "    </tr>\n",
              "    <tr>\n",
              "      <th>agegrp</th>\n",
              "      <th></th>\n",
              "    </tr>\n",
              "  </thead>\n",
              "  <tbody>\n",
              "    <tr>\n",
              "      <th>(17.999, 30.0]</th>\n",
              "      <td>-0.119982</td>\n",
              "    </tr>\n",
              "    <tr>\n",
              "      <th>(30.0, 40.0]</th>\n",
              "      <td>-0.217001</td>\n",
              "    </tr>\n",
              "    <tr>\n",
              "      <th>(40.0, 50.0]</th>\n",
              "      <td>-0.183185</td>\n",
              "    </tr>\n",
              "    <tr>\n",
              "      <th>(50.0, 60.0]</th>\n",
              "      <td>-0.148339</td>\n",
              "    </tr>\n",
              "    <tr>\n",
              "      <th>(60.0, 70.0]</th>\n",
              "      <td>-0.278767</td>\n",
              "    </tr>\n",
              "    <tr>\n",
              "      <th>(70.0, 80.0]</th>\n",
              "      <td>-0.329673</td>\n",
              "    </tr>\n",
              "  </tbody>\n",
              "</table>\n",
              "</div>"
            ],
            "text/plain": [
              "                Point_Estimate\n",
              "agegrp                        \n",
              "(17.999, 30.0]       -0.119982\n",
              "(30.0, 40.0]         -0.217001\n",
              "(40.0, 50.0]         -0.183185\n",
              "(50.0, 60.0]         -0.148339\n",
              "(60.0, 70.0]         -0.278767\n",
              "(70.0, 80.0]         -0.329673"
            ]
          },
          "metadata": {
            "tags": []
          },
          "execution_count": 239
        }
      ]
    },
    {
      "cell_type": "code",
      "metadata": {
        "id": "SC1XpjXvzX5s",
        "colab_type": "code",
        "colab": {}
      },
      "source": [
        "num_1=new_df*(1-new_df)/dn"
      ],
      "execution_count": 0,
      "outputs": []
    },
    {
      "cell_type": "code",
      "metadata": {
        "id": "K7oe_8JNztMw",
        "colab_type": "code",
        "colab": {
          "base_uri": "https://localhost:8080/",
          "height": 269
        },
        "outputId": "f6ce8c25-e0c1-4bda-e391-626b1bede222"
      },
      "source": [
        "num_1"
      ],
      "execution_count": 241,
      "outputs": [
        {
          "output_type": "execute_result",
          "data": {
            "text/html": [
              "<div>\n",
              "<style scoped>\n",
              "    .dataframe tbody tr th:only-of-type {\n",
              "        vertical-align: middle;\n",
              "    }\n",
              "\n",
              "    .dataframe tbody tr th {\n",
              "        vertical-align: top;\n",
              "    }\n",
              "\n",
              "    .dataframe thead th {\n",
              "        text-align: right;\n",
              "    }\n",
              "</style>\n",
              "<table border=\"1\" class=\"dataframe\">\n",
              "  <thead>\n",
              "    <tr style=\"text-align: right;\">\n",
              "      <th></th>\n",
              "      <th>Female</th>\n",
              "      <th>Male</th>\n",
              "    </tr>\n",
              "    <tr>\n",
              "      <th>agegrp</th>\n",
              "      <th></th>\n",
              "      <th></th>\n",
              "    </tr>\n",
              "  </thead>\n",
              "  <tbody>\n",
              "    <tr>\n",
              "      <th>(17.999, 30.0]</th>\n",
              "      <td>0.000243</td>\n",
              "      <td>0.000365</td>\n",
              "    </tr>\n",
              "    <tr>\n",
              "      <th>(30.0, 40.0]</th>\n",
              "      <td>0.000437</td>\n",
              "      <td>0.000554</td>\n",
              "    </tr>\n",
              "    <tr>\n",
              "      <th>(40.0, 50.0]</th>\n",
              "      <td>0.000395</td>\n",
              "      <td>0.000622</td>\n",
              "    </tr>\n",
              "    <tr>\n",
              "      <th>(50.0, 60.0]</th>\n",
              "      <td>0.000524</td>\n",
              "      <td>0.000544</td>\n",
              "    </tr>\n",
              "    <tr>\n",
              "      <th>(60.0, 70.0]</th>\n",
              "      <td>0.000535</td>\n",
              "      <td>0.000534</td>\n",
              "    </tr>\n",
              "    <tr>\n",
              "      <th>(70.0, 80.0]</th>\n",
              "      <td>0.000549</td>\n",
              "      <td>0.000583</td>\n",
              "    </tr>\n",
              "  </tbody>\n",
              "</table>\n",
              "</div>"
            ],
            "text/plain": [
              "                  Female      Male\n",
              "agegrp                            \n",
              "(17.999, 30.0]  0.000243  0.000365\n",
              "(30.0, 40.0]    0.000437  0.000554\n",
              "(40.0, 50.0]    0.000395  0.000622\n",
              "(50.0, 60.0]    0.000524  0.000544\n",
              "(60.0, 70.0]    0.000535  0.000534\n",
              "(70.0, 80.0]    0.000549  0.000583"
            ]
          },
          "metadata": {
            "tags": []
          },
          "execution_count": 241
        }
      ]
    },
    {
      "cell_type": "code",
      "metadata": {
        "id": "mi3oWbdOzudg",
        "colab_type": "code",
        "colab": {}
      },
      "source": [
        ""
      ],
      "execution_count": 0,
      "outputs": []
    },
    {
      "cell_type": "code",
      "metadata": {
        "id": "lhRnRTZwzyQe",
        "colab_type": "code",
        "colab": {}
      },
      "source": [
        "num_1=pd.DataFrame(num_1['Female']+num_1['Male'])\n"
      ],
      "execution_count": 0,
      "outputs": []
    },
    {
      "cell_type": "code",
      "metadata": {
        "id": "dKSSGJfL0LOm",
        "colab_type": "code",
        "colab": {}
      },
      "source": [
        "num_1=pd.DataFrame(np.sqrt(num_1))"
      ],
      "execution_count": 0,
      "outputs": []
    },
    {
      "cell_type": "code",
      "metadata": {
        "id": "hYZ2ZzAV0MHK",
        "colab_type": "code",
        "colab": {
          "base_uri": "https://localhost:8080/",
          "height": 269
        },
        "outputId": "df1e4be6-864c-42e1-9b14-faa5f54efe5a"
      },
      "source": [
        "num_1"
      ],
      "execution_count": 244,
      "outputs": [
        {
          "output_type": "execute_result",
          "data": {
            "text/html": [
              "<div>\n",
              "<style scoped>\n",
              "    .dataframe tbody tr th:only-of-type {\n",
              "        vertical-align: middle;\n",
              "    }\n",
              "\n",
              "    .dataframe tbody tr th {\n",
              "        vertical-align: top;\n",
              "    }\n",
              "\n",
              "    .dataframe thead th {\n",
              "        text-align: right;\n",
              "    }\n",
              "</style>\n",
              "<table border=\"1\" class=\"dataframe\">\n",
              "  <thead>\n",
              "    <tr style=\"text-align: right;\">\n",
              "      <th></th>\n",
              "      <th>0</th>\n",
              "    </tr>\n",
              "    <tr>\n",
              "      <th>agegrp</th>\n",
              "      <th></th>\n",
              "    </tr>\n",
              "  </thead>\n",
              "  <tbody>\n",
              "    <tr>\n",
              "      <th>(17.999, 30.0]</th>\n",
              "      <td>0.024647</td>\n",
              "    </tr>\n",
              "    <tr>\n",
              "      <th>(30.0, 40.0]</th>\n",
              "      <td>0.031479</td>\n",
              "    </tr>\n",
              "    <tr>\n",
              "      <th>(40.0, 50.0]</th>\n",
              "      <td>0.031896</td>\n",
              "    </tr>\n",
              "    <tr>\n",
              "      <th>(50.0, 60.0]</th>\n",
              "      <td>0.032679</td>\n",
              "    </tr>\n",
              "    <tr>\n",
              "      <th>(60.0, 70.0]</th>\n",
              "      <td>0.032699</td>\n",
              "    </tr>\n",
              "    <tr>\n",
              "      <th>(70.0, 80.0]</th>\n",
              "      <td>0.033639</td>\n",
              "    </tr>\n",
              "  </tbody>\n",
              "</table>\n",
              "</div>"
            ],
            "text/plain": [
              "                       0\n",
              "agegrp                  \n",
              "(17.999, 30.0]  0.024647\n",
              "(30.0, 40.0]    0.031479\n",
              "(40.0, 50.0]    0.031896\n",
              "(50.0, 60.0]    0.032679\n",
              "(60.0, 70.0]    0.032699\n",
              "(70.0, 80.0]    0.033639"
            ]
          },
          "metadata": {
            "tags": []
          },
          "execution_count": 244
        }
      ]
    },
    {
      "cell_type": "code",
      "metadata": {
        "id": "CXxipueK0Y6p",
        "colab_type": "code",
        "colab": {}
      },
      "source": [
        "num_1.columns=['se']"
      ],
      "execution_count": 0,
      "outputs": []
    },
    {
      "cell_type": "code",
      "metadata": {
        "id": "EDt0vh_x0dQd",
        "colab_type": "code",
        "colab": {
          "base_uri": "https://localhost:8080/",
          "height": 269
        },
        "outputId": "7b9ced97-b4c8-47ac-c108-3d8bcc2efd64"
      },
      "source": [
        "num_1"
      ],
      "execution_count": 246,
      "outputs": [
        {
          "output_type": "execute_result",
          "data": {
            "text/html": [
              "<div>\n",
              "<style scoped>\n",
              "    .dataframe tbody tr th:only-of-type {\n",
              "        vertical-align: middle;\n",
              "    }\n",
              "\n",
              "    .dataframe tbody tr th {\n",
              "        vertical-align: top;\n",
              "    }\n",
              "\n",
              "    .dataframe thead th {\n",
              "        text-align: right;\n",
              "    }\n",
              "</style>\n",
              "<table border=\"1\" class=\"dataframe\">\n",
              "  <thead>\n",
              "    <tr style=\"text-align: right;\">\n",
              "      <th></th>\n",
              "      <th>se</th>\n",
              "    </tr>\n",
              "    <tr>\n",
              "      <th>agegrp</th>\n",
              "      <th></th>\n",
              "    </tr>\n",
              "  </thead>\n",
              "  <tbody>\n",
              "    <tr>\n",
              "      <th>(17.999, 30.0]</th>\n",
              "      <td>0.024647</td>\n",
              "    </tr>\n",
              "    <tr>\n",
              "      <th>(30.0, 40.0]</th>\n",
              "      <td>0.031479</td>\n",
              "    </tr>\n",
              "    <tr>\n",
              "      <th>(40.0, 50.0]</th>\n",
              "      <td>0.031896</td>\n",
              "    </tr>\n",
              "    <tr>\n",
              "      <th>(50.0, 60.0]</th>\n",
              "      <td>0.032679</td>\n",
              "    </tr>\n",
              "    <tr>\n",
              "      <th>(60.0, 70.0]</th>\n",
              "      <td>0.032699</td>\n",
              "    </tr>\n",
              "    <tr>\n",
              "      <th>(70.0, 80.0]</th>\n",
              "      <td>0.033639</td>\n",
              "    </tr>\n",
              "  </tbody>\n",
              "</table>\n",
              "</div>"
            ],
            "text/plain": [
              "                      se\n",
              "agegrp                  \n",
              "(17.999, 30.0]  0.024647\n",
              "(30.0, 40.0]    0.031479\n",
              "(40.0, 50.0]    0.031896\n",
              "(50.0, 60.0]    0.032679\n",
              "(60.0, 70.0]    0.032699\n",
              "(70.0, 80.0]    0.033639"
            ]
          },
          "metadata": {
            "tags": []
          },
          "execution_count": 246
        }
      ]
    },
    {
      "cell_type": "code",
      "metadata": {
        "id": "KZtTsq6c0eUy",
        "colab_type": "code",
        "colab": {
          "base_uri": "https://localhost:8080/",
          "height": 269
        },
        "outputId": "f5e37f25-bb75-46ff-9e40-c4a18a0d9fda"
      },
      "source": [
        "moe=num_1*1.96\n",
        "moe"
      ],
      "execution_count": 247,
      "outputs": [
        {
          "output_type": "execute_result",
          "data": {
            "text/html": [
              "<div>\n",
              "<style scoped>\n",
              "    .dataframe tbody tr th:only-of-type {\n",
              "        vertical-align: middle;\n",
              "    }\n",
              "\n",
              "    .dataframe tbody tr th {\n",
              "        vertical-align: top;\n",
              "    }\n",
              "\n",
              "    .dataframe thead th {\n",
              "        text-align: right;\n",
              "    }\n",
              "</style>\n",
              "<table border=\"1\" class=\"dataframe\">\n",
              "  <thead>\n",
              "    <tr style=\"text-align: right;\">\n",
              "      <th></th>\n",
              "      <th>se</th>\n",
              "    </tr>\n",
              "    <tr>\n",
              "      <th>agegrp</th>\n",
              "      <th></th>\n",
              "    </tr>\n",
              "  </thead>\n",
              "  <tbody>\n",
              "    <tr>\n",
              "      <th>(17.999, 30.0]</th>\n",
              "      <td>0.048309</td>\n",
              "    </tr>\n",
              "    <tr>\n",
              "      <th>(30.0, 40.0]</th>\n",
              "      <td>0.061699</td>\n",
              "    </tr>\n",
              "    <tr>\n",
              "      <th>(40.0, 50.0]</th>\n",
              "      <td>0.062516</td>\n",
              "    </tr>\n",
              "    <tr>\n",
              "      <th>(50.0, 60.0]</th>\n",
              "      <td>0.064050</td>\n",
              "    </tr>\n",
              "    <tr>\n",
              "      <th>(60.0, 70.0]</th>\n",
              "      <td>0.064090</td>\n",
              "    </tr>\n",
              "    <tr>\n",
              "      <th>(70.0, 80.0]</th>\n",
              "      <td>0.065932</td>\n",
              "    </tr>\n",
              "  </tbody>\n",
              "</table>\n",
              "</div>"
            ],
            "text/plain": [
              "                      se\n",
              "agegrp                  \n",
              "(17.999, 30.0]  0.048309\n",
              "(30.0, 40.0]    0.061699\n",
              "(40.0, 50.0]    0.062516\n",
              "(50.0, 60.0]    0.064050\n",
              "(60.0, 70.0]    0.064090\n",
              "(70.0, 80.0]    0.065932"
            ]
          },
          "metadata": {
            "tags": []
          },
          "execution_count": 247
        }
      ]
    },
    {
      "cell_type": "code",
      "metadata": {
        "id": "7bo9yrYZ0iQy",
        "colab_type": "code",
        "colab": {
          "base_uri": "https://localhost:8080/",
          "height": 269
        },
        "outputId": "dcc99fd0-df9d-40ea-8c73-112e558b0370"
      },
      "source": [
        "df_poin_est"
      ],
      "execution_count": 248,
      "outputs": [
        {
          "output_type": "execute_result",
          "data": {
            "text/html": [
              "<div>\n",
              "<style scoped>\n",
              "    .dataframe tbody tr th:only-of-type {\n",
              "        vertical-align: middle;\n",
              "    }\n",
              "\n",
              "    .dataframe tbody tr th {\n",
              "        vertical-align: top;\n",
              "    }\n",
              "\n",
              "    .dataframe thead th {\n",
              "        text-align: right;\n",
              "    }\n",
              "</style>\n",
              "<table border=\"1\" class=\"dataframe\">\n",
              "  <thead>\n",
              "    <tr style=\"text-align: right;\">\n",
              "      <th></th>\n",
              "      <th>Point_Estimate</th>\n",
              "    </tr>\n",
              "    <tr>\n",
              "      <th>agegrp</th>\n",
              "      <th></th>\n",
              "    </tr>\n",
              "  </thead>\n",
              "  <tbody>\n",
              "    <tr>\n",
              "      <th>(17.999, 30.0]</th>\n",
              "      <td>-0.119982</td>\n",
              "    </tr>\n",
              "    <tr>\n",
              "      <th>(30.0, 40.0]</th>\n",
              "      <td>-0.217001</td>\n",
              "    </tr>\n",
              "    <tr>\n",
              "      <th>(40.0, 50.0]</th>\n",
              "      <td>-0.183185</td>\n",
              "    </tr>\n",
              "    <tr>\n",
              "      <th>(50.0, 60.0]</th>\n",
              "      <td>-0.148339</td>\n",
              "    </tr>\n",
              "    <tr>\n",
              "      <th>(60.0, 70.0]</th>\n",
              "      <td>-0.278767</td>\n",
              "    </tr>\n",
              "    <tr>\n",
              "      <th>(70.0, 80.0]</th>\n",
              "      <td>-0.329673</td>\n",
              "    </tr>\n",
              "  </tbody>\n",
              "</table>\n",
              "</div>"
            ],
            "text/plain": [
              "                Point_Estimate\n",
              "agegrp                        \n",
              "(17.999, 30.0]       -0.119982\n",
              "(30.0, 40.0]         -0.217001\n",
              "(40.0, 50.0]         -0.183185\n",
              "(50.0, 60.0]         -0.148339\n",
              "(60.0, 70.0]         -0.278767\n",
              "(70.0, 80.0]         -0.329673"
            ]
          },
          "metadata": {
            "tags": []
          },
          "execution_count": 248
        }
      ]
    },
    {
      "cell_type": "code",
      "metadata": {
        "id": "FqoEMdFp0zbF",
        "colab_type": "code",
        "colab": {
          "base_uri": "https://localhost:8080/",
          "height": 269
        },
        "outputId": "202fb445-2efc-415b-ab67-61ec4cde7224"
      },
      "source": [
        "df_poin_est.columns=['cb']\n",
        "df_poin_est"
      ],
      "execution_count": 249,
      "outputs": [
        {
          "output_type": "execute_result",
          "data": {
            "text/html": [
              "<div>\n",
              "<style scoped>\n",
              "    .dataframe tbody tr th:only-of-type {\n",
              "        vertical-align: middle;\n",
              "    }\n",
              "\n",
              "    .dataframe tbody tr th {\n",
              "        vertical-align: top;\n",
              "    }\n",
              "\n",
              "    .dataframe thead th {\n",
              "        text-align: right;\n",
              "    }\n",
              "</style>\n",
              "<table border=\"1\" class=\"dataframe\">\n",
              "  <thead>\n",
              "    <tr style=\"text-align: right;\">\n",
              "      <th></th>\n",
              "      <th>cb</th>\n",
              "    </tr>\n",
              "    <tr>\n",
              "      <th>agegrp</th>\n",
              "      <th></th>\n",
              "    </tr>\n",
              "  </thead>\n",
              "  <tbody>\n",
              "    <tr>\n",
              "      <th>(17.999, 30.0]</th>\n",
              "      <td>-0.119982</td>\n",
              "    </tr>\n",
              "    <tr>\n",
              "      <th>(30.0, 40.0]</th>\n",
              "      <td>-0.217001</td>\n",
              "    </tr>\n",
              "    <tr>\n",
              "      <th>(40.0, 50.0]</th>\n",
              "      <td>-0.183185</td>\n",
              "    </tr>\n",
              "    <tr>\n",
              "      <th>(50.0, 60.0]</th>\n",
              "      <td>-0.148339</td>\n",
              "    </tr>\n",
              "    <tr>\n",
              "      <th>(60.0, 70.0]</th>\n",
              "      <td>-0.278767</td>\n",
              "    </tr>\n",
              "    <tr>\n",
              "      <th>(70.0, 80.0]</th>\n",
              "      <td>-0.329673</td>\n",
              "    </tr>\n",
              "  </tbody>\n",
              "</table>\n",
              "</div>"
            ],
            "text/plain": [
              "                      cb\n",
              "agegrp                  \n",
              "(17.999, 30.0] -0.119982\n",
              "(30.0, 40.0]   -0.217001\n",
              "(40.0, 50.0]   -0.183185\n",
              "(50.0, 60.0]   -0.148339\n",
              "(60.0, 70.0]   -0.278767\n",
              "(70.0, 80.0]   -0.329673"
            ]
          },
          "metadata": {
            "tags": []
          },
          "execution_count": 249
        }
      ]
    },
    {
      "cell_type": "code",
      "metadata": {
        "id": "KchZV3Hm1KD7",
        "colab_type": "code",
        "colab": {}
      },
      "source": [
        "moe.columns=['cb']"
      ],
      "execution_count": 0,
      "outputs": []
    },
    {
      "cell_type": "code",
      "metadata": {
        "id": "6bEUtuGO1ZP2",
        "colab_type": "code",
        "colab": {}
      },
      "source": [
        "conint_lcb=df_poin_est-moe\n",
        "conint_ucb=df_poin_est+moe"
      ],
      "execution_count": 0,
      "outputs": []
    },
    {
      "cell_type": "code",
      "metadata": {
        "id": "hKBHu5nn1lX3",
        "colab_type": "code",
        "colab": {
          "base_uri": "https://localhost:8080/",
          "height": 269
        },
        "outputId": "ea1141b9-e733-413c-8652-ceefea699e7b"
      },
      "source": [
        "conint_lcb"
      ],
      "execution_count": 252,
      "outputs": [
        {
          "output_type": "execute_result",
          "data": {
            "text/html": [
              "<div>\n",
              "<style scoped>\n",
              "    .dataframe tbody tr th:only-of-type {\n",
              "        vertical-align: middle;\n",
              "    }\n",
              "\n",
              "    .dataframe tbody tr th {\n",
              "        vertical-align: top;\n",
              "    }\n",
              "\n",
              "    .dataframe thead th {\n",
              "        text-align: right;\n",
              "    }\n",
              "</style>\n",
              "<table border=\"1\" class=\"dataframe\">\n",
              "  <thead>\n",
              "    <tr style=\"text-align: right;\">\n",
              "      <th></th>\n",
              "      <th>cb</th>\n",
              "    </tr>\n",
              "    <tr>\n",
              "      <th>agegrp</th>\n",
              "      <th></th>\n",
              "    </tr>\n",
              "  </thead>\n",
              "  <tbody>\n",
              "    <tr>\n",
              "      <th>(17.999, 30.0]</th>\n",
              "      <td>-0.168290</td>\n",
              "    </tr>\n",
              "    <tr>\n",
              "      <th>(30.0, 40.0]</th>\n",
              "      <td>-0.278700</td>\n",
              "    </tr>\n",
              "    <tr>\n",
              "      <th>(40.0, 50.0]</th>\n",
              "      <td>-0.245701</td>\n",
              "    </tr>\n",
              "    <tr>\n",
              "      <th>(50.0, 60.0]</th>\n",
              "      <td>-0.212389</td>\n",
              "    </tr>\n",
              "    <tr>\n",
              "      <th>(60.0, 70.0]</th>\n",
              "      <td>-0.342857</td>\n",
              "    </tr>\n",
              "    <tr>\n",
              "      <th>(70.0, 80.0]</th>\n",
              "      <td>-0.395605</td>\n",
              "    </tr>\n",
              "  </tbody>\n",
              "</table>\n",
              "</div>"
            ],
            "text/plain": [
              "                      cb\n",
              "agegrp                  \n",
              "(17.999, 30.0] -0.168290\n",
              "(30.0, 40.0]   -0.278700\n",
              "(40.0, 50.0]   -0.245701\n",
              "(50.0, 60.0]   -0.212389\n",
              "(60.0, 70.0]   -0.342857\n",
              "(70.0, 80.0]   -0.395605"
            ]
          },
          "metadata": {
            "tags": []
          },
          "execution_count": 252
        }
      ]
    },
    {
      "cell_type": "code",
      "metadata": {
        "id": "3lq4fy0e1m3g",
        "colab_type": "code",
        "colab": {
          "base_uri": "https://localhost:8080/",
          "height": 269
        },
        "outputId": "313244fa-884c-44ff-bbae-f97e905b0d34"
      },
      "source": [
        "conint_ucb"
      ],
      "execution_count": 253,
      "outputs": [
        {
          "output_type": "execute_result",
          "data": {
            "text/html": [
              "<div>\n",
              "<style scoped>\n",
              "    .dataframe tbody tr th:only-of-type {\n",
              "        vertical-align: middle;\n",
              "    }\n",
              "\n",
              "    .dataframe tbody tr th {\n",
              "        vertical-align: top;\n",
              "    }\n",
              "\n",
              "    .dataframe thead th {\n",
              "        text-align: right;\n",
              "    }\n",
              "</style>\n",
              "<table border=\"1\" class=\"dataframe\">\n",
              "  <thead>\n",
              "    <tr style=\"text-align: right;\">\n",
              "      <th></th>\n",
              "      <th>cb</th>\n",
              "    </tr>\n",
              "    <tr>\n",
              "      <th>agegrp</th>\n",
              "      <th></th>\n",
              "    </tr>\n",
              "  </thead>\n",
              "  <tbody>\n",
              "    <tr>\n",
              "      <th>(17.999, 30.0]</th>\n",
              "      <td>-0.071673</td>\n",
              "    </tr>\n",
              "    <tr>\n",
              "      <th>(30.0, 40.0]</th>\n",
              "      <td>-0.155302</td>\n",
              "    </tr>\n",
              "    <tr>\n",
              "      <th>(40.0, 50.0]</th>\n",
              "      <td>-0.120669</td>\n",
              "    </tr>\n",
              "    <tr>\n",
              "      <th>(50.0, 60.0]</th>\n",
              "      <td>-0.084289</td>\n",
              "    </tr>\n",
              "    <tr>\n",
              "      <th>(60.0, 70.0]</th>\n",
              "      <td>-0.214677</td>\n",
              "    </tr>\n",
              "    <tr>\n",
              "      <th>(70.0, 80.0]</th>\n",
              "      <td>-0.263741</td>\n",
              "    </tr>\n",
              "  </tbody>\n",
              "</table>\n",
              "</div>"
            ],
            "text/plain": [
              "                      cb\n",
              "agegrp                  \n",
              "(17.999, 30.0] -0.071673\n",
              "(30.0, 40.0]   -0.155302\n",
              "(40.0, 50.0]   -0.120669\n",
              "(50.0, 60.0]   -0.084289\n",
              "(60.0, 70.0]   -0.214677\n",
              "(70.0, 80.0]   -0.263741"
            ]
          },
          "metadata": {
            "tags": []
          },
          "execution_count": 253
        }
      ]
    },
    {
      "cell_type": "code",
      "metadata": {
        "id": "X1aU40NM1n-9",
        "colab_type": "code",
        "colab": {}
      },
      "source": [
        "import seaborn as sns"
      ],
      "execution_count": 0,
      "outputs": []
    },
    {
      "cell_type": "code",
      "metadata": {
        "id": "UqGboYti2Msx",
        "colab_type": "code",
        "colab": {}
      },
      "source": [
        "conint_lcb.columns=['lcb']\n",
        "conint_ucb.columns=['ucb']"
      ],
      "execution_count": 0,
      "outputs": []
    },
    {
      "cell_type": "code",
      "metadata": {
        "id": "0fgpFHC22d6p",
        "colab_type": "code",
        "colab": {
          "base_uri": "https://localhost:8080/",
          "height": 269
        },
        "outputId": "42a93f13-8165-4a82-cd37-ba032da28dc3"
      },
      "source": [
        "conint_ucb"
      ],
      "execution_count": 256,
      "outputs": [
        {
          "output_type": "execute_result",
          "data": {
            "text/html": [
              "<div>\n",
              "<style scoped>\n",
              "    .dataframe tbody tr th:only-of-type {\n",
              "        vertical-align: middle;\n",
              "    }\n",
              "\n",
              "    .dataframe tbody tr th {\n",
              "        vertical-align: top;\n",
              "    }\n",
              "\n",
              "    .dataframe thead th {\n",
              "        text-align: right;\n",
              "    }\n",
              "</style>\n",
              "<table border=\"1\" class=\"dataframe\">\n",
              "  <thead>\n",
              "    <tr style=\"text-align: right;\">\n",
              "      <th></th>\n",
              "      <th>ucb</th>\n",
              "    </tr>\n",
              "    <tr>\n",
              "      <th>agegrp</th>\n",
              "      <th></th>\n",
              "    </tr>\n",
              "  </thead>\n",
              "  <tbody>\n",
              "    <tr>\n",
              "      <th>(17.999, 30.0]</th>\n",
              "      <td>-0.071673</td>\n",
              "    </tr>\n",
              "    <tr>\n",
              "      <th>(30.0, 40.0]</th>\n",
              "      <td>-0.155302</td>\n",
              "    </tr>\n",
              "    <tr>\n",
              "      <th>(40.0, 50.0]</th>\n",
              "      <td>-0.120669</td>\n",
              "    </tr>\n",
              "    <tr>\n",
              "      <th>(50.0, 60.0]</th>\n",
              "      <td>-0.084289</td>\n",
              "    </tr>\n",
              "    <tr>\n",
              "      <th>(60.0, 70.0]</th>\n",
              "      <td>-0.214677</td>\n",
              "    </tr>\n",
              "    <tr>\n",
              "      <th>(70.0, 80.0]</th>\n",
              "      <td>-0.263741</td>\n",
              "    </tr>\n",
              "  </tbody>\n",
              "</table>\n",
              "</div>"
            ],
            "text/plain": [
              "                     ucb\n",
              "agegrp                  \n",
              "(17.999, 30.0] -0.071673\n",
              "(30.0, 40.0]   -0.155302\n",
              "(40.0, 50.0]   -0.120669\n",
              "(50.0, 60.0]   -0.084289\n",
              "(60.0, 70.0]   -0.214677\n",
              "(70.0, 80.0]   -0.263741"
            ]
          },
          "metadata": {
            "tags": []
          },
          "execution_count": 256
        }
      ]
    },
    {
      "cell_type": "code",
      "metadata": {
        "id": "uj_1x6cb9fWR",
        "colab_type": "code",
        "colab": {
          "base_uri": "https://localhost:8080/",
          "height": 269
        },
        "outputId": "643cd285-21b3-4a14-9f90-950f5cd2cbd4"
      },
      "source": [
        "conint_lcb"
      ],
      "execution_count": 257,
      "outputs": [
        {
          "output_type": "execute_result",
          "data": {
            "text/html": [
              "<div>\n",
              "<style scoped>\n",
              "    .dataframe tbody tr th:only-of-type {\n",
              "        vertical-align: middle;\n",
              "    }\n",
              "\n",
              "    .dataframe tbody tr th {\n",
              "        vertical-align: top;\n",
              "    }\n",
              "\n",
              "    .dataframe thead th {\n",
              "        text-align: right;\n",
              "    }\n",
              "</style>\n",
              "<table border=\"1\" class=\"dataframe\">\n",
              "  <thead>\n",
              "    <tr style=\"text-align: right;\">\n",
              "      <th></th>\n",
              "      <th>lcb</th>\n",
              "    </tr>\n",
              "    <tr>\n",
              "      <th>agegrp</th>\n",
              "      <th></th>\n",
              "    </tr>\n",
              "  </thead>\n",
              "  <tbody>\n",
              "    <tr>\n",
              "      <th>(17.999, 30.0]</th>\n",
              "      <td>-0.168290</td>\n",
              "    </tr>\n",
              "    <tr>\n",
              "      <th>(30.0, 40.0]</th>\n",
              "      <td>-0.278700</td>\n",
              "    </tr>\n",
              "    <tr>\n",
              "      <th>(40.0, 50.0]</th>\n",
              "      <td>-0.245701</td>\n",
              "    </tr>\n",
              "    <tr>\n",
              "      <th>(50.0, 60.0]</th>\n",
              "      <td>-0.212389</td>\n",
              "    </tr>\n",
              "    <tr>\n",
              "      <th>(60.0, 70.0]</th>\n",
              "      <td>-0.342857</td>\n",
              "    </tr>\n",
              "    <tr>\n",
              "      <th>(70.0, 80.0]</th>\n",
              "      <td>-0.395605</td>\n",
              "    </tr>\n",
              "  </tbody>\n",
              "</table>\n",
              "</div>"
            ],
            "text/plain": [
              "                     lcb\n",
              "agegrp                  \n",
              "(17.999, 30.0] -0.168290\n",
              "(30.0, 40.0]   -0.278700\n",
              "(40.0, 50.0]   -0.245701\n",
              "(50.0, 60.0]   -0.212389\n",
              "(60.0, 70.0]   -0.342857\n",
              "(70.0, 80.0]   -0.395605"
            ]
          },
          "metadata": {
            "tags": []
          },
          "execution_count": 257
        }
      ]
    },
    {
      "cell_type": "code",
      "metadata": {
        "id": "yyRlW4lW9g2B",
        "colab_type": "code",
        "colab": {}
      },
      "source": [
        "df_lcb_ucb=conint_lcb.merge(conint_ucb, on=['agegrp'])"
      ],
      "execution_count": 0,
      "outputs": []
    },
    {
      "cell_type": "code",
      "metadata": {
        "id": "7_JjrKnK-Zf0",
        "colab_type": "code",
        "colab": {
          "base_uri": "https://localhost:8080/",
          "height": 269
        },
        "outputId": "9e976ff4-2989-474c-fd82-6fcd76204080"
      },
      "source": [
        "df_lcb_ucb"
      ],
      "execution_count": 261,
      "outputs": [
        {
          "output_type": "execute_result",
          "data": {
            "text/html": [
              "<div>\n",
              "<style scoped>\n",
              "    .dataframe tbody tr th:only-of-type {\n",
              "        vertical-align: middle;\n",
              "    }\n",
              "\n",
              "    .dataframe tbody tr th {\n",
              "        vertical-align: top;\n",
              "    }\n",
              "\n",
              "    .dataframe thead th {\n",
              "        text-align: right;\n",
              "    }\n",
              "</style>\n",
              "<table border=\"1\" class=\"dataframe\">\n",
              "  <thead>\n",
              "    <tr style=\"text-align: right;\">\n",
              "      <th></th>\n",
              "      <th>lcb</th>\n",
              "      <th>ucb</th>\n",
              "    </tr>\n",
              "    <tr>\n",
              "      <th>agegrp</th>\n",
              "      <th></th>\n",
              "      <th></th>\n",
              "    </tr>\n",
              "  </thead>\n",
              "  <tbody>\n",
              "    <tr>\n",
              "      <th>(17.999, 30.0]</th>\n",
              "      <td>-0.168290</td>\n",
              "      <td>-0.071673</td>\n",
              "    </tr>\n",
              "    <tr>\n",
              "      <th>(30.0, 40.0]</th>\n",
              "      <td>-0.278700</td>\n",
              "      <td>-0.155302</td>\n",
              "    </tr>\n",
              "    <tr>\n",
              "      <th>(40.0, 50.0]</th>\n",
              "      <td>-0.245701</td>\n",
              "      <td>-0.120669</td>\n",
              "    </tr>\n",
              "    <tr>\n",
              "      <th>(50.0, 60.0]</th>\n",
              "      <td>-0.212389</td>\n",
              "      <td>-0.084289</td>\n",
              "    </tr>\n",
              "    <tr>\n",
              "      <th>(60.0, 70.0]</th>\n",
              "      <td>-0.342857</td>\n",
              "      <td>-0.214677</td>\n",
              "    </tr>\n",
              "    <tr>\n",
              "      <th>(70.0, 80.0]</th>\n",
              "      <td>-0.395605</td>\n",
              "      <td>-0.263741</td>\n",
              "    </tr>\n",
              "  </tbody>\n",
              "</table>\n",
              "</div>"
            ],
            "text/plain": [
              "                     lcb       ucb\n",
              "agegrp                            \n",
              "(17.999, 30.0] -0.168290 -0.071673\n",
              "(30.0, 40.0]   -0.278700 -0.155302\n",
              "(40.0, 50.0]   -0.245701 -0.120669\n",
              "(50.0, 60.0]   -0.212389 -0.084289\n",
              "(60.0, 70.0]   -0.342857 -0.214677\n",
              "(70.0, 80.0]   -0.395605 -0.263741"
            ]
          },
          "metadata": {
            "tags": []
          },
          "execution_count": 261
        }
      ]
    },
    {
      "cell_type": "code",
      "metadata": {
        "id": "WSxHq_qg_Wua",
        "colab_type": "code",
        "colab": {}
      },
      "source": [
        ""
      ],
      "execution_count": 0,
      "outputs": []
    },
    {
      "cell_type": "code",
      "metadata": {
        "id": "6sRjp6PQ-p87",
        "colab_type": "code",
        "colab": {
          "base_uri": "https://localhost:8080/",
          "height": 624
        },
        "outputId": "f3f7deae-5546-4e84-cfe0-03a6ec29ef41"
      },
      "source": [
        "x = np.arange(df_poin_est['cb'].size)\n",
        "a4_dims = (10,10)\n",
        "fig, ax = plt.subplots(figsize=a4_dims)\n",
        "pp = sns.pointplot(x, df_poin_est['cb'].values, color='black')\n",
        "sns.pointplot(x,df_lcb_ucb['lcb'])\n",
        "sns.pointplot(x, df_lcb_ucb['ucb'])\n",
        "pp.set_xticklabels(df_poin_est['cb'].index)\n",
        "pp.set_xlabel(\"Age group\")\n",
        "pp.set_ylabel(\"Female - male smoking proportion\")"
      ],
      "execution_count": 274,
      "outputs": [
        {
          "output_type": "execute_result",
          "data": {
            "text/plain": [
              "Text(0, 0.5, 'Female - male smoking proportion')"
            ]
          },
          "metadata": {
            "tags": []
          },
          "execution_count": 274
        },
        {
          "output_type": "display_data",
          "data": {
            "image/png": "[encoded data removed]",
            "text/plain": [
              "<Figure size 720x720 with 1 Axes>"
            ]
          },
          "metadata": {
            "tags": []
          }
        }
      ]
    },
    {
      "cell_type": "code",
      "metadata": {
        "id": "ZH_Ml3L0_CQm",
        "colab_type": "code",
        "colab": {}
      },
      "source": [
        "df1 = pd.read_csv('/content/cartwheel.csv')\n",
        "df1['agegrp'] = pd.cut(df1['RIDAGEYR'], bins=[18, 30, 40, 50, 60, 70, 80])"
      ],
      "execution_count": 0,
      "outputs": []
    },
    {
      "cell_type": "code",
      "metadata": {
        "id": "PDYqh7SvCg9_",
        "colab_type": "code",
        "colab": {
          "base_uri": "https://localhost:8080/",
          "height": 226
        },
        "outputId": "c1830fe9-239b-4a5f-bd57-d6015c28663b"
      },
      "source": [
        "df1.head()"
      ],
      "execution_count": 280,
      "outputs": [
        {
          "output_type": "execute_result",
          "data": {
            "text/html": [
              "<div>\n",
              "<style scoped>\n",
              "    .dataframe tbody tr th:only-of-type {\n",
              "        vertical-align: middle;\n",
              "    }\n",
              "\n",
              "    .dataframe tbody tr th {\n",
              "        vertical-align: top;\n",
              "    }\n",
              "\n",
              "    .dataframe thead th {\n",
              "        text-align: right;\n",
              "    }\n",
              "</style>\n",
              "<table border=\"1\" class=\"dataframe\">\n",
              "  <thead>\n",
              "    <tr style=\"text-align: right;\">\n",
              "      <th></th>\n",
              "      <th>SEQN</th>\n",
              "      <th>ALQ101</th>\n",
              "      <th>ALQ110</th>\n",
              "      <th>ALQ130</th>\n",
              "      <th>SMQ020</th>\n",
              "      <th>RIAGENDR</th>\n",
              "      <th>RIDAGEYR</th>\n",
              "      <th>RIDRETH1</th>\n",
              "      <th>DMDCITZN</th>\n",
              "      <th>DMDEDUC2</th>\n",
              "      <th>DMDMARTL</th>\n",
              "      <th>DMDHHSIZ</th>\n",
              "      <th>WTINT2YR</th>\n",
              "      <th>SDMVPSU</th>\n",
              "      <th>SDMVSTRA</th>\n",
              "      <th>INDFMPIR</th>\n",
              "      <th>BPXSY1</th>\n",
              "      <th>BPXDI1</th>\n",
              "      <th>BPXSY2</th>\n",
              "      <th>BPXDI2</th>\n",
              "      <th>BMXWT</th>\n",
              "      <th>BMXHT</th>\n",
              "      <th>BMXBMI</th>\n",
              "      <th>BMXLEG</th>\n",
              "      <th>BMXARML</th>\n",
              "      <th>BMXARMC</th>\n",
              "      <th>BMXWAIST</th>\n",
              "      <th>HIQ210</th>\n",
              "      <th>agegrp</th>\n",
              "    </tr>\n",
              "  </thead>\n",
              "  <tbody>\n",
              "    <tr>\n",
              "      <th>0</th>\n",
              "      <td>83732</td>\n",
              "      <td>1.0</td>\n",
              "      <td>NaN</td>\n",
              "      <td>1.0</td>\n",
              "      <td>1</td>\n",
              "      <td>1</td>\n",
              "      <td>62</td>\n",
              "      <td>3</td>\n",
              "      <td>1.0</td>\n",
              "      <td>5.0</td>\n",
              "      <td>1.0</td>\n",
              "      <td>2</td>\n",
              "      <td>134671.37</td>\n",
              "      <td>1</td>\n",
              "      <td>125</td>\n",
              "      <td>4.39</td>\n",
              "      <td>128.0</td>\n",
              "      <td>70.0</td>\n",
              "      <td>124.0</td>\n",
              "      <td>64.0</td>\n",
              "      <td>94.8</td>\n",
              "      <td>184.5</td>\n",
              "      <td>27.8</td>\n",
              "      <td>43.3</td>\n",
              "      <td>43.6</td>\n",
              "      <td>35.9</td>\n",
              "      <td>101.1</td>\n",
              "      <td>2.0</td>\n",
              "      <td>(60, 70]</td>\n",
              "    </tr>\n",
              "    <tr>\n",
              "      <th>1</th>\n",
              "      <td>83733</td>\n",
              "      <td>1.0</td>\n",
              "      <td>NaN</td>\n",
              "      <td>6.0</td>\n",
              "      <td>1</td>\n",
              "      <td>1</td>\n",
              "      <td>53</td>\n",
              "      <td>3</td>\n",
              "      <td>2.0</td>\n",
              "      <td>3.0</td>\n",
              "      <td>3.0</td>\n",
              "      <td>1</td>\n",
              "      <td>24328.56</td>\n",
              "      <td>1</td>\n",
              "      <td>125</td>\n",
              "      <td>1.32</td>\n",
              "      <td>146.0</td>\n",
              "      <td>88.0</td>\n",
              "      <td>140.0</td>\n",
              "      <td>88.0</td>\n",
              "      <td>90.4</td>\n",
              "      <td>171.4</td>\n",
              "      <td>30.8</td>\n",
              "      <td>38.0</td>\n",
              "      <td>40.0</td>\n",
              "      <td>33.2</td>\n",
              "      <td>107.9</td>\n",
              "      <td>NaN</td>\n",
              "      <td>(50, 60]</td>\n",
              "    </tr>\n",
              "    <tr>\n",
              "      <th>2</th>\n",
              "      <td>83734</td>\n",
              "      <td>1.0</td>\n",
              "      <td>NaN</td>\n",
              "      <td>NaN</td>\n",
              "      <td>1</td>\n",
              "      <td>1</td>\n",
              "      <td>78</td>\n",
              "      <td>3</td>\n",
              "      <td>1.0</td>\n",
              "      <td>3.0</td>\n",
              "      <td>1.0</td>\n",
              "      <td>2</td>\n",
              "      <td>12400.01</td>\n",
              "      <td>1</td>\n",
              "      <td>131</td>\n",
              "      <td>1.51</td>\n",
              "      <td>138.0</td>\n",
              "      <td>46.0</td>\n",
              "      <td>132.0</td>\n",
              "      <td>44.0</td>\n",
              "      <td>83.4</td>\n",
              "      <td>170.1</td>\n",
              "      <td>28.8</td>\n",
              "      <td>35.6</td>\n",
              "      <td>37.0</td>\n",
              "      <td>31.0</td>\n",
              "      <td>116.5</td>\n",
              "      <td>2.0</td>\n",
              "      <td>(70, 80]</td>\n",
              "    </tr>\n",
              "    <tr>\n",
              "      <th>3</th>\n",
              "      <td>83735</td>\n",
              "      <td>2.0</td>\n",
              "      <td>1.0</td>\n",
              "      <td>1.0</td>\n",
              "      <td>2</td>\n",
              "      <td>2</td>\n",
              "      <td>56</td>\n",
              "      <td>3</td>\n",
              "      <td>1.0</td>\n",
              "      <td>5.0</td>\n",
              "      <td>6.0</td>\n",
              "      <td>1</td>\n",
              "      <td>102718.00</td>\n",
              "      <td>1</td>\n",
              "      <td>131</td>\n",
              "      <td>5.00</td>\n",
              "      <td>132.0</td>\n",
              "      <td>72.0</td>\n",
              "      <td>134.0</td>\n",
              "      <td>68.0</td>\n",
              "      <td>109.8</td>\n",
              "      <td>160.9</td>\n",
              "      <td>42.4</td>\n",
              "      <td>38.5</td>\n",
              "      <td>37.7</td>\n",
              "      <td>38.3</td>\n",
              "      <td>110.1</td>\n",
              "      <td>2.0</td>\n",
              "      <td>(50, 60]</td>\n",
              "    </tr>\n",
              "    <tr>\n",
              "      <th>4</th>\n",
              "      <td>83736</td>\n",
              "      <td>2.0</td>\n",
              "      <td>1.0</td>\n",
              "      <td>1.0</td>\n",
              "      <td>2</td>\n",
              "      <td>2</td>\n",
              "      <td>42</td>\n",
              "      <td>4</td>\n",
              "      <td>1.0</td>\n",
              "      <td>4.0</td>\n",
              "      <td>3.0</td>\n",
              "      <td>5</td>\n",
              "      <td>17627.67</td>\n",
              "      <td>2</td>\n",
              "      <td>126</td>\n",
              "      <td>1.23</td>\n",
              "      <td>100.0</td>\n",
              "      <td>70.0</td>\n",
              "      <td>114.0</td>\n",
              "      <td>54.0</td>\n",
              "      <td>55.2</td>\n",
              "      <td>164.9</td>\n",
              "      <td>20.3</td>\n",
              "      <td>37.4</td>\n",
              "      <td>36.0</td>\n",
              "      <td>27.2</td>\n",
              "      <td>80.4</td>\n",
              "      <td>2.0</td>\n",
              "      <td>(40, 50]</td>\n",
              "    </tr>\n",
              "  </tbody>\n",
              "</table>\n",
              "</div>"
            ],
            "text/plain": [
              "    SEQN  ALQ101  ALQ110  ALQ130  ...  BMXARMC  BMXWAIST  HIQ210    agegrp\n",
              "0  83732     1.0     NaN     1.0  ...     35.9     101.1     2.0  (60, 70]\n",
              "1  83733     1.0     NaN     6.0  ...     33.2     107.9     NaN  (50, 60]\n",
              "2  83734     1.0     NaN     NaN  ...     31.0     116.5     2.0  (70, 80]\n",
              "3  83735     2.0     1.0     1.0  ...     38.3     110.1     2.0  (50, 60]\n",
              "4  83736     2.0     1.0     1.0  ...     27.2      80.4     2.0  (40, 50]\n",
              "\n",
              "[5 rows x 29 columns]"
            ]
          },
          "metadata": {
            "tags": []
          },
          "execution_count": 280
        }
      ]
    },
    {
      "cell_type": "code",
      "metadata": {
        "id": "FKnlv1TSCiLB",
        "colab_type": "code",
        "colab": {}
      },
      "source": [
        "df1['RIAGENDRx'] = df1['RIAGENDR'].replace({1:'Male', 2:'Female'})\n"
      ],
      "execution_count": 0,
      "outputs": []
    },
    {
      "cell_type": "code",
      "metadata": {
        "id": "xLepKGZoDYks",
        "colab_type": "code",
        "colab": {
          "base_uri": "https://localhost:8080/",
          "height": 206
        },
        "outputId": "c9609e65-9e69-448d-f618-3e122282983d"
      },
      "source": [
        "df1 = df1[['RIAGENDRx','BMXBMI', 'agegrp']]\n",
        "df1.head()"
      ],
      "execution_count": 283,
      "outputs": [
        {
          "output_type": "execute_result",
          "data": {
            "text/html": [
              "<div>\n",
              "<style scoped>\n",
              "    .dataframe tbody tr th:only-of-type {\n",
              "        vertical-align: middle;\n",
              "    }\n",
              "\n",
              "    .dataframe tbody tr th {\n",
              "        vertical-align: top;\n",
              "    }\n",
              "\n",
              "    .dataframe thead th {\n",
              "        text-align: right;\n",
              "    }\n",
              "</style>\n",
              "<table border=\"1\" class=\"dataframe\">\n",
              "  <thead>\n",
              "    <tr style=\"text-align: right;\">\n",
              "      <th></th>\n",
              "      <th>RIAGENDRx</th>\n",
              "      <th>BMXBMI</th>\n",
              "      <th>agegrp</th>\n",
              "    </tr>\n",
              "  </thead>\n",
              "  <tbody>\n",
              "    <tr>\n",
              "      <th>0</th>\n",
              "      <td>Male</td>\n",
              "      <td>27.8</td>\n",
              "      <td>(60, 70]</td>\n",
              "    </tr>\n",
              "    <tr>\n",
              "      <th>1</th>\n",
              "      <td>Male</td>\n",
              "      <td>30.8</td>\n",
              "      <td>(50, 60]</td>\n",
              "    </tr>\n",
              "    <tr>\n",
              "      <th>2</th>\n",
              "      <td>Male</td>\n",
              "      <td>28.8</td>\n",
              "      <td>(70, 80]</td>\n",
              "    </tr>\n",
              "    <tr>\n",
              "      <th>3</th>\n",
              "      <td>Female</td>\n",
              "      <td>42.4</td>\n",
              "      <td>(50, 60]</td>\n",
              "    </tr>\n",
              "    <tr>\n",
              "      <th>4</th>\n",
              "      <td>Female</td>\n",
              "      <td>20.3</td>\n",
              "      <td>(40, 50]</td>\n",
              "    </tr>\n",
              "  </tbody>\n",
              "</table>\n",
              "</div>"
            ],
            "text/plain": [
              "  RIAGENDRx  BMXBMI    agegrp\n",
              "0      Male    27.8  (60, 70]\n",
              "1      Male    30.8  (50, 60]\n",
              "2      Male    28.8  (70, 80]\n",
              "3    Female    42.4  (50, 60]\n",
              "4    Female    20.3  (40, 50]"
            ]
          },
          "metadata": {
            "tags": []
          },
          "execution_count": 283
        }
      ]
    },
    {
      "cell_type": "code",
      "metadata": {
        "id": "IxL2vY-DDvJJ",
        "colab_type": "code",
        "colab": {}
      },
      "source": [
        "new_df1 = df1.groupby(['agegrp','RIAGENDRx']).aggregate(np.mean).unstack()\n",
        "#result = new_df.groupby(['Genre'])['Danceability'].aggregate(np.mean).reset_index().sort_values('Danceability')\n"
      ],
      "execution_count": 0,
      "outputs": []
    },
    {
      "cell_type": "code",
      "metadata": {
        "colab_type": "code",
        "id": "Z6b9XaGeEEqC",
        "colab": {
          "base_uri": "https://localhost:8080/",
          "height": 269
        },
        "outputId": "017d1519-7706-405d-8220-7e509eca4584"
      },
      "source": [
        "\n",
        "new_df1.columns=['Female', 'Male']\n",
        "new_df1"
      ],
      "execution_count": 291,
      "outputs": [
        {
          "output_type": "execute_result",
          "data": {
            "text/html": [
              "<div>\n",
              "<style scoped>\n",
              "    .dataframe tbody tr th:only-of-type {\n",
              "        vertical-align: middle;\n",
              "    }\n",
              "\n",
              "    .dataframe tbody tr th {\n",
              "        vertical-align: top;\n",
              "    }\n",
              "\n",
              "    .dataframe thead th {\n",
              "        text-align: right;\n",
              "    }\n",
              "</style>\n",
              "<table border=\"1\" class=\"dataframe\">\n",
              "  <thead>\n",
              "    <tr style=\"text-align: right;\">\n",
              "      <th></th>\n",
              "      <th>Female</th>\n",
              "      <th>Male</th>\n",
              "    </tr>\n",
              "    <tr>\n",
              "      <th>agegrp</th>\n",
              "      <th></th>\n",
              "      <th></th>\n",
              "    </tr>\n",
              "  </thead>\n",
              "  <tbody>\n",
              "    <tr>\n",
              "      <th>(18, 30]</th>\n",
              "      <td>28.123881</td>\n",
              "      <td>27.391822</td>\n",
              "    </tr>\n",
              "    <tr>\n",
              "      <th>(30, 40]</th>\n",
              "      <td>30.325586</td>\n",
              "      <td>29.611726</td>\n",
              "    </tr>\n",
              "    <tr>\n",
              "      <th>(40, 50]</th>\n",
              "      <td>31.160643</td>\n",
              "      <td>29.724623</td>\n",
              "    </tr>\n",
              "    <tr>\n",
              "      <th>(50, 60]</th>\n",
              "      <td>30.743777</td>\n",
              "      <td>29.231486</td>\n",
              "    </tr>\n",
              "    <tr>\n",
              "      <th>(60, 70]</th>\n",
              "      <td>31.074828</td>\n",
              "      <td>29.392488</td>\n",
              "    </tr>\n",
              "    <tr>\n",
              "      <th>(70, 80]</th>\n",
              "      <td>29.138213</td>\n",
              "      <td>27.957692</td>\n",
              "    </tr>\n",
              "  </tbody>\n",
              "</table>\n",
              "</div>"
            ],
            "text/plain": [
              "             Female       Male\n",
              "agegrp                        \n",
              "(18, 30]  28.123881  27.391822\n",
              "(30, 40]  30.325586  29.611726\n",
              "(40, 50]  31.160643  29.724623\n",
              "(50, 60]  30.743777  29.231486\n",
              "(60, 70]  31.074828  29.392488\n",
              "(70, 80]  29.138213  27.957692"
            ]
          },
          "metadata": {
            "tags": []
          },
          "execution_count": 291
        }
      ]
    },
    {
      "cell_type": "code",
      "metadata": {
        "id": "TRIlzD14EcbS",
        "colab_type": "code",
        "colab": {}
      },
      "source": [
        ""
      ],
      "execution_count": 0,
      "outputs": []
    },
    {
      "cell_type": "code",
      "metadata": {
        "id": "8-Mh18OVE_IW",
        "colab_type": "code",
        "colab": {
          "base_uri": "https://localhost:8080/",
          "height": 269
        },
        "outputId": "4f0e17b6-75fb-41bf-b574-074e055d1c5c"
      },
      "source": [
        "new_df1_point_diff = pd.DataFrame(new_df1['Female']-new_df1['Male'])\n",
        "new_df1_point_diff.columns=['Point_Estimate']\n",
        "new_df1_point_diff"
      ],
      "execution_count": 294,
      "outputs": [
        {
          "output_type": "execute_result",
          "data": {
            "text/html": [
              "<div>\n",
              "<style scoped>\n",
              "    .dataframe tbody tr th:only-of-type {\n",
              "        vertical-align: middle;\n",
              "    }\n",
              "\n",
              "    .dataframe tbody tr th {\n",
              "        vertical-align: top;\n",
              "    }\n",
              "\n",
              "    .dataframe thead th {\n",
              "        text-align: right;\n",
              "    }\n",
              "</style>\n",
              "<table border=\"1\" class=\"dataframe\">\n",
              "  <thead>\n",
              "    <tr style=\"text-align: right;\">\n",
              "      <th></th>\n",
              "      <th>Point_Estimate</th>\n",
              "    </tr>\n",
              "    <tr>\n",
              "      <th>agegrp</th>\n",
              "      <th></th>\n",
              "    </tr>\n",
              "  </thead>\n",
              "  <tbody>\n",
              "    <tr>\n",
              "      <th>(18, 30]</th>\n",
              "      <td>0.732059</td>\n",
              "    </tr>\n",
              "    <tr>\n",
              "      <th>(30, 40]</th>\n",
              "      <td>0.713861</td>\n",
              "    </tr>\n",
              "    <tr>\n",
              "      <th>(40, 50]</th>\n",
              "      <td>1.436019</td>\n",
              "    </tr>\n",
              "    <tr>\n",
              "      <th>(50, 60]</th>\n",
              "      <td>1.512291</td>\n",
              "    </tr>\n",
              "    <tr>\n",
              "      <th>(60, 70]</th>\n",
              "      <td>1.682340</td>\n",
              "    </tr>\n",
              "    <tr>\n",
              "      <th>(70, 80]</th>\n",
              "      <td>1.180521</td>\n",
              "    </tr>\n",
              "  </tbody>\n",
              "</table>\n",
              "</div>"
            ],
            "text/plain": [
              "          Point_Estimate\n",
              "agegrp                  \n",
              "(18, 30]        0.732059\n",
              "(30, 40]        0.713861\n",
              "(40, 50]        1.436019\n",
              "(50, 60]        1.512291\n",
              "(60, 70]        1.682340\n",
              "(70, 80]        1.180521"
            ]
          },
          "metadata": {
            "tags": []
          },
          "execution_count": 294
        }
      ]
    },
    {
      "cell_type": "code",
      "metadata": {
        "id": "S0CJAQuqFCPW",
        "colab_type": "code",
        "colab": {}
      },
      "source": [
        "new_df2 = df1.groupby(['agegrp','RIAGENDRx']).aggregate(np.std).unstack()"
      ],
      "execution_count": 0,
      "outputs": []
    },
    {
      "cell_type": "code",
      "metadata": {
        "id": "mVaXCxAdHu40",
        "colab_type": "code",
        "colab": {
          "base_uri": "https://localhost:8080/",
          "height": 269
        },
        "outputId": "33babf1e-9855-4dca-a1a0-c7627dc628a2"
      },
      "source": [
        "new_df2.columns=['Female', 'Male']\n",
        "new_df2"
      ],
      "execution_count": 299,
      "outputs": [
        {
          "output_type": "execute_result",
          "data": {
            "text/html": [
              "<div>\n",
              "<style scoped>\n",
              "    .dataframe tbody tr th:only-of-type {\n",
              "        vertical-align: middle;\n",
              "    }\n",
              "\n",
              "    .dataframe tbody tr th {\n",
              "        vertical-align: top;\n",
              "    }\n",
              "\n",
              "    .dataframe thead th {\n",
              "        text-align: right;\n",
              "    }\n",
              "</style>\n",
              "<table border=\"1\" class=\"dataframe\">\n",
              "  <thead>\n",
              "    <tr style=\"text-align: right;\">\n",
              "      <th></th>\n",
              "      <th>Female</th>\n",
              "      <th>Male</th>\n",
              "    </tr>\n",
              "    <tr>\n",
              "      <th>agegrp</th>\n",
              "      <th></th>\n",
              "      <th></th>\n",
              "    </tr>\n",
              "  </thead>\n",
              "  <tbody>\n",
              "    <tr>\n",
              "      <th>(18, 30]</th>\n",
              "      <td>7.745893</td>\n",
              "      <td>6.649440</td>\n",
              "    </tr>\n",
              "    <tr>\n",
              "      <th>(30, 40]</th>\n",
              "      <td>8.315608</td>\n",
              "      <td>6.622412</td>\n",
              "    </tr>\n",
              "    <tr>\n",
              "      <th>(40, 50]</th>\n",
              "      <td>8.076195</td>\n",
              "      <td>6.407076</td>\n",
              "    </tr>\n",
              "    <tr>\n",
              "      <th>(50, 60]</th>\n",
              "      <td>7.575848</td>\n",
              "      <td>5.914373</td>\n",
              "    </tr>\n",
              "    <tr>\n",
              "      <th>(60, 70]</th>\n",
              "      <td>7.604514</td>\n",
              "      <td>5.933307</td>\n",
              "    </tr>\n",
              "    <tr>\n",
              "      <th>(70, 80]</th>\n",
              "      <td>6.284968</td>\n",
              "      <td>4.974855</td>\n",
              "    </tr>\n",
              "  </tbody>\n",
              "</table>\n",
              "</div>"
            ],
            "text/plain": [
              "            Female      Male\n",
              "agegrp                      \n",
              "(18, 30]  7.745893  6.649440\n",
              "(30, 40]  8.315608  6.622412\n",
              "(40, 50]  8.076195  6.407076\n",
              "(50, 60]  7.575848  5.914373\n",
              "(60, 70]  7.604514  5.933307\n",
              "(70, 80]  6.284968  4.974855"
            ]
          },
          "metadata": {
            "tags": []
          },
          "execution_count": 299
        }
      ]
    },
    {
      "cell_type": "code",
      "metadata": {
        "id": "bEIKo9MWH2kF",
        "colab_type": "code",
        "colab": {}
      },
      "source": [
        "new_df3= df1.groupby([\"agegrp\", \"RIAGENDRx\"]).agg({\"BMXBMI\": np.size}).unstack()"
      ],
      "execution_count": 0,
      "outputs": []
    },
    {
      "cell_type": "code",
      "metadata": {
        "id": "Oghmn3zmIIDl",
        "colab_type": "code",
        "colab": {}
      },
      "source": [
        "new_df3.columns=['Female','Male']"
      ],
      "execution_count": 0,
      "outputs": []
    },
    {
      "cell_type": "code",
      "metadata": {
        "id": "HiAH-TfYJQHi",
        "colab_type": "code",
        "colab": {
          "base_uri": "https://localhost:8080/",
          "height": 269
        },
        "outputId": "edccaa3b-d7a2-40be-b740-e624fc213cfc"
      },
      "source": [
        "new_df2=np.square(new_df2)/new_df3\n",
        "new_df2"
      ],
      "execution_count": 310,
      "outputs": [
        {
          "output_type": "execute_result",
          "data": {
            "text/html": [
              "<div>\n",
              "<style scoped>\n",
              "    .dataframe tbody tr th:only-of-type {\n",
              "        vertical-align: middle;\n",
              "    }\n",
              "\n",
              "    .dataframe tbody tr th {\n",
              "        vertical-align: top;\n",
              "    }\n",
              "\n",
              "    .dataframe thead th {\n",
              "        text-align: right;\n",
              "    }\n",
              "</style>\n",
              "<table border=\"1\" class=\"dataframe\">\n",
              "  <thead>\n",
              "    <tr style=\"text-align: right;\">\n",
              "      <th></th>\n",
              "      <th>Female</th>\n",
              "      <th>Male</th>\n",
              "    </tr>\n",
              "    <tr>\n",
              "      <th>agegrp</th>\n",
              "      <th></th>\n",
              "      <th></th>\n",
              "    </tr>\n",
              "  </thead>\n",
              "  <tbody>\n",
              "    <tr>\n",
              "      <th>(18, 30]</th>\n",
              "      <td>0.098520</td>\n",
              "      <td>0.081278</td>\n",
              "    </tr>\n",
              "    <tr>\n",
              "      <th>(30, 40]</th>\n",
              "      <td>0.145885</td>\n",
              "      <td>0.095756</td>\n",
              "    </tr>\n",
              "    <tr>\n",
              "      <th>(40, 50]</th>\n",
              "      <td>0.129930</td>\n",
              "      <td>0.102371</td>\n",
              "    </tr>\n",
              "    <tr>\n",
              "      <th>(50, 60]</th>\n",
              "      <td>0.122114</td>\n",
              "      <td>0.077048</td>\n",
              "    </tr>\n",
              "    <tr>\n",
              "      <th>(60, 70]</th>\n",
              "      <td>0.131131</td>\n",
              "      <td>0.080559</td>\n",
              "    </tr>\n",
              "    <tr>\n",
              "      <th>(70, 80]</th>\n",
              "      <td>0.096343</td>\n",
              "      <td>0.061565</td>\n",
              "    </tr>\n",
              "  </tbody>\n",
              "</table>\n",
              "</div>"
            ],
            "text/plain": [
              "            Female      Male\n",
              "agegrp                      \n",
              "(18, 30]  0.098520  0.081278\n",
              "(30, 40]  0.145885  0.095756\n",
              "(40, 50]  0.129930  0.102371\n",
              "(50, 60]  0.122114  0.077048\n",
              "(60, 70]  0.131131  0.080559\n",
              "(70, 80]  0.096343  0.061565"
            ]
          },
          "metadata": {
            "tags": []
          },
          "execution_count": 310
        }
      ]
    },
    {
      "cell_type": "code",
      "metadata": {
        "id": "BVGEj8okKkgM",
        "colab_type": "code",
        "colab": {}
      },
      "source": [
        "new_df4 = pd.DataFrame(new_df2['Female']+new_df2['Male'])\n",
        "new_df4.columns=['sum']"
      ],
      "execution_count": 0,
      "outputs": []
    },
    {
      "cell_type": "code",
      "metadata": {
        "id": "ld0f2k5dLaAt",
        "colab_type": "code",
        "colab": {
          "base_uri": "https://localhost:8080/",
          "height": 269
        },
        "outputId": "17db6e41-5345-4ca7-94ba-6e93eb872690"
      },
      "source": [
        "new_df4"
      ],
      "execution_count": 312,
      "outputs": [
        {
          "output_type": "execute_result",
          "data": {
            "text/html": [
              "<div>\n",
              "<style scoped>\n",
              "    .dataframe tbody tr th:only-of-type {\n",
              "        vertical-align: middle;\n",
              "    }\n",
              "\n",
              "    .dataframe tbody tr th {\n",
              "        vertical-align: top;\n",
              "    }\n",
              "\n",
              "    .dataframe thead th {\n",
              "        text-align: right;\n",
              "    }\n",
              "</style>\n",
              "<table border=\"1\" class=\"dataframe\">\n",
              "  <thead>\n",
              "    <tr style=\"text-align: right;\">\n",
              "      <th></th>\n",
              "      <th>sum</th>\n",
              "    </tr>\n",
              "    <tr>\n",
              "      <th>agegrp</th>\n",
              "      <th></th>\n",
              "    </tr>\n",
              "  </thead>\n",
              "  <tbody>\n",
              "    <tr>\n",
              "      <th>(18, 30]</th>\n",
              "      <td>0.179798</td>\n",
              "    </tr>\n",
              "    <tr>\n",
              "      <th>(30, 40]</th>\n",
              "      <td>0.241641</td>\n",
              "    </tr>\n",
              "    <tr>\n",
              "      <th>(40, 50]</th>\n",
              "      <td>0.232301</td>\n",
              "    </tr>\n",
              "    <tr>\n",
              "      <th>(50, 60]</th>\n",
              "      <td>0.199162</td>\n",
              "    </tr>\n",
              "    <tr>\n",
              "      <th>(60, 70]</th>\n",
              "      <td>0.211689</td>\n",
              "    </tr>\n",
              "    <tr>\n",
              "      <th>(70, 80]</th>\n",
              "      <td>0.157909</td>\n",
              "    </tr>\n",
              "  </tbody>\n",
              "</table>\n",
              "</div>"
            ],
            "text/plain": [
              "               sum\n",
              "agegrp            \n",
              "(18, 30]  0.179798\n",
              "(30, 40]  0.241641\n",
              "(40, 50]  0.232301\n",
              "(50, 60]  0.199162\n",
              "(60, 70]  0.211689\n",
              "(70, 80]  0.157909"
            ]
          },
          "metadata": {
            "tags": []
          },
          "execution_count": 312
        }
      ]
    },
    {
      "cell_type": "code",
      "metadata": {
        "id": "9twfQxtKLbAA",
        "colab_type": "code",
        "colab": {}
      },
      "source": [
        "m_o_e=1.96*np.sqrt(new_df4)"
      ],
      "execution_count": 0,
      "outputs": []
    },
    {
      "cell_type": "code",
      "metadata": {
        "id": "fG06YhClLlTI",
        "colab_type": "code",
        "colab": {
          "base_uri": "https://localhost:8080/",
          "height": 269
        },
        "outputId": "7fd412b6-89dc-4fad-cb65-1067b2ac0a5d"
      },
      "source": [
        "m_o_e"
      ],
      "execution_count": 314,
      "outputs": [
        {
          "output_type": "execute_result",
          "data": {
            "text/html": [
              "<div>\n",
              "<style scoped>\n",
              "    .dataframe tbody tr th:only-of-type {\n",
              "        vertical-align: middle;\n",
              "    }\n",
              "\n",
              "    .dataframe tbody tr th {\n",
              "        vertical-align: top;\n",
              "    }\n",
              "\n",
              "    .dataframe thead th {\n",
              "        text-align: right;\n",
              "    }\n",
              "</style>\n",
              "<table border=\"1\" class=\"dataframe\">\n",
              "  <thead>\n",
              "    <tr style=\"text-align: right;\">\n",
              "      <th></th>\n",
              "      <th>sum</th>\n",
              "    </tr>\n",
              "    <tr>\n",
              "      <th>agegrp</th>\n",
              "      <th></th>\n",
              "    </tr>\n",
              "  </thead>\n",
              "  <tbody>\n",
              "    <tr>\n",
              "      <th>(18, 30]</th>\n",
              "      <td>0.831091</td>\n",
              "    </tr>\n",
              "    <tr>\n",
              "      <th>(30, 40]</th>\n",
              "      <td>0.963477</td>\n",
              "    </tr>\n",
              "    <tr>\n",
              "      <th>(40, 50]</th>\n",
              "      <td>0.944673</td>\n",
              "    </tr>\n",
              "    <tr>\n",
              "      <th>(50, 60]</th>\n",
              "      <td>0.874700</td>\n",
              "    </tr>\n",
              "    <tr>\n",
              "      <th>(60, 70]</th>\n",
              "      <td>0.901790</td>\n",
              "    </tr>\n",
              "    <tr>\n",
              "      <th>(70, 80]</th>\n",
              "      <td>0.778859</td>\n",
              "    </tr>\n",
              "  </tbody>\n",
              "</table>\n",
              "</div>"
            ],
            "text/plain": [
              "               sum\n",
              "agegrp            \n",
              "(18, 30]  0.831091\n",
              "(30, 40]  0.963477\n",
              "(40, 50]  0.944673\n",
              "(50, 60]  0.874700\n",
              "(60, 70]  0.901790\n",
              "(70, 80]  0.778859"
            ]
          },
          "metadata": {
            "tags": []
          },
          "execution_count": 314
        }
      ]
    },
    {
      "cell_type": "code",
      "metadata": {
        "id": "btxIl2pgLmoh",
        "colab_type": "code",
        "colab": {
          "base_uri": "https://localhost:8080/",
          "height": 269
        },
        "outputId": "b16d9553-bd73-4326-bab8-c0e53e468b7f"
      },
      "source": [
        "new_df1_point_diff.columns=['sum']\n",
        "new_df1_point_diff"
      ],
      "execution_count": 316,
      "outputs": [
        {
          "output_type": "execute_result",
          "data": {
            "text/html": [
              "<div>\n",
              "<style scoped>\n",
              "    .dataframe tbody tr th:only-of-type {\n",
              "        vertical-align: middle;\n",
              "    }\n",
              "\n",
              "    .dataframe tbody tr th {\n",
              "        vertical-align: top;\n",
              "    }\n",
              "\n",
              "    .dataframe thead th {\n",
              "        text-align: right;\n",
              "    }\n",
              "</style>\n",
              "<table border=\"1\" class=\"dataframe\">\n",
              "  <thead>\n",
              "    <tr style=\"text-align: right;\">\n",
              "      <th></th>\n",
              "      <th>sum</th>\n",
              "    </tr>\n",
              "    <tr>\n",
              "      <th>agegrp</th>\n",
              "      <th></th>\n",
              "    </tr>\n",
              "  </thead>\n",
              "  <tbody>\n",
              "    <tr>\n",
              "      <th>(18, 30]</th>\n",
              "      <td>0.732059</td>\n",
              "    </tr>\n",
              "    <tr>\n",
              "      <th>(30, 40]</th>\n",
              "      <td>0.713861</td>\n",
              "    </tr>\n",
              "    <tr>\n",
              "      <th>(40, 50]</th>\n",
              "      <td>1.436019</td>\n",
              "    </tr>\n",
              "    <tr>\n",
              "      <th>(50, 60]</th>\n",
              "      <td>1.512291</td>\n",
              "    </tr>\n",
              "    <tr>\n",
              "      <th>(60, 70]</th>\n",
              "      <td>1.682340</td>\n",
              "    </tr>\n",
              "    <tr>\n",
              "      <th>(70, 80]</th>\n",
              "      <td>1.180521</td>\n",
              "    </tr>\n",
              "  </tbody>\n",
              "</table>\n",
              "</div>"
            ],
            "text/plain": [
              "               sum\n",
              "agegrp            \n",
              "(18, 30]  0.732059\n",
              "(30, 40]  0.713861\n",
              "(40, 50]  1.436019\n",
              "(50, 60]  1.512291\n",
              "(60, 70]  1.682340\n",
              "(70, 80]  1.180521"
            ]
          },
          "metadata": {
            "tags": []
          },
          "execution_count": 316
        }
      ]
    },
    {
      "cell_type": "code",
      "metadata": {
        "id": "cvdRfyDnLum5",
        "colab_type": "code",
        "colab": {}
      },
      "source": [
        "conint_lcb_bmi=new_df1_point_diff-m_o_e\n",
        "conint_ucb_bmi=new_df1_point_diff+m_o_e"
      ],
      "execution_count": 0,
      "outputs": []
    },
    {
      "cell_type": "code",
      "metadata": {
        "id": "-AEudFZTMChe",
        "colab_type": "code",
        "colab": {
          "base_uri": "https://localhost:8080/",
          "height": 269
        },
        "outputId": "4cbe0943-0909-45e4-9a7b-add010009b31"
      },
      "source": [
        "conint_lcb_bmi.columns=['lcb']\n",
        "conint_lcb_bmi"
      ],
      "execution_count": 321,
      "outputs": [
        {
          "output_type": "execute_result",
          "data": {
            "text/html": [
              "<div>\n",
              "<style scoped>\n",
              "    .dataframe tbody tr th:only-of-type {\n",
              "        vertical-align: middle;\n",
              "    }\n",
              "\n",
              "    .dataframe tbody tr th {\n",
              "        vertical-align: top;\n",
              "    }\n",
              "\n",
              "    .dataframe thead th {\n",
              "        text-align: right;\n",
              "    }\n",
              "</style>\n",
              "<table border=\"1\" class=\"dataframe\">\n",
              "  <thead>\n",
              "    <tr style=\"text-align: right;\">\n",
              "      <th></th>\n",
              "      <th>lcb</th>\n",
              "    </tr>\n",
              "    <tr>\n",
              "      <th>agegrp</th>\n",
              "      <th></th>\n",
              "    </tr>\n",
              "  </thead>\n",
              "  <tbody>\n",
              "    <tr>\n",
              "      <th>(18, 30]</th>\n",
              "      <td>-0.099032</td>\n",
              "    </tr>\n",
              "    <tr>\n",
              "      <th>(30, 40]</th>\n",
              "      <td>-0.249616</td>\n",
              "    </tr>\n",
              "    <tr>\n",
              "      <th>(40, 50]</th>\n",
              "      <td>0.491347</td>\n",
              "    </tr>\n",
              "    <tr>\n",
              "      <th>(50, 60]</th>\n",
              "      <td>0.637591</td>\n",
              "    </tr>\n",
              "    <tr>\n",
              "      <th>(60, 70]</th>\n",
              "      <td>0.780550</td>\n",
              "    </tr>\n",
              "    <tr>\n",
              "      <th>(70, 80]</th>\n",
              "      <td>0.401662</td>\n",
              "    </tr>\n",
              "  </tbody>\n",
              "</table>\n",
              "</div>"
            ],
            "text/plain": [
              "               lcb\n",
              "agegrp            \n",
              "(18, 30] -0.099032\n",
              "(30, 40] -0.249616\n",
              "(40, 50]  0.491347\n",
              "(50, 60]  0.637591\n",
              "(60, 70]  0.780550\n",
              "(70, 80]  0.401662"
            ]
          },
          "metadata": {
            "tags": []
          },
          "execution_count": 321
        }
      ]
    },
    {
      "cell_type": "code",
      "metadata": {
        "id": "JT4TU8x2MEP_",
        "colab_type": "code",
        "colab": {
          "base_uri": "https://localhost:8080/",
          "height": 269
        },
        "outputId": "2254f51e-2f44-4916-ec34-23d5ca72efda"
      },
      "source": [
        "conint_ucb_bmi.columns=['ucb']\n",
        "conint_ucb_bmi"
      ],
      "execution_count": 322,
      "outputs": [
        {
          "output_type": "execute_result",
          "data": {
            "text/html": [
              "<div>\n",
              "<style scoped>\n",
              "    .dataframe tbody tr th:only-of-type {\n",
              "        vertical-align: middle;\n",
              "    }\n",
              "\n",
              "    .dataframe tbody tr th {\n",
              "        vertical-align: top;\n",
              "    }\n",
              "\n",
              "    .dataframe thead th {\n",
              "        text-align: right;\n",
              "    }\n",
              "</style>\n",
              "<table border=\"1\" class=\"dataframe\">\n",
              "  <thead>\n",
              "    <tr style=\"text-align: right;\">\n",
              "      <th></th>\n",
              "      <th>ucb</th>\n",
              "    </tr>\n",
              "    <tr>\n",
              "      <th>agegrp</th>\n",
              "      <th></th>\n",
              "    </tr>\n",
              "  </thead>\n",
              "  <tbody>\n",
              "    <tr>\n",
              "      <th>(18, 30]</th>\n",
              "      <td>1.563150</td>\n",
              "    </tr>\n",
              "    <tr>\n",
              "      <th>(30, 40]</th>\n",
              "      <td>1.677338</td>\n",
              "    </tr>\n",
              "    <tr>\n",
              "      <th>(40, 50]</th>\n",
              "      <td>2.380692</td>\n",
              "    </tr>\n",
              "    <tr>\n",
              "      <th>(50, 60]</th>\n",
              "      <td>2.386991</td>\n",
              "    </tr>\n",
              "    <tr>\n",
              "      <th>(60, 70]</th>\n",
              "      <td>2.584130</td>\n",
              "    </tr>\n",
              "    <tr>\n",
              "      <th>(70, 80]</th>\n",
              "      <td>1.959380</td>\n",
              "    </tr>\n",
              "  </tbody>\n",
              "</table>\n",
              "</div>"
            ],
            "text/plain": [
              "               ucb\n",
              "agegrp            \n",
              "(18, 30]  1.563150\n",
              "(30, 40]  1.677338\n",
              "(40, 50]  2.380692\n",
              "(50, 60]  2.386991\n",
              "(60, 70]  2.584130\n",
              "(70, 80]  1.959380"
            ]
          },
          "metadata": {
            "tags": []
          },
          "execution_count": 322
        }
      ]
    },
    {
      "cell_type": "code",
      "metadata": {
        "id": "IALDkhrcMG3X",
        "colab_type": "code",
        "colab": {
          "base_uri": "https://localhost:8080/",
          "height": 269
        },
        "outputId": "100530e3-f044-4b47-9f0d-cb8a91bc3110"
      },
      "source": [
        "df_lcb_ucb_bmi=conint_lcb_bmi.merge(conint_ucb_bmi, on=['agegrp'])\n",
        "df_lcb_ucb_bmi"
      ],
      "execution_count": 323,
      "outputs": [
        {
          "output_type": "execute_result",
          "data": {
            "text/html": [
              "<div>\n",
              "<style scoped>\n",
              "    .dataframe tbody tr th:only-of-type {\n",
              "        vertical-align: middle;\n",
              "    }\n",
              "\n",
              "    .dataframe tbody tr th {\n",
              "        vertical-align: top;\n",
              "    }\n",
              "\n",
              "    .dataframe thead th {\n",
              "        text-align: right;\n",
              "    }\n",
              "</style>\n",
              "<table border=\"1\" class=\"dataframe\">\n",
              "  <thead>\n",
              "    <tr style=\"text-align: right;\">\n",
              "      <th></th>\n",
              "      <th>lcb</th>\n",
              "      <th>ucb</th>\n",
              "    </tr>\n",
              "    <tr>\n",
              "      <th>agegrp</th>\n",
              "      <th></th>\n",
              "      <th></th>\n",
              "    </tr>\n",
              "  </thead>\n",
              "  <tbody>\n",
              "    <tr>\n",
              "      <th>(18, 30]</th>\n",
              "      <td>-0.099032</td>\n",
              "      <td>1.563150</td>\n",
              "    </tr>\n",
              "    <tr>\n",
              "      <th>(30, 40]</th>\n",
              "      <td>-0.249616</td>\n",
              "      <td>1.677338</td>\n",
              "    </tr>\n",
              "    <tr>\n",
              "      <th>(40, 50]</th>\n",
              "      <td>0.491347</td>\n",
              "      <td>2.380692</td>\n",
              "    </tr>\n",
              "    <tr>\n",
              "      <th>(50, 60]</th>\n",
              "      <td>0.637591</td>\n",
              "      <td>2.386991</td>\n",
              "    </tr>\n",
              "    <tr>\n",
              "      <th>(60, 70]</th>\n",
              "      <td>0.780550</td>\n",
              "      <td>2.584130</td>\n",
              "    </tr>\n",
              "    <tr>\n",
              "      <th>(70, 80]</th>\n",
              "      <td>0.401662</td>\n",
              "      <td>1.959380</td>\n",
              "    </tr>\n",
              "  </tbody>\n",
              "</table>\n",
              "</div>"
            ],
            "text/plain": [
              "               lcb       ucb\n",
              "agegrp                      \n",
              "(18, 30] -0.099032  1.563150\n",
              "(30, 40] -0.249616  1.677338\n",
              "(40, 50]  0.491347  2.380692\n",
              "(50, 60]  0.637591  2.386991\n",
              "(60, 70]  0.780550  2.584130\n",
              "(70, 80]  0.401662  1.959380"
            ]
          },
          "metadata": {
            "tags": []
          },
          "execution_count": 323
        }
      ]
    },
    {
      "cell_type": "code",
      "metadata": {
        "id": "miABPhSFMW-R",
        "colab_type": "code",
        "colab": {
          "base_uri": "https://localhost:8080/",
          "height": 624
        },
        "outputId": "d7f79e39-2e1a-41b2-9b1c-4c9b92aeddb4"
      },
      "source": [
        ""
      ],
      "execution_count": 324,
      "outputs": [
        {
          "output_type": "execute_result",
          "data": {
            "text/plain": [
              "Text(0, 0.5, 'Female - male smoking proportion')"
            ]
          },
          "metadata": {
            "tags": []
          },
          "execution_count": 324
        },
        {
          "output_type": "display_data",
          "data": {
            "image/png": "[encoded data removed]",
            "text/plain": [
              "<Figure size 720x720 with 1 Axes>"
            ]
          },
          "metadata": {
            "tags": []
          }
        }
      ]
    },
    {
      "cell_type": "code",
      "metadata": {
        "id": "rdVpRtHLMvHq",
        "colab_type": "code",
        "colab": {
          "base_uri": "https://localhost:8080/",
          "height": 624
        },
        "outputId": "47094634-0791-4dde-f5b2-babb3cd36b1e"
      },
      "source": [
        "x = np.arange(new_df1_point_diff['sum'].size)\n",
        "a4_dims = (10,10)\n",
        "fig, ax = plt.subplots(figsize=a4_dims)\n",
        "pp = sns.pointplot(x, new_df1_point_diff['sum'].values, color='black')\n",
        "sns.pointplot(x,df_lcb_ucb_bmi['lcb'])\n",
        "sns.pointplot(x, df_lcb_ucb_bmi['ucb'])\n",
        "pp.set_xticklabels(new_df1_point_diff['sum'].index)\n",
        "pp.set_xlabel(\"Age group\")\n",
        "pp.set_ylabel(\"Female - male smoking proportion\")"
      ],
      "execution_count": 325,
      "outputs": [
        {
          "output_type": "execute_result",
          "data": {
            "text/plain": [
              "Text(0, 0.5, 'Female - male smoking proportion')"
            ]
          },
          "metadata": {
            "tags": []
          },
          "execution_count": 325
        },
        {
          "output_type": "display_data",
          "data": {
            "image/png": "[encoded data removed]",
            "text/plain": [
              "<Figure size 720x720 with 1 Axes>"
            ]
          },
          "metadata": {
            "tags": []
          }
        }
      ]
    },
    {
      "cell_type": "code",
      "metadata": {
        "id": "brIZIopJNQgr",
        "colab_type": "code",
        "colab": {}
      },
      "source": [
        "da = pd.read_csv('/content/cartwheel.csv')\n",
        "da['RIAGENDRx']=da['RIAGENDR'].replace(({1:'Male',2:'Female'}))"
      ],
      "execution_count": 0,
      "outputs": []
    },
    {
      "cell_type": "code",
      "metadata": {
        "id": "VdGbUGAvNhRO",
        "colab_type": "code",
        "colab": {
          "base_uri": "https://localhost:8080/",
          "height": 109
        },
        "outputId": "b192498e-fc86-4c7b-c9f0-d0aeaa60da87"
      },
      "source": [
        "dx = da.loc[da.RIAGENDRx==\"Female\", [\"RIAGENDRx\", \"BMXBMI\"]].dropna()\n",
        "\n",
        "all_cis = []\n",
        "for n in 100, 200, 400, 800,1600:\n",
        "    cis = []\n",
        "    for i in range(500):\n",
        "        dz = dx.sample(n)\n",
        "        ci = sm.stats.DescrStatsW(dz.BMXBMI).zconfint_mean()\n",
        "        cis.append(ci)\n",
        "    cis = np.asarray(cis)\n",
        "    mean_width = cis[:, 1].mean() - cis[:, 0].mean()\n",
        "    print(n, mean_width)\n",
        "    all_cis.append(cis)"
      ],
      "execution_count": 332,
      "outputs": [
        {
          "output_type": "stream",
          "text": [
            "100 3.0291147379434555\n",
            "200 2.1512373426023466\n",
            "400 1.515653264442328\n",
            "800 1.0765312683559216\n",
            "1600 0.7600266545773984\n"
          ],
          "name": "stdout"
        }
      ]
    },
    {
      "cell_type": "code",
      "metadata": {
        "id": "S3yt54QGSVz1",
        "colab_type": "code",
        "colab": {
          "base_uri": "https://localhost:8080/",
          "height": 283
        },
        "outputId": "173354f2-d366-4611-a295-6648483f7f68"
      },
      "source": [
        "ci = all_cis[0]\n",
        "for j, x in enumerate(ci):\n",
        "    plt.plot([j, j], x, color='grey')\n",
        "    plt.gca().set_ylabel(\"BMI\")\n",
        "mn = dx.BMXBMI.mean()\n",
        "plt.plot([0, 500], [mn, mn], color='red')"
      ],
      "execution_count": 333,
      "outputs": [
        {
          "output_type": "execute_result",
          "data": {
            "text/plain": [
              "[<matplotlib.lines.Line2D at 0x7f727471b908>]"
            ]
          },
          "metadata": {
            "tags": []
          },
          "execution_count": 333
        },
        {
          "output_type": "display_data",
          "data": {
            "image/png": "[encoded data removed]",
            "text/plain": [
              "<Figure size 432x288 with 1 Axes>"
            ]
          },
          "metadata": {
            "tags": []
          }
        }
      ]
    },
    {
      "cell_type": "code",
      "metadata": {
        "id": "i_Yr-O4sSxHW",
        "colab_type": "code",
        "colab": {
          "base_uri": "https://localhost:8080/",
          "height": 54
        },
        "outputId": "38f6417d-a66b-4d97-bd03-18d4761be793"
      },
      "source": [
        "print(np.mean(ci[:, 1] < mn)) # Upper limit falls below the target\n",
        "print(np.mean(ci[:, 0] > mn)) # Lower limit falls above the target"
      ],
      "execution_count": 334,
      "outputs": [
        {
          "output_type": "stream",
          "text": [
            "0.034\n",
            "0.024\n"
          ],
          "name": "stdout"
        }
      ]
    },
    {
      "cell_type": "code",
      "metadata": {
        "id": "w8heBbA6S0Ca",
        "colab_type": "code",
        "colab": {}
      },
      "source": [
        ""
      ],
      "execution_count": 0,
      "outputs": []
    }
  ]
}