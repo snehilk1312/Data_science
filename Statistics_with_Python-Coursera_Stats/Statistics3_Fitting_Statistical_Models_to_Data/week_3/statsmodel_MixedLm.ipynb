{
  "nbformat": 4,
  "nbformat_minor": 0,
  "metadata": {
    "colab": {
      "name": "statsmodel_MixedLm.ipynb",
      "provenance": []
    },
    "kernelspec": {
      "name": "python3",
      "display_name": "Python 3"
    }
  },
  "cells": [
    {
      "cell_type": "code",
      "metadata": {
        "id": "4YXSxumq_wv5",
        "colab_type": "code",
        "colab": {}
      },
      "source": [
        "import numpy as np\n",
        "import pandas as pd\n",
        "import statsmodels.api as sm"
      ],
      "execution_count": 0,
      "outputs": []
    },
    {
      "cell_type": "markdown",
      "metadata": {
        "id": "5h90PrCXAFHf",
        "colab_type": "text"
      },
      "source": [
        "Fitting a Multilevel Model\n",
        "\n",
        "This analysis will be focusing on a longitudinal study that was conducted on children with autism1. We will be looking at several variables and exploring how different factors interact with the socialization of a child with autism as they progress throughout the beginning stages of their life.\n",
        "\n",
        "The variables we have from the study are:\n",
        "\n",
        "    AGE is the age of a child which, for this dataset, is between two and thirteen years\n",
        "    VSAE measures a child's socialization\n",
        "    SICDEGP is the expressive language group at age two and can take on values ranging from one to three. Higher values indicate more expressive language.\n",
        "    CHILDID is the unique ID that is given to each child and acts as their identifier within the dataset\n",
        "\n",
        "We will first be fitting a multilevel model with explicit random effects of the children to account for the fact that we have repeated measurements on each child, which introduces correlation in our observations.\n",
        "\n",
        "1 Anderson, D., Oti, R., Lord, C., and Welch, K. (2009). Patterns of growth in adaptive social abilities among children with autism spectrum disorders. Journal of Abnormal Child Psychology, 37(7), 1019-1034.\n",
        "\n"
      ]
    },
    {
      "cell_type": "code",
      "metadata": {
        "id": "8liIH-fJA_kV",
        "colab_type": "code",
        "colab": {}
      },
      "source": [
        "# Read in the Autism Data\n",
        "dat = pd.read_csv(\"/content/autism.csv\")\n",
        "\n",
        "# Drop NA's from the data\n",
        "dat = dat.dropna()"
      ],
      "execution_count": 0,
      "outputs": []
    },
    {
      "cell_type": "code",
      "metadata": {
        "id": "1GDYmWxrAAt8",
        "colab_type": "code",
        "colab": {
          "base_uri": "https://localhost:8080/",
          "height": 320
        },
        "outputId": "47be6cd8-c481-4a66-8d0c-ba73700aabb5"
      },
      "source": [
        "# Build the model\n",
        "#First we fit a model that expresses the mean vsae as a linear function of age, with a random intercept for each child. The model is specified using formulas.\n",
        "# Since the random effects structure is not specified, the default random effects structure (a random intercept for each group) is automatically used.\n",
        "mlm_mod = sm.MixedLM.from_formula(\n",
        "    formula = 'vsae ~ age * C(sicdegp)', \n",
        "    groups = 'childid', \n",
        "    data=dat\n",
        ")\n",
        "\n",
        "# Run the fit\n",
        "mlm_result = mlm_mod.fit()\n",
        "\n",
        "# Print out the summary of the fit\n",
        "mlm_result.summary()"
      ],
      "execution_count": 8,
      "outputs": [
        {
          "output_type": "execute_result",
          "data": {
            "text/html": [
              "<table class=\"simpletable\">\n",
              "<tr>\n",
              "       <td>Model:</td>       <td>MixedLM</td> <td>Dependent Variable:</td>    <td>vsae</td>   \n",
              "</tr>\n",
              "<tr>\n",
              "  <td>No. Observations:</td>   <td>610</td>         <td>Method:</td>          <td>REML</td>   \n",
              "</tr>\n",
              "<tr>\n",
              "     <td>No. Groups:</td>      <td>158</td>         <td>Scale:</td>         <td>348.9011</td> \n",
              "</tr>\n",
              "<tr>\n",
              "  <td>Min. group size:</td>     <td>1</td>        <td>Likelihood:</td>     <td>-2722.9218</td>\n",
              "</tr>\n",
              "<tr>\n",
              "  <td>Max. group size:</td>     <td>5</td>        <td>Converged:</td>          <td>Yes</td>   \n",
              "</tr>\n",
              "<tr>\n",
              "  <td>Mean group size:</td>    <td>3.9</td>            <td></td>                <td></td>     \n",
              "</tr>\n",
              "</table>\n",
              "<table class=\"simpletable\">\n",
              "<tr>\n",
              "           <td></td>            <th>Coef.</th>  <th>Std.Err.</th>    <th>z</th>   <th>P>|z|</th> <th>[0.025</th>  <th>0.975]</th>\n",
              "</tr>\n",
              "<tr>\n",
              "  <th>Intercept</th>            <td>3.165</td>    <td>3.000</td>   <td>1.055</td> <td>0.291</td> <td>-2.715</td>   <td>9.045</td>\n",
              "</tr>\n",
              "<tr>\n",
              "  <th>C(sicdegp)[T.2]</th>     <td>-3.188</td>    <td>3.960</td>  <td>-0.805</td> <td>0.421</td> <td>-10.949</td>  <td>4.573</td>\n",
              "</tr>\n",
              "<tr>\n",
              "  <th>C(sicdegp)[T.3]</th>     <td>-3.856</td>    <td>4.460</td>  <td>-0.865</td> <td>0.387</td> <td>-12.597</td>  <td>4.884</td>\n",
              "</tr>\n",
              "<tr>\n",
              "  <th>age</th>                  <td>2.618</td>    <td>0.358</td>   <td>7.320</td> <td>0.000</td>  <td>1.917</td>   <td>3.319</td>\n",
              "</tr>\n",
              "<tr>\n",
              "  <th>age:C(sicdegp)[T.2]</th>  <td>1.529</td>    <td>0.468</td>   <td>3.269</td> <td>0.001</td>  <td>0.612</td>   <td>2.446</td>\n",
              "</tr>\n",
              "<tr>\n",
              "  <th>age:C(sicdegp)[T.3]</th>  <td>4.423</td>    <td>0.519</td>   <td>8.526</td> <td>0.000</td>  <td>3.407</td>   <td>5.440</td>\n",
              "</tr>\n",
              "<tr>\n",
              "  <th>childid Var</th>         <td>159.808</td>   <td>1.779</td>     <td></td>      <td></td>       <td></td>        <td></td>   \n",
              "</tr>\n",
              "</table>"
            ],
            "text/plain": [
              "<class 'statsmodels.iolib.summary2.Summary'>\n",
              "\"\"\"\n",
              "             Mixed Linear Model Regression Results\n",
              "================================================================\n",
              "Model:                MixedLM   Dependent Variable:   vsae      \n",
              "No. Observations:     610       Method:               REML      \n",
              "No. Groups:           158       Scale:                348.9011  \n",
              "Min. group size:      1         Likelihood:           -2722.9218\n",
              "Max. group size:      5         Converged:            Yes       \n",
              "Mean group size:      3.9                                       \n",
              "----------------------------------------------------------------\n",
              "                     Coef.  Std.Err.   z    P>|z|  [0.025 0.975]\n",
              "----------------------------------------------------------------\n",
              "Intercept             3.165    3.000  1.055 0.291  -2.715  9.045\n",
              "C(sicdegp)[T.2]      -3.188    3.960 -0.805 0.421 -10.949  4.573\n",
              "C(sicdegp)[T.3]      -3.856    4.460 -0.865 0.387 -12.597  4.884\n",
              "age                   2.618    0.358  7.320 0.000   1.917  3.319\n",
              "age:C(sicdegp)[T.2]   1.529    0.468  3.269 0.001   0.612  2.446\n",
              "age:C(sicdegp)[T.3]   4.423    0.519  8.526 0.000   3.407  5.440\n",
              "childid Var         159.808    1.779                            \n",
              "================================================================\n",
              "\n",
              "\"\"\""
            ]
          },
          "metadata": {
            "tags": []
          },
          "execution_count": 8
        }
      ]
    },
    {
      "cell_type": "markdown",
      "metadata": {
        "id": "HrxpvwrMBhJ7",
        "colab_type": "text"
      },
      "source": [
        "Next we fit a model with two random effects for each child: a random intercept, and a random slope (with respect to age). This means that each child may have a different baseline socialization/lvae score, as well as growing at a different rate. The formula specifies that \"age\" is a covariate with a random coefficient. By default, formulas always include an intercept (which could be suppressed here using \"0 + age\" as the formula)."
      ]
    },
    {
      "cell_type": "code",
      "metadata": {
        "id": "A1usgtDRA62z",
        "colab_type": "code",
        "colab": {
          "base_uri": "https://localhost:8080/",
          "height": 606
        },
        "outputId": "c8362169-0347-48fc-b3e8-a4dd7ac6bbf8"
      },
      "source": [
        "# not supressing the intercept\n",
        "# Build the model\n",
        "mlm_mod = sm.MixedLM.from_formula(\n",
        "    formula = 'vsae ~ age * C(sicdegp)', \n",
        "    groups = 'childid', \n",
        "    re_formula=\"1 + age\", \n",
        "    data=dat\n",
        ")\n",
        "\n",
        "# Run the fit\n",
        "mlm_result = mlm_mod.fit()\n",
        "\n",
        "# Print out the summary of the fit\n",
        "mlm_result.summary()"
      ],
      "execution_count": 9,
      "outputs": [
        {
          "output_type": "stream",
          "text": [
            "/usr/local/lib/python3.6/dist-packages/statsmodels/base/model.py:512: ConvergenceWarning: Maximum Likelihood optimization failed to converge. Check mle_retvals\n",
            "  \"Check mle_retvals\", ConvergenceWarning)\n",
            "/usr/local/lib/python3.6/dist-packages/statsmodels/regression/mixed_linear_model.py:2059: ConvergenceWarning: Retrying MixedLM optimization with lbfgs\n",
            "  ConvergenceWarning)\n",
            "/usr/local/lib/python3.6/dist-packages/statsmodels/base/model.py:512: ConvergenceWarning: Maximum Likelihood optimization failed to converge. Check mle_retvals\n",
            "  \"Check mle_retvals\", ConvergenceWarning)\n",
            "/usr/local/lib/python3.6/dist-packages/statsmodels/regression/mixed_linear_model.py:2059: ConvergenceWarning: Retrying MixedLM optimization with cg\n",
            "  ConvergenceWarning)\n",
            "/usr/local/lib/python3.6/dist-packages/statsmodels/base/model.py:512: ConvergenceWarning: Maximum Likelihood optimization failed to converge. Check mle_retvals\n",
            "  \"Check mle_retvals\", ConvergenceWarning)\n",
            "/usr/local/lib/python3.6/dist-packages/statsmodels/regression/mixed_linear_model.py:2063: ConvergenceWarning: MixedLM optimization failed, trying a different optimizer may help.\n",
            "  warnings.warn(msg, ConvergenceWarning)\n",
            "/usr/local/lib/python3.6/dist-packages/statsmodels/regression/mixed_linear_model.py:2075: ConvergenceWarning: Gradient optimization failed, |grad| = 18.101263\n",
            "  warnings.warn(msg, ConvergenceWarning)\n"
          ],
          "name": "stderr"
        },
        {
          "output_type": "execute_result",
          "data": {
            "text/html": [
              "<table class=\"simpletable\">\n",
              "<tr>\n",
              "       <td>Model:</td>       <td>MixedLM</td> <td>Dependent Variable:</td>    <td>vsae</td>   \n",
              "</tr>\n",
              "<tr>\n",
              "  <td>No. Observations:</td>   <td>610</td>         <td>Method:</td>          <td>REML</td>   \n",
              "</tr>\n",
              "<tr>\n",
              "     <td>No. Groups:</td>      <td>158</td>         <td>Scale:</td>          <td>62.2592</td> \n",
              "</tr>\n",
              "<tr>\n",
              "  <td>Min. group size:</td>     <td>1</td>        <td>Likelihood:</td>     <td>-2348.7987</td>\n",
              "</tr>\n",
              "<tr>\n",
              "  <td>Max. group size:</td>     <td>5</td>        <td>Converged:</td>          <td>No</td>    \n",
              "</tr>\n",
              "<tr>\n",
              "  <td>Mean group size:</td>    <td>3.9</td>            <td></td>                <td></td>     \n",
              "</tr>\n",
              "</table>\n",
              "<table class=\"simpletable\">\n",
              "<tr>\n",
              "           <td></td>            <th>Coef.</th>  <th>Std.Err.</th>    <th>z</th>   <th>P>|z|</th> <th>[0.025</th> <th>0.975]</th>\n",
              "</tr>\n",
              "<tr>\n",
              "  <th>Intercept</th>            <td>1.901</td>    <td>1.600</td>   <td>1.188</td> <td>0.235</td> <td>-1.235</td>  <td>5.038</td>\n",
              "</tr>\n",
              "<tr>\n",
              "  <th>C(sicdegp)[T.2]</th>     <td>-0.415</td>    <td>2.109</td>  <td>-0.197</td> <td>0.844</td> <td>-4.549</td>  <td>3.718</td>\n",
              "</tr>\n",
              "<tr>\n",
              "  <th>C(sicdegp)[T.3]</th>     <td>-3.917</td>    <td>2.345</td>  <td>-1.670</td> <td>0.095</td> <td>-8.514</td>  <td>0.680</td>\n",
              "</tr>\n",
              "<tr>\n",
              "  <th>age</th>                  <td>2.957</td>    <td>0.593</td>   <td>4.986</td> <td>0.000</td>  <td>1.794</td>  <td>4.119</td>\n",
              "</tr>\n",
              "<tr>\n",
              "  <th>age:C(sicdegp)[T.2]</th>  <td>0.741</td>    <td>0.784</td>   <td>0.945</td> <td>0.344</td> <td>-0.795</td>  <td>2.277</td>\n",
              "</tr>\n",
              "<tr>\n",
              "  <th>age:C(sicdegp)[T.3]</th>  <td>4.356</td>    <td>0.869</td>   <td>5.014</td> <td>0.000</td>  <td>2.653</td>  <td>6.058</td>\n",
              "</tr>\n",
              "<tr>\n",
              "  <th>childid Var</th>         <td>58.265</td>    <td>2.990</td>     <td></td>      <td></td>       <td></td>       <td></td>   \n",
              "</tr>\n",
              "<tr>\n",
              "  <th>childid x age Cov</th>   <td>-28.736</td>   <td>0.697</td>     <td></td>      <td></td>       <td></td>       <td></td>   \n",
              "</tr>\n",
              "<tr>\n",
              "  <th>age Var</th>             <td>14.204</td>    <td>0.283</td>     <td></td>      <td></td>       <td></td>       <td></td>   \n",
              "</tr>\n",
              "</table>"
            ],
            "text/plain": [
              "<class 'statsmodels.iolib.summary2.Summary'>\n",
              "\"\"\"\n",
              "             Mixed Linear Model Regression Results\n",
              "===============================================================\n",
              "Model:               MixedLM   Dependent Variable:   vsae      \n",
              "No. Observations:    610       Method:               REML      \n",
              "No. Groups:          158       Scale:                62.2592   \n",
              "Min. group size:     1         Likelihood:           -2348.7987\n",
              "Max. group size:     5         Converged:            No        \n",
              "Mean group size:     3.9                                       \n",
              "---------------------------------------------------------------\n",
              "                     Coef.  Std.Err.   z    P>|z| [0.025 0.975]\n",
              "---------------------------------------------------------------\n",
              "Intercept             1.901    1.600  1.188 0.235 -1.235  5.038\n",
              "C(sicdegp)[T.2]      -0.415    2.109 -0.197 0.844 -4.549  3.718\n",
              "C(sicdegp)[T.3]      -3.917    2.345 -1.670 0.095 -8.514  0.680\n",
              "age                   2.957    0.593  4.986 0.000  1.794  4.119\n",
              "age:C(sicdegp)[T.2]   0.741    0.784  0.945 0.344 -0.795  2.277\n",
              "age:C(sicdegp)[T.3]   4.356    0.869  5.014 0.000  2.653  6.058\n",
              "childid Var          58.265    2.990                           \n",
              "childid x age Cov   -28.736    0.697                           \n",
              "age Var              14.204    0.283                           \n",
              "===============================================================\n",
              "\n",
              "\"\"\""
            ]
          },
          "metadata": {
            "tags": []
          },
          "execution_count": 9
        }
      ]
    },
    {
      "cell_type": "code",
      "metadata": {
        "id": "Of1HcO6UB-zy",
        "colab_type": "code",
        "colab": {
          "base_uri": "https://localhost:8080/",
          "height": 606
        },
        "outputId": "195f318a-7f6b-4adb-aa2a-d8db05dc3ee4"
      },
      "source": [
        "#not suppressing the intercept\n",
        "mlm_mod = sm.MixedLM.from_formula(\n",
        "    formula = 'vsae ~ age * C(sicdegp)', \n",
        "    groups = 'childid', \n",
        "    re_formula=\"age\", \n",
        "    data=dat\n",
        ")\n",
        "\n",
        "# Run the fit\n",
        "mlm_result = mlm_mod.fit()\n",
        "\n",
        "# Print out the summary of the fit\n",
        "mlm_result.summary()"
      ],
      "execution_count": 11,
      "outputs": [
        {
          "output_type": "stream",
          "text": [
            "/usr/local/lib/python3.6/dist-packages/statsmodels/base/model.py:512: ConvergenceWarning: Maximum Likelihood optimization failed to converge. Check mle_retvals\n",
            "  \"Check mle_retvals\", ConvergenceWarning)\n",
            "/usr/local/lib/python3.6/dist-packages/statsmodels/regression/mixed_linear_model.py:2059: ConvergenceWarning: Retrying MixedLM optimization with lbfgs\n",
            "  ConvergenceWarning)\n",
            "/usr/local/lib/python3.6/dist-packages/statsmodels/base/model.py:512: ConvergenceWarning: Maximum Likelihood optimization failed to converge. Check mle_retvals\n",
            "  \"Check mle_retvals\", ConvergenceWarning)\n",
            "/usr/local/lib/python3.6/dist-packages/statsmodels/regression/mixed_linear_model.py:2059: ConvergenceWarning: Retrying MixedLM optimization with cg\n",
            "  ConvergenceWarning)\n",
            "/usr/local/lib/python3.6/dist-packages/statsmodels/base/model.py:512: ConvergenceWarning: Maximum Likelihood optimization failed to converge. Check mle_retvals\n",
            "  \"Check mle_retvals\", ConvergenceWarning)\n",
            "/usr/local/lib/python3.6/dist-packages/statsmodels/regression/mixed_linear_model.py:2063: ConvergenceWarning: MixedLM optimization failed, trying a different optimizer may help.\n",
            "  warnings.warn(msg, ConvergenceWarning)\n",
            "/usr/local/lib/python3.6/dist-packages/statsmodels/regression/mixed_linear_model.py:2075: ConvergenceWarning: Gradient optimization failed, |grad| = 18.101263\n",
            "  warnings.warn(msg, ConvergenceWarning)\n"
          ],
          "name": "stderr"
        },
        {
          "output_type": "execute_result",
          "data": {
            "text/html": [
              "<table class=\"simpletable\">\n",
              "<tr>\n",
              "       <td>Model:</td>       <td>MixedLM</td> <td>Dependent Variable:</td>    <td>vsae</td>   \n",
              "</tr>\n",
              "<tr>\n",
              "  <td>No. Observations:</td>   <td>610</td>         <td>Method:</td>          <td>REML</td>   \n",
              "</tr>\n",
              "<tr>\n",
              "     <td>No. Groups:</td>      <td>158</td>         <td>Scale:</td>          <td>62.2592</td> \n",
              "</tr>\n",
              "<tr>\n",
              "  <td>Min. group size:</td>     <td>1</td>        <td>Likelihood:</td>     <td>-2348.7987</td>\n",
              "</tr>\n",
              "<tr>\n",
              "  <td>Max. group size:</td>     <td>5</td>        <td>Converged:</td>          <td>No</td>    \n",
              "</tr>\n",
              "<tr>\n",
              "  <td>Mean group size:</td>    <td>3.9</td>            <td></td>                <td></td>     \n",
              "</tr>\n",
              "</table>\n",
              "<table class=\"simpletable\">\n",
              "<tr>\n",
              "           <td></td>            <th>Coef.</th>  <th>Std.Err.</th>    <th>z</th>   <th>P>|z|</th> <th>[0.025</th> <th>0.975]</th>\n",
              "</tr>\n",
              "<tr>\n",
              "  <th>Intercept</th>            <td>1.901</td>    <td>1.600</td>   <td>1.188</td> <td>0.235</td> <td>-1.235</td>  <td>5.038</td>\n",
              "</tr>\n",
              "<tr>\n",
              "  <th>C(sicdegp)[T.2]</th>     <td>-0.415</td>    <td>2.109</td>  <td>-0.197</td> <td>0.844</td> <td>-4.549</td>  <td>3.718</td>\n",
              "</tr>\n",
              "<tr>\n",
              "  <th>C(sicdegp)[T.3]</th>     <td>-3.917</td>    <td>2.345</td>  <td>-1.670</td> <td>0.095</td> <td>-8.514</td>  <td>0.680</td>\n",
              "</tr>\n",
              "<tr>\n",
              "  <th>age</th>                  <td>2.957</td>    <td>0.593</td>   <td>4.986</td> <td>0.000</td>  <td>1.794</td>  <td>4.119</td>\n",
              "</tr>\n",
              "<tr>\n",
              "  <th>age:C(sicdegp)[T.2]</th>  <td>0.741</td>    <td>0.784</td>   <td>0.945</td> <td>0.344</td> <td>-0.795</td>  <td>2.277</td>\n",
              "</tr>\n",
              "<tr>\n",
              "  <th>age:C(sicdegp)[T.3]</th>  <td>4.356</td>    <td>0.869</td>   <td>5.014</td> <td>0.000</td>  <td>2.653</td>  <td>6.058</td>\n",
              "</tr>\n",
              "<tr>\n",
              "  <th>childid Var</th>         <td>58.265</td>    <td>2.990</td>     <td></td>      <td></td>       <td></td>       <td></td>   \n",
              "</tr>\n",
              "<tr>\n",
              "  <th>childid x age Cov</th>   <td>-28.736</td>   <td>0.697</td>     <td></td>      <td></td>       <td></td>       <td></td>   \n",
              "</tr>\n",
              "<tr>\n",
              "  <th>age Var</th>             <td>14.204</td>    <td>0.283</td>     <td></td>      <td></td>       <td></td>       <td></td>   \n",
              "</tr>\n",
              "</table>"
            ],
            "text/plain": [
              "<class 'statsmodels.iolib.summary2.Summary'>\n",
              "\"\"\"\n",
              "             Mixed Linear Model Regression Results\n",
              "===============================================================\n",
              "Model:               MixedLM   Dependent Variable:   vsae      \n",
              "No. Observations:    610       Method:               REML      \n",
              "No. Groups:          158       Scale:                62.2592   \n",
              "Min. group size:     1         Likelihood:           -2348.7987\n",
              "Max. group size:     5         Converged:            No        \n",
              "Mean group size:     3.9                                       \n",
              "---------------------------------------------------------------\n",
              "                     Coef.  Std.Err.   z    P>|z| [0.025 0.975]\n",
              "---------------------------------------------------------------\n",
              "Intercept             1.901    1.600  1.188 0.235 -1.235  5.038\n",
              "C(sicdegp)[T.2]      -0.415    2.109 -0.197 0.844 -4.549  3.718\n",
              "C(sicdegp)[T.3]      -3.917    2.345 -1.670 0.095 -8.514  0.680\n",
              "age                   2.957    0.593  4.986 0.000  1.794  4.119\n",
              "age:C(sicdegp)[T.2]   0.741    0.784  0.945 0.344 -0.795  2.277\n",
              "age:C(sicdegp)[T.3]   4.356    0.869  5.014 0.000  2.653  6.058\n",
              "childid Var          58.265    2.990                           \n",
              "childid x age Cov   -28.736    0.697                           \n",
              "age Var              14.204    0.283                           \n",
              "===============================================================\n",
              "\n",
              "\"\"\""
            ]
          },
          "metadata": {
            "tags": []
          },
          "execution_count": 11
        }
      ]
    },
    {
      "cell_type": "code",
      "metadata": {
        "id": "edLePDUnCPGD",
        "colab_type": "code",
        "colab": {
          "base_uri": "https://localhost:8080/",
          "height": 320
        },
        "outputId": "a5e5544b-6e40-4b37-b41f-b418ea0da2c9"
      },
      "source": [
        "#suppressing the intercept , only taking random slope\n",
        "# not supressing the intercept\n",
        "# Build the model\n",
        "mlm_mod = sm.MixedLM.from_formula(\n",
        "    formula = 'vsae ~ age * C(sicdegp)', \n",
        "    groups = 'childid', \n",
        "    re_formula=\"0 + age\", \n",
        "    data=dat\n",
        ")\n",
        "\n",
        "# Run the fit\n",
        "mlm_result = mlm_mod.fit()\n",
        "\n",
        "# Print out the summary of the fit\n",
        "mlm_result.summary()"
      ],
      "execution_count": 12,
      "outputs": [
        {
          "output_type": "execute_result",
          "data": {
            "text/html": [
              "<table class=\"simpletable\">\n",
              "<tr>\n",
              "       <td>Model:</td>       <td>MixedLM</td> <td>Dependent Variable:</td>    <td>vsae</td>   \n",
              "</tr>\n",
              "<tr>\n",
              "  <td>No. Observations:</td>   <td>610</td>         <td>Method:</td>          <td>REML</td>   \n",
              "</tr>\n",
              "<tr>\n",
              "     <td>No. Groups:</td>      <td>158</td>         <td>Scale:</td>          <td>84.5319</td> \n",
              "</tr>\n",
              "<tr>\n",
              "  <td>Min. group size:</td>     <td>1</td>        <td>Likelihood:</td>     <td>-2427.0905</td>\n",
              "</tr>\n",
              "<tr>\n",
              "  <td>Max. group size:</td>     <td>5</td>        <td>Converged:</td>          <td>Yes</td>   \n",
              "</tr>\n",
              "<tr>\n",
              "  <td>Mean group size:</td>    <td>3.9</td>            <td></td>                <td></td>     \n",
              "</tr>\n",
              "</table>\n",
              "<table class=\"simpletable\">\n",
              "<tr>\n",
              "           <td></td>            <th>Coef.</th> <th>Std.Err.</th>    <th>z</th>   <th>P>|z|</th> <th>[0.025</th> <th>0.975]</th>\n",
              "</tr>\n",
              "<tr>\n",
              "  <th>Intercept</th>            <td>2.482</td>   <td>1.271</td>   <td>1.952</td> <td>0.051</td> <td>-0.010</td>  <td>4.973</td>\n",
              "</tr>\n",
              "<tr>\n",
              "  <th>C(sicdegp)[T.2]</th>     <td>-1.293</td>   <td>1.674</td>  <td>-0.773</td> <td>0.440</td> <td>-4.574</td>  <td>1.987</td>\n",
              "</tr>\n",
              "<tr>\n",
              "  <th>C(sicdegp)[T.3]</th>     <td>-4.230</td>   <td>1.862</td>  <td>-2.272</td> <td>0.023</td> <td>-7.880</td> <td>-0.580</td>\n",
              "</tr>\n",
              "<tr>\n",
              "  <th>age</th>                  <td>2.822</td>   <td>0.470</td>   <td>6.006</td> <td>0.000</td>  <td>1.901</td>  <td>3.743</td>\n",
              "</tr>\n",
              "<tr>\n",
              "  <th>age:C(sicdegp)[T.2]</th>  <td>0.985</td>   <td>0.620</td>   <td>1.589</td> <td>0.112</td> <td>-0.230</td>  <td>2.199</td>\n",
              "</tr>\n",
              "<tr>\n",
              "  <th>age:C(sicdegp)[T.3]</th>  <td>4.463</td>   <td>0.688</td>   <td>6.482</td> <td>0.000</td>  <td>3.113</td>  <td>5.812</td>\n",
              "</tr>\n",
              "<tr>\n",
              "  <th>age Var</th>              <td>8.198</td>   <td>0.124</td>     <td></td>      <td></td>       <td></td>       <td></td>   \n",
              "</tr>\n",
              "</table>"
            ],
            "text/plain": [
              "<class 'statsmodels.iolib.summary2.Summary'>\n",
              "\"\"\"\n",
              "            Mixed Linear Model Regression Results\n",
              "==============================================================\n",
              "Model:              MixedLM   Dependent Variable:   vsae      \n",
              "No. Observations:   610       Method:               REML      \n",
              "No. Groups:         158       Scale:                84.5319   \n",
              "Min. group size:    1         Likelihood:           -2427.0905\n",
              "Max. group size:    5         Converged:            Yes       \n",
              "Mean group size:    3.9                                       \n",
              "--------------------------------------------------------------\n",
              "                    Coef.  Std.Err.   z    P>|z| [0.025 0.975]\n",
              "--------------------------------------------------------------\n",
              "Intercept            2.482    1.271  1.952 0.051 -0.010  4.973\n",
              "C(sicdegp)[T.2]     -1.293    1.674 -0.773 0.440 -4.574  1.987\n",
              "C(sicdegp)[T.3]     -4.230    1.862 -2.272 0.023 -7.880 -0.580\n",
              "age                  2.822    0.470  6.006 0.000  1.901  3.743\n",
              "age:C(sicdegp)[T.2]  0.985    0.620  1.589 0.112 -0.230  2.199\n",
              "age:C(sicdegp)[T.3]  4.463    0.688  6.482 0.000  3.113  5.812\n",
              "age Var              8.198    0.124                           \n",
              "==============================================================\n",
              "\n",
              "\"\"\""
            ]
          },
          "metadata": {
            "tags": []
          },
          "execution_count": 12
        }
      ]
    },
    {
      "cell_type": "code",
      "metadata": {
        "id": "XUHqU4vwCdGL",
        "colab_type": "code",
        "colab": {}
      },
      "source": [
        ""
      ],
      "execution_count": 0,
      "outputs": []
    }
  ]
}