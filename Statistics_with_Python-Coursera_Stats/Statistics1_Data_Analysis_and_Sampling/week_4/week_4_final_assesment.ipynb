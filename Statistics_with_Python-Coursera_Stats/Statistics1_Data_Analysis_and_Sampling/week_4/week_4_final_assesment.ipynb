{
  "nbformat": 4,
  "nbformat_minor": 0,
  "metadata": {
    "colab": {
      "name": "week_4_final_assesment.ipynb",
      "provenance": [],
      "collapsed_sections": []
    },
    "kernelspec": {
      "name": "python3",
      "display_name": "Python 3"
    }
  },
  "cells": [
    {
      "cell_type": "code",
      "metadata": {
        "id": "YyyXUs0qLpt5",
        "colab_type": "code",
        "colab": {}
      },
      "source": [
        ""
      ],
      "execution_count": 0,
      "outputs": []
    },
    {
      "cell_type": "markdown",
      "metadata": {
        "id": "j29nObAgLucp",
        "colab_type": "text"
      },
      "source": [
        "**In the code block below, generate 3 normal random variables with mean 100 and standard deviation 1**"
      ]
    },
    {
      "cell_type": "code",
      "metadata": {
        "id": "jWF6DcoeL0MO",
        "colab_type": "code",
        "colab": {
          "base_uri": "https://localhost:8080/",
          "height": 35
        },
        "outputId": "8493c52e-5588-476b-e333-450882f5921b"
      },
      "source": [
        "import numpy as np\n",
        "np.random.seed(123)\n",
        "l=np.random.normal(100,1,3)\n",
        "print(l)"
      ],
      "execution_count": 1,
      "outputs": [
        {
          "output_type": "stream",
          "text": [
            "[ 98.9143694  100.99734545 100.2829785 ]\n"
          ],
          "name": "stdout"
        }
      ]
    },
    {
      "cell_type": "code",
      "metadata": {
        "id": "FHrLNIwCMDYx",
        "colab_type": "code",
        "colab": {}
      },
      "source": [
        ""
      ],
      "execution_count": 0,
      "outputs": []
    },
    {
      "cell_type": "markdown",
      "metadata": {
        "id": "lRLAPor9MNbD",
        "colab_type": "text"
      },
      "source": [
        "**Generating random samples from a population lies at the heart of statistics. In the code block below, draw a sample of size 10 from a set containing the integers 1 through 100.**"
      ]
    },
    {
      "cell_type": "code",
      "metadata": {
        "id": "VLP5LlSYMO-S",
        "colab_type": "code",
        "colab": {
          "base_uri": "https://localhost:8080/",
          "height": 35
        },
        "outputId": "f9756946-6e71-45f4-9c70-795850044020"
      },
      "source": [
        "import numpy as np\n",
        "np.random.seed(123)\n",
        "l=np.arange(1,101,1)\n",
        "sample=np.random.choice(l, 10)\n",
        "print(sample)"
      ],
      "execution_count": 2,
      "outputs": [
        {
          "output_type": "stream",
          "text": [
            "[67 93 99 18 84 58 87 98 97 48]\n"
          ],
          "name": "stdout"
        }
      ]
    },
    {
      "cell_type": "code",
      "metadata": {
        "id": "WrDJ6tZuMkRw",
        "colab_type": "code",
        "colab": {}
      },
      "source": [
        ""
      ],
      "execution_count": 0,
      "outputs": []
    }
  ]
}