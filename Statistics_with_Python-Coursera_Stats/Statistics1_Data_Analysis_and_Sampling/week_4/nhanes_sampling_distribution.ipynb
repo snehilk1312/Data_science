{
  "nbformat": 4,
  "nbformat_minor": 0,
  "metadata": {
    "colab": {
      "name": "nhanes_sampling_distribution.ipynb",
      "provenance": []
    },
    "kernelspec": {
      "name": "python3",
      "display_name": "Python 3"
    }
  },
  "cells": [
    {
      "cell_type": "code",
      "metadata": {
        "id": "xlEiqeyD8-72",
        "colab_type": "code",
        "colab": {}
      },
      "source": [
        "%matplotlib inline\n",
        "import matplotlib.pyplot as plt\n",
        "import seaborn as sns\n",
        "import pandas as pd\n",
        "import numpy as np"
      ],
      "execution_count": 0,
      "outputs": []
    },
    {
      "cell_type": "code",
      "metadata": {
        "id": "-118BueI9y57",
        "colab_type": "code",
        "colab": {}
      },
      "source": [
        "da = pd.read_csv(\"/content/cartwheel.csv\")"
      ],
      "execution_count": 0,
      "outputs": []
    },
    {
      "cell_type": "code",
      "metadata": {
        "id": "AGNb-D_U-KE6",
        "colab_type": "code",
        "colab": {
          "base_uri": "https://localhost:8080/",
          "height": 35
        },
        "outputId": "8d25c7e0-cc3d-47d5-bf0b-3a107b14fbeb"
      },
      "source": [
        "da.shape"
      ],
      "execution_count": 44,
      "outputs": [
        {
          "output_type": "execute_result",
          "data": {
            "text/plain": [
              "(5735, 28)"
            ]
          },
          "metadata": {
            "tags": []
          },
          "execution_count": 44
        }
      ]
    },
    {
      "cell_type": "markdown",
      "metadata": {
        "id": "atMWM2vP-c04",
        "colab_type": "text"
      },
      "source": [
        "\n",
        "Sampling distribution of the mean\n",
        "\n",
        "Sampling distributions describe how the value of a statistic computed from data varies when repeated samples of data are obtained. This can be explored mathematically, or by using a computer to simulate data repeatedly from a hypothetical population. When working with non-simulated data (i.e. from a study like NHANES), we usually do not have the ability to explicitly obtain an \"independent copy\" of the sample to actually \"see\" its sampling distribution. However we can \"subsample\" from a dataset to mimic what would happen if we were to sample repeatedly from the population that produced it. A subsample is a random sample drawn from a larger data set, containing only a fraction of its observations.\n",
        "\n",
        "In the notebook cell below, we repeatedly subsample two disjoint subsets of size 100 from the NHANES data, calculate the mean systolic blood pressure within each of these two subsets, then calculate the difference between these two means. This difference reflects the \"chance variation\" that would have been observed if the NHANES project had only had the resources to sample 100 participants for their study. By sampling two subsets of size 100 and comparing the resulting calculated means, we can see how the findings of two researchers independently studying the same population might differ from each other by chance.\n",
        "\n",
        "The subsampling process described above is then repeated 1000 times, so we can see how two samples of size 100 from the NHANES population tend to differ in terms of their mean systolic blood pressure.\n"
      ]
    },
    {
      "cell_type": "code",
      "metadata": {
        "id": "-0C90RpZ-esO",
        "colab_type": "code",
        "colab": {}
      },
      "source": [
        ""
      ],
      "execution_count": 0,
      "outputs": []
    },
    {
      "cell_type": "code",
      "metadata": {
        "id": "w1ElgtsC-iJV",
        "colab_type": "code",
        "colab": {}
      },
      "source": [
        "m = 100 # Subsample size\n",
        "sbp_diff = [] # Storage for our subsample mean differences\n",
        "\n",
        "for i in range(1000):\n",
        "    dx = da.sample(2*m)  # We need two subsamples of size m\n",
        "    dx1 = dx.iloc[0:m, :]  # First subsample\n",
        "    dx2 = dx.iloc[m:, :]  # Second subsample\n",
        "    sbp_diff.append(dx1['BPXSY1'].mean() - dx2['BPXSY1'].mean())  # The difference of mean BPXSY1 values"
      ],
      "execution_count": 0,
      "outputs": []
    },
    {
      "cell_type": "code",
      "metadata": {
        "id": "2yrlh82j-7Fs",
        "colab_type": "code",
        "colab": {}
      },
      "source": [
        ""
      ],
      "execution_count": 0,
      "outputs": []
    },
    {
      "cell_type": "markdown",
      "metadata": {
        "id": "ioWXS-E9_9bl",
        "colab_type": "text"
      },
      "source": [
        "*Next we look at the histogram of the 1000 mean differences generated above. We see that they typically fall between negative 5 and positive 5. This means that two researchers independently studying blood pressure in the same population may by chance obtain results that are up to around 5 units different, but are quite unlikely to obtain results that are by chance more than 10 units different.*"
      ]
    },
    {
      "cell_type": "code",
      "metadata": {
        "id": "zCT02Pc1_-17",
        "colab_type": "code",
        "colab": {
          "base_uri": "https://localhost:8080/",
          "height": 283
        },
        "outputId": "5ab9b904-7f93-4432-ac57-03509e6cf092"
      },
      "source": [
        "sns.distplot(sbp_diff)"
      ],
      "execution_count": 46,
      "outputs": [
        {
          "output_type": "execute_result",
          "data": {
            "text/plain": [
              "<matplotlib.axes._subplots.AxesSubplot at 0x7f4538195400>"
            ]
          },
          "metadata": {
            "tags": []
          },
          "execution_count": 46
        },
        {
          "output_type": "display_data",
          "data": {
            "image/png": "[encoded data removed]",
            "text/plain": [
              "<Figure size 432x288 with 1 Axes>"
            ]
          },
          "metadata": {
            "tags": []
          }
        }
      ]
    },
    {
      "cell_type": "code",
      "metadata": {
        "id": "XL-Nt722ADtj",
        "colab_type": "code",
        "colab": {
          "base_uri": "https://localhost:8080/",
          "height": 182
        },
        "outputId": "59391010-e728-4eed-a44c-f1a5ff1a2444"
      },
      "source": [
        "pd.Series(sbp_diff).describe()"
      ],
      "execution_count": 47,
      "outputs": [
        {
          "output_type": "execute_result",
          "data": {
            "text/plain": [
              "count    1000.000000\n",
              "mean       -0.044536\n",
              "std         2.667650\n",
              "min        -9.500000\n",
              "25%        -1.816923\n",
              "50%         0.045748\n",
              "75%         1.691790\n",
              "max         8.611684\n",
              "dtype: float64"
            ]
          },
          "metadata": {
            "tags": []
          },
          "execution_count": 47
        }
      ]
    },
    {
      "cell_type": "code",
      "metadata": {
        "id": "KEU9uPz4AkrP",
        "colab_type": "code",
        "colab": {}
      },
      "source": [
        ""
      ],
      "execution_count": 0,
      "outputs": []
    },
    {
      "cell_type": "markdown",
      "metadata": {
        "id": "1T8EWW_XBHrg",
        "colab_type": "text"
      },
      "source": [
        "*The results shown above indicate that the mean systolic blood pressures calculated for two samples each with 100 people will typically differ by around 2.6 mm/Hg (the standard deviation), and will rarely differ by more than 5 mm/Hg.\n",
        "\n",
        "The sample size is a major determinant of the chance fluctuations in any statistic. Above we used samples of size 100, below we perform the same analysis using samples of size 400.\n",
        "*"
      ]
    },
    {
      "cell_type": "code",
      "metadata": {
        "id": "5SpD5fZMBU6J",
        "colab_type": "code",
        "colab": {}
      },
      "source": [
        ""
      ],
      "execution_count": 0,
      "outputs": []
    },
    {
      "cell_type": "code",
      "metadata": {
        "id": "WlSxNzHABVzc",
        "colab_type": "code",
        "colab": {}
      },
      "source": [
        "m=400\n",
        "sbp_diff=[]\n",
        "for i in range(1000):\n",
        "    dx = da.sample(2*m)  # We need two subsamples of size m\n",
        "    dx1 = dx.iloc[0:m, :]  # First subsample\n",
        "    dx2 = dx.iloc[m:, :]  # Second subsample\n",
        "    sbp_diff.append(dx1['BPXSY1'].mean() - dx2['BPXSY1'].mean())  # The difference of mean BPXSY1 values"
      ],
      "execution_count": 0,
      "outputs": []
    },
    {
      "cell_type": "code",
      "metadata": {
        "id": "20CJ9nayBmL4",
        "colab_type": "code",
        "colab": {
          "base_uri": "https://localhost:8080/",
          "height": 285
        },
        "outputId": "46fa5b56-e40a-4926-80b9-114bd54a259a"
      },
      "source": [
        "sns.distplot(sbp_diff)"
      ],
      "execution_count": 49,
      "outputs": [
        {
          "output_type": "execute_result",
          "data": {
            "text/plain": [
              "<matplotlib.axes._subplots.AxesSubplot at 0x7f4537f77748>"
            ]
          },
          "metadata": {
            "tags": []
          },
          "execution_count": 49
        },
        {
          "output_type": "display_data",
          "data": {
            "image/png": "[encoded data removed]",
            "text/plain": [
              "<Figure size 432x288 with 1 Axes>"
            ]
          },
          "metadata": {
            "tags": []
          }
        }
      ]
    },
    {
      "cell_type": "code",
      "metadata": {
        "id": "IEw1ahpGBqaq",
        "colab_type": "code",
        "colab": {
          "base_uri": "https://localhost:8080/",
          "height": 182
        },
        "outputId": "879e5751-dd9e-47d1-dc33-70b92bcd2094"
      },
      "source": [
        "pd.Series(sbp_diff).describe()"
      ],
      "execution_count": 50,
      "outputs": [
        {
          "output_type": "execute_result",
          "data": {
            "text/plain": [
              "count    1000.000000\n",
              "mean        0.033691\n",
              "std         1.350939\n",
              "min        -4.320294\n",
              "25%        -0.876730\n",
              "50%         0.072497\n",
              "75%         0.947043\n",
              "max         4.078980\n",
              "dtype: float64"
            ]
          },
          "metadata": {
            "tags": []
          },
          "execution_count": 50
        }
      ]
    },
    {
      "cell_type": "code",
      "metadata": {
        "id": "S7kT4wINBzn2",
        "colab_type": "code",
        "colab": {}
      },
      "source": [
        ""
      ],
      "execution_count": 0,
      "outputs": []
    },
    {
      "cell_type": "markdown",
      "metadata": {
        "id": "bUV12i67B9wc",
        "colab_type": "text"
      },
      "source": [
        "*We see that with samples of size 400, the standard deviation is around 1.38, which is close to half of what it was when we used samples of size 100. The smaller standard deviation indicates that the chance flucatations in the mean systolic blood pressure are smaller when we have a larger sample size. This implies that we are able to estimate the population mean systolic blood pressure with more precision when we have samples of size 400 compared to when we have samples of size 100.\n",
        "\n",
        "Importantly, increasing the sample size by a factor of 4 (from 100 to 400) led to a reduction of the standard deviation by a factor of 2. This scaling behavior is very common in statistics -- increasing the sample size by a factor of K leads to a reduction in the standard deviation by a factor of sqrt(K). Thus, for a factor of 4 increase in the sample size we see a factor of 2 reduction in standard deviation. Similarly, for a factor of 9 increase in the sample size we would typically see a factor of 3 reduction in the standard deviation.\n",
        "*"
      ]
    },
    {
      "cell_type": "code",
      "metadata": {
        "id": "RZCgj7k4CQDf",
        "colab_type": "code",
        "colab": {}
      },
      "source": [
        ""
      ],
      "execution_count": 0,
      "outputs": []
    },
    {
      "cell_type": "code",
      "metadata": {
        "id": "eC1iuag-CSGA",
        "colab_type": "code",
        "colab": {}
      },
      "source": [
        ""
      ],
      "execution_count": 0,
      "outputs": []
    },
    {
      "cell_type": "markdown",
      "metadata": {
        "id": "JStgZ1XDDGdq",
        "colab_type": "text"
      },
      "source": [
        "Sampling distribution of the correlation coefficient\n",
        "\n",
        "As discussed in the lectures, many statistics that are more complex than the sample mean behave similarly to the mean in terms of their sampling behavior. Below we modify the subsampling analysis from above to consider the Pearson correlation coefficient between systolic and diastolic blood pressure. Note that the standard deviation still drops by approximately a factor of 2 when the sample size increases by a factor of four (from 100 to 400).\n",
        "\n",
        "This short Python program uses nested for loops. The outer loop manages the sample size, and the inner loop obtains 1000 subsamples at a given sample size, calculates correlation coefficients for two subsamples, and records their difference.\n"
      ]
    },
    {
      "cell_type": "code",
      "metadata": {
        "id": "Ff13XzhqDK2p",
        "colab_type": "code",
        "colab": {
          "base_uri": "https://localhost:8080/",
          "height": 54
        },
        "outputId": "de0e8fc5-8b77-429b-96f8-0cfb77f3dfbd"
      },
      "source": [
        "l=[100, 400]\n",
        "for m in l:\n",
        "  sbp_diff=[]\n",
        "  for _ in range(1000):\n",
        "    \n",
        "    dx=da.sample(2*m)\n",
        "    dx1=dx.iloc[0:m,:]\n",
        "    dx2=dx.iloc[m:,:]\n",
        "    r1 = np.corrcoef(dx1.loc[:, [\"BPXSY1\", \"BPXDI1\"]].dropna().T)\n",
        "    r2 = np.corrcoef(dx2.loc[:, [\"BPXSY1\", \"BPXDI1\"]].dropna().T)\n",
        "    sbp_diff.append(r1-r2)\n",
        "  print(\"m=%d\" % m, np.std(sbp_diff), np.sqrt(2 / m),np.mean(sbp_diff))  \n"
      ],
      "execution_count": 52,
      "outputs": [
        {
          "output_type": "stream",
          "text": [
            "m=100 0.12523201403226397 0.1414213562373095 0.005957447846979798\n",
            "m=400 0.06658935834099623 0.07071067811865475 -0.00010094280721896864\n"
          ],
          "name": "stdout"
        }
      ]
    },
    {
      "cell_type": "code",
      "metadata": {
        "id": "vW_mbwJkEzVY",
        "colab_type": "code",
        "colab": {}
      },
      "source": [
        ""
      ],
      "execution_count": 0,
      "outputs": []
    },
    {
      "cell_type": "markdown",
      "metadata": {
        "id": "vIDzIMUpF6xm",
        "colab_type": "text"
      },
      "source": [
        "*The simulation above shows that when the subsample size increases from 100 to 400 (a factor of 4), the standard deviation of the difference between two correlation coefficients decreases by roughly a factor of 2. The mathematical expression sqrt(2 / m) is an approximation to this standard deviation that can be computed without access to any data. Also difference between mean of sampling distribution of Correlation coffiecent over 1000 samples is almost 0 in both cases. *"
      ]
    },
    {
      "cell_type": "code",
      "metadata": {
        "id": "KCV1UN7uF8ss",
        "colab_type": "code",
        "colab": {}
      },
      "source": [
        ""
      ],
      "execution_count": 0,
      "outputs": []
    },
    {
      "cell_type": "markdown",
      "metadata": {
        "id": "x296226sGkSH",
        "colab_type": "text"
      },
      "source": [
        "**The shape of sampling distributions**"
      ]
    },
    {
      "cell_type": "markdown",
      "metadata": {
        "id": "Ctxw2xVHGoWK",
        "colab_type": "text"
      },
      "source": [
        "Above we focused on the magnitude of the difference between a statistic calculated on two independent samples from a population. Here we focus instead on the shape of the distribution of statistics calculated on subsamples. As discussed in the lectures, the central limit theorem implies that many (but not all) statistics have approximately normal sampling distributions, even if the underlying data are not close to being normally distributed.\n",
        "\n",
        "We will illustrate this phenomenon using the systolic blood pressure data from the NHANES study. First we use a histogram to look at the distribution of individual systolic blood pressure values. Note that it is somewhat right-skewed.\n"
      ]
    },
    {
      "cell_type": "code",
      "metadata": {
        "id": "64ckju2qGrLW",
        "colab_type": "code",
        "colab": {
          "base_uri": "https://localhost:8080/",
          "height": 127
        },
        "outputId": "4b686706-1376-493b-a7e3-a73fd10c5629"
      },
      "source": [
        "da.columns"
      ],
      "execution_count": 53,
      "outputs": [
        {
          "output_type": "execute_result",
          "data": {
            "text/plain": [
              "Index(['SEQN', 'ALQ101', 'ALQ110', 'ALQ130', 'SMQ020', 'RIAGENDR', 'RIDAGEYR',\n",
              "       'RIDRETH1', 'DMDCITZN', 'DMDEDUC2', 'DMDMARTL', 'DMDHHSIZ', 'WTINT2YR',\n",
              "       'SDMVPSU', 'SDMVSTRA', 'INDFMPIR', 'BPXSY1', 'BPXDI1', 'BPXSY2',\n",
              "       'BPXDI2', 'BMXWT', 'BMXHT', 'BMXBMI', 'BMXLEG', 'BMXARML', 'BMXARMC',\n",
              "       'BMXWAIST', 'HIQ210'],\n",
              "      dtype='object')"
            ]
          },
          "metadata": {
            "tags": []
          },
          "execution_count": 53
        }
      ]
    },
    {
      "cell_type": "code",
      "metadata": {
        "id": "_1w8Mo-QGwBM",
        "colab_type": "code",
        "colab": {
          "base_uri": "https://localhost:8080/",
          "height": 297
        },
        "outputId": "adc7165f-03b8-4184-cd62-9aa95e8dd85a"
      },
      "source": [
        "sns.distplot(da['BPXSY1'])"
      ],
      "execution_count": 57,
      "outputs": [
        {
          "output_type": "execute_result",
          "data": {
            "text/plain": [
              "<matplotlib.axes._subplots.AxesSubplot at 0x7f4537f9f7b8>"
            ]
          },
          "metadata": {
            "tags": []
          },
          "execution_count": 57
        },
        {
          "output_type": "display_data",
          "data": {
            "image/png": "[encoded data removed]",
            "text/plain": [
              "<Figure size 432x288 with 1 Axes>"
            ]
          },
          "metadata": {
            "tags": []
          }
        }
      ]
    },
    {
      "cell_type": "code",
      "metadata": {
        "id": "zLHBb6mGG6xm",
        "colab_type": "code",
        "colab": {
          "base_uri": "https://localhost:8080/",
          "height": 182
        },
        "outputId": "196dca4c-a7c4-47b4-e120-1156b4fa6846"
      },
      "source": [
        "m= 50\n",
        "bp_mean=[]\n",
        "for i in range(1000):\n",
        "  dx=da.sample(m)\n",
        "  bp_mean.append(dx['BPXSY1'].dropna().mean())\n",
        "pd.Series(bp_mean).describe()\n"
      ],
      "execution_count": 60,
      "outputs": [
        {
          "output_type": "execute_result",
          "data": {
            "text/plain": [
              "count    1000.000000\n",
              "mean      125.294926\n",
              "std         2.684066\n",
              "min       118.208333\n",
              "25%       123.476043\n",
              "50%       125.270951\n",
              "75%       127.062585\n",
              "max       135.391304\n",
              "dtype: float64"
            ]
          },
          "metadata": {
            "tags": []
          },
          "execution_count": 60
        }
      ]
    },
    {
      "cell_type": "code",
      "metadata": {
        "id": "MtVs25IlJdeD",
        "colab_type": "code",
        "colab": {
          "base_uri": "https://localhost:8080/",
          "height": 35
        },
        "outputId": "3c6be6d6-6325-479c-b3ec-61c25682602d"
      },
      "source": [
        "da['BPXSY1'].mean()"
      ],
      "execution_count": 61,
      "outputs": [
        {
          "output_type": "execute_result",
          "data": {
            "text/plain": [
              "125.08461396037771"
            ]
          },
          "metadata": {
            "tags": []
          },
          "execution_count": 61
        }
      ]
    },
    {
      "cell_type": "code",
      "metadata": {
        "id": "WPTCeWhAJkFO",
        "colab_type": "code",
        "colab": {
          "base_uri": "https://localhost:8080/",
          "height": 283
        },
        "outputId": "50d58256-558e-4860-e0ee-0c5cad871fa7"
      },
      "source": [
        "sns.distplot(bp_mean)\n"
      ],
      "execution_count": 62,
      "outputs": [
        {
          "output_type": "execute_result",
          "data": {
            "text/plain": [
              "<matplotlib.axes._subplots.AxesSubplot at 0x7f4538b7ba90>"
            ]
          },
          "metadata": {
            "tags": []
          },
          "execution_count": 62
        },
        {
          "output_type": "display_data",
          "data": {
            "image/png": "[encoded data removed]",
            "text/plain": [
              "<Figure size 432x288 with 1 Axes>"
            ]
          },
          "metadata": {
            "tags": []
          }
        }
      ]
    },
    {
      "cell_type": "code",
      "metadata": {
        "id": "qXpZXj88J155",
        "colab_type": "code",
        "colab": {
          "base_uri": "https://localhost:8080/",
          "height": 283
        },
        "outputId": "0e949a8f-cdeb-419f-c3e3-b7f63e81913d"
      },
      "source": [
        "sns.distplot(bp_mean)\n",
        "# The lines below plot the density of a normal approximation to the data generated above\n",
        "x = np.linspace(np.min(bp_mean), np.max(bp_mean), 100)\n",
        "from scipy.stats.distributions import norm\n",
        "v = dx.BPXSY1.dropna()\n",
        "y = norm.pdf(x, np.mean(bp_mean), np.std(bp_mean))\n",
        "plt.plot(x, y, color='orange')"
      ],
      "execution_count": 64,
      "outputs": [
        {
          "output_type": "execute_result",
          "data": {
            "text/plain": [
              "[<matplotlib.lines.Line2D at 0x7f4537cca160>]"
            ]
          },
          "metadata": {
            "tags": []
          },
          "execution_count": 64
        },
        {
          "output_type": "display_data",
          "data": {
            "image/png": "[encoded data removed]",
            "text/plain": [
              "<Figure size 432x288 with 1 Axes>"
            ]
          },
          "metadata": {
            "tags": []
          }
        }
      ]
    },
    {
      "cell_type": "code",
      "metadata": {
        "id": "jT2umzEHKO4a",
        "colab_type": "code",
        "colab": {}
      },
      "source": [
        ""
      ],
      "execution_count": 0,
      "outputs": []
    }
  ]
}